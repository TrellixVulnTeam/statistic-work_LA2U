{
 "cells": [
  {
   "cell_type": "markdown",
   "metadata": {},
   "source": [
    "# データ型とは\n",
    "\n",
    "この節では、データ型の概要と変数の概念を学びます。\n",
    "データ型とは何かを理解し、変数の概念も理解します。"
   ]
  },
  {
   "cell_type": "markdown",
   "metadata": {},
   "source": [
    "# 解説\n",
    "\n",
    "## データ型\n",
    "\n",
    "データ型はプログラミングを行う上で重要な概念の一つです。\n",
    "Pythonのオブジェクトは何かしらのデータ型を持っています。データ型を理解することで、可能な操作やデータの持ち方が決まります。\n",
    "\n",
    "Pythonは動的型付け言語です。動的型付け言語の反対語は静的型付け言語です。"
   ]
  },
  {
   "cell_type": "markdown",
   "metadata": {},
   "source": [
    "主な動的型付け言語\n",
    "\n",
    "- Python\n",
    "- JavaScript\n",
    "- Ruby\n",
    "- PHP\n",
    "\n",
    "主な静的型付け言語\n",
    "\n",
    "- C\n",
    "- Java"
   ]
  },
  {
   "cell_type": "markdown",
   "metadata": {},
   "source": [
    "Pythonは、動的型付け言語ですが、内部的には厳密な型で管理されています。\n",
    "また、「[漸進的型付け (Gradual Typing)](https://qiita.com/t2y/items/0a604384e18db0944398) 」といわれており、型ヒントを付与することができ、最近は型ヒントを書くことが増えています。"
   ]
  },
  {
   "cell_type": "markdown",
   "metadata": {},
   "source": [
    "### データ型の例"
   ]
  },
  {
   "cell_type": "code",
   "execution_count": 1,
   "metadata": {},
   "outputs": [
    {
     "data": {
      "text/plain": [
       "1"
      ]
     },
     "execution_count": 1,
     "metadata": {},
     "output_type": "execute_result"
    }
   ],
   "source": [
    "1  #  整数(int)型の1"
   ]
  },
  {
   "cell_type": "code",
   "execution_count": 2,
   "metadata": {},
   "outputs": [
    {
     "data": {
      "text/plain": [
       "'1'"
      ]
     },
     "execution_count": 2,
     "metadata": {},
     "output_type": "execute_result"
    }
   ],
   "source": [
    "\"1\"  # 文字列(str)型の1"
   ]
  },
  {
   "cell_type": "code",
   "execution_count": 3,
   "metadata": {},
   "outputs": [
    {
     "data": {
      "text/plain": [
       "int"
      ]
     },
     "execution_count": 3,
     "metadata": {},
     "output_type": "execute_result"
    }
   ],
   "source": [
    "type(1)"
   ]
  },
  {
   "cell_type": "code",
   "execution_count": 4,
   "metadata": {},
   "outputs": [
    {
     "data": {
      "text/plain": [
       "str"
      ]
     },
     "execution_count": 4,
     "metadata": {},
     "output_type": "execute_result"
    }
   ],
   "source": [
    "type(\"1\")"
   ]
  },
  {
   "cell_type": "markdown",
   "metadata": {},
   "source": [
    "## 変数\n",
    "\n",
    "変数は、何かしらのオブジェクトを入れておくものです。概念としては、箱に入れるとかラベルを付けるというイメージです。\n",
    "\n",
    "オブジェクトに名前を付けるということになります。"
   ]
  },
  {
   "cell_type": "code",
   "execution_count": 5,
   "metadata": {},
   "outputs": [],
   "source": [
    "a = 1  # a という変数に1を代入した"
   ]
  },
  {
   "cell_type": "code",
   "execution_count": 6,
   "metadata": {},
   "outputs": [
    {
     "data": {
      "text/plain": [
       "1"
      ]
     },
     "execution_count": 6,
     "metadata": {},
     "output_type": "execute_result"
    }
   ],
   "source": [
    "a"
   ]
  },
  {
   "cell_type": "code",
   "execution_count": 7,
   "metadata": {},
   "outputs": [
    {
     "data": {
      "text/plain": [
       "int"
      ]
     },
     "execution_count": 7,
     "metadata": {},
     "output_type": "execute_result"
    }
   ],
   "source": [
    "type(a)"
   ]
  },
  {
   "cell_type": "markdown",
   "metadata": {},
   "source": [
    "ここでは、aという変数に1を代入しました。\n",
    "`変数名 = オブジェクト` という文法です。 \n",
    "\n",
    "整数型の1をaという名前で呼び出せるようにしています。\n",
    "Pythonでは、変数に代入するとは、ラベル付けを行うことを言います。"
   ]
  },
  {
   "cell_type": "markdown",
   "metadata": {},
   "source": [
    "Pythonでは、すべてのオブジェクトを変数に代入することができます。\n",
    "先程の例では、変数aに整数型の1を代入しました。文字列や他のデータ型も変数に代入することができます。"
   ]
  },
  {
   "cell_type": "markdown",
   "metadata": {},
   "source": [
    "なお、変数名に利用できる文字列は、以下のとおりです。\n",
    "\n",
    "- 英字、アンダースコア(_)、数字、日本語を含む文字です。\n",
    "- 但し、先頭文字は数字を使うことができません。\n",
    "- 一般には日本語使うことはありません。"
   ]
  },
  {
   "cell_type": "markdown",
   "metadata": {},
   "source": [
    "Pythonの標準コーディング規約([PEP-8](https://pep8-ja.readthedocs.io/ja/latest/))では、以下のようにルールが示されています。\n",
    "\n",
    "- 変数名は英字の小文字または数字\n",
    "- 単語間はアンダースコアでつなぐ\n",
    "\n",
    "\n",
    "良い例: `user` `user_address`\n",
    "\n",
    "悪い例: `User` `userAddress`\n"
   ]
  },
  {
   "cell_type": "code",
   "execution_count": 8,
   "metadata": {},
   "outputs": [
    {
     "data": {
      "text/plain": [
       "'東京都千代田区丸の内1-1-1'"
      ]
     },
     "execution_count": 8,
     "metadata": {},
     "output_type": "execute_result"
    }
   ],
   "source": [
    "company_address = \"東京都千代田区丸の内1-1-1\"\n",
    "company_address"
   ]
  },
  {
   "cell_type": "markdown",
   "metadata": {},
   "source": [
    "Pythonにプライベート変数はない。\n",
    "\n",
    "- アンダースコア(_)を先頭に置いた変数名は、プライベート変数とはならないが、内部用に使うということを示しているだけ\n",
    "- アンダースコア(_)を先頭に2個置いた変数名は、外部から接続しにくくなりますが、厳密なプライベートではありません\n",
    "- アンダースコア(_)を先頭に2個、最後に2個 (`__name__`　のように) ある変数名はPythonの特殊変数や特殊メソッドに使いますので、一般には利用しない"
   ]
  },
  {
   "cell_type": "markdown",
   "metadata": {},
   "source": [
    "## 変数の確認\n",
    "\n",
    "Jupyter notebook上では、セル内で最後の文の実行(評価)結果が出力されます。\n",
    "\n",
    "一般には、print関数で変数の内容を出力します。また、print関数はスクリプト実行時にも出力します。"
   ]
  },
  {
   "cell_type": "code",
   "execution_count": 9,
   "metadata": {},
   "outputs": [
    {
     "data": {
      "text/plain": [
       "1"
      ]
     },
     "execution_count": 9,
     "metadata": {},
     "output_type": "execute_result"
    }
   ],
   "source": [
    "a"
   ]
  },
  {
   "cell_type": "code",
   "execution_count": 10,
   "metadata": {},
   "outputs": [
    {
     "name": "stdout",
     "output_type": "stream",
     "text": [
      "1\n"
     ]
    }
   ],
   "source": [
    "print(a)"
   ]
  },
  {
   "cell_type": "code",
   "execution_count": 11,
   "metadata": {},
   "outputs": [
    {
     "name": "stdout",
     "output_type": "stream",
     "text": [
      "1\n",
      "<class 'int'>\n"
     ]
    }
   ],
   "source": [
    "print(a)\n",
    "print(type(a))"
   ]
  }
 ],
 "metadata": {
  "kernelspec": {
   "display_name": "Python 3 (ipykernel)",
   "language": "python",
   "name": "python3"
  },
  "language_info": {
   "codemirror_mode": {
    "name": "ipython",
    "version": 3
   },
   "file_extension": ".py",
   "mimetype": "text/x-python",
   "name": "python",
   "nbconvert_exporter": "python",
   "pygments_lexer": "ipython3",
   "version": "3.9.12"
  }
 },
 "nbformat": 4,
 "nbformat_minor": 4
}
