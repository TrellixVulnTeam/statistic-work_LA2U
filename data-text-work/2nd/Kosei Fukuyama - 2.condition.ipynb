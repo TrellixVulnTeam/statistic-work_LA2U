{
 "cells": [
  {
   "cell_type": "markdown",
   "metadata": {},
   "source": [
    "# 条件分岐"
   ]
  },
  {
   "cell_type": "markdown",
   "metadata": {},
   "source": [
    "構文\n",
    "\n",
    "条件に合致したときに処理をする場合\n",
    "\n",
    "```python\n",
    "if 条件式:\n",
    "    処理\n",
    "```\n",
    "\n",
    "\n",
    "条件に合致したときと合致していないときに処理を分ける場合\n",
    "\n",
    "```python\n",
    "if 条件式:\n",
    "    処理\n",
    "else:\n",
    "    処理\n",
    "```\n",
    "\n",
    "\n",
    "追加の条件がある場合\n",
    "\n",
    "```python\n",
    "if 条件式:\n",
    "    処理\n",
    "elif 追加の条件式:\n",
    "    処理\n",
    "elif 追加の条件式2:\n",
    "    処理\n",
    "else:\n",
    "    処理\n",
    "```\n"
   ]
  },
  {
   "cell_type": "markdown",
   "metadata": {},
   "source": [
    "- 条件分岐を始めるには、 `if` キーワードを使います。\n",
    "- 合致しないときの処理を付け加えるには、 `else` キーワードを用います。これは省略可能です。\n",
    "- 追加の条件を入れる場合、 `elif` キーワードを用います。追加の条件はいくつでも可能です。 `if / else` の間に入れます。\n",
    "- `if` または `elif` で合致した場合次の `elif` や `else` のブロックはスキップします。"
   ]
  },
  {
   "cell_type": "markdown",
   "metadata": {},
   "source": [
    "## その他の条件分岐の方法\n",
    "\n",
    "- 1行で条件を書く、3項演算子が存在します。\n",
    "- ブール演算を用いて、条件分岐のような動きを作ることができます。\n",
    "- switch-case 文はPythonにはありません。\n",
    "\n",
    "どんなものか調べてみましょう。"
   ]
  },
  {
   "cell_type": "markdown",
   "metadata": {},
   "source": [
    "## 具体的な使い方"
   ]
  },
  {
   "cell_type": "code",
   "execution_count": 1,
   "metadata": {},
   "outputs": [],
   "source": [
    "age = 19"
   ]
  },
  {
   "cell_type": "code",
   "execution_count": 2,
   "metadata": {},
   "outputs": [
    {
     "name": "stdout",
     "output_type": "stream",
     "text": [
      "未成年\n"
     ]
    }
   ],
   "source": [
    "if age < 20:\n",
    "    print(\"未成年\")"
   ]
  },
  {
   "cell_type": "code",
   "execution_count": 3,
   "metadata": {},
   "outputs": [
    {
     "name": "stdout",
     "output_type": "stream",
     "text": [
      "保護者の同意はありますか？\n"
     ]
    }
   ],
   "source": [
    "if age < 20:\n",
    "    print(\"保護者の同意はありますか？\")\n",
    "else:\n",
    "    print(\"身分証明書を提示してください\")"
   ]
  },
  {
   "cell_type": "code",
   "execution_count": 4,
   "metadata": {},
   "outputs": [
    {
     "name": "stdout",
     "output_type": "stream",
     "text": [
      "年金加入は不要です\n"
     ]
    }
   ],
   "source": [
    "if age < 20:\n",
    "    print(\"年金加入は不要です\")\n",
    "elif age < 65:\n",
    "    print(\"年金加入が必要です\")\n",
    "else:\n",
    "    print(\"年金受給者です\")"
   ]
  },
  {
   "cell_type": "markdown",
   "metadata": {},
   "source": [
    "### 処理は複数行書くことができます"
   ]
  },
  {
   "cell_type": "code",
   "execution_count": 5,
   "metadata": {},
   "outputs": [
    {
     "name": "stdout",
     "output_type": "stream",
     "text": [
      "あなたの年齢は19歳です。年金加入まであと1年以内です。\n"
     ]
    }
   ],
   "source": [
    "message = \"\"\n",
    "if age < 20:\n",
    "    diff_age = 20 - age\n",
    "    message = f\"あなたの年齢は{age}歳です。年金加入まであと{diff_age}年以内です。\"\n",
    "elif age < 65:\n",
    "    diff_age = 65 - age\n",
    "    message = f\"あなたの年齢は{age}歳です。年金受給まであと{diff_age}年以内です。\"\n",
    "else:\n",
    "    message = f\"あなたの年齢は{age}歳です。すでに年金受給者です\"\n",
    "print(message)"
   ]
  },
  {
   "cell_type": "markdown",
   "metadata": {},
   "source": [
    "## データを入力する\n",
    "\n",
    "ここまでは変数ageをセルの中で入力していました。ここでは、データを入力する方法を使います。\n",
    "\n",
    "`input` という入力待ちを設ける、組み込み関数を用います。組み込み関数は関数のときに紹介します。"
   ]
  },
  {
   "cell_type": "code",
   "execution_count": 6,
   "metadata": {},
   "outputs": [
    {
     "name": "stdin",
     "output_type": "stream",
     "text": [
      " ２９\n"
     ]
    }
   ],
   "source": [
    "input_age = input()"
   ]
  },
  {
   "cell_type": "code",
   "execution_count": 7,
   "metadata": {},
   "outputs": [
    {
     "data": {
      "text/plain": [
       "str"
      ]
     },
     "execution_count": 7,
     "metadata": {},
     "output_type": "execute_result"
    }
   ],
   "source": [
    "type(input_age)"
   ]
  },
  {
   "cell_type": "code",
   "execution_count": 8,
   "metadata": {},
   "outputs": [
    {
     "name": "stdin",
     "output_type": "stream",
     "text": [
      " ３０\n"
     ]
    },
    {
     "name": "stdout",
     "output_type": "stream",
     "text": [
      "あなたの年齢は30歳です。年金受給まであと35年以内です。\n"
     ]
    }
   ],
   "source": [
    "input_age = input()\n",
    "input_age_int = int(input_age)\n",
    "message = \"\"\n",
    "if input_age_int < 20:\n",
    "    diff_age = 20 - input_age_int\n",
    "    message = f\"あなたの年齢は{input_age_int}歳です。年金加入まであと{diff_age}年以内です。\"\n",
    "elif input_age_int < 65:\n",
    "    diff_age = 65 - input_age_int\n",
    "    message = f\"あなたの年齢は{input_age_int}歳です。年金受給まであと{diff_age}年以内です。\"\n",
    "else:\n",
    "    message = f\"あなたの年齢は{input_age_int}歳です。すでに年金受給者です\"\n",
    "print(message)"
   ]
  },
  {
   "cell_type": "markdown",
   "metadata": {},
   "source": [
    "## 条件をネスト\n",
    "\n",
    "ネストとは、条件を重ねることことです。\n",
    "\n",
    "ある条件に合致した後に、更に条件分岐を行う場合に用います。"
   ]
  },
  {
   "cell_type": "code",
   "execution_count": 9,
   "metadata": {},
   "outputs": [
    {
     "name": "stdin",
     "output_type": "stream",
     "text": [
      " 15\n"
     ]
    },
    {
     "name": "stdout",
     "output_type": "stream",
     "text": [
      "保護者の同意はありますか？\n"
     ]
    }
   ],
   "source": [
    "input_age = input()\n",
    "input_age_int = int(input_age)\n",
    "if input_age_int < 20:\n",
    "    if input_age_int < 10:\n",
    "        print(\"10歳未満は受け付けられません\")\n",
    "    else:\n",
    "        print(\"保護者の同意はありますか？\")\n",
    "else:\n",
    "    print(\"身分証明書を提示してください\")"
   ]
  },
  {
   "cell_type": "markdown",
   "metadata": {},
   "source": [
    "## 条件式\n",
    "\n",
    "ifやelifの後に示されるものは、条件式となります。条件式には様々なものがあります。\n",
    "\n",
    "- `<` : より小さい\n",
    "- `>` : より大きい\n",
    "- `<=` : 以下\n",
    "- `>=` : 以上\n",
    "- `==` : 同じ\n",
    "- `!=` : 同じではない\n",
    "- `is` : 同値 (同じオブジェクトか? None比較以外では使わない）\n",
    "- `in` : 包含関係 (リストなどのコンテナ内に含まれるか？)\n",
    "\n",
    "ブール演算\n",
    "\n",
    "- `and` : ともにTrueのときにTrue\n",
    "- `or` : どちらかがTrueのときにTrue"
   ]
  },
  {
   "cell_type": "markdown",
   "metadata": {},
   "source": [
    "### Falseになるとき\n",
    "\n",
    "- 数値 : 0, 0.0\n",
    "- 文字列 : 空文字列\n",
    "- コンテナ : 空要素 (空リストや空辞書)\n",
    "- False\n",
    "- None"
   ]
  },
  {
   "cell_type": "markdown",
   "metadata": {},
   "source": [
    "条件式は、 `bool()` で確認できます。"
   ]
  },
  {
   "cell_type": "code",
   "execution_count": 10,
   "metadata": {},
   "outputs": [
    {
     "data": {
      "text/plain": [
       "False"
      ]
     },
     "execution_count": 10,
     "metadata": {},
     "output_type": "execute_result"
    }
   ],
   "source": [
    "bool(0)"
   ]
  },
  {
   "cell_type": "code",
   "execution_count": 11,
   "metadata": {},
   "outputs": [
    {
     "data": {
      "text/plain": [
       "False"
      ]
     },
     "execution_count": 11,
     "metadata": {},
     "output_type": "execute_result"
    }
   ],
   "source": [
    "bool(0.0)"
   ]
  },
  {
   "cell_type": "code",
   "execution_count": 12,
   "metadata": {},
   "outputs": [
    {
     "data": {
      "text/plain": [
       "True"
      ]
     },
     "execution_count": 12,
     "metadata": {},
     "output_type": "execute_result"
    }
   ],
   "source": [
    "bool(20)"
   ]
  },
  {
   "cell_type": "code",
   "execution_count": 13,
   "metadata": {},
   "outputs": [
    {
     "data": {
      "text/plain": [
       "False"
      ]
     },
     "execution_count": 13,
     "metadata": {},
     "output_type": "execute_result"
    }
   ],
   "source": [
    "bool(\"\")"
   ]
  },
  {
   "cell_type": "code",
   "execution_count": 14,
   "metadata": {},
   "outputs": [
    {
     "data": {
      "text/plain": [
       "True"
      ]
     },
     "execution_count": 14,
     "metadata": {},
     "output_type": "execute_result"
    }
   ],
   "source": [
    "bool(\"氏名\")"
   ]
  },
  {
   "cell_type": "code",
   "execution_count": 15,
   "metadata": {},
   "outputs": [
    {
     "data": {
      "text/plain": [
       "True"
      ]
     },
     "execution_count": 15,
     "metadata": {},
     "output_type": "execute_result"
    }
   ],
   "source": [
    "bool(3 < 4)"
   ]
  },
  {
   "cell_type": "code",
   "execution_count": 16,
   "metadata": {},
   "outputs": [
    {
     "data": {
      "text/plain": [
       "True"
      ]
     },
     "execution_count": 16,
     "metadata": {},
     "output_type": "execute_result"
    }
   ],
   "source": [
    "a = 4\n",
    "bool(1 < a < 10)"
   ]
  },
  {
   "cell_type": "code",
   "execution_count": 17,
   "metadata": {},
   "outputs": [
    {
     "name": "stdin",
     "output_type": "stream",
     "text": [
      "出身の都道府県を入力 千葉\n"
     ]
    },
    {
     "name": "stdout",
     "output_type": "stream",
     "text": [
      "東北以外の出身です\n"
     ]
    }
   ],
   "source": [
    "tohoku = [\"青森\", \"岩手\", \"秋田\", \"宮城\", \"福島\", \"山形\"]\n",
    "pref = input(\"出身の都道府県を入力\")\n",
    "if pref in tohoku:\n",
    "    print(\"東北出身です\")\n",
    "else:\n",
    "    print(\"東北以外の出身です\")"
   ]
  },
  {
   "cell_type": "markdown",
   "metadata": {},
   "source": [
    "## 複数の条件"
   ]
  },
  {
   "cell_type": "code",
   "execution_count": 18,
   "metadata": {},
   "outputs": [
    {
     "name": "stdout",
     "output_type": "stream",
     "text": [
      "学割が使えます。\n"
     ]
    }
   ],
   "source": [
    "age = 25\n",
    "job = \"学生\"\n",
    "if age < 30 and job == \"学生\":\n",
    "    print(\"学割が使えます。\")"
   ]
  }
 ],
 "metadata": {
  "kernelspec": {
   "display_name": "Python 3",
   "language": "python",
   "name": "python3"
  },
  "language_info": {
   "codemirror_mode": {
    "name": "ipython",
    "version": 3
   },
   "file_extension": ".py",
   "mimetype": "text/x-python",
   "name": "python",
   "nbconvert_exporter": "python",
   "pygments_lexer": "ipython3",
   "version": "3.9.0"
  }
 },
 "nbformat": 4,
 "nbformat_minor": 4
}
