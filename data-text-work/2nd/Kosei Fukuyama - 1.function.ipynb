{
 "cells": [
  {
   "cell_type": "markdown",
   "metadata": {},
   "source": [
    "# 関数とは"
   ]
  },
  {
   "cell_type": "markdown",
   "metadata": {},
   "source": [
    "処理をひとまとまりにしたものです。\n",
    "\n",
    "処理をひとまとまりにすることで、何度も行う処理を繰り返し利用することができます。数学の関数に似ていますが、返り値を返さない関数を定義することも可能です。\n",
    "\n",
    "返り値は、関数が返すデータのことです。"
   ]
  },
  {
   "cell_type": "markdown",
   "metadata": {},
   "source": [
    "以下のようなものが関数の例となります。\n",
    "\n",
    "- 数値を2倍する関数\n",
    "- 2つの数値を足し算した結果を返す関数\n",
    "- 数値のリスト型のデータをすべて足し合わせる関数\n",
    "- 3つの単語を連結する関数\n",
    "- データを変換する関数\n",
    "- 入力された文字列をファイルに一行ごとに保存する関数"
   ]
  },
  {
   "cell_type": "markdown",
   "metadata": {},
   "source": [
    "関数において、重要なキーワードを挙げておきます。\n",
    "\n",
    "- 関数名・・関数には呼び出すときに使う名称を付けます\n",
    "- 引数（ひきすう)・・関数に渡すデータ\n",
    "- 返り値(かえりち)・・関数から戻ってくる値"
   ]
  },
  {
   "cell_type": "markdown",
   "metadata": {},
   "source": [
    "```python\n",
    "def f(x):\n",
    "    y = x * x\n",
    "    return y\n",
    "\n",
    "print(f(2)\n",
    "```\n",
    "\n",
    "- 関数名: f\n",
    "- 仮引数: x\n",
    "- 実引数: 2\n",
    "- 返り値: y"
   ]
  }
 ],
 "metadata": {
  "kernelspec": {
   "display_name": "Python 3",
   "language": "python",
   "name": "python3"
  },
  "language_info": {
   "codemirror_mode": {
    "name": "ipython",
    "version": 3
   },
   "file_extension": ".py",
   "mimetype": "text/x-python",
   "name": "python",
   "nbconvert_exporter": "python",
   "pygments_lexer": "ipython3",
   "version": "3.9.1"
  }
 },
 "nbformat": 4,
 "nbformat_minor": 4
}
