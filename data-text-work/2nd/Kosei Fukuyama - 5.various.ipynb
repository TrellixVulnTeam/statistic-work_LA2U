{
 "cells": [
  {
   "cell_type": "markdown",
   "metadata": {},
   "source": [
    "# その他の制御構文"
   ]
  },
  {
   "cell_type": "markdown",
   "metadata": {},
   "source": [
    "## 辞書型の繰り返し処理\n",
    "\n",
    "辞書は、「キー」と「値」の組み合わせで持つデータ構造です。\n",
    "\n",
    "辞書も繰り返し可能オブジェウトです。"
   ]
  },
  {
   "cell_type": "code",
   "execution_count": 1,
   "metadata": {},
   "outputs": [],
   "source": [
    "dic = {\"01\": \"北海道\", \"02\": \"青森\", \"03\": \"秋田\"}"
   ]
  },
  {
   "cell_type": "markdown",
   "metadata": {},
   "source": [
    "辞書を直接for文で実行すると、キーが取得できる"
   ]
  },
  {
   "cell_type": "code",
   "execution_count": 2,
   "metadata": {},
   "outputs": [
    {
     "name": "stdout",
     "output_type": "stream",
     "text": [
      "01\n",
      "02\n",
      "03\n"
     ]
    }
   ],
   "source": [
    "for k in dic:\n",
    "    print(k)"
   ]
  },
  {
   "cell_type": "markdown",
   "metadata": {},
   "source": [
    "値を出力する"
   ]
  },
  {
   "cell_type": "code",
   "execution_count": 3,
   "metadata": {},
   "outputs": [
    {
     "name": "stdout",
     "output_type": "stream",
     "text": [
      "北海道\n",
      "青森\n",
      "秋田\n"
     ]
    }
   ],
   "source": [
    "for k in dic:\n",
    "    print(dic[k])"
   ]
  },
  {
   "cell_type": "markdown",
   "metadata": {},
   "source": [
    "値を直接取得する"
   ]
  },
  {
   "cell_type": "code",
   "execution_count": 4,
   "metadata": {},
   "outputs": [
    {
     "name": "stdout",
     "output_type": "stream",
     "text": [
      "北海道\n",
      "青森\n",
      "秋田\n"
     ]
    }
   ],
   "source": [
    "for v in dic.values():\n",
    "    print(v)"
   ]
  },
  {
   "cell_type": "markdown",
   "metadata": {},
   "source": [
    "キーと値のペアを取得する"
   ]
  },
  {
   "cell_type": "code",
   "execution_count": 5,
   "metadata": {},
   "outputs": [
    {
     "name": "stdout",
     "output_type": "stream",
     "text": [
      "01: 北海道\n",
      "02: 青森\n",
      "03: 秋田\n"
     ]
    }
   ],
   "source": [
    "for k, v in dic.items():\n",
    "    print(k + \": \" + v)"
   ]
  },
  {
   "cell_type": "markdown",
   "metadata": {},
   "source": [
    "もう少し複雑な例"
   ]
  },
  {
   "cell_type": "code",
   "execution_count": 6,
   "metadata": {},
   "outputs": [],
   "source": [
    "dic2 = {\"01\": (\"北海道\", \"札幌\"), \"02\": (\"青森\", \"青森\"), \"03\": (\"秋田\", \"秋田\"), \"04\": (\"岩手\", \"盛岡\")}"
   ]
  },
  {
   "cell_type": "code",
   "execution_count": 7,
   "metadata": {},
   "outputs": [
    {
     "name": "stdout",
     "output_type": "stream",
     "text": [
      "No.01は、北海道で、県庁所在地は札幌です。\n",
      "No.02は、青森で、県庁所在地は青森です。\n",
      "No.03は、秋田で、県庁所在地は秋田です。\n",
      "No.04は、岩手で、県庁所在地は盛岡です。\n"
     ]
    }
   ],
   "source": [
    "for k, v in dic2.items():\n",
    "    print(f\"No.{k}は、{v[0]}で、県庁所在地は{v[1]}です。\")"
   ]
  },
  {
   "cell_type": "markdown",
   "metadata": {},
   "source": [
    "## 無限ループ\n",
    "\n"
   ]
  },
  {
   "cell_type": "markdown",
   "metadata": {},
   "source": [
    "入力待ちを実現するために無限ループや条件が満たしている間、繰り返すことが必要な場合があります。\n",
    "無限ループを実行すると、延々と繰り返しを行いますので注意をしてください。"
   ]
  },
  {
   "cell_type": "code",
   "execution_count": 8,
   "metadata": {},
   "outputs": [
    {
     "name": "stdin",
     "output_type": "stream",
     "text": [
      " 1\n"
     ]
    },
    {
     "name": "stdout",
     "output_type": "stream",
     "text": [
      "1\n"
     ]
    },
    {
     "name": "stdin",
     "output_type": "stream",
     "text": [
      " 氏名\n"
     ]
    },
    {
     "name": "stdout",
     "output_type": "stream",
     "text": [
      "氏名\n"
     ]
    },
    {
     "name": "stdin",
     "output_type": "stream",
     "text": [
      " exit\n"
     ]
    },
    {
     "name": "stdout",
     "output_type": "stream",
     "text": [
      "exit\n"
     ]
    }
   ],
   "source": [
    "condition = True\n",
    "while condition:\n",
    "    data = input()\n",
    "    print(data)\n",
    "    if data == \"exit\":\n",
    "        condition = False"
   ]
  },
  {
   "cell_type": "markdown",
   "metadata": {},
   "source": [
    "## 内包表記"
   ]
  },
  {
   "cell_type": "markdown",
   "metadata": {},
   "source": [
    "1から10までの累乗のリストを作る場合、for文で繰り返しを使って書くことができます。\n",
    "これを効率的かつシンプルに記述する方法があります。\n",
    "\n",
    "以下のように記述します。\n",
    "\n",
    "```python\n",
    "[要素 for 変数名 in 繰り返し可能オブジェクト if 条件式]\n",
    "```\n",
    "\n",
    "`if 条件式` は省略可能です。"
   ]
  },
  {
   "cell_type": "markdown",
   "metadata": {},
   "source": [
    "for文を用いる方法"
   ]
  },
  {
   "cell_type": "code",
   "execution_count": 9,
   "metadata": {},
   "outputs": [
    {
     "data": {
      "text/plain": [
       "[1, 4, 27, 256, 3125, 46656, 823543, 16777216, 387420489, 10000000000]"
      ]
     },
     "execution_count": 9,
     "metadata": {},
     "output_type": "execute_result"
    }
   ],
   "source": [
    "result = []\n",
    "for i in range(1, 11):\n",
    "    result.append(i ** i)\n",
    "result"
   ]
  },
  {
   "cell_type": "markdown",
   "metadata": {},
   "source": [
    "リスト内包表記を用いる方法"
   ]
  },
  {
   "cell_type": "code",
   "execution_count": 10,
   "metadata": {},
   "outputs": [
    {
     "data": {
      "text/plain": [
       "[1, 4, 27, 256, 3125, 46656, 823543, 16777216, 387420489, 10000000000]"
      ]
     },
     "execution_count": 10,
     "metadata": {},
     "output_type": "execute_result"
    }
   ],
   "source": [
    "result2 = [i ** i for i in range(1, 11)]\n",
    "result2"
   ]
  },
  {
   "cell_type": "markdown",
   "metadata": {},
   "source": [
    "リスト内包表記で偶数を求める方法"
   ]
  },
  {
   "cell_type": "code",
   "execution_count": 11,
   "metadata": {},
   "outputs": [
    {
     "data": {
      "text/plain": [
       "[2, 4, 6, 8, 10, 12, 14, 16, 18, 20]"
      ]
     },
     "execution_count": 11,
     "metadata": {},
     "output_type": "execute_result"
    }
   ],
   "source": [
    "even = [i for i in range(1, 21) if i % 2 == 0]\n",
    "even"
   ]
  },
  {
   "cell_type": "markdown",
   "metadata": {},
   "source": [
    "リスト内包表記の他に、同様の式があります。\n",
    "\n",
    "- リスト内包表記\n",
    "- 辞書内包表記\n",
    "- 集合内包表記\n",
    "- ジェネレータ式"
   ]
  }
 ],
 "metadata": {
  "kernelspec": {
   "display_name": "Python 3",
   "language": "python",
   "name": "python3"
  },
  "language_info": {
   "codemirror_mode": {
    "name": "ipython",
    "version": 3
   },
   "file_extension": ".py",
   "mimetype": "text/x-python",
   "name": "python",
   "nbconvert_exporter": "python",
   "pygments_lexer": "ipython3",
   "version": "3.9.0"
  }
 },
 "nbformat": 4,
 "nbformat_minor": 4
}
