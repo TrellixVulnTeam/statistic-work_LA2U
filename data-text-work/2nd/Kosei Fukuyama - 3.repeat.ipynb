{
 "cells": [
  {
   "cell_type": "markdown",
   "metadata": {},
   "source": [
    "# 繰り返し"
   ]
  },
  {
   "cell_type": "markdown",
   "metadata": {},
   "source": [
    "構文\n",
    "\n",
    "\n",
    "\n",
    "\n"
   ]
  },
  {
   "cell_type": "markdown",
   "metadata": {},
   "source": [
    "for文を用いた繰り返し\n",
    "\n",
    "```python\n",
    "for 変数名 in 繰り返し可能オブジェクト:\n",
    "    処理\n",
    "```"
   ]
  },
  {
   "cell_type": "markdown",
   "metadata": {},
   "source": [
    "## その他の繰り返しの方法\n",
    "\n",
    "- 条件がTrueの間に繰り返す `while`\n",
    "- 内包表記\n",
    "- map関数\n"
   ]
  },
  {
   "cell_type": "markdown",
   "metadata": {},
   "source": [
    "## 具体的な使い方"
   ]
  },
  {
   "cell_type": "code",
   "execution_count": 1,
   "metadata": {},
   "outputs": [
    {
     "name": "stdout",
     "output_type": "stream",
     "text": [
      "青森\n",
      "岩手\n",
      "秋田\n",
      "宮城\n",
      "福島\n",
      "山形\n"
     ]
    }
   ],
   "source": [
    "for s in [\"青森\", \"岩手\", \"秋田\", \"宮城\", \"福島\", \"山形\"]:\n",
    "    print(s)"
   ]
  },
  {
   "cell_type": "code",
   "execution_count": 2,
   "metadata": {},
   "outputs": [
    {
     "name": "stdout",
     "output_type": "stream",
     "text": [
      "1\n",
      "2\n",
      "3\n",
      "4\n",
      "5\n",
      "6\n",
      "7\n",
      "8\n",
      "9\n",
      "10\n"
     ]
    }
   ],
   "source": [
    "for i in range(1, 11):\n",
    "    print(i)"
   ]
  },
  {
   "cell_type": "markdown",
   "metadata": {},
   "source": [
    "## 繰り返しのネスト\n",
    "\n",
    "繰り返しのネストは、繰り返しの中で繰り返しを実行するという場合です。"
   ]
  },
  {
   "cell_type": "code",
   "execution_count": 3,
   "metadata": {},
   "outputs": [
    {
     "name": "stdout",
     "output_type": "stream",
     "text": [
      "2\n",
      "3\n",
      "4\n",
      "5\n",
      "3\n",
      "4\n",
      "5\n",
      "6\n",
      "4\n",
      "5\n",
      "6\n",
      "7\n",
      "5\n",
      "6\n",
      "7\n",
      "8\n"
     ]
    }
   ],
   "source": [
    "for i in range(1, 5):\n",
    "    for j in range(1, 5):\n",
    "        print(i + j)"
   ]
  },
  {
   "cell_type": "markdown",
   "metadata": {},
   "source": [
    "## 繰り返し可能なオブジェクト"
   ]
  },
  {
   "cell_type": "markdown",
   "metadata": {},
   "source": [
    "`for x in` の後には繰り返し可能オブジェクトを置くことができます。\n",
    "\n",
    "- リスト型\n",
    "- タプル型\n",
    "- 辞書型\n",
    "- 集合型\n",
    "- 文字列\n",
    "- range型（数列)\n",
    "- ジェネレータ"
   ]
  },
  {
   "cell_type": "code",
   "execution_count": 4,
   "metadata": {},
   "outputs": [
    {
     "name": "stdout",
     "output_type": "stream",
     "text": [
      "私\n",
      "の\n",
      "名\n",
      "前\n",
      "は\n",
      "寺\n",
      "田\n",
      "で\n",
      "す\n",
      "。\n"
     ]
    }
   ],
   "source": [
    "message = \"私の名前は寺田です。\"\n",
    "for s in message:\n",
    "    print(s)"
   ]
  }
 ],
 "metadata": {
  "kernelspec": {
   "display_name": "Python 3",
   "language": "python",
   "name": "python3"
  },
  "language_info": {
   "codemirror_mode": {
    "name": "ipython",
    "version": 3
   },
   "file_extension": ".py",
   "mimetype": "text/x-python",
   "name": "python",
   "nbconvert_exporter": "python",
   "pygments_lexer": "ipython3",
   "version": "3.9.0"
  }
 },
 "nbformat": 4,
 "nbformat_minor": 4
}
