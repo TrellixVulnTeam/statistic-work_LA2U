{
 "cells": [
  {
   "cell_type": "markdown",
   "metadata": {},
   "source": [
    "# 条件分岐と繰り返しの組み合わせ例"
   ]
  },
  {
   "cell_type": "markdown",
   "metadata": {},
   "source": [
    "条件分岐と繰り返しを組み合わせることは多くあります。\n",
    "\n",
    "例えば、1から20までの自然数から偶数だけを出力するということを、繰り返しのfor文と、条件分岐のif文を使って記述することができます。"
   ]
  },
  {
   "cell_type": "markdown",
   "metadata": {},
   "source": [
    "1から20までの自然数を出力する"
   ]
  },
  {
   "cell_type": "code",
   "execution_count": 1,
   "metadata": {},
   "outputs": [
    {
     "name": "stdout",
     "output_type": "stream",
     "text": [
      "1\n",
      "2\n",
      "3\n",
      "4\n",
      "5\n",
      "6\n",
      "7\n",
      "8\n",
      "9\n",
      "10\n",
      "11\n",
      "12\n",
      "13\n",
      "14\n",
      "15\n",
      "16\n",
      "17\n",
      "18\n",
      "19\n",
      "20\n"
     ]
    }
   ],
   "source": [
    "for i in range(1, 21):\n",
    "    print(i)"
   ]
  },
  {
   "cell_type": "markdown",
   "metadata": {},
   "source": [
    "偶数かどうかを判定する"
   ]
  },
  {
   "cell_type": "code",
   "execution_count": 2,
   "metadata": {},
   "outputs": [
    {
     "name": "stdin",
     "output_type": "stream",
     "text": [
      "自然数を入力 11\n"
     ]
    },
    {
     "name": "stdout",
     "output_type": "stream",
     "text": [
      "奇数: 11\n"
     ]
    }
   ],
   "source": [
    "i = int(input(\"自然数を入力\"))\n",
    "if i % 2 == 0:\n",
    "    print(f\"偶数: {i}\")\n",
    "else:\n",
    "    print(f\"奇数: {i}\")"
   ]
  },
  {
   "cell_type": "markdown",
   "metadata": {},
   "source": [
    "1から20までの自然数から偶数だけを出力"
   ]
  },
  {
   "cell_type": "code",
   "execution_count": 3,
   "metadata": {},
   "outputs": [
    {
     "name": "stdout",
     "output_type": "stream",
     "text": [
      "奇数: 1\n",
      "偶数: 2\n",
      "奇数: 3\n",
      "偶数: 4\n",
      "奇数: 5\n",
      "偶数: 6\n",
      "奇数: 7\n",
      "偶数: 8\n",
      "奇数: 9\n",
      "偶数: 10\n",
      "奇数: 11\n",
      "偶数: 12\n",
      "奇数: 13\n",
      "偶数: 14\n",
      "奇数: 15\n",
      "偶数: 16\n",
      "奇数: 17\n",
      "偶数: 18\n",
      "奇数: 19\n",
      "偶数: 20\n"
     ]
    }
   ],
   "source": [
    "for i in range(1, 21):\n",
    "    if i % 2 == 0:\n",
    "        print(f\"偶数: {i}\")\n",
    "    else:\n",
    "        print(f\"奇数: {i}\")  "
   ]
  },
  {
   "cell_type": "markdown",
   "metadata": {},
   "source": [
    "偶数のリストと奇数のリストの2つを作る"
   ]
  },
  {
   "cell_type": "markdown",
   "metadata": {},
   "source": [
    "リストへのデータ追加"
   ]
  },
  {
   "cell_type": "code",
   "execution_count": 4,
   "metadata": {},
   "outputs": [
    {
     "data": {
      "text/plain": [
       "[]"
      ]
     },
     "execution_count": 4,
     "metadata": {},
     "output_type": "execute_result"
    }
   ],
   "source": [
    "li = []\n",
    "li"
   ]
  },
  {
   "cell_type": "code",
   "execution_count": 5,
   "metadata": {},
   "outputs": [
    {
     "data": {
      "text/plain": [
       "[1]"
      ]
     },
     "execution_count": 5,
     "metadata": {},
     "output_type": "execute_result"
    }
   ],
   "source": [
    "li.append(1)\n",
    "li"
   ]
  },
  {
   "cell_type": "code",
   "execution_count": 6,
   "metadata": {},
   "outputs": [
    {
     "data": {
      "text/plain": [
       "[1, 2]"
      ]
     },
     "execution_count": 6,
     "metadata": {},
     "output_type": "execute_result"
    }
   ],
   "source": [
    "li.append(2)\n",
    "li"
   ]
  },
  {
   "cell_type": "code",
   "execution_count": 7,
   "metadata": {},
   "outputs": [
    {
     "name": "stdout",
     "output_type": "stream",
     "text": [
      "[2, 4, 6, 8, 10, 12, 14, 16, 18, 20]\n",
      "[1, 3, 5, 7, 9, 11, 13, 15, 17, 19]\n"
     ]
    }
   ],
   "source": [
    "even = []\n",
    "odd = []\n",
    "for i in range(1, 21):\n",
    "    if i % 2 == 0:\n",
    "        even.append(i)\n",
    "    else:\n",
    "        odd.append(i)\n",
    "print(even)\n",
    "print(odd)"
   ]
  },
  {
   "cell_type": "markdown",
   "metadata": {},
   "source": [
    "## breakとcontinue\n",
    "\n",
    "繰り返しの途中で、処理を止めたり、以後の処理を無視して次の繰り返しデータを取得するという処理を行うことがあります。\n",
    "\n",
    "途中で処理を止めるときには、 `break` を用い、処理を無視するときに `continue` を使います。"
   ]
  },
  {
   "cell_type": "code",
   "execution_count": 8,
   "metadata": {},
   "outputs": [
    {
     "name": "stdout",
     "output_type": "stream",
     "text": [
      "[1, 3, 5, 7, 9, 11, 13, 15, 17, 19]\n"
     ]
    }
   ],
   "source": [
    "odd_under_20 = []\n",
    "for i in range(1, 100):\n",
    "    if i >= 20:\n",
    "        break\n",
    "    if i % 2 == 0:\n",
    "        continue\n",
    "    odd_under_20.append(i)\n",
    "print(odd_under_20)"
   ]
  }
 ],
 "metadata": {
  "kernelspec": {
   "display_name": "Python 3",
   "language": "python",
   "name": "python3"
  },
  "language_info": {
   "codemirror_mode": {
    "name": "ipython",
    "version": 3
   },
   "file_extension": ".py",
   "mimetype": "text/x-python",
   "name": "python",
   "nbconvert_exporter": "python",
   "pygments_lexer": "ipython3",
   "version": "3.9.0"
  }
 },
 "nbformat": 4,
 "nbformat_minor": 4
}
