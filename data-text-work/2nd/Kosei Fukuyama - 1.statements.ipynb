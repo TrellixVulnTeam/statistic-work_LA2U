{
 "cells": [
  {
   "cell_type": "markdown",
   "metadata": {},
   "source": [
    "# 制御構文とは\n",
    "\n",
    "この節では、制御構文の概要を学びます。制御構文には、主に条件分岐と繰り返しがあります。これらの概要を理解していきます。\n",
    "\n",
    "Pythonで制御構文を使う上での制御ブロックについても学びます。"
   ]
  },
  {
   "cell_type": "markdown",
   "metadata": {},
   "source": [
    "# 解説\n",
    "\n",
    "プログラミングにおける重要な概念の一つである、以下の2つの制御構文を解説していきます。\n",
    "\n",
    "- 条件分岐\n",
    "- 繰り返し"
   ]
  },
  {
   "cell_type": "markdown",
   "metadata": {},
   "source": [
    "## 条件分岐\n",
    "\n",
    "条件分岐は、「もし〜〜だったら、〇〇をする」といった処理のことです。\n",
    "\n",
    "例えば、「年齢が20歳未満なら保護者の同意が必要」といったようなことです。\n",
    "\n",
    "もう少し複雑なものとして、「年齢が20歳未満なら保護者の同意が必要で、そうでなければ身分証明書の提示が必要」といった、条件にマッチしたときと、マッチしなかったときで処理を分けるということです。\n",
    "\n",
    "さらに複雑なものとして、「年齢が20歳未満のとき、20歳以上で65歳未満のとき、それ以外の場合」で処理を分けるということをおこなことも可能です。\n"
   ]
  },
  {
   "cell_type": "markdown",
   "metadata": {},
   "source": [
    "さまざまな条件を組み合わせることで、処理を分けていきます。"
   ]
  },
  {
   "cell_type": "markdown",
   "metadata": {},
   "source": [
    "## 繰り返し\n",
    "\n",
    "\n",
    "\n"
   ]
  },
  {
   "cell_type": "markdown",
   "metadata": {},
   "source": [
    "繰り返しは、反復処理とも言われます。\n",
    "\n",
    "リスト型などの繰り返し可能オブジェクトを使って、連続的に処理を行っていきます。\n",
    "\n",
    "例えば、「1から10までの数値を、順番に足し算をして合計を求める」というった処理を行うことができます。\n",
    "\n",
    "例えば、「47都道府県のリストがあり、一つづつ繰り返しをし、名称を表示」するといったことができます\n"
   ]
  },
  {
   "cell_type": "markdown",
   "metadata": {},
   "source": [
    "## 制御ブロック\n",
    "\n",
    "制御ブロックとは、処理の開始から終わりまでのまとまりを言います。\n",
    "\n",
    "条件分岐であれば、「もし〜〜ならば」から始まり、この条件の中の処理を表し、繰り返しであれば、繰り返し処理の終わりまでを言います。"
   ]
  },
  {
   "cell_type": "markdown",
   "metadata": {},
   "source": [
    "### インデントでブロックを表す"
   ]
  },
  {
   "cell_type": "markdown",
   "metadata": {},
   "source": [
    "制御ブロックの範囲を、カッコを用いて表さず、ブロックを用います。多くの言語では、カッコや波括弧を用いてブロックを表しますがPythonではインデントを用います。"
   ]
  },
  {
   "cell_type": "markdown",
   "metadata": {},
   "source": [
    "「条件分岐」や「繰り返し」処理が始まり、終わったときにインデントを戻して、制御ブロックが終わったことを表します。\n",
    "\n",
    "インデントは、半角スペース4つを用います。これは、PEP-8（標準コーディング規約)にて示されているからです。\n",
    "https://pep8-ja.readthedocs.io/ja/latest/"
   ]
  },
  {
   "cell_type": "markdown",
   "metadata": {},
   "source": [
    "```python\n",
    "if condition:\n",
    "    a = 1  # ifブロック内\n",
    "    b = 2  # ifブロック内\n",
    "else:  # インデントが戻ったので、ifブロックが終わり、elseブロックの宣言\n",
    "    a = 3  # elseブロック内\n",
    "    b = 4  # elseブロック内\n",
    "print(a, b)  # if-elseのブロックが終わり、処理へ\n",
    "```"
   ]
  }
 ],
 "metadata": {
  "kernelspec": {
   "display_name": "Python 3",
   "language": "python",
   "name": "python3"
  },
  "language_info": {
   "codemirror_mode": {
    "name": "ipython",
    "version": 3
   },
   "file_extension": ".py",
   "mimetype": "text/x-python",
   "name": "python",
   "nbconvert_exporter": "python",
   "pygments_lexer": "ipython3",
   "version": "3.9.0"
  }
 },
 "nbformat": 4,
 "nbformat_minor": 4
}
