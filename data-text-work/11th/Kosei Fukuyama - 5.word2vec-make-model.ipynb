{
 "cells": [
  {
   "cell_type": "markdown",
   "id": "f6fcbf9d-cae0-4cc7-910d-be1e7074a0a0",
   "metadata": {},
   "source": [
    "# word2vecでモデル構築\n",
    "\n",
    "独自のデータでモデルを構築する\n",
    "\n",
    "手順\n",
    "\n",
    "- 単語をリストにする\n",
    "- 学習する\n",
    "- 似た単語を見つける\n",
    "- 計算してみる"
   ]
  },
  {
   "cell_type": "code",
   "execution_count": 1,
   "id": "f5bd801c-c7ee-4cbd-b7b9-e7e86bccb81f",
   "metadata": {},
   "outputs": [],
   "source": [
    "import urllib.request\n",
    "import base64\n",
    "\n",
    "out = []\n",
    "text = \"\"\n",
    "\n",
    "url = \"https://hit-u-data-text-processing.herokuapp.com/data/20210502-news-text.txt\"\n",
    "auth_str = base64.b64encode(b\"reader:hit-u\")\n",
    "req = urllib.request.Request(url,\n",
    "                            headers={\"Authorization\": \"Basic \" + auth_str.decode(\"utf-8\")})\n",
    "with urllib.request.urlopen(req) as req:\n",
    "    text = req.read().decode(\"utf-8\")\n",
    "    for line in text.split(\"\\n\"):\n",
    "        if line.strip() == \"===\":\n",
    "            if text:\n",
    "                out.append(text)\n",
    "            text = \"\"\n",
    "        else:\n",
    "            text += line\n",
    "url = \"https://hit-u-data-text-processing.herokuapp.com/data/20210612-news-text.txt\"\n",
    "auth_str = base64.b64encode(b\"reader:hit-u\")\n",
    "req = urllib.request.Request(url,\n",
    "                            headers={\"Authorization\": \"Basic \" + auth_str.decode(\"utf-8\")})\n",
    "with urllib.request.urlopen(req) as req:\n",
    "    text = req.read().decode(\"utf-8\")\n",
    "    for line in text.split(\"\\n\"):\n",
    "        if line.strip() == \"===\":\n",
    "            if text:\n",
    "                out.append(text)\n",
    "            text = \"\"\n",
    "        else:\n",
    "            text += line"
   ]
  },
  {
   "cell_type": "code",
   "execution_count": 2,
   "id": "4e5a61d5-39ae-4eb1-ba4d-d626f9c1b66f",
   "metadata": {},
   "outputs": [
    {
     "data": {
      "text/plain": [
       "34"
      ]
     },
     "execution_count": 2,
     "metadata": {},
     "output_type": "execute_result"
    }
   ],
   "source": [
    "len(out)"
   ]
  },
  {
   "cell_type": "code",
   "execution_count": null,
   "id": "b6efc543-1b29-4516-8e67-68ac706c99fa",
   "metadata": {},
   "outputs": [],
   "source": [
    "# Colabで実行している場合\n",
    "# pip install janome"
   ]
  },
  {
   "cell_type": "code",
   "execution_count": 3,
   "id": "ab00f157-e2a4-4e30-9a38-e21086168dea",
   "metadata": {},
   "outputs": [],
   "source": [
    "from janome.tokenizer import Tokenizer\n",
    "from janome.tokenfilter import TokenFilter\n",
    "from janome.tokenfilter import CompoundNounFilter\n",
    "from janome.tokenfilter import POSKeepFilter\n",
    "from janome.tokenfilter import LowerCaseFilter\n",
    "from janome.charfilter import UnicodeNormalizeCharFilter\n",
    "from janome.analyzer import Analyzer"
   ]
  },
  {
   "cell_type": "code",
   "execution_count": 4,
   "id": "a66f9133-d99a-4cc5-8e56-a15791f00f18",
   "metadata": {},
   "outputs": [],
   "source": [
    "class StopWordFilter(TokenFilter):\n",
    "    def __init__(self, words):\n",
    "        self.stop_words = words\n",
    "    \n",
    "    def apply(self, tokens):\n",
    "        for token in tokens:\n",
    "            if token.surface not in self.stop_words:\n",
    "                yield token"
   ]
  },
  {
   "cell_type": "code",
   "execution_count": 5,
   "id": "8a827aad-1cca-412c-ad7b-f907b6c9ad4f",
   "metadata": {},
   "outputs": [
    {
     "data": {
      "text/plain": [
       "['大学', '一橋大学', '===', 'こと', 'the', 'ため', 'よう', 'of', '(', ')', '様']"
      ]
     },
     "execution_count": 5,
     "metadata": {},
     "output_type": "execute_result"
    }
   ],
   "source": [
    "import urllib.request\n",
    "import base64\n",
    "url = \"https://hit-u-data-text-processing.herokuapp.com/data/stopwords.txt\"\n",
    "auth_str = base64.b64encode(b\"reader:hit-u\")\n",
    "req = urllib.request.Request(url,\n",
    "                            headers={\"Authorization\": \"Basic \" + auth_str.decode(\"utf-8\")})\n",
    "\n",
    "stop_words = []\n",
    "with urllib.request.urlopen(req) as req:\n",
    "    lines = req.read().decode(\"utf-8\")\n",
    "    for line in lines.split(\"\\n\"):\n",
    "        if line.strip():\n",
    "            stop_words.append(line.strip())\n",
    "stop_words"
   ]
  },
  {
   "cell_type": "code",
   "execution_count": 6,
   "id": "9591a51d-5797-423c-b5ca-c61ed2bcdd1e",
   "metadata": {},
   "outputs": [],
   "source": [
    "stop_word_filter = StopWordFilter(stop_words)"
   ]
  },
  {
   "cell_type": "code",
   "execution_count": 7,
   "id": "509feb1d-9b4a-4f37-8446-f99f89450b90",
   "metadata": {},
   "outputs": [],
   "source": [
    "token_filters = [CompoundNounFilter(),\n",
    "                POSKeepFilter([\"名詞\", \"動詞\", \"形容詞\"]),\n",
    "                LowerCaseFilter(),\n",
    "                stop_word_filter]"
   ]
  },
  {
   "cell_type": "code",
   "execution_count": 8,
   "id": "34f65fda-433e-4c8b-b64c-d88281ad3e6d",
   "metadata": {},
   "outputs": [],
   "source": [
    "char_filters = [UnicodeNormalizeCharFilter()]\n",
    "tokenizer = Tokenizer()\n",
    "analyzer = Analyzer(char_filters=char_filters, \n",
    "                    tokenizer=tokenizer, \n",
    "                    token_filters=token_filters)"
   ]
  },
  {
   "cell_type": "code",
   "execution_count": 9,
   "id": "80db5305-e1aa-4e51-bfe9-5b481336ed01",
   "metadata": {},
   "outputs": [],
   "source": [
    "words = [[] for _ in range(len(out))]\n",
    "for i, text in enumerate(out):\n",
    "    words[i] = []\n",
    "    for token in analyzer.analyze(text):\n",
    "        words[i].append(token.base_form)"
   ]
  },
  {
   "cell_type": "code",
   "execution_count": 10,
   "id": "2e2a3af0-04bc-4445-8703-d07e2198e9b2",
   "metadata": {},
   "outputs": [
    {
     "data": {
      "text/plain": [
       "34"
      ]
     },
     "execution_count": 10,
     "metadata": {},
     "output_type": "execute_result"
    }
   ],
   "source": [
    "len(words)"
   ]
  },
  {
   "cell_type": "code",
   "execution_count": 11,
   "id": "f9ad91ef-3c27-4e76-8524-5b79468c469c",
   "metadata": {},
   "outputs": [
    {
     "data": {
      "text/plain": [
       "list"
      ]
     },
     "execution_count": 11,
     "metadata": {},
     "output_type": "execute_result"
    }
   ],
   "source": [
    "type(words[0])"
   ]
  },
  {
   "cell_type": "code",
   "execution_count": 12,
   "id": "909a10cc-3eb6-4f6b-b865-c97b4f7db642",
   "metadata": {},
   "outputs": [
    {
     "data": {
      "text/plain": [
       "['ソニー',\n",
       " 'パナソニック',\n",
       " '富士通',\n",
       " '資生堂',\n",
       " '共同',\n",
       " 'デザイン組織',\n",
       " '共通評価指標',\n",
       " '検討',\n",
       " '作成',\n",
       " '2021年4月30日']"
      ]
     },
     "execution_count": 12,
     "metadata": {},
     "output_type": "execute_result"
    }
   ],
   "source": [
    "words[0][:10]"
   ]
  },
  {
   "cell_type": "code",
   "execution_count": 13,
   "id": "63cb084f-e872-47f7-b7f2-5dd73571a646",
   "metadata": {},
   "outputs": [],
   "source": [
    "from gensim.models import Word2Vec\n",
    "from gensim.models import KeyedVectors"
   ]
  },
  {
   "cell_type": "code",
   "execution_count": 15,
   "id": "2bf201ab-d64c-48d2-99e8-fdaa186ab3a6",
   "metadata": {},
   "outputs": [],
   "source": [
    "# Jupyter labでPython 3.9 gensim 4.2.0 を使っている場合\n",
    "model = Word2Vec(sentences=words, sg=1, min_count=1, vector_size=20)"
   ]
  },
  {
   "cell_type": "code",
   "execution_count": null,
   "id": "1bdd66ea-220e-4015-9c82-0c1fb4a2c7b1",
   "metadata": {},
   "outputs": [],
   "source": [
    "# Colabでgensim3.6.0を使っている場合\n",
    "model = Word2Vec(sentences=words, sg=1, min_count=1, size=20)"
   ]
  },
  {
   "cell_type": "code",
   "execution_count": 16,
   "id": "b8a8cb6d-7c18-4f3b-809a-a2a77cc46e72",
   "metadata": {},
   "outputs": [
    {
     "data": {
      "text/plain": [
       "[('デザイン組織', 0.9902030229568481),\n",
       " ('活動', 0.9899303317070007),\n",
       " ('ソニー', 0.98918217420578),\n",
       " ('デザイン', 0.9888842105865479),\n",
       " ('いる', 0.9888550639152527),\n",
       " ('研究面', 0.9888089299201965),\n",
       " ('広い', 0.988551914691925),\n",
       " ('られる', 0.9885348677635193),\n",
       " ('パナソニック', 0.9883995056152344),\n",
       " ('言える', 0.9882439374923706)]"
      ]
     },
     "execution_count": 16,
     "metadata": {},
     "output_type": "execute_result"
    }
   ],
   "source": [
    "model.wv.most_similar(\"富士通\")"
   ]
  },
  {
   "cell_type": "code",
   "execution_count": 17,
   "id": "1ec192fc-6cb8-4d44-a0fd-9608b317b72d",
   "metadata": {},
   "outputs": [
    {
     "data": {
      "text/plain": [
       "[('ディスカッションパート1)', 0.1494382619857788),\n",
       " ('一橋大学博士(法学)。著書:『核', 0.13839954137802124),\n",
       " ('講演者プロフィール', 0.1341756284236908),\n",
       " ('公共政策大学院教授開会挨拶', 0.10643982887268066),\n",
       " ('bayesian', 0.10532860457897186),\n",
       " ('2021年2月27日(土)', 0.10432818531990051),\n",
       " ('国立市', 0.09989476948976517),\n",
       " ('一橋大学博士(法学)。', 0.0985269546508789),\n",
       " ('講演1', 0.09746456146240234),\n",
       " ('2020年12月9日', 0.09218787401914597)]"
      ]
     },
     "execution_count": 17,
     "metadata": {},
     "output_type": "execute_result"
    }
   ],
   "source": [
    "model.wv.most_similar(positive=[\"ソニー\"], negative=[\"学長\"])"
   ]
  },
  {
   "cell_type": "code",
   "execution_count": 18,
   "id": "00c55a9e-c754-4f91-b5ad-ca1b5ab4de02",
   "metadata": {},
   "outputs": [
    {
     "data": {
      "text/plain": [
       "[('シカゴ', 0.9885695576667786),\n",
       " ('デザイン組織', 0.9882736206054688),\n",
       " ('おる', 0.9873428344726562),\n",
       " ('違う', 0.9865394234657288),\n",
       " ('大きい', 0.9863448143005371),\n",
       " ('いる', 0.9861999154090881),\n",
       " ('パナソニック', 0.9859302639961243),\n",
       " ('制度(インハウスデザイナー制度)', 0.9853355884552002),\n",
       " ('世界', 0.985306441783905),\n",
       " ('持つ', 0.9852427840232849)]"
      ]
     },
     "execution_count": 18,
     "metadata": {},
     "output_type": "execute_result"
    }
   ],
   "source": [
    "model.wv.most_similar(positive=[\"富士通\", \"ソニー\", \"資生堂\"], negative=[\"研究\"])"
   ]
  },
  {
   "cell_type": "code",
   "execution_count": 19,
   "id": "cc838b22-b9bf-4617-9911-0054707ecf8a",
   "metadata": {},
   "outputs": [
    {
     "data": {
      "text/plain": [
       "0.9891821"
      ]
     },
     "execution_count": 19,
     "metadata": {},
     "output_type": "execute_result"
    }
   ],
   "source": [
    "model.wv.similarity(\"富士通\", \"ソニー\")"
   ]
  },
  {
   "cell_type": "code",
   "execution_count": 20,
   "id": "ae1d65f7-07ba-429d-87e4-44b3bb49f953",
   "metadata": {},
   "outputs": [
    {
     "data": {
      "text/plain": [
       "0.97469413"
      ]
     },
     "execution_count": 20,
     "metadata": {},
     "output_type": "execute_result"
    }
   ],
   "source": [
    "model.wv.similarity(\"富士通\", \"学長\")"
   ]
  },
  {
   "cell_type": "code",
   "execution_count": 21,
   "id": "cdb6cffd-64f5-4478-845e-0948bdeda273",
   "metadata": {},
   "outputs": [
    {
     "data": {
      "text/plain": [
       "0.9262252"
      ]
     },
     "execution_count": 21,
     "metadata": {},
     "output_type": "execute_result"
    }
   ],
   "source": [
    "model.wv.similarity(\"国立大学法人\", \"学長\")"
   ]
  },
  {
   "cell_type": "code",
   "execution_count": 22,
   "id": "2b5f7277-5080-4f6f-bec7-2ac2cd9d8f07",
   "metadata": {},
   "outputs": [
    {
     "data": {
      "text/plain": [
       "0.92455274"
      ]
     },
     "execution_count": 22,
     "metadata": {},
     "output_type": "execute_result"
    }
   ],
   "source": [
    "model.wv.similarity(\"国立大学法人\", \"慶應義塾大学\")"
   ]
  }
 ],
 "metadata": {
  "kernelspec": {
   "display_name": "Python 3 (ipykernel)",
   "language": "python",
   "name": "python3"
  },
  "language_info": {
   "codemirror_mode": {
    "name": "ipython",
    "version": 3
   },
   "file_extension": ".py",
   "mimetype": "text/x-python",
   "name": "python",
   "nbconvert_exporter": "python",
   "pygments_lexer": "ipython3",
   "version": "3.9.1"
  }
 },
 "nbformat": 4,
 "nbformat_minor": 5
}
