{
 "cells": [
  {
   "cell_type": "markdown",
   "id": "f6fcbf9d-cae0-4cc7-910d-be1e7074a0a0",
   "metadata": {},
   "source": [
    "# Doc2Vec\n",
    "\n",
    "Word2Vecの応用で、ドキュメント(文書)に適用した、Doc2Vecを紹介する。\n",
    "\n",
    "Word2Vecで行ったものと同様に、Doc2Vecで同じドキュメント(文書)を学習し、ドキュメント間で似ているものを探し出す\n",
    "\n",
    "手順\n",
    "\n",
    "- 事前準備\n",
    "- 学習する\n",
    "- 似た文書を見つける\n"
   ]
  },
  {
   "cell_type": "code",
   "execution_count": 1,
   "id": "c4fb3024-a57e-423f-a77d-48bdf49c9717",
   "metadata": {
    "tags": []
   },
   "outputs": [],
   "source": [
    "import urllib.request\n",
    "import base64\n",
    "\n",
    "out = []\n",
    "text = \"\"\n",
    "\n",
    "url = \"https://hit-u-data-text-processing.herokuapp.com/data/20210502-news-text.txt\"\n",
    "auth_str = base64.b64encode(b\"reader:hit-u\")\n",
    "req = urllib.request.Request(url,\n",
    "                            headers={\"Authorization\": \"Basic \" + auth_str.decode(\"utf-8\")})\n",
    "with urllib.request.urlopen(req) as req:\n",
    "    text = req.read().decode(\"utf-8\")\n",
    "    for line in text.split(\"\\n\"):\n",
    "        if line.strip() == \"===\":\n",
    "            if text:\n",
    "                out.append(text)\n",
    "            text = \"\"\n",
    "        else:\n",
    "            text += line\n",
    "url = \"https://hit-u-data-text-processing.herokuapp.com/data/20210612-news-text.txt\"\n",
    "auth_str = base64.b64encode(b\"reader:hit-u\")\n",
    "req = urllib.request.Request(url,\n",
    "                            headers={\"Authorization\": \"Basic \" + auth_str.decode(\"utf-8\")})\n",
    "with urllib.request.urlopen(req) as req:\n",
    "    text = req.read().decode(\"utf-8\")\n",
    "    for line in text.split(\"\\n\"):\n",
    "        if line.strip() == \"===\":\n",
    "            if text:\n",
    "                out.append(text)\n",
    "            text = \"\"\n",
    "        else:\n",
    "            text += line"
   ]
  },
  {
   "cell_type": "code",
   "execution_count": 2,
   "id": "4e5a61d5-39ae-4eb1-ba4d-d626f9c1b66f",
   "metadata": {},
   "outputs": [],
   "source": [
    "# out[1]"
   ]
  },
  {
   "cell_type": "code",
   "execution_count": null,
   "id": "725d4d2a-8fcf-43dd-9453-a7ef0c321af8",
   "metadata": {},
   "outputs": [],
   "source": [
    "# Colabで実行している場合\n",
    "# pip install janome"
   ]
  },
  {
   "cell_type": "code",
   "execution_count": 3,
   "id": "ab00f157-e2a4-4e30-9a38-e21086168dea",
   "metadata": {},
   "outputs": [],
   "source": [
    "from janome.tokenizer import Tokenizer\n",
    "from janome.tokenfilter import TokenFilter\n",
    "from janome.tokenfilter import CompoundNounFilter\n",
    "from janome.tokenfilter import POSKeepFilter\n",
    "from janome.tokenfilter import LowerCaseFilter\n",
    "from janome.charfilter import UnicodeNormalizeCharFilter\n",
    "from janome.analyzer import Analyzer"
   ]
  },
  {
   "cell_type": "code",
   "execution_count": 4,
   "id": "a66f9133-d99a-4cc5-8e56-a15791f00f18",
   "metadata": {},
   "outputs": [],
   "source": [
    "class StopWordFilter(TokenFilter):\n",
    "    def __init__(self, words):\n",
    "        self.stop_words = words\n",
    "    \n",
    "    def apply(self, tokens):\n",
    "        for token in tokens:\n",
    "            if token.surface not in self.stop_words:\n",
    "                yield token"
   ]
  },
  {
   "cell_type": "code",
   "execution_count": 5,
   "id": "eb06b071-1f1e-4e6e-9810-b7f43dd303ca",
   "metadata": {},
   "outputs": [
    {
     "data": {
      "text/plain": [
       "['大学', '一橋大学', '===', 'こと', 'the', 'ため', 'よう', 'of', '(', ')', '様']"
      ]
     },
     "execution_count": 5,
     "metadata": {},
     "output_type": "execute_result"
    }
   ],
   "source": [
    "import urllib.request\n",
    "import base64\n",
    "url = \"https://hit-u-data-text-processing.herokuapp.com/data/stopwords.txt\"\n",
    "auth_str = base64.b64encode(b\"reader:hit-u\")\n",
    "req = urllib.request.Request(url,\n",
    "                            headers={\"Authorization\": \"Basic \" + auth_str.decode(\"utf-8\")})\n",
    "\n",
    "stop_words = []\n",
    "with urllib.request.urlopen(req) as req:\n",
    "    lines = req.read().decode(\"utf-8\")\n",
    "    for line in lines.split(\"\\n\"):\n",
    "        if line.strip():\n",
    "            stop_words.append(line.strip())\n",
    "stop_words"
   ]
  },
  {
   "cell_type": "code",
   "execution_count": 6,
   "id": "9591a51d-5797-423c-b5ca-c61ed2bcdd1e",
   "metadata": {},
   "outputs": [],
   "source": [
    "stop_word_filter = StopWordFilter(stop_words)"
   ]
  },
  {
   "cell_type": "code",
   "execution_count": 7,
   "id": "509feb1d-9b4a-4f37-8446-f99f89450b90",
   "metadata": {},
   "outputs": [],
   "source": [
    "token_filters = [CompoundNounFilter(),\n",
    "                POSKeepFilter([\"名詞\", \"動詞\", \"形容詞\"]),\n",
    "                LowerCaseFilter(),\n",
    "                stop_word_filter]"
   ]
  },
  {
   "cell_type": "code",
   "execution_count": 8,
   "id": "34f65fda-433e-4c8b-b64c-d88281ad3e6d",
   "metadata": {},
   "outputs": [],
   "source": [
    "char_filters = [UnicodeNormalizeCharFilter()]\n",
    "tokenizer = Tokenizer()\n",
    "analyzer = Analyzer(char_filters=char_filters, \n",
    "                    tokenizer=tokenizer, \n",
    "                    token_filters=token_filters)"
   ]
  },
  {
   "cell_type": "code",
   "execution_count": 9,
   "id": "80db5305-e1aa-4e51-bfe9-5b481336ed01",
   "metadata": {},
   "outputs": [],
   "source": [
    "docs_words = {}\n",
    "for i, text in enumerate(out):\n",
    "    docs_words[i] = []\n",
    "    for token in analyzer.analyze(text):\n",
    "        docs_words[i].append(token.base_form)"
   ]
  },
  {
   "cell_type": "code",
   "execution_count": 10,
   "id": "2e2a3af0-04bc-4445-8703-d07e2198e9b2",
   "metadata": {},
   "outputs": [
    {
     "data": {
      "text/plain": [
       "34"
      ]
     },
     "execution_count": 10,
     "metadata": {},
     "output_type": "execute_result"
    }
   ],
   "source": [
    "len(docs_words)"
   ]
  },
  {
   "cell_type": "code",
   "execution_count": 11,
   "id": "f9ad91ef-3c27-4e76-8524-5b79468c469c",
   "metadata": {},
   "outputs": [
    {
     "data": {
      "text/plain": [
       "list"
      ]
     },
     "execution_count": 11,
     "metadata": {},
     "output_type": "execute_result"
    }
   ],
   "source": [
    "type(docs_words[0])"
   ]
  },
  {
   "cell_type": "code",
   "execution_count": 12,
   "id": "909a10cc-3eb6-4f6b-b865-c97b4f7db642",
   "metadata": {},
   "outputs": [
    {
     "data": {
      "text/plain": [
       "['科研費',\n",
       " '本学',\n",
       " '新規採択率全国1位',\n",
       " '2021年1月6日',\n",
       " '令和2年度科学研究費助成事業',\n",
       " '科研費*(補助金',\n",
       " '基金分)〕',\n",
       " '配分状況',\n",
       " '2020年12月25日(金)',\n",
       " '文部科学省']"
      ]
     },
     "execution_count": 12,
     "metadata": {},
     "output_type": "execute_result"
    }
   ],
   "source": [
    "docs_words[12][:10]"
   ]
  },
  {
   "cell_type": "code",
   "execution_count": 13,
   "id": "63cb084f-e872-47f7-b7f2-5dd73571a646",
   "metadata": {},
   "outputs": [],
   "source": [
    "from gensim.models import Doc2Vec\n",
    "from gensim.models.doc2vec import TaggedDocument"
   ]
  },
  {
   "cell_type": "code",
   "execution_count": 14,
   "id": "abf9f81f-fda2-4f28-bbc1-03848dcbfed4",
   "metadata": {},
   "outputs": [],
   "source": [
    "def get_sentences(docs_words):\n",
    "    sentences = []\n",
    "    for k, text in docs_words.items():\n",
    "        sentences.append(TaggedDocument(words=text, tags=[str(k)]))\n",
    "    return sentences"
   ]
  },
  {
   "cell_type": "code",
   "execution_count": 15,
   "id": "6b7ff1cd-df9d-4953-bdb0-5bc1c525b08a",
   "metadata": {},
   "outputs": [],
   "source": [
    "sentences = get_sentences(docs_words)"
   ]
  },
  {
   "cell_type": "code",
   "execution_count": 16,
   "id": "8483abe2-41a6-41a6-9c9e-f78b7b2d82f8",
   "metadata": {},
   "outputs": [
    {
     "data": {
      "text/plain": [
       "TaggedDocument(words=['経済研究所長', '渡部敏明教授', 'ベイズ統計学', '国際学会', '部会chair-elect', '(次期会長)', '選出', 'する', 'れる', '2020年12月2日経済研究所長', '渡部敏明教授', 'ベイズ統計学', '国際学会international', 'society', 'for', 'bayesian', 'analysis', '(isba)', '部会economics,', 'finance,', 'and', 'business', '(efab)', 'chair-elect', '(次期会長)', '選出', 'する', 'れる', '2021年1月', '1年間', 'chair-elect', 'chair', '補佐', 'する', '後', '2022年1月', '1年間chair', '務める'], tags=['15'])"
      ]
     },
     "execution_count": 16,
     "metadata": {},
     "output_type": "execute_result"
    }
   ],
   "source": [
    "sentences[15]"
   ]
  },
  {
   "cell_type": "code",
   "execution_count": 17,
   "id": "2bf201ab-d64c-48d2-99e8-fdaa186ab3a6",
   "metadata": {},
   "outputs": [],
   "source": [
    "model = Doc2Vec(sentences, dm=1, vector_size=50, window=5, alpha=0.025,\n",
    "        min_alpha=0.025, min_count=2, sample=1e-6)"
   ]
  },
  {
   "cell_type": "code",
   "execution_count": 18,
   "id": "7e832f44-26b3-4a2a-9d48-a9e8c64c10d0",
   "metadata": {},
   "outputs": [],
   "source": [
    "def train_model(model, sentences, num_epoch=20):\n",
    "    print('\\n訓練開始')\n",
    "    for epoch in range(num_epoch):\n",
    "        print(f\"Epoch: {epoch + 1}\")\n",
    "        model.train(sentences, total_examples=model.corpus_count, epochs=model.epochs)\n",
    "        model.alpha -= (0.025 - 0.0001) / 19\n",
    "        model.min_alpha = model.alpha\n",
    "    return model"
   ]
  },
  {
   "cell_type": "code",
   "execution_count": 19,
   "id": "d58dc1f2-18d9-4871-9ab7-9c99c1b40f9a",
   "metadata": {},
   "outputs": [
    {
     "name": "stdout",
     "output_type": "stream",
     "text": [
      "\n",
      "訓練開始\n",
      "Epoch: 1\n",
      "Epoch: 2\n",
      "Epoch: 3\n",
      "Epoch: 4\n",
      "Epoch: 5\n",
      "Epoch: 6\n",
      "Epoch: 7\n",
      "Epoch: 8\n",
      "Epoch: 9\n",
      "Epoch: 10\n",
      "Epoch: 11\n",
      "Epoch: 12\n",
      "Epoch: 13\n",
      "Epoch: 14\n",
      "Epoch: 15\n",
      "Epoch: 16\n",
      "Epoch: 17\n",
      "Epoch: 18\n",
      "Epoch: 19\n",
      "Epoch: 20\n"
     ]
    }
   ],
   "source": [
    "fit_model = train_model(model, sentences, 20)"
   ]
  },
  {
   "cell_type": "code",
   "execution_count": 20,
   "id": "18b9a5e4-8926-4846-bed3-7511fc2e50bd",
   "metadata": {},
   "outputs": [
    {
     "data": {
      "text/plain": [
       "[('19', 0.9999522566795349),\n",
       " ('17', 0.999922513961792),\n",
       " ('32', 0.9999180436134338),\n",
       " ('13', 0.9999134540557861),\n",
       " ('16', 0.9998354315757751)]"
      ]
     },
     "execution_count": 20,
     "metadata": {},
     "output_type": "execute_result"
    }
   ],
   "source": [
    "# Jupyter labでPython 3.9 gensim 4.2.0 を使っている場合\n",
    "fit_model.dv.most_similar(\"0\", topn=5)"
   ]
  },
  {
   "cell_type": "code",
   "execution_count": 74,
   "id": "61c9da78-350d-4e1b-a921-80028ecef6fd",
   "metadata": {},
   "outputs": [
    {
     "data": {
      "text/plain": [
       "[('17', 0.9999710321426392),\n",
       " ('32', 0.9997791647911072),\n",
       " ('13', 0.9997351169586182),\n",
       " ('19', 0.9996321201324463),\n",
       " ('14', 0.9980309009552002)]"
      ]
     },
     "execution_count": 74,
     "metadata": {},
     "output_type": "execute_result"
    }
   ],
   "source": [
    "# Colabでgensim3.6.0を使っている場合\n",
    "fit_model.docvecs.most_similar(\"0\", topn=5)"
   ]
  },
  {
   "cell_type": "code",
   "execution_count": 21,
   "id": "6656865a-3389-402a-a22d-f43005488615",
   "metadata": {},
   "outputs": [
    {
     "name": "stdout",
     "output_type": "stream",
     "text": [
      "0 : ['ソニー', 'パナソニック', '富士通', '資生堂', '共同']\n",
      "1 : ['令和2年度学位記授与式', '挙行', 'する', '2021年4月1日新型コロナウイルス感染症拡大防止', '学部別']\n",
      "2 : ['cambridge', 'economic', 'history', 'modern', 'world(stephen']\n",
      "3 : ['令和3年度入学式', '挙行', 'する', '2021年4月15日新型コロナウイルス感染症拡大防止', '学部別']\n",
      "4 : ['学業優秀学生(在学生)', '決定', 'する', '2021年4月9日', '令和2年度一年間']\n",
      "5 : ['令和2年度学位記授与式', '挙行', 'する', '2021年4月1日新型コロナウイルス感染症拡大防止', '学部別']\n",
      "6 : ['53回内藤章記念賞論文入選者', '表彰式', '行う', '2021年4月1日2021年3月19日(金)、学位記授与式当日', '法人本部棟7階中会議室']\n",
      "7 : ['学業優秀学生(卒業生)', '表彰', '行う', 'れる', '2021年3月22日学業優秀学生(卒業生)']\n",
      "8 : ['知的財産共同研究成果', '3件目', '特許', '取得', 'する']\n",
      "9 : ['独立行政法人日本学生支援機構', '発行', 'する', 'ソーシャルボンド', '投資']\n",
      "10 : ['四大学連合ポストコロナ社会コンソーシアム', '覚書', '締結', 'する', '2021年2月1日東京医科歯科大学']\n",
      "11 : ['令和2年司法試験', '結果', '2021年1月28日法科大学院修了者', '対象', 'する']\n",
      "12 : ['科研費', '本学', '新規採択率全国1位', '2021年1月6日', '令和2年度科学研究費助成事業']\n",
      "13 : ['公開講座開催案内2020年度一橋大学公開講座', '裁判員裁判', 'いま', '裁判員裁判', '重大']\n",
      "14 : ['世界', '大学連合', 'u7+」', 'オンラインサミット', '中野学長']\n",
      "15 : ['経済研究所長', '渡部敏明教授', 'ベイズ統計学', '国際学会', '部会chair-elect']\n",
      "16 : ['中野聡学長', '世界', 'ライブ配信', 'する', 'れる']\n",
      "17 : ['関西', '中部合同アカデミア', '2020年度一橋大学関西', '中部合同アカデミア', '局面']\n",
      "18 : ['令和3年度入学式', '挙行', 'する', '2021年4月15日新型コロナウイルス感染症拡大防止', '学部別']\n",
      "19 : ['ソニー', 'パナソニック', '富士通', '資生堂', '共同']\n",
      "20 : ['令和2年度学位記授与式', '挙行', 'する', '2021年4月1日新型コロナウイルス感染症拡大防止', '学部別']\n",
      "21 : ['cambridge', 'economic', 'history', 'modern', 'world(stephen']\n",
      "22 : ['令和3年度入学式', '挙行', 'する', '2021年4月15日新型コロナウイルス感染症拡大防止', '学部別']\n",
      "23 : ['学業優秀学生(在学生)', '決定', 'する', '2021年4月9日', '令和2年度一年間']\n",
      "24 : ['令和2年度学位記授与式', '挙行', 'する', '2021年4月1日新型コロナウイルス感染症拡大防止', '学部別']\n",
      "25 : ['53回内藤章記念賞論文入選者', '表彰式', '行う', '2021年4月1日2021年3月19日(金)、学位記授与式当日', '法人本部棟7階中会議室']\n",
      "26 : ['学業優秀学生(卒業生)', '表彰', '行う', 'れる', '2021年3月22日学業優秀学生(卒業生)']\n",
      "27 : ['知的財産共同研究成果', '3件目', '特許', '取得', 'する']\n",
      "28 : ['独立行政法人日本学生支援機構', '発行', 'する', 'ソーシャルボンド', '投資']\n",
      "29 : ['四大学連合ポストコロナ社会コンソーシアム', '覚書', '締結', 'する', '2021年2月1日東京医科歯科大学']\n",
      "30 : ['令和2年司法試験', '結果', '2021年1月28日法科大学院修了者', '対象', 'する']\n",
      "31 : ['科研費', '本学', '新規採択率全国1位', '2021年1月6日', '令和2年度科学研究費助成事業']\n",
      "32 : ['公開講座開催案内2020年度一橋大学公開講座', '裁判員裁判', 'いま', '裁判員裁判', '重大']\n",
      "33 : ['世界', '大学連合', 'u7+」', 'オンラインサミット', '中野学長']\n"
     ]
    }
   ],
   "source": [
    "for k, words in docs_words.items():\n",
    "    print(f\"{k} : {words[:5]}\")"
   ]
  },
  {
   "cell_type": "code",
   "execution_count": 22,
   "id": "b22f29a8-e46a-4603-ba4f-d9a0521735ef",
   "metadata": {},
   "outputs": [],
   "source": [
    "# Jupyter labでPython 3.9 gensim 4.2.0 を使っている場合\n",
    "def doc2vec_similar(id_, topn=5):\n",
    "    print(f\"{id_}  -- {docs_words[int(id_)][:5]})\")\n",
    "    similars = fit_model.dv.most_similar(id_, topn=topn)\n",
    "    for similar_id, score in similars:\n",
    "        print(f\"{similar_id} : {score} -- {docs_words[int(similar_id)][:5]})\")"
   ]
  },
  {
   "cell_type": "code",
   "execution_count": 77,
   "id": "e7ee10c4-3bb5-4a94-9b82-e803a0c0a844",
   "metadata": {},
   "outputs": [],
   "source": [
    "# Colabでgensim3.6.0を使っている場合\n",
    "def doc2vec_similar(id_, topn=5):\n",
    "    print(f\"{id_}  -- {docs_words[int(id_)][:5]})\")\n",
    "    similars = fit_model.docvecs.most_similar(id_, topn=topn)\n",
    "    for similar_id, score in similars:\n",
    "        print(f\"{similar_id} : {score} -- {docs_words[int(similar_id)][:5]})\")"
   ]
  },
  {
   "cell_type": "code",
   "execution_count": 23,
   "id": "c793ffc6-408d-4f47-874d-c182f9651a57",
   "metadata": {},
   "outputs": [
    {
     "name": "stdout",
     "output_type": "stream",
     "text": [
      "19  -- ['ソニー', 'パナソニック', '富士通', '資生堂', '共同'])\n",
      "0 : 0.9999523162841797 -- ['ソニー', 'パナソニック', '富士通', '資生堂', '共同'])\n",
      "17 : 0.9999119639396667 -- ['関西', '中部合同アカデミア', '2020年度一橋大学関西', '中部合同アカデミア', '局面'])\n",
      "13 : 0.9998791217803955 -- ['公開講座開催案内2020年度一橋大学公開講座', '裁判員裁判', 'いま', '裁判員裁判', '重大'])\n",
      "32 : 0.9998767375946045 -- ['公開講座開催案内2020年度一橋大学公開講座', '裁判員裁判', 'いま', '裁判員裁判', '重大'])\n",
      "16 : 0.9998028874397278 -- ['中野聡学長', '世界', 'ライブ配信', 'する', 'れる'])\n"
     ]
    }
   ],
   "source": [
    "doc2vec_similar(\"19\")"
   ]
  },
  {
   "cell_type": "code",
   "execution_count": 24,
   "id": "9efe0cdf-697f-49df-81fd-b6d2da358f55",
   "metadata": {},
   "outputs": [
    {
     "name": "stdout",
     "output_type": "stream",
     "text": [
      "3  -- ['令和3年度入学式', '挙行', 'する', '2021年4月15日新型コロナウイルス感染症拡大防止', '学部別'])\n",
      "16 : 0.999011754989624 -- ['中野聡学長', '世界', 'ライブ配信', 'する', 'れる'])\n",
      "13 : 0.9989255666732788 -- ['公開講座開催案内2020年度一橋大学公開講座', '裁判員裁判', 'いま', '裁判員裁判', '重大'])\n",
      "17 : 0.9989242553710938 -- ['関西', '中部合同アカデミア', '2020年度一橋大学関西', '中部合同アカデミア', '局面'])\n",
      "27 : 0.9988905191421509 -- ['知的財産共同研究成果', '3件目', '特許', '取得', 'する'])\n",
      "32 : 0.9988779425621033 -- ['公開講座開催案内2020年度一橋大学公開講座', '裁判員裁判', 'いま', '裁判員裁判', '重大'])\n"
     ]
    }
   ],
   "source": [
    "doc2vec_similar(\"3\")"
   ]
  },
  {
   "cell_type": "code",
   "execution_count": 25,
   "id": "338e47a8-3f16-451f-a622-d4e1fc09014f",
   "metadata": {},
   "outputs": [
    {
     "name": "stdout",
     "output_type": "stream",
     "text": [
      "31  -- ['科研費', '本学', '新規採択率全国1位', '2021年1月6日', '令和2年度科学研究費助成事業'])\n",
      "17 : 0.9995192885398865 -- ['関西', '中部合同アカデミア', '2020年度一橋大学関西', '中部合同アカデミア', '局面'])\n",
      "0 : 0.9995107650756836 -- ['ソニー', 'パナソニック', '富士通', '資生堂', '共同'])\n",
      "13 : 0.9994748830795288 -- ['公開講座開催案内2020年度一橋大学公開講座', '裁判員裁判', 'いま', '裁判員裁判', '重大'])\n",
      "32 : 0.9994680285453796 -- ['公開講座開催案内2020年度一橋大学公開講座', '裁判員裁判', 'いま', '裁判員裁判', '重大'])\n",
      "23 : 0.9994110465049744 -- ['学業優秀学生(在学生)', '決定', 'する', '2021年4月9日', '令和2年度一年間'])\n"
     ]
    }
   ],
   "source": [
    "doc2vec_similar(\"31\")"
   ]
  }
 ],
 "metadata": {
  "kernelspec": {
   "display_name": "Python 3.9.6 ('venv': venv)",
   "language": "python",
   "name": "python3"
  },
  "language_info": {
   "codemirror_mode": {
    "name": "ipython",
    "version": 3
   },
   "file_extension": ".py",
   "mimetype": "text/x-python",
   "name": "python",
   "nbconvert_exporter": "python",
   "pygments_lexer": "ipython3",
   "version": "3.9.6"
  },
  "vscode": {
   "interpreter": {
    "hash": "93c5697865292fdd0df1432c6bc5dc8f9244b4d72a06ac70cd24d4ff1f17d896"
   }
  }
 },
 "nbformat": 4,
 "nbformat_minor": 5
}
