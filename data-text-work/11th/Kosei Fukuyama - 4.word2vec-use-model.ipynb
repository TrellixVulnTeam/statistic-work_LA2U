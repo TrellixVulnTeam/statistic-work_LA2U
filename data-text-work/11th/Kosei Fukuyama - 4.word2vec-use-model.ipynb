{
 "cells": [
  {
   "cell_type": "markdown",
   "id": "f150aefd-de05-40c8-959c-4b42bfcf0267",
   "metadata": {},
   "source": [
    "# Word2Vec"
   ]
  },
  {
   "cell_type": "markdown",
   "id": "0d6c1406-25f1-4f24-b8c5-519a41d0026c",
   "metadata": {},
   "source": [
    "## Word2Vecとは\n",
    "\n",
    "ニューラルネットワークを使い、多数の文書内の単語を学習することで、教師なしで単語間の距離を用いて、単語の意味付けを行うアルゴリズムです。\n",
    "\n",
    "単語をベクトル表現することができるので、自然言語処理を行う上で、さまざまな応用ができます。\n",
    "機械翻訳などの自然言語を処理する上での大きな革新をもたらした技術です。"
   ]
  },
  {
   "cell_type": "markdown",
   "id": "0317d885-621e-43ad-9b82-360f76bf9206",
   "metadata": {},
   "source": [
    "よくある使いみち\n",
    "\n",
    "- 似た単語を見つけ出す\n",
    "- 単語同士の足し算、引き算を可能にする"
   ]
  },
  {
   "cell_type": "markdown",
   "id": "ac3b7a82-79ed-47ec-b09a-1d900aa3d8b7",
   "metadata": {},
   "source": [
    "## Word2Vecを体験\n",
    "\n",
    "- 学習済みモデルを使う\n",
    "- Word2Vecを試してみる"
   ]
  },
  {
   "cell_type": "markdown",
   "id": "6add136c-971a-4048-b470-6329b65130cb",
   "metadata": {},
   "source": [
    "白ヤギコーポレーションの学習済みモデルを使ってみる\n",
    "\n",
    "https://aial.shiroyagi.co.jp/2017/02/japanese-word2vec-model-builder/\n",
    "http://public.shiroyagi.s3.amazonaws.com/latest-ja-word2vec-gensim-model.zip\n"
   ]
  },
  {
   "cell_type": "markdown",
   "id": "7fb6bdbd-88a8-4d80-b06a-f6adc5e67da3",
   "metadata": {},
   "source": [
    "gensimのインストール方法\n",
    "\n",
    "```\n",
    "pip install gensim==3.6.0\n",
    "```\n",
    "\n",
    "- gensimの最新4.0系ではこのモデルを使うことが出来ない\n",
    "- Python3.9ではwhl形式が準備されていないのでインストールが難しい\n",
    "- Google Colaboratoryには導入済み"
   ]
  },
  {
   "cell_type": "markdown",
   "id": "5c16fc6d-a61c-47b5-8a93-6bcf5de3f0b4",
   "metadata": {},
   "source": [
    "学習済みモデル\n",
    "\n",
    "- word2vec.gensim.model (約23MB) + 補助ファイル（約130MB）をダウンロードする必要がある。\n",
    "- 以下のコードではダウンロードして手元で実験できるようにしている（ダウンロードにそれなりに時間がかかる）\n"
   ]
  },
  {
   "cell_type": "code",
   "execution_count": 1,
   "id": "4d81df86-afd8-4e05-8fcf-6f8e28c67fc0",
   "metadata": {},
   "outputs": [],
   "source": [
    "from gensim.models import Word2Vec"
   ]
  },
  {
   "cell_type": "code",
   "execution_count": 2,
   "id": "4ce73b30-69f5-45f5-b975-e2ee644fe7d3",
   "metadata": {},
   "outputs": [],
   "source": [
    "# # 以下はモデルのダウンロードコード。何度も実行せずに必要な時だけ実行する\n",
    "\n",
    "# import urllib.request\n",
    "# import base64\n",
    "\n",
    "# url = \"https://hit-u-data-text-processing.herokuapp.com/data/word2vec.gensim.model\"\n",
    "# auth_str = base64.b64encode(b\"reader:hit-u\")\n",
    "# req = urllib.request.Request(url,\n",
    "#                             headers={\"Authorization\": \"Basic \" + auth_str.decode(\"utf-8\")})\n",
    "# with urllib.request.urlopen(req) as req:\n",
    "#     with open(\"word2vec.gensim.model\", \"wb\") as f:\n",
    "#         f.write(req.read())\n",
    "\n",
    "# url = \"https://hit-u-data-text-processing.herokuapp.com/data/word2vec.gensim.model.wv.syn0.npy\"\n",
    "# auth_str = base64.b64encode(b\"reader:hit-u\")\n",
    "# req = urllib.request.Request(url,\n",
    "#                             headers={\"Authorization\": \"Basic \" + auth_str.decode(\"utf-8\")})\n",
    "# with urllib.request.urlopen(req) as req:\n",
    "#     with open(\"word2vec.gensim.model.wv.syn0.npy\", \"wb\") as f:\n",
    "#         f.write(req.read())\n",
    "\n",
    "# url = \"https://hit-u-data-text-processing.herokuapp.com/data/word2vec.gensim.model.syn1neg.npy\"\n",
    "# auth_str = base64.b64encode(b\"reader:hit-u\")\n",
    "# req = urllib.request.Request(url,\n",
    "#                             headers={\"Authorization\": \"Basic \" + auth_str.decode(\"utf-8\")})\n",
    "# with urllib.request.urlopen(req) as req:\n",
    "#     with open(\"word2vec.gensim.model.syn1neg.npy\", \"wb\") as f:\n",
    "#         f.write(req.read())"
   ]
  },
  {
   "cell_type": "code",
   "execution_count": 3,
   "id": "66034492-fbe5-4ba3-a1e8-9d88c47aa65a",
   "metadata": {},
   "outputs": [],
   "source": [
    "model = Word2Vec.load(\"./word2vec.gensim.model\")"
   ]
  },
  {
   "cell_type": "code",
   "execution_count": 4,
   "id": "96a82876-8165-4681-8f72-4e7fd146b6b2",
   "metadata": {},
   "outputs": [
    {
     "data": {
      "text/plain": [
       "[('神戸大学', 0.9223874807357788),\n",
       " ('経済学部', 0.9040318131446838),\n",
       " ('東京都立大学', 0.9007365703582764),\n",
       " ('政治経済学部', 0.8842635154724121),\n",
       " ('慶應義塾大学', 0.8790801763534546),\n",
       " ('商学部', 0.8785971403121948),\n",
       " ('東京大学', 0.8784491419792175),\n",
       " ('中央大学', 0.8758930563926697),\n",
       " ('東京理科大学', 0.8681479692459106),\n",
       " ('東京女子大学', 0.8675746321678162)]"
      ]
     },
     "execution_count": 4,
     "metadata": {},
     "output_type": "execute_result"
    }
   ],
   "source": [
    "model.wv.most_similar(\"一橋大学\")"
   ]
  },
  {
   "cell_type": "code",
   "execution_count": 5,
   "id": "4a8823fd-94cb-417a-abd8-3cf9ebfdbd61",
   "metadata": {},
   "outputs": [
    {
     "data": {
      "text/plain": [
       "[('NEC', 0.9400014281272888),\n",
       " ('日本電気', 0.9163621068000793),\n",
       " ('日本IBM', 0.9006249308586121),\n",
       " ('京セラ', 0.8962324857711792),\n",
       " ('三洋電機', 0.8911879062652588),\n",
       " ('パナソニック', 0.884463369846344),\n",
       " ('東芝', 0.8787583112716675),\n",
       " ('セイコーエプソン', 0.8641902208328247),\n",
       " ('キヤノン', 0.8419579267501831),\n",
       " ('日立', 0.8399096131324768)]"
      ]
     },
     "execution_count": 5,
     "metadata": {},
     "output_type": "execute_result"
    }
   ],
   "source": [
    "model.wv.most_similar(\"富士通\")"
   ]
  },
  {
   "cell_type": "code",
   "execution_count": 6,
   "id": "42d76adf-bcf8-4065-8759-4f0c163e4dce",
   "metadata": {},
   "outputs": [
    {
     "data": {
      "text/plain": [
       "[('皇帝', 0.8153897523880005),\n",
       " ('大王', 0.8151323199272156),\n",
       " ('先王', 0.8067260980606079),\n",
       " ('女帝', 0.789979100227356),\n",
       " ('王子', 0.7833347916603088),\n",
       " ('カリフ', 0.7805764079093933),\n",
       " ('聖王', 0.7805600166320801),\n",
       " ('ローマ皇帝', 0.7782467603683472),\n",
       " ('君主', 0.7742472290992737),\n",
       " ('ファラオ', 0.7703578472137451)]"
      ]
     },
     "execution_count": 6,
     "metadata": {},
     "output_type": "execute_result"
    }
   ],
   "source": [
    "model.wv.most_similar(positive=[\"女性\", \"王\"], negative=[\"男性\"])"
   ]
  }
 ],
 "metadata": {
  "kernelspec": {
   "display_name": "Python 3 (ipykernel)",
   "language": "python",
   "name": "python3"
  },
  "language_info": {
   "codemirror_mode": {
    "name": "ipython",
    "version": 3
   },
   "file_extension": ".py",
   "mimetype": "text/x-python",
   "name": "python",
   "nbconvert_exporter": "python",
   "pygments_lexer": "ipython3",
   "version": "3.9.1"
  }
 },
 "nbformat": 4,
 "nbformat_minor": 5
}
