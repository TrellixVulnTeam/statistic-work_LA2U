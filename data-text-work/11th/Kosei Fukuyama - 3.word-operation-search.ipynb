{
 "cells": [
  {
   "cell_type": "markdown",
   "id": "6493d119-d64b-4f1e-bd10-3eebc92b5fcc",
   "metadata": {},
   "source": [
    "# 単語操作や全文検索"
   ]
  },
  {
   "cell_type": "markdown",
   "id": "24051700-45a6-4513-a15b-e3234a68de02",
   "metadata": {},
   "source": [
    "## 単語操作\n",
    "\n",
    "ここまで、単語操作として、Pythonの文字列メソッドで文字の置き換えなどを行いました。\n",
    "\n",
    "ここでは、正規表現について簡単に説明します。\n",
    "\n",
    "正規表現は汎用的な文字列操作として利用されます。ただし、考え方が複雑なので、一つのプログラミング言語を理解するよな難しさがあります。"
   ]
  },
  {
   "cell_type": "markdown",
   "id": "7bd89809-8028-489c-b102-685ee1fa38ba",
   "metadata": {},
   "source": [
    "### 正規表現の主な用途\n",
    "\n",
    "- 複雑な文字列のマッチするか\n",
    "- 複雑な文字列の置き換え\n",
    "- 文字列のフォーマット確認"
   ]
  },
  {
   "cell_type": "markdown",
   "id": "27c2d958-ec12-4dfc-995f-2f82c8fa69d8",
   "metadata": {},
   "source": [
    "### 正規表現の例\n",
    "\n",
    "- 文字列がURLか？ `http://` または `https://` から始まり その後の文字が「英数字、ドット、ハイフン」なのか\n",
    "- メールアドレスの `@` を _at_ に置き換える\n",
    "- 電話番号のフォーマットとして正しいかを確認"
   ]
  },
  {
   "cell_type": "code",
   "execution_count": 1,
   "id": "4b822b32-f1e3-4b7c-80d1-9c9315ed138e",
   "metadata": {},
   "outputs": [],
   "source": [
    "import re"
   ]
  },
  {
   "cell_type": "markdown",
   "id": "5faa506c-a6f8-4f1f-b52e-6ff37d2283dc",
   "metadata": {},
   "source": [
    "URL文字列か？"
   ]
  },
  {
   "cell_type": "code",
   "execution_count": 2,
   "id": "8bdb414c-6456-44e7-b846-01504f01de3a",
   "metadata": {},
   "outputs": [
    {
     "data": {
      "text/plain": [
       "<re.Match object; span=(0, 18), match='http://yahoo.co.jp'>"
      ]
     },
     "execution_count": 2,
     "metadata": {},
     "output_type": "execute_result"
    }
   ],
   "source": [
    "re.search(r\"^https?://\\w+[a-z1-9.\\-]+\\w$\", \"http://yahoo.co.jp\")"
   ]
  },
  {
   "cell_type": "code",
   "execution_count": 3,
   "id": "0ebd05f0-4353-4f63-adcc-5fd5c6ef0d42",
   "metadata": {},
   "outputs": [],
   "source": [
    "re.search(r\"^https?://\\w+[a-z1-9.\\-]+\\w$\", \"htt://hit-u.ac.jp\")"
   ]
  },
  {
   "cell_type": "markdown",
   "id": "8530446d-ab45-46b4-bc09-8b79e963d30d",
   "metadata": {},
   "source": [
    "https://jex.im/regulex/#!flags=&re=%5Ehttps%3F%3A%2F%2F%5Cw%2B%5Ba-z1-9.%5C-%5D%2B%5Cw%24"
   ]
  },
  {
   "cell_type": "markdown",
   "id": "4a2d6697-8c35-4652-8096-028de2d320a0",
   "metadata": {},
   "source": [
    "## 全文検索\n",
    "\n",
    "全文検索とは、文書に指定の単語が含まれている物を見つける\n",
    "\n",
    "- 網羅的に文書をすべて確認する\n",
    "- 転置インデックスを用いる"
   ]
  },
  {
   "cell_type": "markdown",
   "id": "61387973-4781-493a-8cc8-1943a78667ac",
   "metadata": {},
   "source": [
    "### 網羅的な確認\n",
    "\n",
    "- ブラウザでページ内に文字があるか？\n",
    "- PDF内の検索\n",
    "\n",
    "すべての文字を確認するので、コストが高い"
   ]
  },
  {
   "cell_type": "markdown",
   "id": "52601184-c36f-46a9-a39d-6d8dc4d7e39a",
   "metadata": {},
   "source": [
    "### 転置インデックスを用いる\n",
    "\n",
    "- 事前に、文書内に入っている単語を抜き出し、文書番号を付ける\n",
    "- 単語から文書番号の辞書に転換する　(転置)\n",
    "- 検索単語から上記の辞書を調べて、文書番号を知る"
   ]
  },
  {
   "cell_type": "markdown",
   "id": "c944eb08-f33a-47ad-a822-45dd2bd164e8",
   "metadata": {},
   "source": [
    "以下の3つの文書を例にする\n",
    "\n",
    "- 1: Pythonはソフトウエア\n",
    "- 2: ソフトウエアを使ってアプリを作る\n",
    "- 3: Pythonで検索エンジンを作る"
   ]
  },
  {
   "cell_type": "code",
   "execution_count": 4,
   "id": "37f34182-6f3d-4d29-8d88-a7375f32dade",
   "metadata": {},
   "outputs": [],
   "source": [
    "docs = {1: [\"Python\", \"ソフトウエア\"], \n",
    "        2: [\"ソフトウエア\", \"使う\", \"アプリ\", \"作る\"], \n",
    "        3: [\"Python\", \"検索\", \"エンジン\", \"作る\"]}"
   ]
  },
  {
   "cell_type": "code",
   "execution_count": 5,
   "id": "44969838-7051-44a3-8780-b1fb270058ef",
   "metadata": {},
   "outputs": [],
   "source": [
    "from collections import defaultdict\n",
    "index = defaultdict(set)\n",
    "for doc_id, words in docs.items():\n",
    "    for word in words:\n",
    "        index[word].add(doc_id) "
   ]
  },
  {
   "cell_type": "code",
   "execution_count": 6,
   "id": "badb5dbf-7503-4f25-9d50-bdb202b15719",
   "metadata": {},
   "outputs": [
    {
     "data": {
      "text/plain": [
       "defaultdict(set,\n",
       "            {'Python': {1, 3},\n",
       "             'ソフトウエア': {1, 2},\n",
       "             '使う': {2},\n",
       "             'アプリ': {2},\n",
       "             '作る': {2, 3},\n",
       "             '検索': {3},\n",
       "             'エンジン': {3}})"
      ]
     },
     "execution_count": 6,
     "metadata": {},
     "output_type": "execute_result"
    }
   ],
   "source": [
    "index"
   ]
  },
  {
   "cell_type": "code",
   "execution_count": 7,
   "id": "7fd2b7e1-1034-4244-a862-84dd6ce13f9b",
   "metadata": {},
   "outputs": [
    {
     "data": {
      "text/plain": [
       "{2}"
      ]
     },
     "execution_count": 7,
     "metadata": {},
     "output_type": "execute_result"
    }
   ],
   "source": [
    "index.get(\"使う\")"
   ]
  },
  {
   "cell_type": "code",
   "execution_count": 8,
   "id": "60cb3b26-8e42-48d3-aefc-044d24d4b2ba",
   "metadata": {},
   "outputs": [
    {
     "data": {
      "text/plain": [
       "{1, 3}"
      ]
     },
     "execution_count": 8,
     "metadata": {},
     "output_type": "execute_result"
    }
   ],
   "source": [
    "index.get(\"Python\")"
   ]
  }
 ],
 "metadata": {
  "kernelspec": {
   "display_name": "Python 3 (ipykernel)",
   "language": "python",
   "name": "python3"
  },
  "language_info": {
   "codemirror_mode": {
    "name": "ipython",
    "version": 3
   },
   "file_extension": ".py",
   "mimetype": "text/x-python",
   "name": "python",
   "nbconvert_exporter": "python",
   "pygments_lexer": "ipython3",
   "version": "3.9.1"
  }
 },
 "nbformat": 4,
 "nbformat_minor": 5
}
