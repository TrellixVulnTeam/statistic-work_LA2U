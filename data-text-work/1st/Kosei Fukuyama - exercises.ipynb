{
 "cells": [
  {
   "cell_type": "markdown",
   "metadata": {},
   "source": [
    "### 練習問題: Python基礎構文"
   ]
  },
  {
   "cell_type": "markdown",
   "metadata": {},
   "source": [
    "#### Q1\n",
    "\n",
    "次の式を満たす関数`f`を作成してください\n",
    "\n",
    "$$f(x) = x^3 + 2x + 1$$"
   ]
  },
  {
   "cell_type": "code",
   "execution_count": 5,
   "metadata": {},
   "outputs": [],
   "source": [
    "# 解答セル\n",
    "\n",
    "def f(x):\n",
    "    return"
   ]
  },
  {
   "cell_type": "code",
   "execution_count": null,
   "metadata": {},
   "outputs": [],
   "source": [
    "# 確認セル\n",
    "\n",
    "assert f(1) == 4\n",
    "assert f(10) == 1021\n",
    "assert f(2.5) == 21.625\n",
    "assert f(-4) == -71"
   ]
  },
  {
   "cell_type": "markdown",
   "metadata": {},
   "source": [
    "#### Q2\n",
    "\n",
    "半径`x`の面積を次の形式の文字列で返す関数`area_of_a_circle`を作成してください、円周率は`3.14`とします\n",
    "\n",
    "\n",
    "x = 1の場合:\n",
    "\n",
    "`半径1の面積は3.14です`"
   ]
  },
  {
   "cell_type": "code",
   "execution_count": null,
   "metadata": {},
   "outputs": [],
   "source": [
    "# 解答セル\n",
    "\n",
    "def area_of_a_circle(x):\n",
    "    return"
   ]
  },
  {
   "cell_type": "code",
   "execution_count": null,
   "metadata": {},
   "outputs": [],
   "source": [
    "# 確認セル\n",
    "\n",
    "assert area_of_a_circle(1) == \"半径1の面積は3.14です\"\n",
    "assert area_of_a_circle(5) == \"半径5の面積は78.5です\"\n",
    "assert area_of_a_circle(10) == \"半径10の面積は314.0です\""
   ]
  },
  {
   "cell_type": "markdown",
   "metadata": {},
   "source": [
    "#### Q3\n",
    "\n",
    "偶数の場合に`True`奇数の場合に`False`を返す関数`is_odd`を作成してください"
   ]
  },
  {
   "cell_type": "code",
   "execution_count": null,
   "metadata": {},
   "outputs": [],
   "source": [
    "# 解答セル\n",
    "\n",
    "def is_even(x):\n",
    "    return"
   ]
  },
  {
   "cell_type": "code",
   "execution_count": null,
   "metadata": {},
   "outputs": [],
   "source": [
    "# 確認セル\n",
    "\n",
    "assert is_even(2) == True\n",
    "assert is_even(4) == True\n",
    "assert is_even(12) == True\n",
    "assert is_even(1) == False\n",
    "assert is_even(3) == False\n",
    "assert is_even(13) == False"
   ]
  },
  {
   "cell_type": "markdown",
   "metadata": {},
   "source": [
    "#### Q3\n",
    "\n",
    "奇数の場合に`True`偶数の場合に`False`を返す関数`is_odd`を作成してください"
   ]
  },
  {
   "cell_type": "code",
   "execution_count": null,
   "metadata": {},
   "outputs": [],
   "source": [
    "# 解答セル\n",
    "\n",
    "def is_odd(x):\n",
    "    return"
   ]
  },
  {
   "cell_type": "code",
   "execution_count": null,
   "metadata": {},
   "outputs": [],
   "source": [
    "# 確認セル\n",
    "\n",
    "assert is_odd(2) == False\n",
    "assert is_odd(4) == False\n",
    "assert is_odd(12) == False\n",
    "assert is_odd(1) == True\n",
    "assert is_odd(3) == True\n",
    "assert is_odd(13) == True"
   ]
  },
  {
   "cell_type": "markdown",
   "metadata": {},
   "source": [
    "#### Q4\n",
    "\n",
    "奇数または4の倍数である場合は`True`、それ以外には`False`を返す関数`odd_multiple_of_four`を作成してください"
   ]
  },
  {
   "cell_type": "code",
   "execution_count": null,
   "metadata": {},
   "outputs": [],
   "source": [
    "# 解答セル\n",
    "\n",
    "def odd_multiple_of_four(x):\n",
    "    return"
   ]
  },
  {
   "cell_type": "code",
   "execution_count": null,
   "metadata": {},
   "outputs": [],
   "source": [
    "# 確認セル\n",
    "\n",
    "assert odd_multiple_of_four(2) == False\n",
    "assert odd_multiple_of_four(3) == True\n",
    "assert odd_multiple_of_four(4) == True\n",
    "assert odd_multiple_of_four(5) == True\n",
    "assert odd_multiple_of_four(6) == False\n",
    "assert odd_multiple_of_four(8) == True"
   ]
  },
  {
   "cell_type": "markdown",
   "metadata": {},
   "source": [
    "#### Q5\n",
    "\n",
    "次のすべての条件を満たす場合には`True`、それ以外には`False`を返す関数`ten_gt_hundred_even`を作成してください\n",
    "\n",
    "1. 10より大きい\n",
    "2. 100以下\n",
    "3. 偶数"
   ]
  },
  {
   "cell_type": "code",
   "execution_count": null,
   "metadata": {},
   "outputs": [],
   "source": [
    "# 解答セル\n",
    "\n",
    "def ten_gt_hundred_even(x):\n",
    "    return"
   ]
  },
  {
   "cell_type": "code",
   "execution_count": null,
   "metadata": {},
   "outputs": [],
   "source": [
    "# 確認セル\n",
    "\n",
    "assert ten_gt_hundred_even(8) == False\n",
    "assert ten_gt_hundred_even(10) == False\n",
    "assert ten_gt_hundred_even(15) == False\n",
    "assert ten_gt_hundred_even(26) == True\n",
    "assert ten_gt_hundred_even(98) == True\n",
    "assert ten_gt_hundred_even(99) == False\n",
    "assert ten_gt_hundred_even(100) == True\n",
    "assert ten_gt_hundred_even(102) == False"
   ]
  },
  {
   "cell_type": "markdown",
   "metadata": {},
   "source": [
    "#### Q6\n",
    "\n",
    "3桁以上の自然数を引数`x`に渡した百の位（下３桁目）の数値を返す関数`last_three_digit`を作成してください"
   ]
  },
  {
   "cell_type": "code",
   "execution_count": null,
   "metadata": {},
   "outputs": [],
   "source": [
    "# 解答セル\n",
    "\n",
    "def last_three_digit(x):\n",
    "    return x"
   ]
  },
  {
   "cell_type": "code",
   "execution_count": null,
   "metadata": {},
   "outputs": [],
   "source": [
    "# 確認セル\n",
    "\n",
    "assert last_three_digit(200) == 2\n",
    "assert last_three_digit(10512) == 5\n",
    "assert last_three_digit(333) == 3\n",
    "assert last_three_digit(111222333444) == 4"
   ]
  }
 ],
 "metadata": {
  "kernelspec": {
   "display_name": "Python 3",
   "language": "python",
   "name": "python3"
  },
  "language_info": {
   "codemirror_mode": {
    "name": "ipython",
    "version": 3
   },
   "file_extension": ".py",
   "mimetype": "text/x-python",
   "name": "python",
   "nbconvert_exporter": "python",
   "pygments_lexer": "ipython3",
   "version": "3.9.6"
  }
 },
 "nbformat": 4,
 "nbformat_minor": 4
}
