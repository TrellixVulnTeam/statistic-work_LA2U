{
 "cells": [
  {
   "cell_type": "markdown",
   "metadata": {},
   "source": [
    "# class構文の使い方とclassの使い方"
   ]
  },
  {
   "cell_type": "markdown",
   "metadata": {},
   "source": [
    "新たなデータ型を作ることができます。データ型を作るとういうのは、オブジェクトの雛形であるclassを作るということになります。\n",
    "\n",
    "ここでは、class構文を使った、オブジェクトの雛形を作ることと、その雛形を実際のオブジェクトにするclassの使い方について説明します。"
   ]
  },
  {
   "cell_type": "markdown",
   "metadata": {},
   "source": [
    "## class構文\n",
    "\n",
    "雛形を作るには、キーワード `class` を使って定義します。\n",
    "\n",
    "```python\n",
    "class クラス名:\n",
    "    属性の定義やメソッドの定義\n",
    "```\n",
    "\n",
    "属性やメソッドを定義するには、classのブロック内に、属性の場合は変数のように、メソッドの場合は関数のように定義します。\n",
    "\n",
    "```python\n",
    "class クラス名:\n",
    "    属性 = 値\n",
    "    \n",
    "    def メソッド名(self):\n",
    "        メソッドの処理など\n",
    "```\n",
    "\n",
    "ここで、メソッドの第一引数に `self` というものが登場しました。selfはclassがインスタンス化されたそのものです。\n",
    "\n",
    "言葉だけではわかりにくいと思いますので、実際にclassを定義して使っていくところで見ていきましょう。"
   ]
  },
  {
   "cell_type": "markdown",
   "metadata": {},
   "source": [
    "## classを実際に使う\n",
    "\n",
    "使うとは、オブジェクトとして扱い、データを保持したりして使っていくとです。これを `インスタンス化` するといいます。\n",
    "\n",
    "インスタンス化は、クラス名を `()` 付きで呼び出します。\n",
    "\n",
    "こちらも具体的に見ていきましょう。"
   ]
  },
  {
   "cell_type": "markdown",
   "metadata": {},
   "source": [
    "## ユーザを表すclassを定義\n",
    "\n",
    "このclassには、以下の属性を持っています。\n",
    "\n",
    "- name: 名前を表す文字列\n",
    "- age: 年齢を表す整数\n",
    "- addresss: 住所を表す文字列\n",
    "\n",
    "このclassには、以下のメソッドが宣言されています。\n",
    "\n",
    "- set_props: name, age, addressの各属性にデータを設定するためのメソッド\n",
    "- increment_age: 年齢を一つ増やすメソッド\n",
    "- start_name: nameの1文字目を取り出すメソッド"
   ]
  },
  {
   "cell_type": "code",
   "execution_count": 1,
   "metadata": {},
   "outputs": [],
   "source": [
    "class User:\n",
    "    name = None\n",
    "    age = None\n",
    "    address = None\n",
    "\n",
    "    def set_props(self, name, age, address):\n",
    "        self.name = name\n",
    "        self.age = age\n",
    "        self.address = address\n",
    "\n",
    "    def increment_age(self):\n",
    "        if self.age is not None:\n",
    "            self.age += 1\n",
    "        else:\n",
    "            print(\"No age\")\n",
    "\n",
    "    def start_name(self):\n",
    "        if self.name is not None and len(self.name) > 0:\n",
    "            return self.name[0]\n",
    "        else:\n",
    "            return None"
   ]
  },
  {
   "cell_type": "markdown",
   "metadata": {},
   "source": [
    "実装内容\n",
    "\n",
    "- 各属性をNoneで定義\n",
    "- 各メソッドをdefを使って定義\n",
    "- 第一引数にselfを用いる\n",
    "- メソッド内で、属性を書き換えたり、属性を呼び出したりしています。"
   ]
  },
  {
   "cell_type": "markdown",
   "metadata": {},
   "source": [
    "## インスタンス化\n",
    "\n",
    "雛形である、Userクラスを定義しました。これを使うために、インスタンス化して使っていきます。\n",
    "\n",
    "使い方は、クラス名に `()` を付けて呼び出します。これにより、新たなオブジェクト(インスタンス)が生成されます。"
   ]
  },
  {
   "cell_type": "code",
   "execution_count": 2,
   "metadata": {},
   "outputs": [],
   "source": [
    "user1 = User()"
   ]
  },
  {
   "cell_type": "code",
   "execution_count": 3,
   "metadata": {},
   "outputs": [
    {
     "data": {
      "text/plain": [
       "__main__.User"
      ]
     },
     "execution_count": 3,
     "metadata": {},
     "output_type": "execute_result"
    }
   ],
   "source": [
    "type(user1)"
   ]
  },
  {
   "cell_type": "code",
   "execution_count": 4,
   "metadata": {},
   "outputs": [
    {
     "name": "stdout",
     "output_type": "stream",
     "text": [
      "None\n"
     ]
    }
   ],
   "source": [
    "print(user1.name)"
   ]
  },
  {
   "cell_type": "code",
   "execution_count": 5,
   "metadata": {},
   "outputs": [],
   "source": [
    "user1.set_props(\"寺田学\", 35, \"東京都台東区\")"
   ]
  },
  {
   "cell_type": "code",
   "execution_count": 6,
   "metadata": {},
   "outputs": [
    {
     "name": "stdout",
     "output_type": "stream",
     "text": [
      "寺田学\n"
     ]
    }
   ],
   "source": [
    "print(user1.name)"
   ]
  },
  {
   "cell_type": "code",
   "execution_count": 7,
   "metadata": {},
   "outputs": [
    {
     "data": {
      "text/plain": [
       "35"
      ]
     },
     "execution_count": 7,
     "metadata": {},
     "output_type": "execute_result"
    }
   ],
   "source": [
    "user1.age"
   ]
  },
  {
   "cell_type": "code",
   "execution_count": 8,
   "metadata": {},
   "outputs": [],
   "source": [
    "user1.increment_age()"
   ]
  },
  {
   "cell_type": "code",
   "execution_count": 9,
   "metadata": {},
   "outputs": [
    {
     "data": {
      "text/plain": [
       "36"
      ]
     },
     "execution_count": 9,
     "metadata": {},
     "output_type": "execute_result"
    }
   ],
   "source": [
    "user1.age"
   ]
  },
  {
   "cell_type": "code",
   "execution_count": 10,
   "metadata": {},
   "outputs": [],
   "source": [
    "user1.increment_age()"
   ]
  },
  {
   "cell_type": "code",
   "execution_count": 11,
   "metadata": {},
   "outputs": [
    {
     "data": {
      "text/plain": [
       "37"
      ]
     },
     "execution_count": 11,
     "metadata": {},
     "output_type": "execute_result"
    }
   ],
   "source": [
    "user1.age"
   ]
  },
  {
   "cell_type": "code",
   "execution_count": 12,
   "metadata": {},
   "outputs": [
    {
     "data": {
      "text/plain": [
       "'寺'"
      ]
     },
     "execution_count": 12,
     "metadata": {},
     "output_type": "execute_result"
    }
   ],
   "source": [
    "user1.start_name()"
   ]
  },
  {
   "cell_type": "code",
   "execution_count": 13,
   "metadata": {},
   "outputs": [],
   "source": [
    "user2 = User()  #  新たなオブジェクトを定義します"
   ]
  },
  {
   "cell_type": "code",
   "execution_count": 14,
   "metadata": {},
   "outputs": [],
   "source": [
    "user2.set_props(\"辻真吾\", 30, \"東京都世田谷区\")"
   ]
  },
  {
   "cell_type": "code",
   "execution_count": 15,
   "metadata": {},
   "outputs": [
    {
     "data": {
      "text/plain": [
       "'辻'"
      ]
     },
     "execution_count": 15,
     "metadata": {},
     "output_type": "execute_result"
    }
   ],
   "source": [
    "user2.start_name()"
   ]
  },
  {
   "cell_type": "code",
   "execution_count": 16,
   "metadata": {},
   "outputs": [
    {
     "data": {
      "text/plain": [
       "'寺'"
      ]
     },
     "execution_count": 16,
     "metadata": {},
     "output_type": "execute_result"
    }
   ],
   "source": [
    "user1.start_name()"
   ]
  },
  {
   "cell_type": "markdown",
   "metadata": {},
   "source": [
    "このように、雛形であるUserクラスに対して、実態であるインスタンスが2つ生成されました。これら、user1とuser2は同じデータ型ですが別のオブジェクトになっています。"
   ]
  },
  {
   "cell_type": "markdown",
   "metadata": {},
   "source": [
    "ここで、selfについて確認していきましょう。\n",
    "\n",
    "メソッドの第一引数にselfを宣言しています。ただ、実際にメソッドを呼び出すときにはselfを書きませんでした。それ以外の引数のみを実引数に入れています。\n",
    "\n",
    "これはどういうことでしょうか？　さらには、このselfってなんでしょうか？"
   ]
  },
  {
   "cell_type": "markdown",
   "metadata": {},
   "source": [
    "### self\n",
    "\n",
    "selfというものは、慣例として使われている名前です。Pythonでは別の名称でも問題ありません。ただ、わかりやすくするために、メソッドの第一引数はselfとすることにしています。\n",
    "\n",
    "メソッドの第一引数に宣言するselfは、インスタンスを表します。\n",
    "\n",
    "また、メソッド呼び出しのときには、暗黙的に第一引数にインスタンスが渡され、それ以降の引数を実引数として渡します。\n",
    "\n",
    "では、インスタンス自体とはどういう意味でしょうか？\n",
    "\n",
    "前のコードで生成した `user1` のインスタンスを例に説明します。 `def start_name(self):` の `self` には `user1` が入ります。 `self.name` にはインスタンス生成時には `None` 、 `set_props` メソッド実行時には設定された値( \"寺田学\" )が保持されます。\n",
    "\n"
   ]
  }
 ],
 "metadata": {
  "kernelspec": {
   "display_name": "Python 3",
   "language": "python",
   "name": "python3"
  },
  "language_info": {
   "codemirror_mode": {
    "name": "ipython",
    "version": 3
   },
   "file_extension": ".py",
   "mimetype": "text/x-python",
   "name": "python",
   "nbconvert_exporter": "python",
   "pygments_lexer": "ipython3",
   "version": "3.9.0"
  }
 },
 "nbformat": 4,
 "nbformat_minor": 4
}
