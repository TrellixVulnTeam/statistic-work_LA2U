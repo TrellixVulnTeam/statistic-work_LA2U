{
 "cells": [
  {
   "cell_type": "markdown",
   "metadata": {},
   "source": [
    "# オブジェクト指向とは"
   ]
  },
  {
   "cell_type": "markdown",
   "metadata": {},
   "source": [
    "オブジェクト指向は、プログラミングパラダイムの一つです。\n",
    "\n",
    "主なプログラミングパラダイムには以下のようなものがあります。\n",
    "\n",
    "- オブジェクト指向プログラミング\n",
    "- 手続き型プログラミング\n",
    "- 関数型プログラミング"
   ]
  },
  {
   "cell_type": "markdown",
   "metadata": {},
   "source": [
    "Pythonはマルチパラダイムプログラミング言語と言われていて、これらのパラダイムに概ね対応しています。また、オブジェクト指向プログラミングをサポートしているプログラミング言語は多数存在します。ここでは、オブジェクト指向について解説します。"
   ]
  },
  {
   "cell_type": "markdown",
   "metadata": {},
   "source": [
    "ここで扱う内容は、以下のとおりです。\n",
    "\n",
    "- オブジェクトという考え方\n",
    "- 独自のオブジェクトを定義できる\n",
    "- オブジェクトを拡張できる"
   ]
  },
  {
   "cell_type": "markdown",
   "metadata": {},
   "source": [
    "## オブジェクトという考え方\n",
    "\n",
    "データ型はオブジェクトとなります。クラス(データ型)の定義と定義されたクラスから、インスタンス(オブジェクト)の生成ができます。\n",
    "\n",
    "オブジェクトは、データと振る舞いを一つのまとまりとして扱います。\n",
    "\n",
    "この「まとまり」を、 `オブジェクト` と呼びます。"
   ]
  },
  {
   "cell_type": "markdown",
   "metadata": {},
   "source": [
    "#### Pythonの例\n",
    "\n",
    "文字列型の `\"Tokyo\"` というものを考えます。\n",
    "\n",
    "すでに学んだ通り、Pythonでは、 `pref = \"Tokyo\"` と 変数 `pref` に ダブルクオーテーションで囲った `Tokyo` を `文字列(str)型` として扱い変数に代入します。"
   ]
  },
  {
   "cell_type": "code",
   "execution_count": 1,
   "metadata": {},
   "outputs": [],
   "source": [
    "pref = \"Tokyo\""
   ]
  },
  {
   "cell_type": "code",
   "execution_count": 2,
   "metadata": {},
   "outputs": [
    {
     "data": {
      "text/plain": [
       "str"
      ]
     },
     "execution_count": 2,
     "metadata": {},
     "output_type": "execute_result"
    }
   ],
   "source": [
    "type(pref)"
   ]
  },
  {
   "cell_type": "markdown",
   "metadata": {},
   "source": [
    "変数 `pref` は、文字列型のオブジェクトになっています。\n",
    "\n",
    "この `pref` は、データとして、 `Tokyo` という物を保持しています。これが、オブジェクトがデータを持っているというい意味になります。"
   ]
  },
  {
   "cell_type": "markdown",
   "metadata": {},
   "source": [
    "次に振る舞いです。文字列型のオブジェクトには、 `upper` という振る舞い(メソッド)を持っています。このメソッドは、文字列を大文字に変換したものを返すメソッドです。"
   ]
  },
  {
   "cell_type": "code",
   "execution_count": 3,
   "metadata": {},
   "outputs": [
    {
     "data": {
      "text/plain": [
       "'TOKYO'"
      ]
     },
     "execution_count": 3,
     "metadata": {},
     "output_type": "execute_result"
    }
   ],
   "source": [
    "pref.upper()"
   ]
  },
  {
   "cell_type": "markdown",
   "metadata": {},
   "source": [
    "このメソッドは、内部のデータを破壊しないので、変数prefの値は変わっていません。このことは追って説明していきます。"
   ]
  },
  {
   "cell_type": "code",
   "execution_count": 4,
   "metadata": {},
   "outputs": [
    {
     "data": {
      "text/plain": [
       "'Tokyo'"
      ]
     },
     "execution_count": 4,
     "metadata": {},
     "output_type": "execute_result"
    }
   ],
   "source": [
    "pref"
   ]
  },
  {
   "cell_type": "markdown",
   "metadata": {},
   "source": [
    "ここまで見てきたように、オブジェクトはデータと振る舞いを持っています。"
   ]
  },
  {
   "cell_type": "markdown",
   "metadata": {},
   "source": [
    "## 独自のオブジェクトを定義できる\n",
    "\n",
    "オブジェクト指向プログラミングおいて、独自のオブジェクトを定義することができます。\n",
    "\n",
    "独自の雛形を定義しておき、オブジェクト生成(インスタンス化)すると、好みなデータ型としてのデータの保持方法や振る舞いを持ったオブジェクトを作ることができます。データを意識せずに主に振る舞いをまとめるためのオブジェクトを作ることも可能です。"
   ]
  },
  {
   "cell_type": "markdown",
   "metadata": {},
   "source": [
    "## オブジェクトを拡張できる\n",
    "\n",
    "オブジェクト指向の特徴として、継承を用いたオブジェクトの拡張を行うことができます。\n",
    "\n",
    "独自に定義した雛形を拡張し、独自の拡張されたオブジェクトを作ることができます。既存のデータ型を拡張できる場合もあります。Pythonにおいては組み込み型や標準ライブラリのデータ型を拡張することも可能です。\n"
   ]
  }
 ],
 "metadata": {
  "kernelspec": {
   "display_name": "Python 3",
   "language": "python",
   "name": "python3"
  },
  "language_info": {
   "codemirror_mode": {
    "name": "ipython",
    "version": 3
   },
   "file_extension": ".py",
   "mimetype": "text/x-python",
   "name": "python",
   "nbconvert_exporter": "python",
   "pygments_lexer": "ipython3",
   "version": "3.9.0"
  }
 },
 "nbformat": 4,
 "nbformat_minor": 4
}
