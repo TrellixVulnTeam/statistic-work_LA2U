{
 "cells": [
  {
   "cell_type": "markdown",
   "metadata": {},
   "source": [
    "## Python標準ライブラリ"
   ]
  },
  {
   "cell_type": "markdown",
   "metadata": {},
   "source": [
    "Pythonにはさまざまな用途に対応したモジュールが用意されています。このPythonに予め組み込まれているモジュールを「標準ライブラリ」と呼びます。\n",
    "\n",
    "標準ライブラリは [公式ドキュメント](https://docs.python.org/ja/3/library/index.html) に記されているとおり、多くのモジュールが提供されています。本節ではデータサイエンスなどでよく使われる標準ライブラリの概要と使い方を紹介します。"
   ]
  },
  {
   "cell_type": "markdown",
   "metadata": {},
   "source": [
    "### [datetime --- 基本的な日付型および時間型](https://docs.python.org/ja/3/library/datetime.html)\n",
    "\n",
    "datetime モジュールは、日付や時刻を操作するためのクラスを提供しています。\n",
    "\n",
    "日付や時刻に対する算術がサポートされている一方、実装では出力のフォーマットや操作のための効率的な属性の抽出に重点を置いています。"
   ]
  },
  {
   "cell_type": "code",
   "execution_count": 1,
   "metadata": {},
   "outputs": [],
   "source": [
    "import datetime"
   ]
  },
  {
   "cell_type": "markdown",
   "metadata": {},
   "source": [
    "#### datetime\n",
    "\n",
    "日付と時刻を組み合わせたものです。 属性は `year` , `month` , `day` , `hour` , `minute` , `second` , `microsecond` , および `tzinfo` です。"
   ]
  },
  {
   "cell_type": "code",
   "execution_count": 2,
   "metadata": {},
   "outputs": [
    {
     "data": {
      "text/plain": [
       "datetime.datetime(2020, 11, 18, 0, 0)"
      ]
     },
     "execution_count": 2,
     "metadata": {},
     "output_type": "execute_result"
    }
   ],
   "source": [
    "dt = datetime.datetime(2020, 11, 18)\n",
    "dt"
   ]
  },
  {
   "cell_type": "code",
   "execution_count": 3,
   "metadata": {},
   "outputs": [
    {
     "data": {
      "text/plain": [
       "2020"
      ]
     },
     "execution_count": 3,
     "metadata": {},
     "output_type": "execute_result"
    }
   ],
   "source": [
    "dt.year"
   ]
  },
  {
   "cell_type": "markdown",
   "metadata": {},
   "source": [
    "datetime型を文字列に変換するには `strftime` メソッドまたはfリテラルを利用します。"
   ]
  },
  {
   "cell_type": "code",
   "execution_count": 4,
   "metadata": {},
   "outputs": [
    {
     "data": {
      "text/plain": [
       "'寺田さんの誕生日は2020年11月18日です'"
      ]
     },
     "execution_count": 4,
     "metadata": {},
     "output_type": "execute_result"
    }
   ],
   "source": [
    "\"寺田さんの誕生日は\" + dt.strftime(\"%Y年%m月%d日\") + \"です\""
   ]
  },
  {
   "cell_type": "code",
   "execution_count": 5,
   "metadata": {},
   "outputs": [
    {
     "data": {
      "text/plain": [
       "'寺田さんの誕生日は2020年11月18日です'"
      ]
     },
     "execution_count": 5,
     "metadata": {},
     "output_type": "execute_result"
    }
   ],
   "source": [
    "f\"寺田さんの誕生日は{dt:%Y年%m月%d日です}\""
   ]
  },
  {
   "cell_type": "markdown",
   "metadata": {},
   "source": [
    "#### timedelta\n",
    "\n",
    "`date` , `time` , あるいは `datetime` クラスの二つのインスタンス間の時間差をマイクロ秒精度で表す経過時間値です。"
   ]
  },
  {
   "cell_type": "code",
   "execution_count": 6,
   "metadata": {},
   "outputs": [
    {
     "data": {
      "text/plain": [
       "datetime.datetime(2020, 11, 19, 2, 0)"
      ]
     },
     "execution_count": 6,
     "metadata": {},
     "output_type": "execute_result"
    }
   ],
   "source": [
    "dt + datetime.timedelta(days=1, hours=2)"
   ]
  },
  {
   "cell_type": "markdown",
   "metadata": {},
   "source": [
    "### [math --- 数学関数](https://docs.python.org/ja/3/library/math.html)\n",
    "\n",
    "`math` モジュールは、 C標準で提供された数学関数へのアクセスを提供します。"
   ]
  },
  {
   "cell_type": "code",
   "execution_count": 7,
   "metadata": {},
   "outputs": [],
   "source": [
    "import math"
   ]
  },
  {
   "cell_type": "markdown",
   "metadata": {},
   "source": [
    "#### math.log(x[, base])\n",
    "\n",
    "引数が1つの場合、`x` の (e を底とする)自然対数を返します。\n",
    "\n",
    "引数が2つの場合、log(x)/log(base) として求められる `base` を底とした `x` の対数を返します。"
   ]
  },
  {
   "cell_type": "code",
   "execution_count": 8,
   "metadata": {},
   "outputs": [
    {
     "data": {
      "text/plain": [
       "2.302585092994046"
      ]
     },
     "execution_count": 8,
     "metadata": {},
     "output_type": "execute_result"
    }
   ],
   "source": [
    "math.log(10)"
   ]
  },
  {
   "cell_type": "markdown",
   "metadata": {},
   "source": [
    "#### math.pi\n",
    "\n",
    "利用可能なだけの精度の数学定数 π = 3.141592... (円周率)。"
   ]
  },
  {
   "cell_type": "code",
   "execution_count": 9,
   "metadata": {},
   "outputs": [
    {
     "data": {
      "text/plain": [
       "3.141592653589793"
      ]
     },
     "execution_count": 9,
     "metadata": {},
     "output_type": "execute_result"
    }
   ],
   "source": [
    "math.pi"
   ]
  },
  {
   "cell_type": "markdown",
   "metadata": {},
   "source": [
    "#### math.e\n",
    "\n",
    "利用可能なだけの精度の数学定数 e = 2.718281... (自然対数の底)。"
   ]
  },
  {
   "cell_type": "code",
   "execution_count": 10,
   "metadata": {},
   "outputs": [
    {
     "data": {
      "text/plain": [
       "2.718281828459045"
      ]
     },
     "execution_count": 10,
     "metadata": {},
     "output_type": "execute_result"
    }
   ],
   "source": [
    "math.e"
   ]
  },
  {
   "cell_type": "markdown",
   "metadata": {},
   "source": [
    "#### math.sin(x)\n",
    "\n",
    "x ラジアンの正弦を返します。"
   ]
  },
  {
   "cell_type": "code",
   "execution_count": 11,
   "metadata": {},
   "outputs": [
    {
     "data": {
      "text/plain": [
       "1.0"
      ]
     },
     "execution_count": 11,
     "metadata": {},
     "output_type": "execute_result"
    }
   ],
   "source": [
    "math.sin(math.pi * 0.5)"
   ]
  },
  {
   "cell_type": "markdown",
   "metadata": {},
   "source": [
    "### [itertools --- 効率的なループ実行のためのイテレータ生成関数](https://docs.python.org/ja/3/library/itertools.html)\n",
    "\n",
    "このモジュールは イテレータ を構築する部品を実装しています。高速でメモリ効率に優れ、単独でも組合せても使用することのできるツールを標準化したものです。"
   ]
  },
  {
   "cell_type": "code",
   "execution_count": 12,
   "metadata": {},
   "outputs": [],
   "source": [
    "import itertools"
   ]
  },
  {
   "cell_type": "markdown",
   "metadata": {},
   "source": [
    "例として、次の文字の組み合わせをネストした `for` 文で作成してみます。"
   ]
  },
  {
   "cell_type": "code",
   "execution_count": 13,
   "metadata": {},
   "outputs": [],
   "source": [
    "data1, data2, data3, data4 = \"ab\", \"AB\", \"xy\", \"XY\""
   ]
  },
  {
   "cell_type": "code",
   "execution_count": 14,
   "metadata": {},
   "outputs": [
    {
     "name": "stdout",
     "output_type": "stream",
     "text": [
      "('a', 'A', 'x', 'X')\n",
      "('a', 'A', 'x', 'Y')\n",
      "('a', 'A', 'y', 'X')\n",
      "('a', 'A', 'y', 'Y')\n",
      "('a', 'B', 'x', 'X')\n",
      "('a', 'B', 'x', 'Y')\n",
      "('a', 'B', 'y', 'X')\n",
      "('a', 'B', 'y', 'Y')\n",
      "('b', 'A', 'x', 'X')\n",
      "('b', 'A', 'x', 'Y')\n",
      "('b', 'A', 'y', 'X')\n",
      "('b', 'A', 'y', 'Y')\n",
      "('b', 'B', 'x', 'X')\n",
      "('b', 'B', 'x', 'Y')\n",
      "('b', 'B', 'y', 'X')\n",
      "('b', 'B', 'y', 'Y')\n"
     ]
    }
   ],
   "source": [
    "for d1 in data1:\n",
    "    for d2 in data2:\n",
    "        for d3 in data3:\n",
    "            for d4 in data4:\n",
    "                print((d1, d2, d3, d4))"
   ]
  },
  {
   "cell_type": "markdown",
   "metadata": {},
   "source": [
    "`product` 関数では組み合わせ(デカルト積)を作成するオブジェクトを生成します。実際の実装ではメモリ中に中間結果を作りません。"
   ]
  },
  {
   "cell_type": "code",
   "execution_count": 15,
   "metadata": {},
   "outputs": [
    {
     "name": "stdout",
     "output_type": "stream",
     "text": [
      "('a', 'A', 'x', 'X')\n",
      "('a', 'A', 'x', 'Y')\n",
      "('a', 'A', 'y', 'X')\n",
      "('a', 'A', 'y', 'Y')\n",
      "('a', 'B', 'x', 'X')\n",
      "('a', 'B', 'x', 'Y')\n",
      "('a', 'B', 'y', 'X')\n",
      "('a', 'B', 'y', 'Y')\n",
      "('b', 'A', 'x', 'X')\n",
      "('b', 'A', 'x', 'Y')\n",
      "('b', 'A', 'y', 'X')\n",
      "('b', 'A', 'y', 'Y')\n",
      "('b', 'B', 'x', 'X')\n",
      "('b', 'B', 'x', 'Y')\n",
      "('b', 'B', 'y', 'X')\n",
      "('b', 'B', 'y', 'Y')\n"
     ]
    }
   ],
   "source": [
    "for d in itertools.product(data1, data2, data3, data4):\n",
    "    print(d)"
   ]
  },
  {
   "cell_type": "markdown",
   "metadata": {},
   "source": [
    "### [pathlib --- オブジェクト指向のファイルシステムパス](https://docs.python.org/ja/3/library/pathlib.html)\n",
    "\n",
    "このモジュールはファイルシステムのパスを表すクラスを提供していて、様々なオペレーティングシステムについての適切な意味論をそれらのクラスに持たせています。"
   ]
  },
  {
   "cell_type": "code",
   "execution_count": 16,
   "metadata": {},
   "outputs": [],
   "source": [
    "import pathlib"
   ]
  },
  {
   "cell_type": "markdown",
   "metadata": {},
   "source": [
    "#### Path\n",
    "\n",
    "システムのパスフレーバーの具象パスを表します (このインスタンスの作成で PosixPath か WindowsPath のどちらかが作成されます)。"
   ]
  },
  {
   "cell_type": "code",
   "execution_count": 17,
   "metadata": {},
   "outputs": [],
   "source": [
    "p = pathlib.Path()"
   ]
  },
  {
   "cell_type": "markdown",
   "metadata": {},
   "source": [
    "`cwd` メソッドは現在のディレクトリを表す新しいパスオブジェクトを返します。"
   ]
  },
  {
   "cell_type": "code",
   "execution_count": 18,
   "metadata": {},
   "outputs": [
    {
     "data": {
      "text/plain": [
       "PosixPath('/home/terapyon/tmp/hit-u-ds-course/source/04_libraries')"
      ]
     },
     "execution_count": 18,
     "metadata": {},
     "output_type": "execute_result"
    }
   ],
   "source": [
    "p.cwd()"
   ]
  },
  {
   "cell_type": "markdown",
   "metadata": {},
   "source": [
    "`home` メソッドはユーザーのホームディレクトリ (~) を表す新しいパスオブジェクトを返します。"
   ]
  },
  {
   "cell_type": "code",
   "execution_count": 19,
   "metadata": {},
   "outputs": [
    {
     "data": {
      "text/plain": [
       "PosixPath('/home/terapyon')"
      ]
     },
     "execution_count": 19,
     "metadata": {},
     "output_type": "execute_result"
    }
   ],
   "source": [
    "p.home()"
   ]
  },
  {
   "cell_type": "markdown",
   "metadata": {},
   "source": [
    "演算子スラッシュ `/` はパスの追加を行います。"
   ]
  },
  {
   "cell_type": "code",
   "execution_count": 20,
   "metadata": {},
   "outputs": [
    {
     "data": {
      "text/plain": [
       "PosixPath('/home/terapyon/tmp/hit-u-ds-course/source/04_libraries/test.txt')"
      ]
     },
     "execution_count": 20,
     "metadata": {},
     "output_type": "execute_result"
    }
   ],
   "source": [
    "test_text = p.cwd() / \"test.txt\"\n",
    "test_text"
   ]
  },
  {
   "cell_type": "markdown",
   "metadata": {},
   "source": [
    "`write_text` メソッドは指定されたファイルをテキストモードで開き、引数に渡したデータを書き込み、ファイルを閉じます。"
   ]
  },
  {
   "cell_type": "code",
   "execution_count": 21,
   "metadata": {},
   "outputs": [
    {
     "data": {
      "text/plain": [
       "5"
      ]
     },
     "execution_count": 21,
     "metadata": {},
     "output_type": "execute_result"
    }
   ],
   "source": [
    "test_text.write_text(\"hello\")"
   ]
  },
  {
   "cell_type": "markdown",
   "metadata": {},
   "source": [
    "`read_text` メソッドは指定されたファイルの内容を文字列としてデコードして返します。"
   ]
  },
  {
   "cell_type": "code",
   "execution_count": 22,
   "metadata": {},
   "outputs": [
    {
     "data": {
      "text/plain": [
       "'hello'"
      ]
     },
     "execution_count": 22,
     "metadata": {},
     "output_type": "execute_result"
    }
   ],
   "source": [
    "test_text.read_text()"
   ]
  },
  {
   "cell_type": "markdown",
   "metadata": {},
   "source": [
    "`exists` メソッドはパスが既存のファイルかディレクトリを指しているかどうかを返します。"
   ]
  },
  {
   "cell_type": "code",
   "execution_count": 23,
   "metadata": {},
   "outputs": [
    {
     "data": {
      "text/plain": [
       "True"
      ]
     },
     "execution_count": 23,
     "metadata": {},
     "output_type": "execute_result"
    }
   ],
   "source": [
    "test_text.exists()"
   ]
  },
  {
   "cell_type": "markdown",
   "metadata": {},
   "source": [
    "`unlink` メソッドはこのファイルまたはシンボリックリンクを削除します。"
   ]
  },
  {
   "cell_type": "code",
   "execution_count": 24,
   "metadata": {},
   "outputs": [],
   "source": [
    "test_text.unlink()"
   ]
  },
  {
   "cell_type": "markdown",
   "metadata": {},
   "source": [
    "ファイルが削除されたため、 `exists` メソッドには `False` が返ります。"
   ]
  },
  {
   "cell_type": "code",
   "execution_count": 25,
   "metadata": {},
   "outputs": [
    {
     "data": {
      "text/plain": [
       "False"
      ]
     },
     "execution_count": 25,
     "metadata": {},
     "output_type": "execute_result"
    }
   ],
   "source": [
    "test_text.exists()"
   ]
  },
  {
   "cell_type": "markdown",
   "metadata": {},
   "source": [
    "### [urllib.request --- URL を開くための拡張可能なライブラリ](https://docs.python.org/ja/3/library/urllib.request.html)\n",
    "\n",
    "urllib.request モジュールは基本的な認証、暗号化認証、リダイレクション、Cookie、その他の介在する複雑なアクセス環境において (大抵は HTTP で) URL を開くための関数とクラスを定義します。"
   ]
  },
  {
   "cell_type": "code",
   "execution_count": 26,
   "metadata": {},
   "outputs": [],
   "source": [
    "import urllib.request"
   ]
  },
  {
   "cell_type": "markdown",
   "metadata": {},
   "source": [
    "`urlopen` メソッドでは引数に指定したURLを開きます。"
   ]
  },
  {
   "cell_type": "code",
   "execution_count": 27,
   "metadata": {},
   "outputs": [],
   "source": [
    "response = urllib.request.urlopen('http://httpbin.org/headers')"
   ]
  },
  {
   "cell_type": "markdown",
   "metadata": {},
   "source": [
    "`status` 属性はサーバから返される状態コードです。 `200` はリクエストが成功したことを意味します。\n",
    "\n",
    "HTTP レスポンスステータスコード: https://developer.mozilla.org/ja/docs/Web/HTTP/Status"
   ]
  },
  {
   "cell_type": "code",
   "execution_count": 28,
   "metadata": {},
   "outputs": [
    {
     "data": {
      "text/plain": [
       "200"
      ]
     },
     "execution_count": 28,
     "metadata": {},
     "output_type": "execute_result"
    }
   ],
   "source": [
    "response.status"
   ]
  },
  {
   "cell_type": "markdown",
   "metadata": {},
   "source": [
    "`read` メソッドはデータのバイトオブジェクトを返します。バイトオブジェクトを文字列に変換するには `decode` メソッドを実行します。"
   ]
  },
  {
   "cell_type": "code",
   "execution_count": 29,
   "metadata": {},
   "outputs": [],
   "source": [
    "data = response.read().decode()"
   ]
  },
  {
   "cell_type": "code",
   "execution_count": 30,
   "metadata": {},
   "outputs": [
    {
     "name": "stdout",
     "output_type": "stream",
     "text": [
      "{\n",
      "  \"headers\": {\n",
      "    \"Accept-Encoding\": \"identity\", \n",
      "    \"Host\": \"httpbin.org\", \n",
      "    \"User-Agent\": \"Python-urllib/3.8\", \n",
      "    \"X-Amzn-Trace-Id\": \"Root=1-60924bb4-38743f0f2fbf51bf1c218ab1\"\n",
      "  }\n",
      "}\n",
      "\n"
     ]
    }
   ],
   "source": [
    "print(data)"
   ]
  },
  {
   "cell_type": "markdown",
   "metadata": {},
   "source": [
    "### [json --- JSON エンコーダおよびデコーダ](https://docs.python.org/ja/3/library/json.html)\n",
    "\n",
    "[JSON (JavaScript Object Notation)](http://json.org/) は、 [RFC 7159](https://tools.ietf.org/html/rfc7159.html) ([RFC 4627](https://tools.ietf.org/html/rfc4627.html) を obsolete) と [ECMA-404](http://www.ecma-international.org/publications/standards/Ecma-404.htm) によって定義された軽量のデータ交換用のフォーマットです。\n",
    "\n",
    "JSONは [Web API](https://developer.mozilla.org/ja/docs/Learn/JavaScript/Client-side_web_APIs/Introduction) などでもっとも使われるフォーマットです。Jupyterのノートブック(.ipynb)もこのフォーマットです。"
   ]
  },
  {
   "cell_type": "code",
   "execution_count": 31,
   "metadata": {},
   "outputs": [],
   "source": [
    "import json"
   ]
  },
  {
   "cell_type": "markdown",
   "metadata": {},
   "source": [
    "`loads` 関数はJSONフォーマットのデータをPythonのオブジェクト(辞書)に変換します。ファイルから読み込む場合は `load` 関数を利用します。"
   ]
  },
  {
   "cell_type": "code",
   "execution_count": 32,
   "metadata": {},
   "outputs": [],
   "source": [
    "json_data = json.loads(data.replace(\"\\n\", \"\"))"
   ]
  },
  {
   "cell_type": "code",
   "execution_count": 33,
   "metadata": {},
   "outputs": [
    {
     "data": {
      "text/plain": [
       "{'headers': {'Accept-Encoding': 'identity',\n",
       "  'Host': 'httpbin.org',\n",
       "  'User-Agent': 'Python-urllib/3.8',\n",
       "  'X-Amzn-Trace-Id': 'Root=1-60924bb4-38743f0f2fbf51bf1c218ab1'}}"
      ]
     },
     "execution_count": 33,
     "metadata": {},
     "output_type": "execute_result"
    }
   ],
   "source": [
    "json_data"
   ]
  },
  {
   "cell_type": "code",
   "execution_count": 34,
   "metadata": {},
   "outputs": [
    {
     "data": {
      "text/plain": [
       "dict"
      ]
     },
     "execution_count": 34,
     "metadata": {},
     "output_type": "execute_result"
    }
   ],
   "source": [
    "type(json_data)"
   ]
  },
  {
   "cell_type": "markdown",
   "metadata": {},
   "source": [
    "辞書型のオブジェクトなので要素にアクセスできます。"
   ]
  },
  {
   "cell_type": "code",
   "execution_count": 35,
   "metadata": {},
   "outputs": [
    {
     "data": {
      "text/plain": [
       "'httpbin.org'"
      ]
     },
     "execution_count": 35,
     "metadata": {},
     "output_type": "execute_result"
    }
   ],
   "source": [
    "json_data[\"headers\"][\"Host\"]"
   ]
  },
  {
   "cell_type": "code",
   "execution_count": 36,
   "metadata": {},
   "outputs": [
    {
     "data": {
      "text/plain": [
       "{'headers': {'Accept-Encoding': 'identity',\n",
       "  'Host': 'abc.com',\n",
       "  'User-Agent': 'Python-urllib/3.8',\n",
       "  'X-Amzn-Trace-Id': 'Root=1-60924bb4-38743f0f2fbf51bf1c218ab1'}}"
      ]
     },
     "execution_count": 36,
     "metadata": {},
     "output_type": "execute_result"
    }
   ],
   "source": [
    "json_data[\"headers\"][\"Host\"] = \"abc.com\"\n",
    "json_data"
   ]
  },
  {
   "cell_type": "markdown",
   "metadata": {},
   "source": [
    "### [pickle --- Python オブジェクトの直列化](https://docs.python.org/ja/3/library/pickle.html)\n",
    "\n",
    "pickle モジュールは Python オブジェクトの直列化および直列化されたオブジェクトの復元のためのバイナリプロトコルを実装しています。\"pickle化\" は Python オブジェクト階層をバイトストリームに変換する処理、\"非pickle化\" は (バイナリファイル または バイトライクオブジェクト から) バイトストリームをオブジェクト階層に復元する処理を意味します。"
   ]
  },
  {
   "cell_type": "code",
   "execution_count": 37,
   "metadata": {},
   "outputs": [],
   "source": [
    "import pickle"
   ]
  },
  {
   "cell_type": "markdown",
   "metadata": {},
   "source": [
    "Pythonオブジェクトを直列化することで、作業を中断したり再開したりすることができるようになります。たとえば、Jupyter上で3時間かけて機械学習させたデータを作成したとします。Jupyterを終了すると、このデータは失われるため、続きの作業は再度同じ学習を3時間かけることになります。作業中のオブジェクトをpickle化して保存しておくことで、作業再開時には非pickle化してすぐに続きができます。\n",
    "\n",
    "先程作成した `json_data` を直列化してみましょう。"
   ]
  },
  {
   "cell_type": "code",
   "execution_count": 38,
   "metadata": {},
   "outputs": [],
   "source": [
    "pickle_file = pathlib.Path(\"json_data.pickle\")\n",
    "\n",
    "with pickle_file.open(\"wb\") as f:\n",
    "    pickle.dump(json_data, f)"
   ]
  },
  {
   "cell_type": "markdown",
   "metadata": {},
   "source": [
    "カレントディレクトリに `json_data.pickle` ファイルが生成されていることがわかります。"
   ]
  },
  {
   "cell_type": "code",
   "execution_count": 39,
   "metadata": {},
   "outputs": [
    {
     "name": "stdout",
     "output_type": "stream",
     "text": [
      "json_data.pickle\n"
     ]
    }
   ],
   "source": [
    "%ls json_data.pickle"
   ]
  },
  {
   "cell_type": "markdown",
   "metadata": {},
   "source": [
    "作業再開するために、非pickle化してみましょう。新しいPythonオブジェクト`new_json_data`を生成します。"
   ]
  },
  {
   "cell_type": "code",
   "execution_count": 40,
   "metadata": {},
   "outputs": [],
   "source": [
    "with pickle_file.open(\"rb\") as f:\n",
    "    new_json_data = pickle.load(f)"
   ]
  },
  {
   "cell_type": "code",
   "execution_count": 41,
   "metadata": {},
   "outputs": [
    {
     "data": {
      "text/plain": [
       "{'headers': {'Accept-Encoding': 'identity',\n",
       "  'Host': 'abc.com',\n",
       "  'User-Agent': 'Python-urllib/3.8',\n",
       "  'X-Amzn-Trace-Id': 'Root=1-60924bb4-38743f0f2fbf51bf1c218ab1'}}"
      ]
     },
     "execution_count": 41,
     "metadata": {},
     "output_type": "execute_result"
    }
   ],
   "source": [
    "new_json_data"
   ]
  },
  {
   "cell_type": "markdown",
   "metadata": {},
   "source": [
    "無事にオブジェクトが復元できたため、 `json_data.pickle` ファイルを削除します。"
   ]
  },
  {
   "cell_type": "code",
   "execution_count": 42,
   "metadata": {},
   "outputs": [],
   "source": [
    "pickle_file.unlink()"
   ]
  }
 ],
 "metadata": {
  "kernelspec": {
   "display_name": "Python 3",
   "language": "python",
   "name": "python3"
  },
  "language_info": {
   "codemirror_mode": {
    "name": "ipython",
    "version": 3
   },
   "file_extension": ".py",
   "mimetype": "text/x-python",
   "name": "python",
   "nbconvert_exporter": "python",
   "pygments_lexer": "ipython3",
   "version": "3.8.5"
  }
 },
 "nbformat": 4,
 "nbformat_minor": 4
}
