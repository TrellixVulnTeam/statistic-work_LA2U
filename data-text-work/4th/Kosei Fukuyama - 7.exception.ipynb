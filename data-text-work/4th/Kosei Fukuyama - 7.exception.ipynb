{
 "cells": [
  {
   "cell_type": "markdown",
   "metadata": {},
   "source": [
    "# 例外処理\n",
    "\n",
    "ここでは、例外処理について学びます。\n",
    "\n",
    "例外で動作が途中で止まらないように、例外をキャッチして処理を継続するようにできます。\n",
    "\n",
    "例外をキャッチするには、 `try-except` 構文を使います。"
   ]
  },
  {
   "cell_type": "markdown",
   "metadata": {},
   "source": [
    "基本構文\n",
    "\n",
    "```python\n",
    "try:\n",
    "    例外発生の可能性がある処理\n",
    "except:\n",
    "    例外発生時のブロック\n",
    "```"
   ]
  },
  {
   "cell_type": "markdown",
   "metadata": {},
   "source": [
    "例外を発生させながら確認していきます。"
   ]
  },
  {
   "cell_type": "code",
   "execution_count": 1,
   "metadata": {},
   "outputs": [
    {
     "ename": "ZeroDivisionError",
     "evalue": "division by zero",
     "output_type": "error",
     "traceback": [
      "\u001b[0;31m---------------------------------------------------------------------------\u001b[0m",
      "\u001b[0;31mZeroDivisionError\u001b[0m                         Traceback (most recent call last)",
      "\u001b[0;32m<ipython-input-1-e63e844a2443>\u001b[0m in \u001b[0;36m<module>\u001b[0;34m\u001b[0m\n\u001b[0;32m----> 1\u001b[0;31m \u001b[0;36m1\u001b[0m \u001b[0;34m/\u001b[0m \u001b[0;36m0\u001b[0m  \u001b[0;31m# ゼロで割ることはできないので例外が発生します。\u001b[0m\u001b[0;34m\u001b[0m\u001b[0;34m\u001b[0m\u001b[0m\n\u001b[0m",
      "\u001b[0;31mZeroDivisionError\u001b[0m: division by zero"
     ]
    }
   ],
   "source": [
    "1 / 0  # ゼロで割ることはできないので例外が発生します。"
   ]
  },
  {
   "cell_type": "code",
   "execution_count": 2,
   "metadata": {},
   "outputs": [],
   "source": [
    "try:\n",
    "    1 / 0\n",
    "except:\n",
    "    pass"
   ]
  },
  {
   "cell_type": "markdown",
   "metadata": {},
   "source": [
    "ここでは、例外のすべてをキャッチして、 `pass` とういう何もしないことを宣言しています。"
   ]
  },
  {
   "cell_type": "code",
   "execution_count": 3,
   "metadata": {},
   "outputs": [],
   "source": [
    "try:\n",
    "    1 / 0\n",
    "except ZeroDivisionError:\n",
    "    pass"
   ]
  },
  {
   "cell_type": "code",
   "execution_count": 4,
   "metadata": {},
   "outputs": [
    {
     "ename": "TypeError",
     "evalue": "unsupported operand type(s) for +: 'int' and 'str'",
     "output_type": "error",
     "traceback": [
      "\u001b[0;31m---------------------------------------------------------------------------\u001b[0m",
      "\u001b[0;31mTypeError\u001b[0m                                 Traceback (most recent call last)",
      "\u001b[0;32m<ipython-input-4-19991058eff0>\u001b[0m in \u001b[0;36m<module>\u001b[0;34m\u001b[0m\n\u001b[1;32m      1\u001b[0m \u001b[0;32mtry\u001b[0m\u001b[0;34m:\u001b[0m\u001b[0;34m\u001b[0m\u001b[0;34m\u001b[0m\u001b[0m\n\u001b[0;32m----> 2\u001b[0;31m     \u001b[0;36m1\u001b[0m \u001b[0;34m+\u001b[0m \u001b[0;34m\"0\"\u001b[0m\u001b[0;34m\u001b[0m\u001b[0;34m\u001b[0m\u001b[0m\n\u001b[0m\u001b[1;32m      3\u001b[0m \u001b[0;32mexcept\u001b[0m \u001b[0mZeroDivisionError\u001b[0m\u001b[0;34m:\u001b[0m\u001b[0;34m\u001b[0m\u001b[0;34m\u001b[0m\u001b[0m\n\u001b[1;32m      4\u001b[0m     \u001b[0;32mpass\u001b[0m\u001b[0;34m\u001b[0m\u001b[0;34m\u001b[0m\u001b[0m\n",
      "\u001b[0;31mTypeError\u001b[0m: unsupported operand type(s) for +: 'int' and 'str'"
     ]
    }
   ],
   "source": [
    "try:\n",
    "    1 + \"0\"\n",
    "except ZeroDivisionError:\n",
    "    pass"
   ]
  },
  {
   "cell_type": "code",
   "execution_count": 5,
   "metadata": {},
   "outputs": [
    {
     "name": "stdout",
     "output_type": "stream",
     "text": [
      "ゼロで割る例外\n"
     ]
    }
   ],
   "source": [
    "try:\n",
    "    1 / 0\n",
    "except ZeroDivisionError:\n",
    "    print(\"ゼロで割る例外\")\n",
    "except:\n",
    "    print(\"何かしらの例外\")"
   ]
  },
  {
   "cell_type": "code",
   "execution_count": 6,
   "metadata": {},
   "outputs": [
    {
     "name": "stdout",
     "output_type": "stream",
     "text": [
      "何かしらの例外\n"
     ]
    }
   ],
   "source": [
    "try:\n",
    "    1 + \"0\"\n",
    "except ZeroDivisionError:\n",
    "    print(\"ゼロで割る例外\")\n",
    "except:\n",
    "    print(\"何かしらの例外\")"
   ]
  },
  {
   "cell_type": "markdown",
   "metadata": {},
   "source": [
    "### エラーオブジェクト\n",
    "\n",
    "エラーがどんなものなのかを確認したい場合があります。\n",
    "\n",
    "エラーオブジェクトを見ていきましょう\n",
    "\n",
    "エラー型の後にその状態を `as` キーワードを使って変数に入れることができます。"
   ]
  },
  {
   "cell_type": "code",
   "execution_count": 7,
   "metadata": {},
   "outputs": [
    {
     "name": "stdout",
     "output_type": "stream",
     "text": [
      "division by zero\n"
     ]
    }
   ],
   "source": [
    "try:\n",
    "    1 / 0\n",
    "except ZeroDivisionError as e:\n",
    "    print(e)"
   ]
  },
  {
   "cell_type": "code",
   "execution_count": 8,
   "metadata": {},
   "outputs": [
    {
     "name": "stdout",
     "output_type": "stream",
     "text": [
      "何かしらの例外: unsupported operand type(s) for +: 'int' and 'str'\n"
     ]
    }
   ],
   "source": [
    "try:\n",
    "    1 + \"0\"\n",
    "except ZeroDivisionError as e:\n",
    "    print(f\"ゼロで割る例外: {e}\")\n",
    "except Exception as e:\n",
    "    print(f\"何かしらの例外: {e}\")"
   ]
  },
  {
   "cell_type": "markdown",
   "metadata": {},
   "source": [
    "### finally / else 節\n",
    "\n",
    "例外状況に関わらず、実行をしたいものや、例外が発生しなかったときのみに実行したい処理がある場合は、finally / else 節を用います。\n",
    "\n",
    "finallyは、例外の状況によらず、処理を行いたいものに利用します。例えば、ネットワーク通信を開始して、終了時にコネクションを閉じる処理を入れたい場合に、途中で例外が発生しても必ず処理を終了させることを行わせるような場合に使います。\n",
    "\n",
    "elseは、tryブロックで例外が発生しないときにも実行する処理を書くことができます。"
   ]
  },
  {
   "cell_type": "code",
   "execution_count": 9,
   "metadata": {},
   "outputs": [
    {
     "name": "stdout",
     "output_type": "stream",
     "text": [
      "ゼロで割る例外: division by zero\n"
     ]
    }
   ],
   "source": [
    "try:\n",
    "    a = 1 / 0\n",
    "except ZeroDivisionError as e:\n",
    "    print(f\"ゼロで割る例外: {e}\")\n",
    "else:\n",
    "    print(a)"
   ]
  },
  {
   "cell_type": "code",
   "execution_count": 10,
   "metadata": {},
   "outputs": [
    {
     "name": "stdout",
     "output_type": "stream",
     "text": [
      "ゼロで割る例外: division by zero\n",
      "終了処理\n"
     ]
    }
   ],
   "source": [
    "try:\n",
    "    a = 1 / 0\n",
    "except ZeroDivisionError as e:\n",
    "    print(f\"ゼロで割る例外: {e}\")\n",
    "else:\n",
    "    print(a)\n",
    "finally:\n",
    "    print(\"終了処理\")"
   ]
  },
  {
   "cell_type": "code",
   "execution_count": 11,
   "metadata": {},
   "outputs": [
    {
     "name": "stdout",
     "output_type": "stream",
     "text": [
      "1.0\n",
      "終了処理\n"
     ]
    }
   ],
   "source": [
    "try:\n",
    "    a = 1 / 1\n",
    "except ZeroDivisionError as e:\n",
    "    print(f\"ゼロで割る例外: {e}\")\n",
    "else:\n",
    "    print(a)\n",
    "finally:\n",
    "    print(\"終了処理\")"
   ]
  },
  {
   "cell_type": "markdown",
   "metadata": {},
   "source": [
    "### 例外処理を書くポイント\n",
    "\n",
    "#### tryの範囲は限定的にする\n",
    "\n",
    "これは、どの部分でエラーが発生するかわからないからtryブロックを大きくしてしまうことがあります。\n",
    "\n",
    "どこで何が起こって例外が発生したかわからなくので、大きくtryブロックを作るのは避けましょう。\n",
    "\n",
    "\n",
    "#### 例外は明確にキャッチする\n",
    "\n",
    "ここで発生する例外を把握して、この例外のときにはこの処理をさせるという明確な指標をもって、明確に例外をキャッチしましょう。\n",
    "\n",
    "```\n",
    "悪い例: except Exception:\n",
    "\n",
    "良い例: except ZeroDivisionError: \n",
    "```\n",
    "\n",
    "#### 例外 vs データチェック\n",
    "\n",
    "先程の例で、ゼロ割の防ぐ処理を書きましたが、事前に `0` なのかどうかをチェックする方法もあります。\n",
    "\n",
    "例外よりもデータをチェックしたほうが明確に処理が作れますし、例外よりも処理コストが低くなる場合が多いです。\n",
    "\n",
    "\n",
    "#### 例外・エラーをもみ消さない\n",
    "\n",
    "例外がでると怖いので、例外をださないように `try` をブロックを使うことがあります。\n",
    "\n",
    "これは避けたほうがいいです。実運用するプログラムが途中で止まってしまうと困るかもしれませんが、内部で何が起こっているのかわからない状況になってしまいます。\n",
    "\n",
    "例外に明確に対処するために、必要な場所だけに `try-except` を使いましょう。"
   ]
  },
  {
   "cell_type": "code",
   "execution_count": 12,
   "metadata": {},
   "outputs": [
    {
     "name": "stdout",
     "output_type": "stream",
     "text": [
      "処理しない\n"
     ]
    }
   ],
   "source": [
    "a = 0\n",
    "if a == 0:\n",
    "    print(\"処理しない\")\n",
    "else:\n",
    "    print(1 / a)"
   ]
  }
 ],
 "metadata": {
  "kernelspec": {
   "display_name": "Python 3",
   "language": "python",
   "name": "python3"
  },
  "language_info": {
   "codemirror_mode": {
    "name": "ipython",
    "version": 3
   },
   "file_extension": ".py",
   "mimetype": "text/x-python",
   "name": "python",
   "nbconvert_exporter": "python",
   "pygments_lexer": "ipython3",
   "version": "3.9.1"
  }
 },
 "nbformat": 4,
 "nbformat_minor": 4
}
