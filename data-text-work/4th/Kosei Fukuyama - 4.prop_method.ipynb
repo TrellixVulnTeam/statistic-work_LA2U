{
 "cells": [
  {
   "cell_type": "markdown",
   "metadata": {},
   "source": [
    "# 属性とメソッド\n",
    "\n",
    "\n",
    "属性とメソッドについては、すでに簡単な使い方を説明しました。\n",
    "\n",
    "## 属性\n",
    "\n",
    "属性はデータや状態を格納する場所と考えるよいでしょう。属性はアトリビュートとも呼びます。\n",
    "\n",
    "先程定義した `User` クラスには3つの属性が定義されています。\n",
    "これらのデータは初期値が設定されています。メソッドでデータの更新が行われたり、使われたりします。\n",
    "\n",
    "\n",
    "## メソッド\n",
    "\n",
    "メソッドは関数のように使われるものです。クラス内で動作するように、 `self` を第一引数が渡され、インスタンス化されたクラスの属性やメソッドを使うことができます。\n",
    "\n",
    "データの操作をしたり、データを取得したりすることに使います。\n"
   ]
  },
  {
   "cell_type": "markdown",
   "metadata": {},
   "source": [
    "\n"
   ]
  },
  {
   "cell_type": "markdown",
   "metadata": {},
   "source": [
    "## 特殊メソッド\n",
    "\n"
   ]
  },
  {
   "cell_type": "markdown",
   "metadata": {},
   "source": [
    "Pythonにはオブジェクトの振る舞いを表す、「特殊メソッド」があります。特殊メソッドでは、関数が実行されたときの挙動や演算子の挙動を決めることができます。"
   ]
  },
  {
   "cell_type": "markdown",
   "metadata": {},
   "source": [
    "ここでは、3つの挙動について紹介します。\n",
    "\n",
    "- 関数による挙動\n",
    "- 演算子による挙動\n",
    "- コンストラクタ\n"
   ]
  },
  {
   "cell_type": "markdown",
   "metadata": {},
   "source": [
    "### 関数による挙動\n",
    "\n",
    "すでに確認したとおり、文字列やリストに `len` 関数を使うと、要素数が取得できます。この挙動の変更が可能です。"
   ]
  },
  {
   "cell_type": "code",
   "execution_count": 1,
   "metadata": {},
   "outputs": [],
   "source": [
    "class CustomLen:\n",
    "    def __len__(self):\n",
    "        return 2"
   ]
  },
  {
   "cell_type": "code",
   "execution_count": 2,
   "metadata": {},
   "outputs": [
    {
     "data": {
      "text/plain": [
       "2"
      ]
     },
     "execution_count": 2,
     "metadata": {},
     "output_type": "execute_result"
    }
   ],
   "source": [
    "cl = CustomLen()\n",
    "len(cl)"
   ]
  },
  {
   "cell_type": "markdown",
   "metadata": {},
   "source": [
    "len関数にこのインスタンスを渡すと、必ず2が返るようになります。\n",
    "\n",
    "組み込み関数 `len` は、引数で与えられたオブジェクトの`__len__` メソッドが、呼び出されるという決まりになっています。\n",
    "\n",
    "今回は、必ず `2` が返るように宣言しているので、毎回 `2` が返ってくるという無意味なものが出来上がりました。"
   ]
  },
  {
   "cell_type": "markdown",
   "metadata": {},
   "source": [
    "なお、この独自のオブジェクトをprintしてみます。"
   ]
  },
  {
   "cell_type": "code",
   "execution_count": 3,
   "metadata": {},
   "outputs": [
    {
     "name": "stdout",
     "output_type": "stream",
     "text": [
      "<__main__.CustomLen object at 0x10c05aa90>\n"
     ]
    }
   ],
   "source": [
    "print(cl)"
   ]
  },
  {
   "cell_type": "markdown",
   "metadata": {},
   "source": [
    "特殊なものが表示されたように見えます。この挙動も特殊メソッドで変更することができます。"
   ]
  },
  {
   "cell_type": "code",
   "execution_count": 4,
   "metadata": {},
   "outputs": [],
   "source": [
    "class CustomLen2:\n",
    "    def __len__(self):\n",
    "        return 2\n",
    "\n",
    "    def __repr__(self):\n",
    "        return f\"<CustomLen2 id:{id(self)}>\""
   ]
  },
  {
   "cell_type": "code",
   "execution_count": 5,
   "metadata": {},
   "outputs": [
    {
     "name": "stdout",
     "output_type": "stream",
     "text": [
      "<CustomLen2 id:4497857072>\n"
     ]
    }
   ],
   "source": [
    "cl2 = CustomLen2()\n",
    "print(cl2)"
   ]
  },
  {
   "cell_type": "markdown",
   "metadata": {},
   "source": [
    "### 演算子による挙動\n",
    "\n",
    "例えば、足し算の挙動は、 `__add__` という特殊メソッドが使われています。演算子の挙動も特殊メソッドで決まります。\n",
    "\n",
    "ここでは、 `<` の挙動を変えてみたいと思います。\n",
    "\n",
    "`<` は、 `__lt__` メソッドが呼び出されます。具体的な例を見てみましょう。"
   ]
  },
  {
   "cell_type": "code",
   "execution_count": 6,
   "metadata": {},
   "outputs": [],
   "source": [
    "class LessThanTest1:\n",
    "    def __lt__(self, other):\n",
    "        return True\n",
    "\n",
    "    def __repr__(self):\n",
    "        return f\"<LessThanTest1 id:{id(self)}>\""
   ]
  },
  {
   "cell_type": "code",
   "execution_count": 7,
   "metadata": {},
   "outputs": [],
   "source": [
    "ltt1_1 = LessThanTest1()\n",
    "ltt1_2 = LessThanTest1()"
   ]
  },
  {
   "cell_type": "code",
   "execution_count": 8,
   "metadata": {},
   "outputs": [
    {
     "data": {
      "text/plain": [
       "<LessThanTest1 id:4497938944>"
      ]
     },
     "execution_count": 8,
     "metadata": {},
     "output_type": "execute_result"
    }
   ],
   "source": [
    "ltt1_1"
   ]
  },
  {
   "cell_type": "code",
   "execution_count": 9,
   "metadata": {},
   "outputs": [
    {
     "data": {
      "text/plain": [
       "<LessThanTest1 id:4497856976>"
      ]
     },
     "execution_count": 9,
     "metadata": {},
     "output_type": "execute_result"
    }
   ],
   "source": [
    "ltt1_2"
   ]
  },
  {
   "cell_type": "code",
   "execution_count": 10,
   "metadata": {},
   "outputs": [
    {
     "data": {
      "text/plain": [
       "True"
      ]
     },
     "execution_count": 10,
     "metadata": {},
     "output_type": "execute_result"
    }
   ],
   "source": [
    "ltt1_1 < ltt1_2  # 必ずTrueになる"
   ]
  },
  {
   "cell_type": "code",
   "execution_count": 11,
   "metadata": {},
   "outputs": [
    {
     "data": {
      "text/plain": [
       "True"
      ]
     },
     "execution_count": 11,
     "metadata": {},
     "output_type": "execute_result"
    }
   ],
   "source": [
    "ltt1_2 < ltt1_1"
   ]
  },
  {
   "cell_type": "code",
   "execution_count": 12,
   "metadata": {},
   "outputs": [],
   "source": [
    "class LessThanTest2:\n",
    "    def __lt__(self, other):\n",
    "        return id(self) < id(other)\n",
    "\n",
    "    def __repr__(self):\n",
    "        return f\"<LessThanTest1 id:{id(self)}>\""
   ]
  },
  {
   "cell_type": "code",
   "execution_count": 13,
   "metadata": {},
   "outputs": [],
   "source": [
    "ltt2_1 = LessThanTest2()\n",
    "ltt2_2 = LessThanTest2()"
   ]
  },
  {
   "cell_type": "code",
   "execution_count": 14,
   "metadata": {},
   "outputs": [
    {
     "data": {
      "text/plain": [
       "<LessThanTest1 id:4497939760>"
      ]
     },
     "execution_count": 14,
     "metadata": {},
     "output_type": "execute_result"
    }
   ],
   "source": [
    "ltt2_1"
   ]
  },
  {
   "cell_type": "code",
   "execution_count": 15,
   "metadata": {},
   "outputs": [
    {
     "data": {
      "text/plain": [
       "<LessThanTest1 id:4497936496>"
      ]
     },
     "execution_count": 15,
     "metadata": {},
     "output_type": "execute_result"
    }
   ],
   "source": [
    "ltt2_2"
   ]
  },
  {
   "cell_type": "code",
   "execution_count": 16,
   "metadata": {},
   "outputs": [
    {
     "data": {
      "text/plain": [
       "False"
      ]
     },
     "execution_count": 16,
     "metadata": {},
     "output_type": "execute_result"
    }
   ],
   "source": [
    "ltt2_1 < ltt2_2  # オブジェクトのID比較"
   ]
  },
  {
   "cell_type": "code",
   "execution_count": 17,
   "metadata": {},
   "outputs": [
    {
     "data": {
      "text/plain": [
       "True"
      ]
     },
     "execution_count": 17,
     "metadata": {},
     "output_type": "execute_result"
    }
   ],
   "source": [
    "ltt2_1 > ltt2_2"
   ]
  },
  {
   "cell_type": "markdown",
   "metadata": {},
   "source": [
    "その他の特殊メソッドは、公式ドキュメント https://docs.python.org/ja/3/reference/datamodel.html を参照してください。"
   ]
  },
  {
   "cell_type": "markdown",
   "metadata": {},
   "source": [
    "### コンストラクタ\n",
    "\n",
    "初期化の挙動について確認します。コンストラクタとは、組み込み関数の `int` や `list` のときに説明したとおり、初期化をして新規のオブエクトを作ることを言います。\n",
    "\n",
    "クラスをインスタンス化するときは、コンストラクタが呼び出されます。\n",
    "\n",
    "コンストラクタメソッドは、 `__init__` です。このメソッドを定義することで、初期化の挙動を決めることができます。"
   ]
  },
  {
   "cell_type": "markdown",
   "metadata": {},
   "source": [
    "先程使ったクラスを再定義します。"
   ]
  },
  {
   "cell_type": "code",
   "execution_count": 18,
   "metadata": {},
   "outputs": [],
   "source": [
    "class User:\n",
    "    name = None\n",
    "    age = None\n",
    "    address = None\n",
    "\n",
    "    def set_props(self, name, age, address):\n",
    "        self.name = name\n",
    "        self.age = age\n",
    "        self.address = address\n",
    "\n",
    "    def increase_age(self):\n",
    "        if self.age is not None:\n",
    "            self.age += 1\n",
    "        else:\n",
    "            print(\"No age\")\n",
    "\n",
    "    def start_name(self):\n",
    "        if self.name is not None and len(self.name) > 0:\n",
    "            return self.name[0]\n",
    "        else:\n",
    "            return None"
   ]
  },
  {
   "cell_type": "markdown",
   "metadata": {},
   "source": [
    "このクラスをコンストラクタを定義する方法にに変更します。"
   ]
  },
  {
   "cell_type": "code",
   "execution_count": 19,
   "metadata": {},
   "outputs": [],
   "source": [
    "class User2:\n",
    "    def __init__(self, name, age, address):\n",
    "        self.name = name\n",
    "        self.age = age\n",
    "        self.address = address\n",
    "\n",
    "    def increase_age(self):\n",
    "        if self.age is not None:\n",
    "            self.age += 1\n",
    "        else:\n",
    "            print(\"No age\")\n",
    "\n",
    "    def start_name(self):\n",
    "        if self.name is not None and len(self.name) > 0:\n",
    "            return self.name[0]\n",
    "        else:\n",
    "            return None"
   ]
  },
  {
   "cell_type": "markdown",
   "metadata": {},
   "source": [
    "`__init__` メソッドに初期化に使う仮引数を定義します。その引数を元に属性にデータを設定します。"
   ]
  },
  {
   "cell_type": "markdown",
   "metadata": {},
   "source": [
    "User2をインスタンス化するときに、初期化に使うデータを渡します。具体的に見てみましょう。"
   ]
  },
  {
   "cell_type": "code",
   "execution_count": 20,
   "metadata": {},
   "outputs": [],
   "source": [
    "user2 = User2(\"郵政太郎\", 20, \"東京都北区\")"
   ]
  },
  {
   "cell_type": "code",
   "execution_count": 21,
   "metadata": {},
   "outputs": [
    {
     "data": {
      "text/plain": [
       "<__main__.User2 at 0x10c1a4fa0>"
      ]
     },
     "execution_count": 21,
     "metadata": {},
     "output_type": "execute_result"
    }
   ],
   "source": [
    "user2"
   ]
  },
  {
   "cell_type": "code",
   "execution_count": 22,
   "metadata": {},
   "outputs": [
    {
     "data": {
      "text/plain": [
       "'郵'"
      ]
     },
     "execution_count": 22,
     "metadata": {},
     "output_type": "execute_result"
    }
   ],
   "source": [
    "user2.start_name()"
   ]
  },
  {
   "cell_type": "code",
   "execution_count": 23,
   "metadata": {},
   "outputs": [
    {
     "data": {
      "text/plain": [
       "20"
      ]
     },
     "execution_count": 23,
     "metadata": {},
     "output_type": "execute_result"
    }
   ],
   "source": [
    "user2.age"
   ]
  },
  {
   "cell_type": "markdown",
   "metadata": {},
   "source": [
    "## dataclass\n",
    "\n",
    "最近のPythonで導入されたdataclassという便利なものがあります。\n",
    "\n",
    "これは、いつも定義するコンストラクタなどを自動的に宣言してくます。コード量を減らして簡潔に読みやすくしてくれる便利なものです。\n",
    "\n",
    "詳しくは公式ドキュメントを確認してください。ここでは、このようなものが存在するということだけを知っていてください。\n",
    "https://docs.python.org/ja/3/library/dataclasses.html"
   ]
  }
 ],
 "metadata": {
  "kernelspec": {
   "display_name": "Python 3",
   "language": "python",
   "name": "python3"
  },
  "language_info": {
   "codemirror_mode": {
    "name": "ipython",
    "version": 3
   },
   "file_extension": ".py",
   "mimetype": "text/x-python",
   "name": "python",
   "nbconvert_exporter": "python",
   "pygments_lexer": "ipython3",
   "version": "3.9.0"
  }
 },
 "nbformat": 4,
 "nbformat_minor": 4
}
