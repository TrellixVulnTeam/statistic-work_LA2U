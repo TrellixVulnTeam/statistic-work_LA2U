{
 "cells": [
  {
   "cell_type": "markdown",
   "id": "c0744752",
   "metadata": {
    "jp-MarkdownHeadingCollapsed": true,
    "tags": []
   },
   "source": [
    "# 必要なパッケージの準備\n",
    "\n",
    "今回は、以下のサードパーティー製パッケージを利用します。\n",
    "\n",
    "- wordcloud\n",
    "\n",
    "http://amueller.github.io/word_cloud/\n",
    "\n",
    "\n",
    "Jupyter上に表示するために以下のパッケージが使われます。\n",
    "\n",
    "- matplotlib (グラフなどで利用される)\n",
    "- pillow (内部で画像を生成するため)\n",
    "\n",
    "これらは、すでに導入済みまたは、関連パケージとして自動的にインストールされます。"
   ]
  },
  {
   "cell_type": "markdown",
   "id": "c021f998",
   "metadata": {
    "tags": []
   },
   "source": [
    "# インストール・設定\n",
    "\n",
    "Jupyter上で以下を実行するとインストールされる\n",
    "\n",
    "```\n",
    "!pip install wordcloud\n",
    "```\n",
    "\n",
    "または、ターミナルから以下のコマンドを実行\n",
    "\n",
    "```\n",
    "(venv) > pip install wordcloud\n",
    "```\n",
    "\n",
    "\n",
    "## 注意点\n",
    "\n",
    "ただし、WordCloudパッケージの最新版でWindows用とmacOS用のビルド済みのパッケージが公開されていない\n",
    "\n",
    "Windowsの場合は、以下のサイトから `wordcloud‑1.8.1‑cp39‑cp39‑win_amd64.whl` をダウンロードしてファイルを指定してインストールする。\n",
    "https://www.lfd.uci.edu/~gohlke/pythonlibs/#_wordcloud\n",
    "\n",
    "\n",
    "```\n",
    "(venv) > pip install wordcloud‑1.8.1‑cp39‑cp39‑win_amd64.whl\n",
    "```\n",
    "\n",
    "macOSの場合は、ビルド済みのパッケージが無いので、　Xcodeをインストールしてから通常のインストール方法を実行する\n",
    "\n",
    "```\n",
    "(venv) > pip install wordcloud\n",
    "```"
   ]
  },
  {
   "cell_type": "code",
   "execution_count": 1,
   "id": "e4686dd0",
   "metadata": {},
   "outputs": [],
   "source": [
    "#!pip install wordcloud"
   ]
  },
  {
   "cell_type": "markdown",
   "id": "a37aef9b",
   "metadata": {},
   "source": [
    "インストールされていることを確認する"
   ]
  },
  {
   "cell_type": "code",
   "execution_count": 2,
   "id": "8dd2f45c",
   "metadata": {},
   "outputs": [],
   "source": [
    "from wordcloud import WordCloud"
   ]
  },
  {
   "cell_type": "markdown",
   "id": "2ee54f1c",
   "metadata": {},
   "source": [
    "# フォントの準備\n",
    "\n",
    "日本語フォントとして、Google社が公開している、 `Noto Sans JP` を利用します。\n",
    "\n",
    "https://fonts.google.com/specimen/Noto+Sans+JP\n",
    "\n",
    "ローカル（自身のパソコン）で作業されている方は後ほどこのフォントを利用しますのでインストールをしてください。\n",
    "（他のフォントでも代用可能ですので、インストールは必須ではありません）\n",
    "\n",
    "## Colabの場合\n",
    "\n",
    "Colabの場合はインストールは不要です。設定は別途実施します。"
   ]
  }
 ],
 "metadata": {
  "kernelspec": {
   "display_name": "Python 3.9.6 ('venv': venv)",
   "language": "python",
   "name": "python3"
  },
  "language_info": {
   "codemirror_mode": {
    "name": "ipython",
    "version": 3
   },
   "file_extension": ".py",
   "mimetype": "text/x-python",
   "name": "python",
   "nbconvert_exporter": "python",
   "pygments_lexer": "ipython3",
   "version": "3.9.6"
  },
  "vscode": {
   "interpreter": {
    "hash": "93c5697865292fdd0df1432c6bc5dc8f9244b4d72a06ac70cd24d4ff1f17d896"
   }
  }
 },
 "nbformat": 4,
 "nbformat_minor": 5
}
