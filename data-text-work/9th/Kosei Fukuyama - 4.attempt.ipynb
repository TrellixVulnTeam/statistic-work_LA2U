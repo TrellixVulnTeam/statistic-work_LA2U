{
 "cells": [
  {
   "cell_type": "markdown",
   "id": "6569cc9a",
   "metadata": {},
   "source": [
    "# 挑戦しよう\n",
    "\n",
    "以下のいずれかの挑戦をやってみましょう。\n",
    "\n",
    "- 表示する単語の数を変更してみよう\n",
    "- Stop Wordを変更してみよう\n",
    "- 別のデータを使ってやってみよう"
   ]
  }
 ],
 "metadata": {
  "kernelspec": {
   "display_name": "Python 3 (ipykernel)",
   "language": "python",
   "name": "python3"
  },
  "language_info": {
   "codemirror_mode": {
    "name": "ipython",
    "version": 3
   },
   "file_extension": ".py",
   "mimetype": "text/x-python",
   "name": "python",
   "nbconvert_exporter": "python",
   "pygments_lexer": "ipython3",
   "version": "3.9.12"
  }
 },
 "nbformat": 4,
 "nbformat_minor": 5
}
