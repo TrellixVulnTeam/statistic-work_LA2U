{
 "cells": [
  {
   "cell_type": "markdown",
   "id": "dcdf35d1-03bd-4f00-b583-629f279fcde1",
   "metadata": {},
   "source": [
    "# トピックモデルの実践\n",
    "\n",
    "ここでは、一橋大学ニュースのデータを使って、LDAでトピックを見ていきます。\n",
    "\n",
    "- 単語化したリストは、さきほど、pickleで保存したデータを使う\n",
    "- Bag-of-Wordsには、sklearnのCountVectorizerを使う\n",
    "- LDAは、sklearnのLatentDirichletAllocationを使う"
   ]
  },
  {
   "cell_type": "code",
   "execution_count": 1,
   "id": "f0eb2d98-3da6-4f0e-9ce3-9cdcbaf34c2c",
   "metadata": {},
   "outputs": [],
   "source": [
    "import numpy as np\n",
    "import pandas as pd\n",
    "import matplotlib.pyplot as plt"
   ]
  },
  {
   "cell_type": "markdown",
   "id": "57609bee-4437-45bc-8b3c-e8bd23b5e823",
   "metadata": {},
   "source": [
    "sklearnから必要なアルゴリズムをインポート"
   ]
  },
  {
   "cell_type": "code",
   "execution_count": 2,
   "id": "38867cf7-e250-4b46-a51f-b3be3cc40c44",
   "metadata": {},
   "outputs": [],
   "source": [
    "from sklearn.feature_extraction.text import CountVectorizer\n",
    "from sklearn.decomposition import LatentDirichletAllocation"
   ]
  },
  {
   "cell_type": "markdown",
   "id": "c9dac169-55e9-449a-b430-216b4e2c0c14",
   "metadata": {},
   "source": [
    "# 辞書オブジェクトを復元\n",
    "\n",
    "pickleで保存した、単語を格納した辞書オブジェクトを復元します。"
   ]
  },
  {
   "cell_type": "code",
   "execution_count": 3,
   "id": "8f49866d-b892-4145-abd3-cca9a90f40c8",
   "metadata": {},
   "outputs": [],
   "source": [
    "import pickle"
   ]
  },
  {
   "cell_type": "code",
   "execution_count": 4,
   "id": "c7875fa5-ffcf-4e68-8923-03689c27c56c",
   "metadata": {},
   "outputs": [],
   "source": [
    "with open(\"docs_words.picke\", \"rb\") as f:\n",
    "    docs_words = pickle.load(f)"
   ]
  },
  {
   "cell_type": "markdown",
   "id": "daf40506-a432-404a-8aa0-05f20fce6221",
   "metadata": {},
   "source": [
    "Colabで実行しているとエラーになるので、2項で実行した結果のファイルをダウンロードして、Colabのランタイムに `docs_words.picke` を登録"
   ]
  },
  {
   "cell_type": "code",
   "execution_count": 5,
   "id": "663cb479-2903-4ee8-83d3-f91e27a3a2f6",
   "metadata": {},
   "outputs": [
    {
     "data": {
      "text/plain": [
       "dict"
      ]
     },
     "execution_count": 5,
     "metadata": {},
     "output_type": "execute_result"
    }
   ],
   "source": [
    "type(docs_words)"
   ]
  },
  {
   "cell_type": "code",
   "execution_count": 6,
   "id": "20a7e753-6a6a-4fe8-97f5-a346fb8ab872",
   "metadata": {},
   "outputs": [
    {
     "data": {
      "text/plain": [
       "['ソニー',\n",
       " 'パナソニック',\n",
       " '富士通',\n",
       " '資生堂',\n",
       " '共同',\n",
       " 'デザイン組織',\n",
       " '共通評価指標',\n",
       " '検討',\n",
       " '作成',\n",
       " '2021年4月30日']"
      ]
     },
     "execution_count": 6,
     "metadata": {},
     "output_type": "execute_result"
    }
   ],
   "source": [
    "docs_words[0][:10]"
   ]
  },
  {
   "cell_type": "code",
   "execution_count": 7,
   "id": "ad4c9741-0b67-466a-a2a5-db594584ca01",
   "metadata": {},
   "outputs": [
    {
     "data": {
      "text/plain": [
       "34"
      ]
     },
     "execution_count": 7,
     "metadata": {},
     "output_type": "execute_result"
    }
   ],
   "source": [
    "len(docs_words)"
   ]
  },
  {
   "cell_type": "markdown",
   "id": "2ec23187-502c-4447-a377-c183cf719074",
   "metadata": {},
   "source": [
    "# Bag-of-Words\n",
    "\n",
    "単語のベクトル化を行います。\n",
    "\n",
    "文書 x 単語の疎行列 を作りデータの中を確認します。"
   ]
  },
  {
   "cell_type": "code",
   "execution_count": 8,
   "id": "24c5151c-3284-4399-bd2a-dcb4b1c19ebb",
   "metadata": {},
   "outputs": [],
   "source": [
    "tf_vectorizer = CountVectorizer()"
   ]
  },
  {
   "cell_type": "code",
   "execution_count": 9,
   "id": "2f22a298-9065-47d5-9b37-257839d29c2f",
   "metadata": {},
   "outputs": [],
   "source": [
    "docs_texts = np.array([\" \".join(w) for w in docs_words.values()])"
   ]
  },
  {
   "cell_type": "code",
   "execution_count": 10,
   "id": "be781c1a-6787-4521-b5bd-a07fc17d54b1",
   "metadata": {},
   "outputs": [
    {
     "data": {
      "text/plain": [
       "'ソニー パナソニック 富士通 資生堂 共'"
      ]
     },
     "execution_count": 10,
     "metadata": {},
     "output_type": "execute_result"
    }
   ],
   "source": [
    "docs_texts[0][:20]"
   ]
  },
  {
   "cell_type": "code",
   "execution_count": 11,
   "id": "6316503b-a38c-4c46-98ae-b28fcf562417",
   "metadata": {},
   "outputs": [],
   "source": [
    "tf = tf_vectorizer.fit_transform(docs_texts)"
   ]
  },
  {
   "cell_type": "code",
   "execution_count": 12,
   "id": "4179f240-66d0-4b78-a967-e5392f635cf7",
   "metadata": {},
   "outputs": [
    {
     "data": {
      "text/plain": [
       "1568"
      ]
     },
     "execution_count": 12,
     "metadata": {},
     "output_type": "execute_result"
    }
   ],
   "source": [
    "len(tf_vectorizer.vocabulary_)"
   ]
  },
  {
   "cell_type": "code",
   "execution_count": 13,
   "id": "19059a13-84fc-4d46-abe9-45321c6d7859",
   "metadata": {},
   "outputs": [
    {
     "data": {
      "text/plain": [
       "1568"
      ]
     },
     "execution_count": 13,
     "metadata": {},
     "output_type": "execute_result"
    }
   ],
   "source": [
    "len(tf_vectorizer.get_feature_names_out())"
   ]
  },
  {
   "cell_type": "code",
   "execution_count": 14,
   "id": "e4fff4fd-8cda-456a-87b3-da1eb3db82b2",
   "metadata": {},
   "outputs": [
    {
     "data": {
      "text/plain": [
       "array(['00', '00開演', '00開演開催方法zoomウェビナー', '042', '10', '100名', '10分',\n",
       "       '10回中曽根康弘奨励賞', '10年あまり', '10月頃'], dtype=object)"
      ]
     },
     "execution_count": 14,
     "metadata": {},
     "output_type": "execute_result"
    }
   ],
   "source": [
    "tf_vectorizer.get_feature_names_out()[:10]"
   ]
  },
  {
   "cell_type": "code",
   "execution_count": 15,
   "id": "63b08b80-a67f-4042-8976-7c8f5787b6bd",
   "metadata": {},
   "outputs": [
    {
     "data": {
      "text/plain": [
       "(34, 1568)"
      ]
     },
     "execution_count": 15,
     "metadata": {},
     "output_type": "execute_result"
    }
   ],
   "source": [
    "tf.shape"
   ]
  },
  {
   "cell_type": "code",
   "execution_count": 16,
   "id": "9030a2b6-c5e7-4a36-ac70-9de99a03c031",
   "metadata": {},
   "outputs": [],
   "source": [
    "df = pd.DataFrame(tf.toarray(), columns=tf_vectorizer.get_feature_names_out())"
   ]
  },
  {
   "cell_type": "code",
   "execution_count": 17,
   "id": "373f8fb5-0f9d-40bc-939b-a8d54d4eef1b",
   "metadata": {},
   "outputs": [
    {
     "data": {
      "text/html": [
       "<div>\n",
       "<style scoped>\n",
       "    .dataframe tbody tr th:only-of-type {\n",
       "        vertical-align: middle;\n",
       "    }\n",
       "\n",
       "    .dataframe tbody tr th {\n",
       "        vertical-align: top;\n",
       "    }\n",
       "\n",
       "    .dataframe thead th {\n",
       "        text-align: right;\n",
       "    }\n",
       "</style>\n",
       "<table border=\"1\" class=\"dataframe\">\n",
       "  <thead>\n",
       "    <tr style=\"text-align: right;\">\n",
       "      <th></th>\n",
       "      <th>00</th>\n",
       "      <th>00開演</th>\n",
       "      <th>00開演開催方法zoomウェビナー</th>\n",
       "      <th>042</th>\n",
       "      <th>10</th>\n",
       "      <th>100名</th>\n",
       "      <th>10分</th>\n",
       "      <th>10回中曽根康弘奨励賞</th>\n",
       "      <th>10年あまり</th>\n",
       "      <th>10月頃</th>\n",
       "      <th>...</th>\n",
       "      <th>青木人志理事</th>\n",
       "      <th>頂く</th>\n",
       "      <th>順不同</th>\n",
       "      <th>順位機関名採択率</th>\n",
       "      <th>題す</th>\n",
       "      <th>駿河台大学法文学部教授</th>\n",
       "      <th>高い</th>\n",
       "      <th>高度</th>\n",
       "      <th>高等教育</th>\n",
       "      <th>魅力</th>\n",
       "    </tr>\n",
       "  </thead>\n",
       "  <tbody>\n",
       "    <tr>\n",
       "      <th>0</th>\n",
       "      <td>2</td>\n",
       "      <td>0</td>\n",
       "      <td>0</td>\n",
       "      <td>6</td>\n",
       "      <td>1</td>\n",
       "      <td>1</td>\n",
       "      <td>1</td>\n",
       "      <td>0</td>\n",
       "      <td>1</td>\n",
       "      <td>1</td>\n",
       "      <td>...</td>\n",
       "      <td>2</td>\n",
       "      <td>2</td>\n",
       "      <td>0</td>\n",
       "      <td>1</td>\n",
       "      <td>1</td>\n",
       "      <td>1</td>\n",
       "      <td>10</td>\n",
       "      <td>1</td>\n",
       "      <td>1</td>\n",
       "      <td>1</td>\n",
       "    </tr>\n",
       "    <tr>\n",
       "      <th>1</th>\n",
       "      <td>0</td>\n",
       "      <td>0</td>\n",
       "      <td>0</td>\n",
       "      <td>0</td>\n",
       "      <td>0</td>\n",
       "      <td>0</td>\n",
       "      <td>0</td>\n",
       "      <td>0</td>\n",
       "      <td>0</td>\n",
       "      <td>0</td>\n",
       "      <td>...</td>\n",
       "      <td>0</td>\n",
       "      <td>0</td>\n",
       "      <td>0</td>\n",
       "      <td>0</td>\n",
       "      <td>0</td>\n",
       "      <td>0</td>\n",
       "      <td>0</td>\n",
       "      <td>0</td>\n",
       "      <td>0</td>\n",
       "      <td>0</td>\n",
       "    </tr>\n",
       "    <tr>\n",
       "      <th>2</th>\n",
       "      <td>0</td>\n",
       "      <td>0</td>\n",
       "      <td>0</td>\n",
       "      <td>0</td>\n",
       "      <td>1</td>\n",
       "      <td>0</td>\n",
       "      <td>0</td>\n",
       "      <td>0</td>\n",
       "      <td>0</td>\n",
       "      <td>0</td>\n",
       "      <td>...</td>\n",
       "      <td>0</td>\n",
       "      <td>0</td>\n",
       "      <td>0</td>\n",
       "      <td>0</td>\n",
       "      <td>0</td>\n",
       "      <td>0</td>\n",
       "      <td>0</td>\n",
       "      <td>0</td>\n",
       "      <td>0</td>\n",
       "      <td>0</td>\n",
       "    </tr>\n",
       "    <tr>\n",
       "      <th>3</th>\n",
       "      <td>0</td>\n",
       "      <td>0</td>\n",
       "      <td>0</td>\n",
       "      <td>0</td>\n",
       "      <td>0</td>\n",
       "      <td>0</td>\n",
       "      <td>0</td>\n",
       "      <td>0</td>\n",
       "      <td>0</td>\n",
       "      <td>0</td>\n",
       "      <td>...</td>\n",
       "      <td>0</td>\n",
       "      <td>0</td>\n",
       "      <td>0</td>\n",
       "      <td>0</td>\n",
       "      <td>0</td>\n",
       "      <td>0</td>\n",
       "      <td>0</td>\n",
       "      <td>0</td>\n",
       "      <td>0</td>\n",
       "      <td>0</td>\n",
       "    </tr>\n",
       "    <tr>\n",
       "      <th>4</th>\n",
       "      <td>0</td>\n",
       "      <td>0</td>\n",
       "      <td>0</td>\n",
       "      <td>0</td>\n",
       "      <td>0</td>\n",
       "      <td>0</td>\n",
       "      <td>0</td>\n",
       "      <td>0</td>\n",
       "      <td>0</td>\n",
       "      <td>0</td>\n",
       "      <td>...</td>\n",
       "      <td>0</td>\n",
       "      <td>0</td>\n",
       "      <td>0</td>\n",
       "      <td>0</td>\n",
       "      <td>0</td>\n",
       "      <td>0</td>\n",
       "      <td>0</td>\n",
       "      <td>0</td>\n",
       "      <td>0</td>\n",
       "      <td>0</td>\n",
       "    </tr>\n",
       "  </tbody>\n",
       "</table>\n",
       "<p>5 rows × 1568 columns</p>\n",
       "</div>"
      ],
      "text/plain": [
       "   00  00開演  00開演開催方法zoomウェビナー  042  10  100名  10分  10回中曽根康弘奨励賞  10年あまり  10月頃  \\\n",
       "0   2     0                  0    6   1     1    1            0       1     1   \n",
       "1   0     0                  0    0   0     0    0            0       0     0   \n",
       "2   0     0                  0    0   1     0    0            0       0     0   \n",
       "3   0     0                  0    0   0     0    0            0       0     0   \n",
       "4   0     0                  0    0   0     0    0            0       0     0   \n",
       "\n",
       "   ...  青木人志理事  頂く  順不同  順位機関名採択率  題す  駿河台大学法文学部教授  高い  高度  高等教育  魅力  \n",
       "0  ...       2   2    0         1   1            1  10   1     1   1  \n",
       "1  ...       0   0    0         0   0            0   0   0     0   0  \n",
       "2  ...       0   0    0         0   0            0   0   0     0   0  \n",
       "3  ...       0   0    0         0   0            0   0   0     0   0  \n",
       "4  ...       0   0    0         0   0            0   0   0     0   0  \n",
       "\n",
       "[5 rows x 1568 columns]"
      ]
     },
     "execution_count": 17,
     "metadata": {},
     "output_type": "execute_result"
    }
   ],
   "source": [
    "df.head()"
   ]
  },
  {
   "cell_type": "code",
   "execution_count": 18,
   "id": "ebe4d5c0-b66d-456a-b592-55ec8fa89e7c",
   "metadata": {},
   "outputs": [
    {
     "data": {
      "text/plain": [
       "True"
      ]
     },
     "execution_count": 18,
     "metadata": {},
     "output_type": "execute_result"
    }
   ],
   "source": [
    "\"042\" in docs_texts[0]"
   ]
  },
  {
   "cell_type": "markdown",
   "id": "fc676f45-1908-4bfd-b0f0-6a5400dccabd",
   "metadata": {},
   "source": [
    "# LDAでトピックに分類\n",
    "\n",
    "36 × 1511 の行列を、次元削減する。\n",
    "\n",
    "特徴量が 1511　となっていて、データ数が36ということになる。\n",
    "\n",
    "この多数ある特徴量を5トピックにすることで、36個の文書をどのトピックに所属しているかを見ていく"
   ]
  },
  {
   "cell_type": "code",
   "execution_count": 19,
   "id": "5db9f17b-cc8a-4050-9063-ab482dba9eff",
   "metadata": {},
   "outputs": [],
   "source": [
    "n_topics = 5\n",
    "lda = LatentDirichletAllocation(n_components=n_topics).fit(tf)"
   ]
  },
  {
   "cell_type": "markdown",
   "id": "e1804388-1682-40c9-871f-761041236e1a",
   "metadata": {},
   "source": [
    "各トピックが持つ単語分布"
   ]
  },
  {
   "cell_type": "code",
   "execution_count": 20,
   "id": "ceb1405b-c0f6-4d48-a1b5-2799cc788813",
   "metadata": {},
   "outputs": [
    {
     "data": {
      "text/plain": [
       "array([[8.8358468 , 0.20272794, 0.20272794, ..., 0.20310714, 0.20249487,\n",
       "        0.20360624],\n",
       "       [0.9870596 , 0.20312318, 0.20312319, ..., 0.20502274, 0.20624524,\n",
       "        1.31745525],\n",
       "       [2.77282724, 1.19046646, 1.19046644, ..., 0.20543894, 0.20000023,\n",
       "        3.07430296],\n",
       "       [0.20126047, 0.2016487 , 0.2016487 , ..., 0.2011401 , 0.20000028,\n",
       "        0.20040361],\n",
       "       [0.20300589, 0.20203372, 0.20203372, ..., 4.18529108, 2.19125939,\n",
       "        0.20423194]])"
      ]
     },
     "execution_count": 20,
     "metadata": {},
     "output_type": "execute_result"
    }
   ],
   "source": [
    "lda.components_"
   ]
  },
  {
   "cell_type": "code",
   "execution_count": 21,
   "id": "44cc1595-f8ff-4c08-b96a-55b9eca16de7",
   "metadata": {},
   "outputs": [
    {
     "data": {
      "text/plain": [
       "(5, 1568)"
      ]
     },
     "execution_count": 21,
     "metadata": {},
     "output_type": "execute_result"
    }
   ],
   "source": [
    "lda.components_.shape"
   ]
  },
  {
   "cell_type": "markdown",
   "id": "da67a914-6e54-404b-a058-e9e044d80865",
   "metadata": {},
   "source": [
    "文書の特徴量をトピックで表す"
   ]
  },
  {
   "cell_type": "code",
   "execution_count": 22,
   "id": "ebc8e038-87a9-4706-99a9-eb4f3448001f",
   "metadata": {},
   "outputs": [],
   "source": [
    "transformed = lda.transform(tf)"
   ]
  },
  {
   "cell_type": "code",
   "execution_count": 23,
   "id": "b35da04f-1593-4953-bf0b-958569aa2d6b",
   "metadata": {},
   "outputs": [
    {
     "data": {
      "text/plain": [
       "(34, 5)"
      ]
     },
     "execution_count": 23,
     "metadata": {},
     "output_type": "execute_result"
    }
   ],
   "source": [
    "transformed.shape"
   ]
  },
  {
   "cell_type": "code",
   "execution_count": 24,
   "id": "58f50145-7998-49e9-9080-f2cf2851b8d0",
   "metadata": {},
   "outputs": [
    {
     "data": {
      "text/plain": [
       "array([1.57013686e-01, 6.46965853e-01, 7.36745118e-05, 1.01505511e-04,\n",
       "       1.95845281e-01])"
      ]
     },
     "execution_count": 24,
     "metadata": {},
     "output_type": "execute_result"
    }
   ],
   "source": [
    "transformed[0]"
   ]
  },
  {
   "cell_type": "code",
   "execution_count": 25,
   "id": "ad1dbf69-c97a-417d-9f74-153f4c82ea67",
   "metadata": {},
   "outputs": [
    {
     "data": {
      "text/plain": [
       "array([0.00540947, 0.00543517, 0.00541452, 0.97832103, 0.00541981])"
      ]
     },
     "execution_count": 25,
     "metadata": {},
     "output_type": "execute_result"
    }
   ],
   "source": [
    "transformed[1]"
   ]
  },
  {
   "cell_type": "markdown",
   "id": "c90c8bfe-d1cc-4445-8e22-fe53b336657d",
   "metadata": {},
   "source": [
    "文書がどのトピックに所属しているかをグラフで表現"
   ]
  },
  {
   "cell_type": "code",
   "execution_count": 26,
   "id": "bfec17aa-5e46-4087-a3d1-4472521a1fbe",
   "metadata": {},
   "outputs": [
    {
     "data": {
      "image/png": "[encoded data removed]",
      "text/plain": [
       "<Figure size 576x288 with 1 Axes>"
      ]
     },
     "metadata": {
      "needs_background": "light"
     },
     "output_type": "display_data"
    }
   ],
   "source": [
    "doc_id = 0\n",
    "\n",
    "plt.figure(figsize=(8, 4))\n",
    "topics = range(len(transformed[doc_id]))\n",
    "plt.bar(topics, height=transformed[doc_id], width=0.8)\n",
    "plt.xticks(topics)\n",
    "plt.show()"
   ]
  },
  {
   "cell_type": "markdown",
   "id": "9adbb5c6-553f-4f41-adf7-fe4973a32c03",
   "metadata": {},
   "source": [
    "トピックに所属する文書を確認する"
   ]
  },
  {
   "cell_type": "code",
   "execution_count": 27,
   "id": "58d0186c-9bac-4250-9b39-9c5e9fcf0f37",
   "metadata": {},
   "outputs": [],
   "source": [
    "def topic_summary(transformed, topic_id):\n",
    "    indexes = np.argsort(transformed[:, topic_id])[::-1][:5]\n",
    "    print(indexes)\n",
    "    docs = docs_texts[indexes]\n",
    "    for i, doc in enumerate(docs):\n",
    "        print(f\"{i}: {indexes[i]} : {doc[:200]}\")\n",
    "        print(\"===\")"
   ]
  },
  {
   "cell_type": "code",
   "execution_count": 28,
   "id": "50c083d8-b55f-4197-956b-3f694b4bd53a",
   "metadata": {},
   "outputs": [
    {
     "name": "stdout",
     "output_type": "stream",
     "text": [
      "[28  9 30 11 17]\n",
      "0: 28 : 独立行政法人日本学生支援機構 発行 する ソーシャルボンド 投資 2021年2月8日国立大学法人一橋大学 たび 独立行政法人日本学生支援機構(jasso) 発行 する ソーシャルボンド 62回日本学生支援債券) 投資 おこなう ソーシャルボンド 社会的課題 解決 資する プロジェクト(ソーシャルプロジェクト) 資金調達 発行 する れる 債券 esg投資(※) 対象 なる 債券 債券 発行 調達資\n",
      "===\n",
      "1: 9 : 独立行政法人日本学生支援機構 発行 する ソーシャルボンド 投資 2021年2月8日国立大学法人一橋大学 たび 独立行政法人日本学生支援機構(jasso) 発行 する ソーシャルボンド 62回日本学生支援債券) 投資 おこなう ソーシャルボンド 社会的課題 解決 資する プロジェクト(ソーシャルプロジェクト) 資金調達 発行 する れる 債券 esg投資(※) 対象 なる 債券 債券 発行 調達資\n",
      "===\n",
      "2: 30 : 令和2年司法試験 結果 2021年1月28日法科大学院修了者 対象 する 令和2年司法試験 合格者 1月20日 法務省 発表 する れる 本学法科大学院修了者119人 試験 挑む うち84人 合格 する 本学 合格率 70.59% 全国 法科大学院 中 合格率2位 なる 今回 試験全体 合格者数 1,450人 合格率 39.2% 令和2年司法試験結果 合格率順(合格者/受験者) 1月20日発表(一\n",
      "===\n",
      "3: 11 : 令和2年司法試験 結果 2021年1月28日法科大学院修了者 対象 する 令和2年司法試験 合格者 1月20日 法務省 発表 する れる 本学法科大学院修了者119人 試験 挑む うち84人 合格 する 本学 合格率 70.59% 全国 法科大学院 中 合格率2位 なる 今回 試験全体 合格者数 1,450人 合格率 39.2% 令和2年司法試験結果 合格率順(合格者/受験者) 1月20日発表(一\n",
      "===\n",
      "4: 17 : 関西 中部合同アカデミア 2020年度一橋大学関西 中部合同アカデミア 局面 入る 米中 戦略的競争 日本 2021年2月27日(土)、「 局面 入る 米中 戦略的競争 日本 テーマ 2020年度関西 中部合同アカデミア オンラインセミナー 開催 する プログラム 秋山信 法学研究科/国際 公共政策大学院教授 進行 もと 大月康弘 学長 開会挨拶 始まる 中山俊宏氏(慶應義塾大学総合政策学部教授/\n",
      "===\n"
     ]
    }
   ],
   "source": [
    "topic_summary(transformed, 2)"
   ]
  },
  {
   "cell_type": "markdown",
   "id": "b6a5cb74-3190-42e4-99eb-1907ac1064d1",
   "metadata": {},
   "source": [
    "文書からみて、同じトピックになっているものを見つける"
   ]
  },
  {
   "cell_type": "code",
   "execution_count": 29,
   "id": "787ddc6e-9427-4db8-a97c-251838b02e59",
   "metadata": {},
   "outputs": [
    {
     "data": {
      "text/plain": [
       "1"
      ]
     },
     "execution_count": 29,
     "metadata": {},
     "output_type": "execute_result"
    }
   ],
   "source": [
    "transformed[0].argmax()"
   ]
  },
  {
   "cell_type": "code",
   "execution_count": 30,
   "id": "bfd7f341-a2ae-4aef-9b15-4fb15daa6b25",
   "metadata": {},
   "outputs": [
    {
     "data": {
      "text/plain": [
       "array([ True, False,  True, False, False, False, False,  True, False,\n",
       "       False, False, False, False, False, False, False, False, False,\n",
       "       False,  True, False,  True, False, False, False, False,  True,\n",
       "       False, False, False, False, False, False, False])"
      ]
     },
     "execution_count": 30,
     "metadata": {},
     "output_type": "execute_result"
    }
   ],
   "source": [
    "transformed[:, 1]>0.5"
   ]
  },
  {
   "cell_type": "markdown",
   "id": "a9b4ac9e-6230-4a73-b17a-6a914cb3d86d",
   "metadata": {},
   "source": [
    "関数化して同じトピックの確率が高いものを出力"
   ]
  },
  {
   "cell_type": "code",
   "execution_count": 31,
   "id": "77ecc848-7575-42c7-a0ea-80304ff0ddbf",
   "metadata": {},
   "outputs": [],
   "source": [
    "def same_topic_docs(transformed, docs_texts, doc_id):\n",
    "    index = transformed[doc_id].argmax()\n",
    "    docs = docs_texts[transformed[:, index]>0.5]\n",
    "    print(f\"Number of same topic: index={index}, size={docs.size}\")\n",
    "    print()\n",
    "    for i, doc in enumerate(docs):\n",
    "        print(f\"{i}: {doc[:200]}\")\n",
    "        print(\"===\")"
   ]
  },
  {
   "cell_type": "code",
   "execution_count": 32,
   "id": "f1b72f4e-8882-4b6f-9dbf-a16868bd97af",
   "metadata": {},
   "outputs": [
    {
     "name": "stdout",
     "output_type": "stream",
     "text": [
      "Number of same topic: index=1, size=6\n",
      "\n",
      "0: ソニー パナソニック 富士通 資生堂 共同 デザイン組織 共通評価指標 検討 作成 2021年4月30日 経営管理研究科内 設置 する データ デザイン研究センター ソニーグループ株式会社クリエイティブセンター パナソニック株式会社デザイン本部 富士通株式会社デザインセンター 株式会社資生堂クリエイティブ本部 共同 社内デザイン組織 活動 成果 共通 視点 量的 評価 する 指標 検討 作成 する\n",
      "===\n",
      "1: cambridge economic history modern world(stephen broadberryオックスフォード大学教授 深尾京司経済研究所特任教授編) 出版 する れる 2021年4月19日2018年8月 開催 する 4回 hitotsubashi summer institute 内 ブック・コンファレンス 行う 世界経済史研究 cambridge economic his\n",
      "===\n",
      "2: 学業優秀学生(卒業生) 表彰 行う れる 2021年3月22日学業優秀学生(卒業生) 表彰 行う 3月18日(木)、 会議室 令和2年度学業優秀学生表彰 行う これ 在学期間中 優秀 成績 残す 学生 学部1名 卒業年次 表彰 する もの 一橋大学基金 財源 する いる 表彰状 他 記念品 腕時計 贈呈 する 表彰 する 学生 次 4名 商学部 池永 進之佑経済学部 大澤 也法学部 室田 茉悠花社\n",
      "===\n",
      "3: ソニー パナソニック 富士通 資生堂 共同 デザイン組織 共通評価指標 検討 作成2021年4月30日 経営管理研究科内 設置 する データ デザイン研究センター ソニーグループ株式会社クリエイティブセンター パナソニック株式会社デザイン本部 富士通株式会社デザインセンター 株式会社資生堂クリエイティブ本部 共同 社内デザイン組織 活動 成果 共通 視点 量的 評価 する 指標 検討 作成 する \n",
      "===\n",
      "4: cambridge economic history modern world(stephen broadberryオックスフォード大学教授 深尾京司経済研究所特任教授編) 出版 する れる 2021年4月19日2018年8月 開催 する 4回 hitotsubashi summer institute 内 ブック・コンファレンス 行う 世界経済史研究 cambridge economic his\n",
      "===\n",
      "5: 学業優秀学生(卒業生) 表彰 行う れる 2021年3月22日学業優秀学生(卒業生) 表彰 行う 3月18日(木)、 会議室 令和2年度学業優秀学生表彰 行う これ 在学期間中 優秀 成績 残す 学生 学部1名 卒業年次 表彰 する もの 一橋大学基金 財源 する いる 表彰状 他 記念品 腕時計 贈呈 する 表彰 する 学生 次 4名 商学部 池永 進之佑経済学部 大澤 也法学部 室田 茉悠花社\n",
      "===\n"
     ]
    }
   ],
   "source": [
    "same_topic_docs(transformed, docs_texts, 0)"
   ]
  }
 ],
 "metadata": {
  "kernelspec": {
   "display_name": "Python 3 (ipykernel)",
   "language": "python",
   "name": "python3"
  },
  "language_info": {
   "codemirror_mode": {
    "name": "ipython",
    "version": 3
   },
   "file_extension": ".py",
   "mimetype": "text/x-python",
   "name": "python",
   "nbconvert_exporter": "python",
   "pygments_lexer": "ipython3",
   "version": "3.9.1"
  }
 },
 "nbformat": 4,
 "nbformat_minor": 5
}
