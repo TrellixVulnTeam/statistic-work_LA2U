{
 "cells": [
  {
   "cell_type": "markdown",
   "id": "85a927ee-d33b-47f5-8ed8-b38aba109103",
   "metadata": {},
   "source": [
    "# データセットを使ったトピック化\n",
    "\n",
    "多くの文書を使った実践を行っていきます。\n",
    "\n",
    "ここでは、fetch_20newsgroupsという英語のニュース文書を実践します。"
   ]
  },
  {
   "cell_type": "code",
   "execution_count": 1,
   "id": "f0eb2d98-3da6-4f0e-9ce3-9cdcbaf34c2c",
   "metadata": {},
   "outputs": [],
   "source": [
    "import numpy as np\n",
    "import matplotlib.pyplot as plt"
   ]
  },
  {
   "cell_type": "code",
   "execution_count": 2,
   "id": "38867cf7-e250-4b46-a51f-b3be3cc40c44",
   "metadata": {},
   "outputs": [],
   "source": [
    "from sklearn.feature_extraction.text import CountVectorizer\n",
    "from sklearn.decomposition import LatentDirichletAllocation"
   ]
  },
  {
   "cell_type": "markdown",
   "id": "3ec452a1-e8e6-4af8-baea-664666a25f04",
   "metadata": {},
   "source": [
    "データセットを読み込む（ダウンロードに時間を要する)"
   ]
  },
  {
   "cell_type": "code",
   "execution_count": 3,
   "id": "3f26ad25-d0cd-42fa-a0f7-f731ba729eed",
   "metadata": {},
   "outputs": [],
   "source": [
    "from sklearn.datasets import fetch_20newsgroups"
   ]
  },
  {
   "cell_type": "code",
   "execution_count": 4,
   "id": "3ee50ad9-cbb3-4c41-878d-c9abea66458d",
   "metadata": {},
   "outputs": [],
   "source": [
    "newsgroups = fetch_20newsgroups(shuffle=True,\n",
    "                                random_state=1,\n",
    "                                remove=('headers', 'footers', 'quotes'))"
   ]
  },
  {
   "cell_type": "code",
   "execution_count": 5,
   "id": "20a7e753-6a6a-4fe8-97f5-a346fb8ab872",
   "metadata": {},
   "outputs": [
    {
     "data": {
      "text/plain": [
       "sklearn.utils.Bunch"
      ]
     },
     "execution_count": 5,
     "metadata": {},
     "output_type": "execute_result"
    }
   ],
   "source": [
    "type(newsgroups)"
   ]
  },
  {
   "cell_type": "code",
   "execution_count": 6,
   "id": "8b4178ea-0638-4970-a5e2-c77690127565",
   "metadata": {},
   "outputs": [
    {
     "data": {
      "text/plain": [
       "['DESCR', 'data', 'filenames', 'target', 'target_names']"
      ]
     },
     "execution_count": 6,
     "metadata": {},
     "output_type": "execute_result"
    }
   ],
   "source": [
    "dir(newsgroups)"
   ]
  },
  {
   "cell_type": "code",
   "execution_count": 7,
   "id": "e4c44985-8a0e-4070-b4ff-240b46a86ab7",
   "metadata": {},
   "outputs": [
    {
     "data": {
      "text/plain": [
       "list"
      ]
     },
     "execution_count": 7,
     "metadata": {},
     "output_type": "execute_result"
    }
   ],
   "source": [
    "type(newsgroups.data)"
   ]
  },
  {
   "cell_type": "code",
   "execution_count": 8,
   "id": "ad4c9741-0b67-466a-a2a5-db594584ca01",
   "metadata": {},
   "outputs": [
    {
     "data": {
      "text/plain": [
       "11314"
      ]
     },
     "execution_count": 8,
     "metadata": {},
     "output_type": "execute_result"
    }
   ],
   "source": [
    "len(newsgroups.data)"
   ]
  },
  {
   "cell_type": "code",
   "execution_count": 9,
   "id": "8f7bd190-8585-456e-8b88-4a4e7d59a7e5",
   "metadata": {},
   "outputs": [
    {
     "data": {
      "text/plain": [
       "\"Well i'm not sure about the story nad it did seem biased. What\\nI disagree with is your statement that the U.S. Media is out to\\nruin Israels reputation. That is rediculous. The U.S. media is\\nthe most pro-israeli media in the world. Having lived in Europe\\nI realize that incidences such as the one described in the\\nletter have occured. The U.S. media as a whole seem to try to\\nignore them. The U.S. is subsidizing Israels existance and the\\nEuropeans are not (at least not to the same degree). So I think\\nthat might be a reason they report more clearly on the\\natrocities.\\n\\tWhat is a shame is that in Austria, daily reports of\\nthe inhuman acts commited by Israeli soldiers and the blessing\\nreceived from the Government makes some of the Holocaust guilt\\ngo away. After all, look how the Jews are treating other races\\nwhen they got power. It is unfortunate.\\n\""
      ]
     },
     "execution_count": 9,
     "metadata": {},
     "output_type": "execute_result"
    }
   ],
   "source": [
    "newsgroups.data[0]"
   ]
  },
  {
   "cell_type": "markdown",
   "id": "584471fe-4a15-467d-a085-26d2da0af420",
   "metadata": {},
   "source": [
    "このデータは、20種類に分類されているデータではある。"
   ]
  },
  {
   "cell_type": "code",
   "execution_count": 10,
   "id": "f3135e22-b07f-4907-bd50-0ed00268c299",
   "metadata": {},
   "outputs": [
    {
     "data": {
      "text/plain": [
       "(11314,)"
      ]
     },
     "execution_count": 10,
     "metadata": {},
     "output_type": "execute_result"
    }
   ],
   "source": [
    "newsgroups.target.shape"
   ]
  },
  {
   "cell_type": "code",
   "execution_count": 11,
   "id": "d1b0bf34-bfb6-43dc-85a2-7c6d61b699ca",
   "metadata": {},
   "outputs": [
    {
     "data": {
      "text/plain": [
       "20"
      ]
     },
     "execution_count": 11,
     "metadata": {},
     "output_type": "execute_result"
    }
   ],
   "source": [
    "np.unique(newsgroups.target).size"
   ]
  },
  {
   "cell_type": "markdown",
   "id": "6d6209c2-7f09-4131-9a2c-cb80ed10aea7",
   "metadata": {},
   "source": [
    "# Bag-of-Words\n",
    "\n",
    "文書 x 単語の疎行列を作成するが、データ数が多いので、特徴量を1000に絞る"
   ]
  },
  {
   "cell_type": "code",
   "execution_count": 12,
   "id": "24c5151c-3284-4399-bd2a-dcb4b1c19ebb",
   "metadata": {},
   "outputs": [],
   "source": [
    "max_features = 1000\n",
    "tf_vectorizer = CountVectorizer(max_features=max_features,\n",
    "                                stop_words='english')"
   ]
  },
  {
   "cell_type": "code",
   "execution_count": 13,
   "id": "6316503b-a38c-4c46-98ae-b28fcf562417",
   "metadata": {},
   "outputs": [],
   "source": [
    "tf = tf_vectorizer.fit_transform(newsgroups.data)"
   ]
  },
  {
   "cell_type": "code",
   "execution_count": 14,
   "id": "63b08b80-a67f-4042-8976-7c8f5787b6bd",
   "metadata": {},
   "outputs": [
    {
     "data": {
      "text/plain": [
       "(11314, 1000)"
      ]
     },
     "execution_count": 14,
     "metadata": {},
     "output_type": "execute_result"
    }
   ],
   "source": [
    "tf.shape"
   ]
  },
  {
   "cell_type": "code",
   "execution_count": 15,
   "id": "7f6e83ce-19f2-474c-950e-ee8e97b471b4",
   "metadata": {},
   "outputs": [
    {
     "name": "stdout",
     "output_type": "stream",
     "text": [
      "  (0, 872)\t1\n",
      "  (0, 860)\t1\n",
      "  (0, 303)\t1\n",
      "  (0, 854)\t1\n",
      "  (0, 589)\t4\n",
      "  (0, 714)\t1\n",
      "  (0, 496)\t2\n",
      "  (0, 985)\t1\n",
      "  (0, 443)\t1\n",
      "  (0, 534)\t1\n",
      "  (0, 914)\t1\n",
      "  (0, 897)\t1\n",
      "  (0, 745)\t1\n",
      "  (0, 760)\t1\n",
      "  (0, 229)\t1\n",
      "  (0, 762)\t1\n",
      "  (0, 748)\t1\n",
      "  (0, 423)\t1\n",
      "  (0, 573)\t1\n",
      "  (0, 146)\t1\n",
      "  (0, 554)\t1\n",
      "  (0, 501)\t1\n",
      "  (0, 421)\t1\n",
      "  (0, 703)\t1\n"
     ]
    }
   ],
   "source": [
    "print(tf[0][0])"
   ]
  },
  {
   "cell_type": "markdown",
   "id": "92c8d5a5-ce84-4321-8abb-260d5c308942",
   "metadata": {},
   "source": [
    "# LDAでトピックに分類\n",
    "\n",
    "ここでは、20個のトピックにわける。"
   ]
  },
  {
   "cell_type": "code",
   "execution_count": 16,
   "id": "ceb1405b-c0f6-4d48-a1b5-2799cc788813",
   "metadata": {},
   "outputs": [],
   "source": [
    "n_topics = 20\n",
    "lda = LatentDirichletAllocation(n_components=n_topics).fit(tf)"
   ]
  },
  {
   "cell_type": "markdown",
   "id": "fe675281-a7aa-437f-bb41-20bc3d87bfed",
   "metadata": {},
   "source": [
    "各トピックが持つ単語分布"
   ]
  },
  {
   "cell_type": "code",
   "execution_count": 17,
   "id": "44cc1595-f8ff-4c08-b96a-55b9eca16de7",
   "metadata": {},
   "outputs": [
    {
     "data": {
      "text/plain": [
       "array([[1.01256281e+00, 5.01770747e-02, 6.32891801e+01, ...,\n",
       "        1.05017578e+00, 6.65133384e-01, 8.46825874e+00],\n",
       "       [5.00000000e-02, 5.00000000e-02, 5.00000000e-02, ...,\n",
       "        5.00000000e-02, 5.00000000e-02, 5.00000000e-02],\n",
       "       [5.00000004e-02, 2.86115225e+01, 5.00000006e-02, ...,\n",
       "        8.28974118e+00, 1.50773465e+01, 5.00000005e-02],\n",
       "       ...,\n",
       "       [5.00000002e-02, 5.00000004e-02, 5.00000008e-02, ...,\n",
       "        4.24552181e+00, 5.00000002e-02, 5.00000001e-02],\n",
       "       [5.00000003e-02, 1.45962017e+01, 5.00000010e-02, ...,\n",
       "        1.66097292e+00, 9.54849651e+01, 2.57245671e+01],\n",
       "       [3.55608582e+00, 5.00000004e-02, 5.00000014e-02, ...,\n",
       "        5.00000008e-02, 5.00000008e-02, 5.00000006e-02]])"
      ]
     },
     "execution_count": 17,
     "metadata": {},
     "output_type": "execute_result"
    }
   ],
   "source": [
    "lda.components_"
   ]
  },
  {
   "cell_type": "markdown",
   "id": "ce23af15-1ed2-4845-8f86-dab6c20b958e",
   "metadata": {},
   "source": [
    "文書の特徴量をトピックで表す"
   ]
  },
  {
   "cell_type": "code",
   "execution_count": 18,
   "id": "ebc8e038-87a9-4706-99a9-eb4f3448001f",
   "metadata": {},
   "outputs": [],
   "source": [
    "transformed = lda.transform(tf)"
   ]
  },
  {
   "cell_type": "code",
   "execution_count": 19,
   "id": "b35da04f-1593-4953-bf0b-958569aa2d6b",
   "metadata": {},
   "outputs": [
    {
     "data": {
      "text/plain": [
       "(11314, 20)"
      ]
     },
     "execution_count": 19,
     "metadata": {},
     "output_type": "execute_result"
    }
   ],
   "source": [
    "transformed.shape"
   ]
  },
  {
   "cell_type": "code",
   "execution_count": 20,
   "id": "58f50145-7998-49e9-9080-f2cf2851b8d0",
   "metadata": {},
   "outputs": [
    {
     "data": {
      "text/plain": [
       "array([0.00172414, 0.00172414, 0.00172414, 0.00172414, 0.00172414,\n",
       "       0.00172414, 0.00172414, 0.50511871, 0.00172414, 0.00172414,\n",
       "       0.00172414, 0.00172414, 0.00172414, 0.00172414, 0.00172414,\n",
       "       0.00172414, 0.46384681, 0.00172414, 0.00172414, 0.00172414])"
      ]
     },
     "execution_count": 20,
     "metadata": {},
     "output_type": "execute_result"
    }
   ],
   "source": [
    "transformed[0]"
   ]
  },
  {
   "cell_type": "code",
   "execution_count": 21,
   "id": "ad1dbf69-c97a-417d-9f74-153f4c82ea67",
   "metadata": {},
   "outputs": [
    {
     "data": {
      "text/plain": [
       "array([0.00151515, 0.00151515, 0.00151515, 0.00151515, 0.00151515,\n",
       "       0.00151515, 0.29017531, 0.00151515, 0.00151515, 0.16497583,\n",
       "       0.00151515, 0.00151515, 0.00151515, 0.46453067, 0.00151515,\n",
       "       0.00151515, 0.00151515, 0.00151515, 0.05607576, 0.00151515])"
      ]
     },
     "execution_count": 21,
     "metadata": {},
     "output_type": "execute_result"
    }
   ],
   "source": [
    "transformed[1]"
   ]
  },
  {
   "cell_type": "markdown",
   "id": "3d0da25b-70ca-4ce4-a720-8fe0f380cd49",
   "metadata": {},
   "source": [
    "文書がどのトピックに所属しているかをグラフで表現"
   ]
  },
  {
   "cell_type": "code",
   "execution_count": 22,
   "id": "bfec17aa-5e46-4087-a3d1-4472521a1fbe",
   "metadata": {},
   "outputs": [
    {
     "data": {
      "image/png": "[encoded data removed]",
      "text/plain": [
       "<Figure size 576x288 with 1 Axes>"
      ]
     },
     "metadata": {
      "needs_background": "light"
     },
     "output_type": "display_data"
    }
   ],
   "source": [
    "doc_id = 0\n",
    "\n",
    "plt.figure(figsize=(8, 4))\n",
    "topics = range(len(transformed[doc_id]))\n",
    "plt.bar(topics, height=transformed[doc_id], width=0.8)\n",
    "plt.xticks(topics)\n",
    "plt.show()"
   ]
  },
  {
   "cell_type": "markdown",
   "id": "b5b75424-b3f7-476e-a809-7ff488156db0",
   "metadata": {},
   "source": [
    "一つの文書が20個のトピックに所属する確率がでているので、複数のトピックに所属するように出力される。"
   ]
  },
  {
   "cell_type": "code",
   "execution_count": 23,
   "id": "7755828d-8c5b-495a-a657-bfe84968cb81",
   "metadata": {},
   "outputs": [],
   "source": [
    "data_array = np.array(newsgroups.data)  # このあと使うために ndarray化"
   ]
  },
  {
   "cell_type": "markdown",
   "id": "08df70c0-ec5c-4702-bb83-b13edb03669d",
   "metadata": {},
   "source": [
    "トピックに所属する文書を確認する"
   ]
  },
  {
   "cell_type": "code",
   "execution_count": 24,
   "id": "58d0186c-9bac-4250-9b39-9c5e9fcf0f37",
   "metadata": {},
   "outputs": [],
   "source": [
    "def topic_summary(transformed, topic_id):\n",
    "    indexes = np.argsort(transformed[:, topic_id])[::-1][:10]\n",
    "#     print(indexes)\n",
    "    docs = data_array[indexes]\n",
    "    for i, doc in enumerate(docs):\n",
    "        text = doc[:200].replace('\\n', ' ')\n",
    "        print(f\"{i}: {indexes[i]} : {text}\")\n",
    "        print(\"===\")"
   ]
  },
  {
   "cell_type": "code",
   "execution_count": 25,
   "id": "50c083d8-b55f-4197-956b-3f694b4bd53a",
   "metadata": {},
   "outputs": [
    {
     "name": "stdout",
     "output_type": "stream",
     "text": [
      "0: 5780 :  In Texas, it is legal to carry handguns while \"traveling\", and also to and from sporting activities.           ^^^^^^^^  Chapter 46 of the Texas State Penal Code does NOT restrict long guns. Therefor\n",
      "===\n",
      "1: 3342 :  I don't have the wiretap statute handy.  But here's what the law says on pen registers.  This is all from Title 18 of the U.S. Code.  Note how vague S. 3125(a)(1)(B) is....  I haven't had a chance to\n",
      "===\n",
      "2: 7078 :    I get it.  One organization wants to abolish age of consent laws, whereas in contrast the other wants to abolish age of consent laws. This makes it respectable to belong to one organization, but no\n",
      "===\n",
      "3: 920 : [Note, Ohio legislation unlike Federal legislation, shows the entire law as it would be changed by the legislation.  These parts are in ALL CAPITALS, the rest (i.e., current law is in regular type)]. \n",
      "===\n",
      "4: 6585 :  And not only that, but if the drugs were legal we could have pharmacists instead of pushers selling them, and the pharmacists could be obligated to not only inform the purchasers of the dangers of dr\n",
      "===\n",
      "5: 5358 : The comparison of the Palestinian situation with the Holocaust is insulting and completely false.  Any person making such a rude and false comparison is either ignorant of the Holocaust, or also ignor\n",
      "===\n",
      "6: 968 :  For the first Move incident (no bomb, several members killed in gunfire, circa 1978) the mayor was the very white Frank Rizzo.   For the second (bomb included) the mayor was Wilson Goode, who  is ind\n",
      "===\n",
      "7: 9518 : and and  about Coca-Cola and Pepsi Cola and what they can teach us.   Surely, if we must use pop patent law examples to discuss RC2 and RC4, it would make more sense to consider the case of RC Cola?\n",
      "===\n",
      "8: 10609 :       If I recall correctly, the bill would provide for concealed carry if the person takes a 15-hr DPS safety course in firearms and pays a $150 fee for the license.  The bill is apparently veto-proo\n",
      "===\n",
      "9: 4337 :  ... or consider the thousands in Central America killed by those brave CIA/NSC sponsored \"Freedom Fighters.\"  Thus far, Slick Willie is a piker.  \t\t\t\t\t\t\tspl \n",
      "===\n"
     ]
    }
   ],
   "source": [
    "topic_summary(transformed, 2)"
   ]
  },
  {
   "cell_type": "markdown",
   "id": "a639b9c9-a0d5-455e-901a-a8fddba19e04",
   "metadata": {},
   "source": [
    "# 似ているものを見つける\n",
    "\n",
    "K-means法でクラスタリングを行なってみます。\n",
    "\n",
    "ここまででは、文書が20個トピックに所属する確率がでています。同じようなトピックに所属しているかをもう少しまとめてみます。"
   ]
  },
  {
   "cell_type": "code",
   "execution_count": 26,
   "id": "68bee737-fc77-4209-a8e5-1ef611585409",
   "metadata": {},
   "outputs": [],
   "source": [
    "from sklearn.cluster import KMeans"
   ]
  },
  {
   "cell_type": "markdown",
   "id": "8e808da4-2582-4682-8461-21b09da7021e",
   "metadata": {},
   "source": [
    "適切なクラスタリング数をエルボー法で見てみます。"
   ]
  },
  {
   "cell_type": "code",
   "execution_count": 27,
   "id": "57190631-ada5-48dd-96d4-a6b4c9fb6824",
   "metadata": {},
   "outputs": [
    {
     "data": {
      "text/plain": [
       "[4228.4997073589975,\n",
       " 3555.0105624863336,\n",
       " 3069.212003543397,\n",
       " 2689.341315984293,\n",
       " 2335.0808567670447,\n",
       " 2079.0186586887044,\n",
       " 1914.2217295822256,\n",
       " 1783.4774994949091,\n",
       " 1699.3270450782843,\n",
       " 1585.028733688243,\n",
       " 1494.5303621614253,\n",
       " 1419.0377575938196,\n",
       " 1334.13756418299,\n",
       " 1252.0970305988103,\n",
       " 1201.4014252302954,\n",
       " 1129.9366911340144,\n",
       " 1101.9513337570586,\n",
       " 1076.7796198932472,\n",
       " 1026.545876024224]"
      ]
     },
     "execution_count": 27,
     "metadata": {},
     "output_type": "execute_result"
    }
   ],
   "source": [
    "dist = []\n",
    "for i in range(1, 20):\n",
    "    km = KMeans(n_clusters=i)\n",
    "    km.fit(transformed)\n",
    "    dist.append(km.inertia_)\n",
    "dist"
   ]
  },
  {
   "cell_type": "code",
   "execution_count": 28,
   "id": "06710b68-2a41-40fa-a170-fa5bdeba0d6f",
   "metadata": {},
   "outputs": [
    {
     "data": {
      "image/png": "[encoded data removed]",
      "text/plain": [
       "<Figure size 432x288 with 1 Axes>"
      ]
     },
     "metadata": {
      "needs_background": "light"
     },
     "output_type": "display_data"
    }
   ],
   "source": [
    "fig, ax = plt.subplots()\n",
    "ax.plot(range(1, 20), dist, marker=\"o\")\n",
    "ax.set_xlabel('Number of clusters')\n",
    "ax.set_ylabel('Distortion')\n",
    "plt.show()"
   ]
  },
  {
   "cell_type": "markdown",
   "id": "16ac302a-c7ef-44e6-8d2a-7a4c8de6284a",
   "metadata": {},
   "source": [
    "ここでは、10個でクラスタリングを行なってみます。"
   ]
  },
  {
   "cell_type": "code",
   "execution_count": 29,
   "id": "d64db492-62a9-4b78-b7c0-a3afece43b78",
   "metadata": {},
   "outputs": [],
   "source": [
    "n_clusters = 10\n",
    "km = KMeans(n_clusters=n_clusters)"
   ]
  },
  {
   "cell_type": "code",
   "execution_count": 30,
   "id": "a6c40507-dd3c-4eb2-b2a3-9f759b2fb78d",
   "metadata": {},
   "outputs": [],
   "source": [
    "pred = km.fit_predict(transformed)"
   ]
  },
  {
   "cell_type": "code",
   "execution_count": 31,
   "id": "9c3c22dc-cc0c-4134-b4c1-bc3c7872741c",
   "metadata": {},
   "outputs": [
    {
     "data": {
      "text/plain": [
       "7"
      ]
     },
     "execution_count": 31,
     "metadata": {},
     "output_type": "execute_result"
    }
   ],
   "source": [
    "pred[0]"
   ]
  },
  {
   "cell_type": "code",
   "execution_count": 32,
   "id": "2ed88cff-3352-4218-8c48-5971ab531a42",
   "metadata": {},
   "outputs": [
    {
     "data": {
      "text/plain": [
       "3"
      ]
     },
     "execution_count": 32,
     "metadata": {},
     "output_type": "execute_result"
    }
   ],
   "source": [
    "pred[4092]"
   ]
  },
  {
   "cell_type": "code",
   "execution_count": 33,
   "id": "3906ef19-ba6c-42c7-867d-941687f80b89",
   "metadata": {},
   "outputs": [
    {
     "data": {
      "text/plain": [
       "7"
      ]
     },
     "execution_count": 33,
     "metadata": {},
     "output_type": "execute_result"
    }
   ],
   "source": [
    "pred[8281]"
   ]
  },
  {
   "cell_type": "markdown",
   "id": "4563766a-d0b7-4945-9889-a8a871cee61d",
   "metadata": {},
   "source": [
    "関数化し、同じクラスタの文書を出力"
   ]
  },
  {
   "cell_type": "code",
   "execution_count": 34,
   "id": "6e7f0207-584f-4b2f-bdca-af6f431b64c1",
   "metadata": {},
   "outputs": [],
   "source": [
    "def similar_doc_ids(pred_, data, doc_id):\n",
    "    similar_id = pred_[doc_id]\n",
    "    indexes = np.where(pred_==similar_id)\n",
    "#     print(f\"Number of similar: {indexes[0].size}\")\n",
    "    return indexes[0]"
   ]
  },
  {
   "cell_type": "markdown",
   "id": "41000e0b-3cc3-419c-a740-c14bda5f079e",
   "metadata": {},
   "source": [
    "文書数が多いので、ランダムに出力"
   ]
  },
  {
   "cell_type": "code",
   "execution_count": 35,
   "id": "8612e59a-4d47-410b-9126-1f7283c5f3bb",
   "metadata": {},
   "outputs": [
    {
     "data": {
      "text/plain": [
       "array([ 4808,  2627,  5092, 10797,  3496,  8776, 10236,  1374, 10617,\n",
       "        1092])"
      ]
     },
     "execution_count": 35,
     "metadata": {},
     "output_type": "execute_result"
    }
   ],
   "source": [
    "np.random.choice(similar_doc_ids(pred, data_array, 0), 10)"
   ]
  },
  {
   "cell_type": "code",
   "execution_count": 36,
   "id": "45d40e84-7165-4a64-a148-8003b56b6060",
   "metadata": {},
   "outputs": [
    {
     "name": "stdout",
     "output_type": "stream",
     "text": [
      "I will again *repeat* my statement: 1) I *do not* condone these \n",
      "*indiscriminate* Israeli acts (nor have I *ever*, 2) If the villagers do not know who these \"guerillas\" are (which you stated earlier), how do you expect the\n",
      "Israelis to know? It is **very** difficult to \"identify\" who they are (this\n",
      "*\n",
      "=================\n",
      "\n",
      "\n",
      "Contrary to what the \"Protocols of Zion crowd\" might suggest,\n",
      "Judaism does not have any such goals.\n",
      "\n",
      "\n",
      "The question you ask is complicated and deserves an honest answer.\n",
      "I am going to provide one from my own current perspective, not a historical\n",
      "one.  Currently, as a non-observant jew/Israeli/Americ\n",
      "=================\n",
      "\n",
      "\n",
      "We have no way to know that the cultists burned the house; it could have been\n",
      "the BATF and FBI.  We only have the government's word for it, after all, and\n",
      "people who started it by a no-knock search with concussion grenades are hardly\n",
      "disinterested observers.\n",
      "--\n",
      "\"On the first day after Christmas my \n",
      "=================\n",
      "\n",
      "[ ... ]\n",
      "\n",
      "Then it also supports basing such regulations on ignorance.\n",
      "\n",
      "Miller had disappeared, and nobody bothered to present _his_\n",
      "side to the Supreme Court -- in particular, that sawed-off\n",
      "shotguns were used in the World War I trenches, and in other\n",
      "tight spots ever since guns had been invented.  W\n",
      "=================\n",
      "\n",
      "Source: \"Men Are Like That\" by Leonard Ramsden Hartill. The Bobbs-Merrill\n",
      "Company, Indianapolis (1926). (305 pages). \n",
      "(Memoirs of an Armenian officer who participated in the genocide of 2.5 \n",
      " million Muslim people)\n",
      "\n",
      "\n",
      "p. 204 (first paragraph).\n",
      "\n",
      "\"I was soon asleep. In the night I was awakened by the p\n",
      "=================\n",
      "\n"
     ]
    }
   ],
   "source": [
    "for data in data_array[np.random.choice(similar_doc_ids(pred, data_array, 0), 5)]:\n",
    "    print(data[:300])\n",
    "    print(\"=================\")\n",
    "    print()"
   ]
  }
 ],
 "metadata": {
  "kernelspec": {
   "display_name": "Python 3.9.6 ('venv': venv)",
   "language": "python",
   "name": "python3"
  },
  "language_info": {
   "codemirror_mode": {
    "name": "ipython",
    "version": 3
   },
   "file_extension": ".py",
   "mimetype": "text/x-python",
   "name": "python",
   "nbconvert_exporter": "python",
   "pygments_lexer": "ipython3",
   "version": "3.9.6"
  },
  "vscode": {
   "interpreter": {
    "hash": "93c5697865292fdd0df1432c6bc5dc8f9244b4d72a06ac70cd24d4ff1f17d896"
   }
  }
 },
 "nbformat": 4,
 "nbformat_minor": 5
}
