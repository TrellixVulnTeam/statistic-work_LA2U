{
 "cells": [
  {
   "cell_type": "markdown",
   "id": "43548ea2-4ed7-4fdd-a5f1-8a569199f7ee",
   "metadata": {
    "tags": []
   },
   "source": [
    "# 最終課題\n",
    "\n",
    "独自のデータでデータ分析を行い結果を提出してください。\n",
    "\n",
    "このNotebookを提出すること。その中に以下を入れてください。\n",
    "\n",
    "- どのようなデータを使ったかの説明\n",
    "- 期待する結果や発見したいことは何か？\n",
    "- コードを示す\n",
    "- 出来上がったデータ部分析の結果を出力"
   ]
  },
  {
   "cell_type": "markdown",
   "id": "8befc1bb-b6d7-4000-8690-c2cbde918272",
   "metadata": {},
   "source": [
    "## データ分析の例\n",
    "\n",
    "- 独自のデータでWordCloudを作ってみる（以前提出したものとは別の観点が欲しい）\n",
    "- 独自のデータでトピック分析を行う\n",
    "- データをたくさん集めて、データの特性を知る\n",
    "- 既存のデータやサンプルデータで、さまざまな機械学習を実施する"
   ]
  },
  {
   "cell_type": "markdown",
   "id": "caf93249-c08f-4cc8-b0cb-8215ef504ffa",
   "metadata": {},
   "source": [
    "## 評価\n",
    "\n",
    "以下の観点で評価を行う（それぞれ5点満点）\n",
    "\n",
    "- データ分析の対象や分野の独自性\n",
    "- 期待する結果や発見に対する着目点\n",
    "- コーディング技術\n",
    "- 分析結果から発見したものの有用性\n",
    "- さまざまな工夫がされたか、実験コードなどを書き試したか？"
   ]
  },
  {
   "cell_type": "markdown",
   "id": "049f0657-0005-499b-a4ed-e202b516c773",
   "metadata": {
    "tags": []
   },
   "source": [
    "## データの説明\n",
    "\n",
    "ここにデータの概要を記載"
   ]
  },
  {
   "cell_type": "markdown",
   "id": "78c48ff6-b71a-4eb4-b6d8-eb2b1a1ec8bf",
   "metadata": {},
   "source": [
    "## 期待する結果\n",
    "\n",
    "ここに内容を記載"
   ]
  },
  {
   "cell_type": "code",
   "execution_count": 1,
   "id": "36045718-141a-4ab0-89bf-cd4cfa33d0da",
   "metadata": {},
   "outputs": [],
   "source": [
    "# コードを記載\n",
    "# 複数のセルを使って良い"
   ]
  },
  {
   "cell_type": "code",
   "execution_count": null,
   "id": "81a91d36-6bb4-4886-92c3-9854a4017af2",
   "metadata": {},
   "outputs": [],
   "source": []
  },
  {
   "cell_type": "code",
   "execution_count": null,
   "id": "c9e878ce-d1d2-4490-9d53-7e29fb092088",
   "metadata": {},
   "outputs": [],
   "source": []
  },
  {
   "cell_type": "code",
   "execution_count": null,
   "id": "15414c5e-0c4a-4be2-a8fd-cfeb7cef9fca",
   "metadata": {},
   "outputs": [],
   "source": []
  },
  {
   "cell_type": "markdown",
   "id": "a9207e97-d95a-4e6a-9902-9ac9b8f97596",
   "metadata": {},
   "source": [
    "## 工夫した点\n",
    "\n",
    "ここに内容を記載"
   ]
  }
 ],
 "metadata": {
  "kernelspec": {
   "display_name": "Python 3 (ipykernel)",
   "language": "python",
   "name": "python3"
  },
  "language_info": {
   "codemirror_mode": {
    "name": "ipython",
    "version": 3
   },
   "file_extension": ".py",
   "mimetype": "text/x-python",
   "name": "python",
   "nbconvert_exporter": "python",
   "pygments_lexer": "ipython3",
   "version": "3.9.1"
  }
 },
 "nbformat": 4,
 "nbformat_minor": 5
}
