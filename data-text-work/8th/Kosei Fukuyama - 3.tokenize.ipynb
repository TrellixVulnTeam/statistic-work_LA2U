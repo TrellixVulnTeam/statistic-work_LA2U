{
 "cells": [
  {
   "cell_type": "markdown",
   "id": "f405920c",
   "metadata": {},
   "source": [
    "# Janomeを使った単語化\n",
    "\n",
    "以下手順を順に行っていきます。\n",
    "\n",
    "- 前週に取得した一橋大学のニュース文章を利用\n",
    "- 単語化\n",
    "- 名詞のみを取得\n",
    "- 不要な単語を設定\n",
    "- 文字をノーマライズ\n",
    "- 単語の登場頻度Top10を出力"
   ]
  },
  {
   "cell_type": "markdown",
   "id": "703a467b",
   "metadata": {},
   "source": [
    "## ニュースの文字をファイルから取得"
   ]
  },
  {
   "cell_type": "code",
   "execution_count": 1,
   "id": "b0e9375b",
   "metadata": {},
   "outputs": [],
   "source": [
    "# ColabでPathがうまく取れない場合は次のセルを参照\n",
    "with open(\"20210502-news-text.txt\", \"r\", encoding=\"utf-8\") as f:\n",
    "    text = f.read()"
   ]
  },
  {
   "cell_type": "code",
   "execution_count": 2,
   "id": "cfeff6a4-848d-4649-8f75-d6748cd34fc0",
   "metadata": {},
   "outputs": [],
   "source": [
    "# Colabでファイルが取得できない場合\n",
    "import csv\n",
    "import urllib.request\n",
    "import base64\n",
    "import io\n",
    "url = \"https://hit-u-data-text-processing.herokuapp.com/data/20210502-news-text.txt\"\n",
    "auth_str = base64.b64encode(b\"reader:hit-u\")\n",
    "req = urllib.request.Request(url,\n",
    "                            headers={\"Authorization\": \"Basic \" + auth_str.decode(\"utf-8\")})\n",
    "\n",
    "links = []\n",
    "with urllib.request.urlopen(req) as req:\n",
    "    text = req.read().decode(\"utf-8\")"
   ]
  },
  {
   "cell_type": "code",
   "execution_count": 3,
   "id": "f49ee262",
   "metadata": {},
   "outputs": [
    {
     "data": {
      "text/plain": [
       "14914"
      ]
     },
     "execution_count": 3,
     "metadata": {},
     "output_type": "execute_result"
    }
   ],
   "source": [
    "len(text)"
   ]
  },
  {
   "cell_type": "code",
   "execution_count": 4,
   "id": "03781b18",
   "metadata": {},
   "outputs": [
    {
     "data": {
      "text/plain": [
       "'\\n一橋大学がソニー、パナソニック、富士通、資生堂と共同で、 デザイン組織の共通評価指標を検討・作成\\n2021年4月30日\\n\\n 一橋大学は、経営管理研究科内に設置した「データ・デザイン研究センター」において、ソニーグループ株式会社クリエイティブセンター、パナソニック株式会社デザイン本部、富士通株式会社デザインセンター及び株式会社資生堂クリエイティブ本部と共同で、社内デザイン組織の活動や成果を共通の視'"
      ]
     },
     "execution_count": 4,
     "metadata": {},
     "output_type": "execute_result"
    }
   ],
   "source": [
    "text[:200]"
   ]
  },
  {
   "cell_type": "markdown",
   "id": "c746840f",
   "metadata": {},
   "source": [
    "## 単語化"
   ]
  },
  {
   "cell_type": "code",
   "execution_count": 5,
   "id": "fdb63723",
   "metadata": {},
   "outputs": [],
   "source": [
    "from janome.tokenizer import Tokenizer"
   ]
  },
  {
   "cell_type": "code",
   "execution_count": 6,
   "id": "b10db4a5",
   "metadata": {},
   "outputs": [],
   "source": [
    "t = Tokenizer()\n",
    "words = list(t.tokenize(text, wakati=True))"
   ]
  },
  {
   "cell_type": "code",
   "execution_count": 7,
   "id": "eee19075",
   "metadata": {},
   "outputs": [
    {
     "data": {
      "text/plain": [
       "7651"
      ]
     },
     "execution_count": 7,
     "metadata": {},
     "output_type": "execute_result"
    }
   ],
   "source": [
    "len(words)"
   ]
  },
  {
   "cell_type": "code",
   "execution_count": 8,
   "id": "62eda632",
   "metadata": {},
   "outputs": [
    {
     "data": {
      "text/plain": [
       "['一橋大学', 'が', 'ソニー', '、', 'パナソニック', '、', '富士通', '、', '資生堂', 'と']"
      ]
     },
     "execution_count": 8,
     "metadata": {},
     "output_type": "execute_result"
    }
   ],
   "source": [
    "words[:10]"
   ]
  },
  {
   "cell_type": "markdown",
   "id": "62d9b14a",
   "metadata": {},
   "source": [
    "## Janomeにフィルターなどを設定する"
   ]
  },
  {
   "cell_type": "code",
   "execution_count": 9,
   "id": "554de01d",
   "metadata": {},
   "outputs": [],
   "source": [
    "from janome.tokenfilter import TokenFilter\n",
    "from janome.tokenfilter import CompoundNounFilter\n",
    "from janome.tokenfilter import POSKeepFilter\n",
    "from janome.tokenfilter import LowerCaseFilter\n",
    "from janome.charfilter import UnicodeNormalizeCharFilter\n",
    "from janome.analyzer import Analyzer"
   ]
  },
  {
   "cell_type": "code",
   "execution_count": 10,
   "id": "c05bd894",
   "metadata": {},
   "outputs": [],
   "source": [
    "class StopWordFilter(TokenFilter):\n",
    "    def __init__(self, words):\n",
    "        self.stop_words = words\n",
    "    \n",
    "    def apply(self, tokens):\n",
    "        for token in tokens:\n",
    "            if token.surface not in self.stop_words:\n",
    "                yield token"
   ]
  },
  {
   "cell_type": "code",
   "execution_count": 11,
   "id": "7c0af888",
   "metadata": {},
   "outputs": [],
   "source": [
    "stop_word_filter = StopWordFilter([\"大学\", \"一橋大学\"])"
   ]
  },
  {
   "cell_type": "code",
   "execution_count": 12,
   "id": "4ad05016",
   "metadata": {},
   "outputs": [],
   "source": [
    "token_filters = [CompoundNounFilter(),\n",
    "                POSKeepFilter([\"名詞\"]),\n",
    "                LowerCaseFilter(),\n",
    "                stop_word_filter]"
   ]
  },
  {
   "cell_type": "code",
   "execution_count": 13,
   "id": "33ec6611",
   "metadata": {},
   "outputs": [],
   "source": [
    "char_filters = [UnicodeNormalizeCharFilter()]"
   ]
  },
  {
   "cell_type": "code",
   "execution_count": 14,
   "id": "03433243",
   "metadata": {},
   "outputs": [],
   "source": [
    "tokenizer = Tokenizer()"
   ]
  },
  {
   "cell_type": "code",
   "execution_count": 15,
   "id": "3e7439d7",
   "metadata": {},
   "outputs": [],
   "source": [
    "analyzer = Analyzer(char_filters=char_filters, \n",
    "                    tokenizer=tokenizer, \n",
    "                    token_filters=token_filters)"
   ]
  },
  {
   "cell_type": "code",
   "execution_count": 16,
   "id": "587c70ff",
   "metadata": {},
   "outputs": [],
   "source": [
    "noun_words = []\n",
    "for token in analyzer.analyze(text):\n",
    "    noun_words.append(token.base_form)"
   ]
  },
  {
   "cell_type": "code",
   "execution_count": 17,
   "id": "404eee95",
   "metadata": {},
   "outputs": [
    {
     "data": {
      "text/plain": [
       "1841"
      ]
     },
     "execution_count": 17,
     "metadata": {},
     "output_type": "execute_result"
    }
   ],
   "source": [
    "len(noun_words)"
   ]
  },
  {
   "cell_type": "code",
   "execution_count": 18,
   "id": "4a210730",
   "metadata": {},
   "outputs": [
    {
     "data": {
      "text/plain": [
       "['ソニー',\n",
       " 'パナソニック',\n",
       " '富士通',\n",
       " '資生堂',\n",
       " '共同',\n",
       " 'デザイン組織',\n",
       " '共通評価指標',\n",
       " '検討',\n",
       " '作成',\n",
       " '2021年4月30日']"
      ]
     },
     "execution_count": 18,
     "metadata": {},
     "output_type": "execute_result"
    }
   ],
   "source": [
    "noun_words[:10]"
   ]
  },
  {
   "cell_type": "markdown",
   "id": "76acc4c4",
   "metadata": {},
   "source": [
    "## 登場頻度Top10\n",
    "\n",
    "第４回で使った `from collections import Counter` を使う"
   ]
  },
  {
   "cell_type": "code",
   "execution_count": 19,
   "id": "87d4d47c",
   "metadata": {},
   "outputs": [],
   "source": [
    "from collections import Counter"
   ]
  },
  {
   "cell_type": "code",
   "execution_count": 20,
   "id": "0f8a2e9d",
   "metadata": {},
   "outputs": [],
   "source": [
    "c = Counter(noun_words)"
   ]
  },
  {
   "cell_type": "code",
   "execution_count": 21,
   "id": "6a4d7e6e",
   "metadata": {},
   "outputs": [
    {
     "data": {
      "text/plain": [
       "[('===', 18),\n",
       " ('こと', 14),\n",
       " ('the', 14),\n",
       " ('ため', 13),\n",
       " ('よう', 12),\n",
       " ('参加', 12),\n",
       " ('世界', 12),\n",
       " ('結果', 11),\n",
       " ('デザイン組織', 10),\n",
       " ('裁判員裁判', 10)]"
      ]
     },
     "execution_count": 21,
     "metadata": {},
     "output_type": "execute_result"
    }
   ],
   "source": [
    "c.most_common(10)"
   ]
  }
 ],
 "metadata": {
  "kernelspec": {
   "display_name": "Python 3 (ipykernel)",
   "language": "python",
   "name": "python3"
  },
  "language_info": {
   "codemirror_mode": {
    "name": "ipython",
    "version": 3
   },
   "file_extension": ".py",
   "mimetype": "text/x-python",
   "name": "python",
   "nbconvert_exporter": "python",
   "pygments_lexer": "ipython3",
   "version": "3.9.1"
  }
 },
 "nbformat": 4,
 "nbformat_minor": 5
}
