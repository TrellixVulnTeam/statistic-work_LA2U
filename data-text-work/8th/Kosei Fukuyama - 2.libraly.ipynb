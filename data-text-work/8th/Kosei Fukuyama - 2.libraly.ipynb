{
 "cells": [
  {
   "cell_type": "markdown",
   "id": "ee113df9",
   "metadata": {},
   "source": [
    "# 自然言語処理用ライブラリ\n",
    "\n",
    "- unicodedata (Python標準ライブラリ)"
   ]
  },
  {
   "cell_type": "code",
   "execution_count": 1,
   "id": "9b05fce3",
   "metadata": {},
   "outputs": [],
   "source": [
    "text = \"私の名前は寺田学です。１０年以上Twitterに使って情報発信をしています。\""
   ]
  },
  {
   "cell_type": "code",
   "execution_count": 2,
   "id": "dc1653ad",
   "metadata": {},
   "outputs": [],
   "source": [
    "from unicodedata import normalize"
   ]
  },
  {
   "cell_type": "code",
   "execution_count": 3,
   "id": "129c1a10",
   "metadata": {},
   "outputs": [
    {
     "data": {
      "text/plain": [
       "'私の名前は寺田学です。10年以上Twitterに使って情報発信をしています。'"
      ]
     },
     "execution_count": 3,
     "metadata": {},
     "output_type": "execute_result"
    }
   ],
   "source": [
    "normalized_text = normalize(\"NFKD\", text)\n",
    "normalized_text"
   ]
  },
  {
   "cell_type": "code",
   "execution_count": 4,
   "id": "95b50de4",
   "metadata": {},
   "outputs": [
    {
     "data": {
      "text/plain": [
       "'私の名前は寺田学です。10年以上twitterに使って情報発信をしています。'"
      ]
     },
     "execution_count": 4,
     "metadata": {},
     "output_type": "execute_result"
    }
   ],
   "source": [
    "normalized_text.lower()"
   ]
  },
  {
   "cell_type": "code",
   "execution_count": 5,
   "id": "a016fd15",
   "metadata": {},
   "outputs": [],
   "source": [
    "from pprint import pprint\n",
    "from difflib import Differ"
   ]
  },
  {
   "cell_type": "code",
   "execution_count": 6,
   "id": "022a366d",
   "metadata": {},
   "outputs": [],
   "source": [
    "d = Differ()"
   ]
  },
  {
   "cell_type": "code",
   "execution_count": 7,
   "id": "696d5f57",
   "metadata": {},
   "outputs": [
    {
     "name": "stdout",
     "output_type": "stream",
     "text": [
      "['  私',\n",
      " '  の',\n",
      " '  名',\n",
      " '  前',\n",
      " '  は',\n",
      " '  寺',\n",
      " '  田',\n",
      " '  学',\n",
      " '- で',\n",
      " '+ て',\n",
      " '+ ゙',\n",
      " '  す',\n",
      " '  。',\n",
      " '- １',\n",
      " '- ０',\n",
      " '+ 1',\n",
      " '+ 0',\n",
      " '  年',\n",
      " '  以',\n",
      " '  上',\n",
      " '  T',\n",
      " '  w',\n",
      " '  i',\n",
      " '  t',\n",
      " '  t',\n",
      " '  e',\n",
      " '  r',\n",
      " '  に',\n",
      " '  使',\n",
      " '  っ',\n",
      " '  て',\n",
      " '  情',\n",
      " '  報',\n",
      " '  発',\n",
      " '  信',\n",
      " '  を',\n",
      " '  し',\n",
      " '  て',\n",
      " '  い',\n",
      " '  ま',\n",
      " '  す',\n",
      " '  。']\n"
     ]
    }
   ],
   "source": [
    "pprint(list(d.compare(text, normalized_text)))"
   ]
  },
  {
   "cell_type": "markdown",
   "id": "65499d24",
   "metadata": {},
   "source": [
    "# 形態素解析エンジンの種類\n",
    "\n",
    "- MeCab (Pythonバインディングがある)\n",
    "- Janome (Pure Python)\n",
    "- Ginza (spaCyベースの日本語用)\n",
    "- Kuromoji (Java)\n",
    "- NLTK (英語には対応)"
   ]
  },
  {
   "cell_type": "markdown",
   "id": "8f9808e5",
   "metadata": {},
   "source": [
    "# Janomeの利用\n",
    "\n",
    "この授業では、設定が簡単なJanomeを使います。\n",
    "\n",
    "https://mocobeta.github.io/janome/\n",
    "\n",
    "公式ドキュメントより\n",
    "\n",
    "```\n",
    "Janome (蛇の目; ◉) は，Pure Python で書かれた，辞書内包の形態素解析器です。\n",
    "\n",
    "依存ライブラリなしで簡単にインストールでき，アプリケーションに組み込みやすいシンプルな API を備える形態素解析ライブラリを目指しています。\n",
    "\n",
    "内包辞書として mecab-ipadic-2.7.0-20070801 を使っています。なお，v0.3.8+ では新元号「令和」がシステム辞書に追加されています。\n",
    "```"
   ]
  },
  {
   "cell_type": "markdown",
   "id": "5bed70ab",
   "metadata": {},
   "source": [
    "# インストール・設定\n",
    "\n",
    "Jupyter上で以下を実行するとインストールされる\n",
    "\n",
    "```\n",
    "!pip install janome\n",
    "```\n",
    "\n",
    "\n",
    "または、ターミナルから以下のコマンドを実行\n",
    "\n",
    "```\n",
    "(venv) > pip install janome\n",
    "```\n",
    "\n",
    "設定不要で、簡単に使える"
   ]
  },
  {
   "cell_type": "code",
   "execution_count": 8,
   "id": "28028923",
   "metadata": {},
   "outputs": [],
   "source": [
    "# !pip install janome"
   ]
  },
  {
   "cell_type": "markdown",
   "id": "af5b1235",
   "metadata": {},
   "source": [
    "試しに使ってみる"
   ]
  },
  {
   "cell_type": "code",
   "execution_count": 9,
   "id": "14c82f97",
   "metadata": {},
   "outputs": [],
   "source": [
    "from janome.tokenizer import Tokenizer"
   ]
  },
  {
   "cell_type": "code",
   "execution_count": 10,
   "id": "dcf86bee",
   "metadata": {},
   "outputs": [
    {
     "name": "stdout",
     "output_type": "stream",
     "text": [
      "私\t名詞,代名詞,一般,*,*,*,私,ワタシ,ワタシ\n",
      "の\t助詞,連体化,*,*,*,*,の,ノ,ノ\n",
      "名前\t名詞,一般,*,*,*,*,名前,ナマエ,ナマエ\n",
      "は\t助詞,係助詞,*,*,*,*,は,ハ,ワ\n",
      "寺田\t名詞,固有名詞,人名,姓,*,*,寺田,テラダ,テラダ\n",
      "学\t名詞,固有名詞,人名,名,*,*,学,マナブ,マナブ\n",
      "です\t助動詞,*,*,*,特殊・デス,基本形,です,デス,デス\n",
      "。\t記号,句点,*,*,*,*,。,。,。\n",
      "１\t名詞,数,*,*,*,*,１,イチ,イチ\n",
      "０\t名詞,数,*,*,*,*,０,ゼロ,ゼロ\n",
      "年\t名詞,接尾,助数詞,*,*,*,年,ネン,ネン\n",
      "以上\t名詞,非自立,副詞可能,*,*,*,以上,イジョウ,イジョー\n",
      "Twitter\t名詞,一般,*,*,*,*,Twitter,*,*\n",
      "に\t助詞,格助詞,一般,*,*,*,に,ニ,ニ\n",
      "使っ\t動詞,自立,*,*,五段・ワ行促音便,連用タ接続,使う,ツカッ,ツカッ\n",
      "て\t助詞,接続助詞,*,*,*,*,て,テ,テ\n",
      "情報\t名詞,一般,*,*,*,*,情報,ジョウホウ,ジョーホー\n",
      "発信\t名詞,サ変接続,*,*,*,*,発信,ハッシン,ハッシン\n",
      "を\t助詞,格助詞,一般,*,*,*,を,ヲ,ヲ\n",
      "し\t動詞,自立,*,*,サ変・スル,連用形,する,シ,シ\n",
      "て\t助詞,接続助詞,*,*,*,*,て,テ,テ\n",
      "い\t動詞,非自立,*,*,一段,連用形,いる,イ,イ\n",
      "ます\t助動詞,*,*,*,特殊・マス,基本形,ます,マス,マス\n",
      "。\t記号,句点,*,*,*,*,。,。,。\n"
     ]
    }
   ],
   "source": [
    "t = Tokenizer()\n",
    "for token in t.tokenize(text):\n",
    "    print(token)"
   ]
  },
  {
   "cell_type": "code",
   "execution_count": 11,
   "id": "eb4a471e",
   "metadata": {},
   "outputs": [
    {
     "data": {
      "text/plain": [
       "['私',\n",
       " 'の',\n",
       " '名前',\n",
       " 'は',\n",
       " '寺田',\n",
       " '学',\n",
       " 'です',\n",
       " '。',\n",
       " '１',\n",
       " '０',\n",
       " '年',\n",
       " '以上',\n",
       " 'Twitter',\n",
       " 'に',\n",
       " '使っ',\n",
       " 'て',\n",
       " '情報',\n",
       " '発信',\n",
       " 'を',\n",
       " 'し',\n",
       " 'て',\n",
       " 'い',\n",
       " 'ます',\n",
       " '。']"
      ]
     },
     "execution_count": 11,
     "metadata": {},
     "output_type": "execute_result"
    }
   ],
   "source": [
    "t = Tokenizer()\n",
    "list(t.tokenize(text, wakati=True))"
   ]
  }
 ],
 "metadata": {
  "kernelspec": {
   "display_name": "Python 3.9.6 64-bit",
   "language": "python",
   "name": "python3"
  },
  "language_info": {
   "codemirror_mode": {
    "name": "ipython",
    "version": 3
   },
   "file_extension": ".py",
   "mimetype": "text/x-python",
   "name": "python",
   "nbconvert_exporter": "python",
   "pygments_lexer": "ipython3",
   "version": "3.9.6"
  },
  "vscode": {
   "interpreter": {
    "hash": "14afc0b70d323b4d47ec186bcf8b5c79bd332a70db0127316b9049aadeff4633"
   }
  }
 },
 "nbformat": 4,
 "nbformat_minor": 5
}
