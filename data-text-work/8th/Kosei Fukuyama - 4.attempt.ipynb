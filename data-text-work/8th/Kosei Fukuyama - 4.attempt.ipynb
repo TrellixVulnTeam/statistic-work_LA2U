{
 "cells": [
  {
   "cell_type": "markdown",
   "id": "cdc5a1d6",
   "metadata": {},
   "source": [
    "# 挑戦しよう\n",
    "\n",
    "以下のいずれかの挑戦をやってみましょう。\n",
    "\n",
    "- 名詞以外も含めた結果を出そう\n",
    "- 不要な単語設定を追加して結果を調整しよう\n",
    "- 新たなアイデアを取り入れてより良い結果を求めてみよう\n",
    "- 他のデータで挑戦してみよう\n",
    "- 英語の場合の結果で確認しよう"
   ]
  },
  {
   "cell_type": "code",
   "execution_count": null,
   "id": "435acd0e",
   "metadata": {},
   "outputs": [],
   "source": []
  },
  {
   "cell_type": "code",
   "execution_count": null,
   "id": "37ba527b",
   "metadata": {},
   "outputs": [],
   "source": []
  }
 ],
 "metadata": {
  "kernelspec": {
   "display_name": "Python 3",
   "language": "python",
   "name": "python3"
  },
  "language_info": {
   "codemirror_mode": {
    "name": "ipython",
    "version": 3
   },
   "file_extension": ".py",
   "mimetype": "text/x-python",
   "name": "python",
   "nbconvert_exporter": "python",
   "pygments_lexer": "ipython3",
   "version": "3.8.5"
  }
 },
 "nbformat": 4,
 "nbformat_minor": 5
}
