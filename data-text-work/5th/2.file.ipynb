{
 "cells": [
  {
   "cell_type": "markdown",
   "id": "a3addffd-f034-4167-ad7c-139b03da3e7f",
   "metadata": {
    "tags": []
   },
   "source": [
    "# ファイルの扱い"
   ]
  },
  {
   "cell_type": "markdown",
   "id": "b4836087-381f-452d-a55d-37cb2af20f6d",
   "metadata": {},
   "source": [
    "テキストファイルやバイナリファイルの扱い方を学習します。"
   ]
  },
  {
   "cell_type": "markdown",
   "id": "d69edf85-1a93-4b09-a735-172329bf8aeb",
   "metadata": {},
   "source": [
    "## ファイルを開く\n",
    "\n",
    "OS上にあるファイルを開き、Pythonのオブジェクトとして扱う方法を確認します。\n",
    "\n",
    "ファイルとは、OS(WindowsやmacOS) で読み書きできるものです。\n",
    "テキストファイルやCSVファイル、MS-Wordなどのアプリケーションが扱うファイルなどをいいます。\n",
    "Pythonでそれらのファイルを読み書き可能です。\n"
   ]
  },
  {
   "cell_type": "markdown",
   "id": "8b1ce097-a66b-485d-918b-66cebed944f4",
   "metadata": {},
   "source": [
    "### open関数の使い方\n",
    "\n",
    "ファイルの扱いは、組み込み関数 open を使います。\n",
    "open関数の引数にファイル名を与え、変数に代入し、代入された変数が、ファイルのオブジェクトとなります。\n"
   ]
  },
  {
   "cell_type": "code",
   "execution_count": 1,
   "id": "d245ca22-f2bc-4469-a1d1-c51af6be5fac",
   "metadata": {},
   "outputs": [],
   "source": [
    "f = open(\"sample.txt\")  # カレントディレクトリに `sample.txt` が必要"
   ]
  },
  {
   "cell_type": "code",
   "execution_count": 2,
   "id": "8a698691-c399-4129-bdc9-1b8f2f4c92be",
   "metadata": {},
   "outputs": [
    {
     "data": {
      "text/plain": [
       "<_io.TextIOWrapper name='sample.txt' mode='r' encoding='UTF-8'>"
      ]
     },
     "execution_count": 2,
     "metadata": {},
     "output_type": "execute_result"
    }
   ],
   "source": [
    "f"
   ]
  },
  {
   "cell_type": "code",
   "execution_count": 3,
   "id": "d74436f1-7770-4ec3-a781-a218744c6554",
   "metadata": {},
   "outputs": [
    {
     "data": {
      "text/plain": [
       "0"
      ]
     },
     "execution_count": 3,
     "metadata": {},
     "output_type": "execute_result"
    }
   ],
   "source": [
    "f.seek(0)  # 念の為、カーソル位置を先頭にしている"
   ]
  },
  {
   "cell_type": "code",
   "execution_count": 4,
   "id": "928b32d7-0fe3-4679-a417-fc39dcf75c37",
   "metadata": {},
   "outputs": [
    {
     "data": {
      "text/plain": [
       "'Hitotsubashi at a Glance\\nHitotsubashi University was founded in 1875 as the first business school in'"
      ]
     },
     "execution_count": 4,
     "metadata": {},
     "output_type": "execute_result"
    }
   ],
   "source": [
    "f.read()[:100]   # 100文字出力"
   ]
  },
  {
   "cell_type": "markdown",
   "id": "68f2365e-e031-42e1-9b3f-e17d7431cf1c",
   "metadata": {},
   "source": [
    "Pythonからファイルを開いたら、close処理を行う必要があります。\n",
    "OSとの約束事として、必ずclose処理を行うことになっています。\n",
    "closeすると、内容を読み込んだりできなくなります。"
   ]
  },
  {
   "cell_type": "code",
   "execution_count": 5,
   "id": "f46fd2fb-f643-4326-a7ed-0577047a9bfd",
   "metadata": {},
   "outputs": [],
   "source": [
    "f.close()"
   ]
  },
  {
   "cell_type": "code",
   "execution_count": 6,
   "id": "7c82658d-3e51-4d77-b695-3303b72a38f3",
   "metadata": {},
   "outputs": [
    {
     "ename": "ValueError",
     "evalue": "I/O operation on closed file.",
     "output_type": "error",
     "traceback": [
      "\u001b[0;31m---------------------------------------------------------------------------\u001b[0m",
      "\u001b[0;31mValueError\u001b[0m                                Traceback (most recent call last)",
      "\u001b[0;32m<ipython-input-6-571e9fb02258>\u001b[0m in \u001b[0;36m<module>\u001b[0;34m\u001b[0m\n\u001b[0;32m----> 1\u001b[0;31m \u001b[0mf\u001b[0m\u001b[0;34m.\u001b[0m\u001b[0mread\u001b[0m\u001b[0;34m(\u001b[0m\u001b[0;34m)\u001b[0m\u001b[0;34m\u001b[0m\u001b[0;34m\u001b[0m\u001b[0m\n\u001b[0m",
      "\u001b[0;31mValueError\u001b[0m: I/O operation on closed file."
     ]
    }
   ],
   "source": [
    "f.read()"
   ]
  },
  {
   "cell_type": "markdown",
   "id": "6ab1cf16-100e-4798-a8c6-4011057e0f27",
   "metadata": {},
   "source": [
    "### with構文\n",
    "\n",
    "close処理を自動的に行ってくれる、 `with` 構文というものがあります。Pythonにおいては、一般的にwith構文を使ってコーディングします。"
   ]
  },
  {
   "cell_type": "code",
   "execution_count": 7,
   "id": "f999c59c-3dc7-4bd1-ade3-a057abf29299",
   "metadata": {},
   "outputs": [
    {
     "name": "stdout",
     "output_type": "stream",
     "text": [
      "Hitotsubashi at a Glance\n",
      "Hitotsubashi University was founded in 1875 as the first business school in\n"
     ]
    }
   ],
   "source": [
    "with open(\"sample.txt\") as f:\n",
    "    print(f.read()[:100])"
   ]
  },
  {
   "cell_type": "code",
   "execution_count": 8,
   "id": "dd54b011-fe12-4580-9967-d56ba3e55212",
   "metadata": {},
   "outputs": [
    {
     "ename": "ValueError",
     "evalue": "I/O operation on closed file.",
     "output_type": "error",
     "traceback": [
      "\u001b[0;31m---------------------------------------------------------------------------\u001b[0m",
      "\u001b[0;31mValueError\u001b[0m                                Traceback (most recent call last)",
      "\u001b[0;32m<ipython-input-8-571e9fb02258>\u001b[0m in \u001b[0;36m<module>\u001b[0;34m\u001b[0m\n\u001b[0;32m----> 1\u001b[0;31m \u001b[0mf\u001b[0m\u001b[0;34m.\u001b[0m\u001b[0mread\u001b[0m\u001b[0;34m(\u001b[0m\u001b[0;34m)\u001b[0m\u001b[0;34m\u001b[0m\u001b[0;34m\u001b[0m\u001b[0m\n\u001b[0m",
      "\u001b[0;31mValueError\u001b[0m: I/O operation on closed file."
     ]
    }
   ],
   "source": [
    "f.read()"
   ]
  },
  {
   "cell_type": "markdown",
   "id": "7cd92594-88f6-4049-89c5-c812be929c92",
   "metadata": {},
   "source": [
    "### ファイルを扱うモード\n",
    "\n",
    "open関数でファイルを呼び出す際にモードを指定する必要がある。\n",
    "\n",
    "読み込みたい時、書き込みたい時、追記したい時。その他にはバイナリで使いたい場合など"
   ]
  },
  {
   "cell_type": "markdown",
   "id": "cf78a844-6ddb-4784-9914-d4051c300ddc",
   "metadata": {},
   "source": [
    "- 書き込む : w\n",
    "- 読み込み (デフォルト) : r\n",
    "- 追記 : a\n",
    "- 書き込む、ただしファイルが存在しない場合 : x\n"
   ]
  },
  {
   "cell_type": "markdown",
   "id": "e2ff11e1-56b7-4fa4-815d-f048df3ff698",
   "metadata": {},
   "source": [
    "- テキスト (デフォルト) : t\n",
    "- バイナリ : b"
   ]
  },
  {
   "cell_type": "markdown",
   "id": "fa429f24-1637-44fd-b3e5-456fa39e5514",
   "metadata": {},
   "source": [
    "先程の例では、これらのモードを指定していませんでした。指定しない場合は、 `\"rt\"` が指定されたことになります。"
   ]
  },
  {
   "cell_type": "markdown",
   "id": "3c4c36a8-a08f-44de-a035-ecdecf95407d",
   "metadata": {},
   "source": [
    "更に、テキストモードで扱う際には文字エンコーディングを指定することもできます。文字エンコーディングは、 `utf-8` や `Shift-JIS` などです。"
   ]
  },
  {
   "cell_type": "code",
   "execution_count": 9,
   "id": "58690bf1-0390-4697-af0e-77c6b5e1ea38",
   "metadata": {},
   "outputs": [
    {
     "name": "stdout",
     "output_type": "stream",
     "text": [
      "Hitotsubashi at a Glance\n",
      "Hitotsubashi University was founded in 1875 as the first business school in\n"
     ]
    }
   ],
   "source": [
    "with open(\"sample.txt\", \"rt\", encoding=\"utf-8\") as f:\n",
    "    text = f.read()\n",
    "print(text[:100])"
   ]
  },
  {
   "cell_type": "markdown",
   "id": "9fc2a557-a525-4ea4-a746-1037461894a1",
   "metadata": {},
   "source": [
    "### 書き込みモード\n",
    "\n",
    "ここでは、テキストファイルに書き込むことを行います。"
   ]
  },
  {
   "cell_type": "code",
   "execution_count": 10,
   "id": "3f4d1483-c129-4102-9d09-11406230d72c",
   "metadata": {},
   "outputs": [],
   "source": [
    "with open(\"sample2.txt\", \"w\", encoding=\"utf-8\") as f:\n",
    "    f.write(\"私の名前は、寺田学です。\")"
   ]
  },
  {
   "cell_type": "markdown",
   "id": "02dff3e1-7bd2-4f6d-aece-66472338330e",
   "metadata": {},
   "source": [
    "ファイルの中身を確認してみましょう。"
   ]
  },
  {
   "cell_type": "markdown",
   "id": "1ea30e98-6120-4cf3-a937-dbb89095d618",
   "metadata": {},
   "source": [
    "続いて、同じファイルに別の内容を書き込んでみます。"
   ]
  },
  {
   "cell_type": "code",
   "execution_count": 11,
   "id": "d084cf70-f8ae-40c1-9639-9d194220a3ba",
   "metadata": {},
   "outputs": [],
   "source": [
    "with open(\"sample2.txt\", \"w\", encoding=\"utf-8\") as f:\n",
    "    f.write(\"私の職業は、プログラマーです。\")"
   ]
  },
  {
   "cell_type": "markdown",
   "id": "fcb21afd-1f33-4eb9-a496-b8f703397e97",
   "metadata": {},
   "source": [
    "再度ファイルを確認してみましょう。今書いたものだけがのこてていると思います。 `\"w\"` モードでは内容が消されて上書きされてしまいます。注意が必要です。"
   ]
  },
  {
   "cell_type": "markdown",
   "id": "50ec6cf2-5ac2-4ca3-af3a-b3ed9d12f0e5",
   "metadata": {},
   "source": [
    "複数行書き込む方法を見ていきましょう。"
   ]
  },
  {
   "cell_type": "code",
   "execution_count": 12,
   "id": "2ef7ee1c-37cb-4928-b018-23a036be24ae",
   "metadata": {},
   "outputs": [],
   "source": [
    "with open(\"sample3.txt\", \"w\", encoding=\"utf-8\") as f:\n",
    "    f.write(\"私の名前は、寺田学です。\\n\")\n",
    "    f.write(\"私の職業は、プログラマーです。\")"
   ]
  },
  {
   "cell_type": "markdown",
   "id": "05160e32-e97c-47a8-9d5d-773a68cebd45",
   "metadata": {},
   "source": [
    "### 読み込みモード\n",
    "\n",
    "すでに、読み込みは行いましたが再度確認していきましょう。"
   ]
  },
  {
   "cell_type": "code",
   "execution_count": 13,
   "id": "4411526b-d258-4b63-9fcf-1ed2271268f7",
   "metadata": {},
   "outputs": [
    {
     "name": "stdout",
     "output_type": "stream",
     "text": [
      "私の名前は、寺田学です。\n",
      "私の職業は、プログラマーです。\n"
     ]
    }
   ],
   "source": [
    "with open(\"sample3.txt\", \"r\", encoding=\"utf-8\") as f:\n",
    "    print(f.read())"
   ]
  },
  {
   "cell_type": "markdown",
   "id": "6af519e9-6ada-4042-ad13-0403793c62d5",
   "metadata": {},
   "source": [
    "1行ごとに処理をすることも可能です。"
   ]
  },
  {
   "cell_type": "code",
   "execution_count": 14,
   "id": "afa55d87-9004-48e8-a129-72f614d3badf",
   "metadata": {},
   "outputs": [
    {
     "name": "stdout",
     "output_type": "stream",
     "text": [
      "私の名前は、寺田学です。\n",
      "\n",
      "私の職業は、プログラマーです。\n"
     ]
    }
   ],
   "source": [
    "with open(\"sample3.txt\", \"r\", encoding=\"utf-8\") as f:\n",
    "    for line in f:\n",
    "        print(line)"
   ]
  },
  {
   "cell_type": "markdown",
   "id": "5bd87f14-cffb-4e1f-a89d-a68550be2024",
   "metadata": {},
   "source": [
    "ここでは、2行のファイルを処理しました。最初にサンプルとして提示した `sample.txt` で実行してみましょう。"
   ]
  },
  {
   "cell_type": "markdown",
   "id": "f001cd71-9105-42cd-a2a4-44ad99667f37",
   "metadata": {},
   "source": [
    "### その他のモード"
   ]
  },
  {
   "cell_type": "markdown",
   "id": "8cb2e3d1-08b8-4103-a8a1-8190a095930e",
   "metadata": {},
   "source": [
    "追記モード。ログを出力する際などに用いられる"
   ]
  },
  {
   "cell_type": "code",
   "execution_count": 15,
   "id": "ce016e23-50af-403a-afcd-d3f77ebe7ec6",
   "metadata": {},
   "outputs": [],
   "source": [
    "with open(\"sample3.txt\", \"a\", encoding=\"utf-8\") as f:\n",
    "    f.write(\"\\n私の年齢は35歳です。\")"
   ]
  },
  {
   "cell_type": "markdown",
   "id": "93b5938c-75b3-45db-8899-708d9722433e",
   "metadata": {},
   "source": [
    "ファイルを確認してみましょう。"
   ]
  },
  {
   "cell_type": "markdown",
   "id": "02a6cb2e-012a-4e74-91d1-e06a926f02b8",
   "metadata": {},
   "source": [
    "バイナリモードでテキストファイルを開く例"
   ]
  },
  {
   "cell_type": "code",
   "execution_count": 16,
   "id": "519a71ce-ea18-4caa-90d2-309fae869ae3",
   "metadata": {},
   "outputs": [
    {
     "name": "stdout",
     "output_type": "stream",
     "text": [
      "b'\\xe7\\xa7\\x81\\xe3\\x81\\xae\\xe5\\x90\\x8d\\xe5\\x89\\x8d\\xe3\\x81\\xaf\\xe3\\x80\\x81\\xe5\\xaf\\xba\\xe7\\x94\\xb0\\xe5\\xad\\xa6\\xe3\\x81\\xa7\\xe3\\x81\\x99\\xe3\\x80\\x82\\n\\xe7\\xa7\\x81\\xe3\\x81\\xae\\xe8\\x81\\xb7\\xe6\\xa5\\xad\\xe3\\x81\\xaf\\xe3\\x80\\x81\\xe3\\x83\\x97\\xe3\\x83\\xad\\xe3\\x82\\xb0\\xe3\\x83\\xa9\\xe3\\x83\\x9e\\xe3\\x83\\xbc\\xe3\\x81\\xa7\\xe3\\x81\\x99\\xe3\\x80\\x82\\n\\xe7\\xa7\\x81\\xe3\\x81\\xae\\xe5\\xb9\\xb4\\xe9\\xbd\\xa2\\xe3\\x81\\xaf35\\xe6\\xad\\xb3\\xe3\\x81\\xa7\\xe3\\x81\\x99\\xe3\\x80\\x82'\n"
     ]
    }
   ],
   "source": [
    "with open(\"sample3.txt\", \"rb\") as f:\n",
    "    print(f.read())"
   ]
  },
  {
   "cell_type": "markdown",
   "id": "feaa169c-ad86-41c3-b162-a92d1313ab96",
   "metadata": {},
   "source": [
    "bytes型で出力される。"
   ]
  },
  {
   "cell_type": "markdown",
   "id": "c5d886c3-f554-489e-b6b0-835a3ab16e78",
   "metadata": {},
   "source": [
    "JPEGファイルやPDFファイルなどの、テキストで扱われていないファイルを用いる時に利用される。"
   ]
  },
  {
   "cell_type": "markdown",
   "id": "438defaf-4566-4ee0-a3b3-b28ef12057a1",
   "metadata": {},
   "source": [
    "## サンプルデータを扱う\n",
    "\n",
    "`sample.txt` を使って以下のことを行います。\n",
    "\n",
    "- 単語数を調べる\n",
    "- 5文字以上の単語を抽出する\n",
    "- 最頻出（多く登場する単語）のTop5を取得する\n",
    "- 調べる文字列から、決められた単語を取り除き、最頻出のTop5を取得し直す\n"
   ]
  },
  {
   "cell_type": "code",
   "execution_count": 17,
   "id": "98dd4f90-fb5a-4162-954e-94ebb9d2b3e7",
   "metadata": {},
   "outputs": [
    {
     "name": "stdout",
     "output_type": "stream",
     "text": [
      "606\n"
     ]
    }
   ],
   "source": [
    "with open(\"sample.txt\", \"r\", encoding=\"utf-8\") as f:\n",
    "    text = f.read()\n",
    "    splited_text = text.split(\" \")\n",
    "print(len(splited_text))"
   ]
  },
  {
   "cell_type": "code",
   "execution_count": 18,
   "id": "ebf467b8-5d1b-4603-9466-58240056d8d2",
   "metadata": {},
   "outputs": [
    {
     "name": "stdout",
     "output_type": "stream",
     "text": [
      "8文字以上の単語数: 111\n",
      "['Hitotsubashi', 'Glance\\nHitotsubashi', 'University', 'modernization', 'development.', 'well-deserved', 'reputation', 'universities', 'accredited', 'outstanding', 'Designated', 'Universities', 'specializing', 'sciences.\\n\\nEstablished\\n1875\\n\\nFaculty\\nAbout', 'members\\n\\nStudents\\nUndergraduate', 'students\\tAbout', '4,400\\nGraduate', 'professional', 'students\\tAbout', '1,900\\nTotal\\tAbout', 'international', 'students\\tAbout', 'Faculties,', 'Institute\\nHitotsubashi', 'University', 'faculties,', 'institute.\\n\\nCommerce', 'Management', '(Faculty)\\nBusiness', 'Administration', 'School)\\nEconomics', 'School)\\nLaw', 'School)\\nSocial', 'School)\\nLanguage', 'School)\\nInternational', '(School)\\nInstitute', 'Research\\nCampuses\\nOur', 'activities', '(International)', 'international', 'facilities.', 'birthplace', 'Hitotsubashi,', 'Kanda-Hitotsubashi', 'Administration', 'Law.\\n\\nHitotsubashi', 'University', 'President\\nProfessor', 'Satoshi\\n\\nMessage', 'President\\nUniversity', 'billion\\n\\nUniversity', 'billion\\n\\nLibrary', 'Collection\\nHitotsubashi', 'University', 'electronic', 'collections', 'Historical', 'Literature', 'outstanding', 'international', 'significance', 'collection,', 'Collection,', 'collection,', 'university', 'University', 'Publications', 'Incorporated\\n\\nNaming\\nThe', 'Hitotsubashi', 'University', '“Kanda-Hitotsubashi”,', 'Commercial', 'University', 'Earthquake', 'remained.\\nIt', 'Hitotsubashi', 'University', 'educational', '“Hitotsubashi”', 'administrative', 'Association,', 'reorganized', 'university.\\n\\nHitotsubashi', 'University', 'Symbol\\nThe', 'Commercial', 'Commercial', 'School.\\nThe', 'represents', 'Commercial', 'continents.\\nThe', 'University', 'designated', 'Hitotsubashi', 'University', '2006.\\n\\n\\n\\nSeminars\\nHitotsubashi', 'curricula.', 'prominently', 'education,', 'Hitotsubashi', 'participate', 'small-group', 'cultivates', 'individual', 'personalities,', 'opportunity', 'relationships', 'supervising', 'professors.', 'facilitate', 'University']\n"
     ]
    }
   ],
   "source": [
    "counter = 0\n",
    "out = []\n",
    "for word in splited_text:\n",
    "    if len(word) > 9:\n",
    "       counter += 1\n",
    "       out.append(word)\n",
    "\n",
    "print(f\"8文字以上の単語数: {counter}\")\n",
    "print(out)"
   ]
  },
  {
   "cell_type": "code",
   "execution_count": 19,
   "id": "a4c95d87-fe97-4106-b2ec-410542b8e73b",
   "metadata": {},
   "outputs": [],
   "source": [
    "from collections import Counter"
   ]
  },
  {
   "cell_type": "code",
   "execution_count": 20,
   "id": "e1e43677-00a0-4ffa-9d49-c88abf85199f",
   "metadata": {},
   "outputs": [],
   "source": [
    "c = Counter(splited_text)"
   ]
  },
  {
   "cell_type": "code",
   "execution_count": 21,
   "id": "d7c92e28-0684-48fc-9b5d-c02ba3658d7a",
   "metadata": {},
   "outputs": [
    {
     "data": {
      "text/plain": [
       "[('the', 51), ('and', 27), ('of', 24), ('in', 20), ('University', 12)]"
      ]
     },
     "execution_count": 21,
     "metadata": {},
     "output_type": "execute_result"
    }
   ],
   "source": [
    "c.most_common(5)"
   ]
  },
  {
   "cell_type": "code",
   "execution_count": 22,
   "id": "e3eed5b9-5be3-4dd8-b5f3-efc84fbc2546",
   "metadata": {},
   "outputs": [],
   "source": [
    "STOP_WORDS = [\"the\", \"and\", \"of\", \"in\", \"University\"]"
   ]
  },
  {
   "cell_type": "code",
   "execution_count": 23,
   "id": "eef7d5ca-c913-4640-bac5-c76fdf1b44b6",
   "metadata": {},
   "outputs": [
    {
     "name": "stdout",
     "output_type": "stream",
     "text": [
      "510\n"
     ]
    }
   ],
   "source": [
    "removed_stop_words_list = []\n",
    "with open(\"sample.txt\", \"r\", encoding=\"utf-8\") as f:\n",
    "    text = f.read()\n",
    "    for word in text.replace(\"\\n\", \" \").replace(\"(\", \" \").replace(\")\", \" \").split(\" \"):\n",
    "        if word not in STOP_WORDS:\n",
    "            if word:\n",
    "                removed_stop_words_list.append(word)\n",
    "\n",
    "print(len(removed_stop_words_list))"
   ]
  },
  {
   "cell_type": "code",
   "execution_count": 24,
   "id": "4c3d38f2-21eb-4746-bfbc-66e036fdc3df",
   "metadata": {},
   "outputs": [
    {
     "data": {
      "text/plain": [
       "[('Hitotsubashi', 11), ('School', 10), ('The', 10), ('a', 9), ('to', 9)]"
      ]
     },
     "execution_count": 24,
     "metadata": {},
     "output_type": "execute_result"
    }
   ],
   "source": [
    "c2 = Counter(removed_stop_words_list)\n",
    "c2.most_common(5)"
   ]
  }
 ],
 "metadata": {
  "kernelspec": {
   "display_name": "Python 3",
   "language": "python",
   "name": "python3"
  },
  "language_info": {
   "codemirror_mode": {
    "name": "ipython",
    "version": 3
   },
   "file_extension": ".py",
   "mimetype": "text/x-python",
   "name": "python",
   "nbconvert_exporter": "python",
   "pygments_lexer": "ipython3",
   "version": "3.8.5"
  }
 },
 "nbformat": 4,
 "nbformat_minor": 5
}
