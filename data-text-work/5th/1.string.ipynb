{
 "cells": [
  {
   "cell_type": "markdown",
   "id": "1fe8a394-6f74-485f-b199-26e78b47c202",
   "metadata": {},
   "source": [
    "# 文字列の扱い"
   ]
  },
  {
   "cell_type": "markdown",
   "id": "9c51f8c8-9c5c-4f0c-bc99-1ba0e6d006eb",
   "metadata": {},
   "source": [
    "文字列は、 `\"\"` (ダブルクオート) または `''` (シングルクオート) で宣言できます。\n",
    "\n",
    "これらを変数に格納すこともすでに学習しました。"
   ]
  },
  {
   "cell_type": "markdown",
   "id": "a47d8532-0d79-4b26-a1dc-d0636c578036",
   "metadata": {},
   "source": [
    "ここでは、これらの文字列の操作について確認していきます。"
   ]
  },
  {
   "cell_type": "markdown",
   "id": "2e12a8e2-6c28-4c4e-902f-1075e9c4dd21",
   "metadata": {},
   "source": [
    "## 文字列の情報\n",
    "\n",
    "ここでは、文字数や単語数を取得する方法を確認します。"
   ]
  },
  {
   "cell_type": "markdown",
   "id": "a247443c-6dc5-4752-b9b3-60697df1f5a3",
   "metadata": {},
   "source": [
    "`I am a student of Hitotsubashi University` という文字列を例にします。"
   ]
  },
  {
   "cell_type": "code",
   "execution_count": 1,
   "id": "fd12a5ae-28c7-41b9-8edb-ee3ac9fad091",
   "metadata": {},
   "outputs": [],
   "source": [
    "text = \"I am a student of Hitotsubashi University\"  # 変数textに対象の文を格納"
   ]
  },
  {
   "cell_type": "code",
   "execution_count": 2,
   "id": "dfb42291-5df2-4317-bbd7-5faa74db37c0",
   "metadata": {},
   "outputs": [
    {
     "data": {
      "text/plain": [
       "41"
      ]
     },
     "execution_count": 2,
     "metadata": {},
     "output_type": "execute_result"
    }
   ],
   "source": [
    "len(text)  # 文字数を出力（スペースも含む）"
   ]
  },
  {
   "cell_type": "code",
   "execution_count": 3,
   "id": "d98061ea-dbe8-4d53-ad9c-67e4868333f1",
   "metadata": {},
   "outputs": [
    {
     "data": {
      "text/plain": [
       "['I', 'am', 'a', 'student', 'of', 'Hitotsubashi', 'University']"
      ]
     },
     "execution_count": 3,
     "metadata": {},
     "output_type": "execute_result"
    }
   ],
   "source": [
    "splited_text = text.split(\" \")  # 半角スペースで文を分割（単語化）\n",
    "splited_text"
   ]
  },
  {
   "cell_type": "code",
   "execution_count": 4,
   "id": "e931da42-dd4f-49f4-a704-b1cc342d7211",
   "metadata": {},
   "outputs": [
    {
     "data": {
      "text/plain": [
       "7"
      ]
     },
     "execution_count": 4,
     "metadata": {},
     "output_type": "execute_result"
    }
   ],
   "source": [
    "len(splited_text)  # 単語数を出力"
   ]
  },
  {
   "cell_type": "markdown",
   "id": "d6fa191f-e92d-4c4b-915e-0863c9f76181",
   "metadata": {},
   "source": [
    "4文字以上の単語のみをリスト化し、そのリストを出力する"
   ]
  },
  {
   "cell_type": "markdown",
   "id": "819e6c17-2e56-42b3-8c7f-cbea1e1495da",
   "metadata": {},
   "source": [
    "まずは、for文で単語ごとに処理をすることを考えて以下のようなコードを書きます。"
   ]
  },
  {
   "cell_type": "code",
   "execution_count": 5,
   "id": "bafe0383-1d3d-4023-a2fb-dc976dffd76d",
   "metadata": {},
   "outputs": [
    {
     "name": "stdout",
     "output_type": "stream",
     "text": [
      "単語数: 7\n",
      "['I', 'am', 'a', 'student', 'of', 'Hitotsubashi', 'University']\n"
     ]
    }
   ],
   "source": [
    "counter = 0\n",
    "out = []\n",
    "for word in splited_text:\n",
    "    counter += 1\n",
    "    out.append(word)\n",
    "\n",
    "print(f\"単語数: {counter}\")\n",
    "print(out)"
   ]
  },
  {
   "cell_type": "markdown",
   "id": "b8d81494-17b7-4a5e-9f42-4060c4b5933a",
   "metadata": {},
   "source": [
    "ここからは、命題である、4文字以上の文字を出力するコードを書いていきます。"
   ]
  },
  {
   "cell_type": "code",
   "execution_count": 6,
   "id": "ba2e9cfe-390f-4007-a77f-2e21cc8bc36b",
   "metadata": {},
   "outputs": [
    {
     "name": "stdout",
     "output_type": "stream",
     "text": [
      "単語数: 3\n",
      "['student', 'Hitotsubashi', 'University']\n"
     ]
    }
   ],
   "source": [
    "counter = 0\n",
    "out = []\n",
    "for word in splited_text:\n",
    "    if len(word) > 3:\n",
    "        counter += 1\n",
    "        out.append(word)\n",
    "\n",
    "print(f\"単語数: {counter}\")\n",
    "print(out)"
   ]
  },
  {
   "cell_type": "markdown",
   "id": "ef9799c2-18ac-4d42-afec-beeb081f2ab6",
   "metadata": {},
   "source": [
    "## 文字列の操作や文字置き換え\n",
    "\n",
    "ここでは、文字列の操作や文字の置き換えをする方法を確認します。"
   ]
  },
  {
   "cell_type": "markdown",
   "id": "2077d4a6-7373-406b-b452-6a9db89402d6",
   "metadata": {},
   "source": [
    "大文字と小文字が混じっている、単語をすべて小文字にしてみましょう。先程作った、4文字以上の単語のリストである `out` の文字を小文字に変換していきましょう。"
   ]
  },
  {
   "cell_type": "code",
   "execution_count": 7,
   "id": "3aa7900f-4bb9-4c9e-9579-1e70a5f32bde",
   "metadata": {},
   "outputs": [
    {
     "data": {
      "text/plain": [
       "['student', 'Hitotsubashi', 'University']"
      ]
     },
     "execution_count": 7,
     "metadata": {},
     "output_type": "execute_result"
    }
   ],
   "source": [
    "out  # 念の為データの中を確認"
   ]
  },
  {
   "cell_type": "code",
   "execution_count": 8,
   "id": "da8055ee-cfca-4645-9d0d-1aaa7b3f9c48",
   "metadata": {},
   "outputs": [
    {
     "name": "stdout",
     "output_type": "stream",
     "text": [
      "['student', 'hitotsubashi', 'university']\n"
     ]
    }
   ],
   "source": [
    "out2 = []\n",
    "for word in out:\n",
    "    out2.append(word.lower())\n",
    "    \n",
    "print(out2)"
   ]
  },
  {
   "cell_type": "markdown",
   "id": "f4f9006e-0611-4a86-8293-ef9890675dad",
   "metadata": {},
   "source": [
    "特定の文字を置き換える\n",
    "\n",
    "ここでは、 `Hitotsubashi` を `Kunitachi` に変更してみる"
   ]
  },
  {
   "cell_type": "markdown",
   "id": "39af9e52-cf56-4e0b-8b8e-a5e9f9eea872",
   "metadata": {},
   "source": [
    "for文を使って処理する方法"
   ]
  },
  {
   "cell_type": "code",
   "execution_count": 9,
   "id": "81531087-8316-45de-939b-1f4125436a64",
   "metadata": {},
   "outputs": [
    {
     "data": {
      "text/plain": [
       "'I am a student of Hitotsubashi University'"
      ]
     },
     "execution_count": 9,
     "metadata": {},
     "output_type": "execute_result"
    }
   ],
   "source": [
    "text  # 念の為出力"
   ]
  },
  {
   "cell_type": "code",
   "execution_count": 10,
   "id": "9406318f-3baf-4bc7-8ccc-0b7423e22647",
   "metadata": {},
   "outputs": [
    {
     "name": "stdout",
     "output_type": "stream",
     "text": [
      "['I', 'am', 'a', 'student', 'of', 'Kunitachi', 'University']\n"
     ]
    }
   ],
   "source": [
    "temp = []\n",
    "for word in text.split(\" \"):\n",
    "    if word == \"Hitotsubashi\":\n",
    "        temp.append(\"Kunitachi\")\n",
    "    else:\n",
    "        temp.append(word)\n",
    "\n",
    "print(temp)"
   ]
  },
  {
   "cell_type": "code",
   "execution_count": 11,
   "id": "d10c2a50-6e93-412e-9614-91de3ce7c714",
   "metadata": {},
   "outputs": [
    {
     "data": {
      "text/plain": [
       "'I am a student of Kunitachi University'"
      ]
     },
     "execution_count": 11,
     "metadata": {},
     "output_type": "execute_result"
    }
   ],
   "source": [
    "\" \".join(temp)  # リスト化したものを空白文字でつないで文字列に変換する"
   ]
  },
  {
   "cell_type": "markdown",
   "id": "b53ad2ec-459a-4fa5-a6eb-3d29e0b0ef55",
   "metadata": {},
   "source": [
    "文字列メソッドを使う方法"
   ]
  },
  {
   "cell_type": "code",
   "execution_count": 12,
   "id": "868da00d-7d30-4cec-a915-40798058d58f",
   "metadata": {},
   "outputs": [
    {
     "data": {
      "text/plain": [
       "'I am a student of Hitotsubashi University'"
      ]
     },
     "execution_count": 12,
     "metadata": {},
     "output_type": "execute_result"
    }
   ],
   "source": [
    "text  # 念の為出力"
   ]
  },
  {
   "cell_type": "code",
   "execution_count": 13,
   "id": "10c0e2ef-4ec8-46c0-83d8-baa971e6584d",
   "metadata": {},
   "outputs": [
    {
     "data": {
      "text/plain": [
       "'I am a student of Kunitachi University'"
      ]
     },
     "execution_count": 13,
     "metadata": {},
     "output_type": "execute_result"
    }
   ],
   "source": [
    "text.replace(\"Hitotsubashi\", \"Kunitachi\")"
   ]
  }
 ],
 "metadata": {
  "kernelspec": {
   "display_name": "Python 3",
   "language": "python",
   "name": "python3"
  },
  "language_info": {
   "codemirror_mode": {
    "name": "ipython",
    "version": 3
   },
   "file_extension": ".py",
   "mimetype": "text/x-python",
   "name": "python",
   "nbconvert_exporter": "python",
   "pygments_lexer": "ipython3",
   "version": "3.8.5"
  }
 },
 "nbformat": 4,
 "nbformat_minor": 5
}
