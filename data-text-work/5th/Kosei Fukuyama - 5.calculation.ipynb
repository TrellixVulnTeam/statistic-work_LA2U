{
 "cells": [
  {
   "cell_type": "markdown",
   "id": "2e0cd1fb-d56b-409e-8a58-07e752f64fe9",
   "metadata": {},
   "source": [
    "# データの演算\n",
    "\n",
    "pandasには数値データを高速にかつ効率よく演算・集計する機能が備わっています。"
   ]
  },
  {
   "cell_type": "markdown",
   "id": "5ff23089-1724-4d8a-9cbf-3e35cea6d81d",
   "metadata": {},
   "source": [
    "ここでは、数値データを乱数で生成します。乱数はNumPyの `random.randn` 関数を実行して、4行4列からなる標準正規分布に従う乱数を生成します。 `numpy` モジュールは一般的に `np` という別名でインポートされます。"
   ]
  },
  {
   "cell_type": "code",
   "execution_count": 1,
   "id": "5819da59-1c9a-4e7d-8c5d-138828cc0957",
   "metadata": {},
   "outputs": [],
   "source": [
    "import numpy as np\n",
    "import pandas as pd"
   ]
  },
  {
   "cell_type": "code",
   "execution_count": 2,
   "id": "dce64fc3-d1be-4840-aced-a05a9cda1d97",
   "metadata": {},
   "outputs": [],
   "source": [
    "np.random.seed(2)\n",
    "ser = pd.Series(np.random.randn(4))\n",
    "df = pd.DataFrame(np.random.randn(16).reshape(4, 4), columns=list(\"abcd\"))"
   ]
  },
  {
   "cell_type": "code",
   "execution_count": 3,
   "id": "c1a70486-d717-46d5-a51b-9eef73b2c0d2",
   "metadata": {},
   "outputs": [
    {
     "data": {
      "text/plain": [
       "0   -0.416758\n",
       "1   -0.056267\n",
       "2   -2.136196\n",
       "3    1.640271\n",
       "dtype: float64"
      ]
     },
     "execution_count": 3,
     "metadata": {},
     "output_type": "execute_result"
    }
   ],
   "source": [
    "ser"
   ]
  },
  {
   "cell_type": "code",
   "execution_count": 4,
   "id": "6b712e0e-8562-4acc-b92a-a6246fcd007e",
   "metadata": {},
   "outputs": [
    {
     "data": {
      "text/html": [
       "<div>\n",
       "<style scoped>\n",
       "    .dataframe tbody tr th:only-of-type {\n",
       "        vertical-align: middle;\n",
       "    }\n",
       "\n",
       "    .dataframe tbody tr th {\n",
       "        vertical-align: top;\n",
       "    }\n",
       "\n",
       "    .dataframe thead th {\n",
       "        text-align: right;\n",
       "    }\n",
       "</style>\n",
       "<table border=\"1\" class=\"dataframe\">\n",
       "  <thead>\n",
       "    <tr style=\"text-align: right;\">\n",
       "      <th></th>\n",
       "      <th>a</th>\n",
       "      <th>b</th>\n",
       "      <th>c</th>\n",
       "      <th>d</th>\n",
       "    </tr>\n",
       "  </thead>\n",
       "  <tbody>\n",
       "    <tr>\n",
       "      <th>0</th>\n",
       "      <td>-1.793436</td>\n",
       "      <td>-0.841747</td>\n",
       "      <td>0.502881</td>\n",
       "      <td>-1.245288</td>\n",
       "    </tr>\n",
       "    <tr>\n",
       "      <th>1</th>\n",
       "      <td>-1.057952</td>\n",
       "      <td>-0.909008</td>\n",
       "      <td>0.551454</td>\n",
       "      <td>2.292208</td>\n",
       "    </tr>\n",
       "    <tr>\n",
       "      <th>2</th>\n",
       "      <td>0.041539</td>\n",
       "      <td>-1.117925</td>\n",
       "      <td>0.539058</td>\n",
       "      <td>-0.596160</td>\n",
       "    </tr>\n",
       "    <tr>\n",
       "      <th>3</th>\n",
       "      <td>-0.019130</td>\n",
       "      <td>1.175001</td>\n",
       "      <td>-0.747871</td>\n",
       "      <td>0.009025</td>\n",
       "    </tr>\n",
       "  </tbody>\n",
       "</table>\n",
       "</div>"
      ],
      "text/plain": [
       "          a         b         c         d\n",
       "0 -1.793436 -0.841747  0.502881 -1.245288\n",
       "1 -1.057952 -0.909008  0.551454  2.292208\n",
       "2  0.041539 -1.117925  0.539058 -0.596160\n",
       "3 -0.019130  1.175001 -0.747871  0.009025"
      ]
     },
     "execution_count": 4,
     "metadata": {},
     "output_type": "execute_result"
    }
   ],
   "source": [
    "df"
   ]
  },
  {
   "cell_type": "markdown",
   "id": "62101e3d-b446-4d80-86fe-327b8b6af774",
   "metadata": {},
   "source": [
    "## 演算子による演算\n",
    "\n",
    "`Series` および `DataFrame` に対して演算子による演算を行うと、すべての要素に対して演算されます。"
   ]
  },
  {
   "cell_type": "code",
   "execution_count": 5,
   "id": "c6dada9d-85da-4ee2-8a70-a0659ff0140e",
   "metadata": {},
   "outputs": [
    {
     "data": {
      "text/plain": [
       "0     9.583242\n",
       "1     9.943733\n",
       "2     7.863804\n",
       "3    11.640271\n",
       "dtype: float64"
      ]
     },
     "execution_count": 5,
     "metadata": {},
     "output_type": "execute_result"
    }
   ],
   "source": [
    "ser + 10"
   ]
  },
  {
   "cell_type": "code",
   "execution_count": 6,
   "id": "7de81de7-b445-4241-ab75-098d215c2432",
   "metadata": {},
   "outputs": [
    {
     "data": {
      "text/html": [
       "<div>\n",
       "<style scoped>\n",
       "    .dataframe tbody tr th:only-of-type {\n",
       "        vertical-align: middle;\n",
       "    }\n",
       "\n",
       "    .dataframe tbody tr th {\n",
       "        vertical-align: top;\n",
       "    }\n",
       "\n",
       "    .dataframe thead th {\n",
       "        text-align: right;\n",
       "    }\n",
       "</style>\n",
       "<table border=\"1\" class=\"dataframe\">\n",
       "  <thead>\n",
       "    <tr style=\"text-align: right;\">\n",
       "      <th></th>\n",
       "      <th>a</th>\n",
       "      <th>b</th>\n",
       "      <th>c</th>\n",
       "      <th>d</th>\n",
       "    </tr>\n",
       "  </thead>\n",
       "  <tbody>\n",
       "    <tr>\n",
       "      <th>0</th>\n",
       "      <td>3.216411</td>\n",
       "      <td>0.708539</td>\n",
       "      <td>0.252890</td>\n",
       "      <td>1.550742</td>\n",
       "    </tr>\n",
       "    <tr>\n",
       "      <th>1</th>\n",
       "      <td>1.119263</td>\n",
       "      <td>0.826295</td>\n",
       "      <td>0.304102</td>\n",
       "      <td>5.254218</td>\n",
       "    </tr>\n",
       "    <tr>\n",
       "      <th>2</th>\n",
       "      <td>0.001726</td>\n",
       "      <td>1.249757</td>\n",
       "      <td>0.290584</td>\n",
       "      <td>0.355406</td>\n",
       "    </tr>\n",
       "    <tr>\n",
       "      <th>3</th>\n",
       "      <td>0.000366</td>\n",
       "      <td>1.380628</td>\n",
       "      <td>0.559311</td>\n",
       "      <td>0.000081</td>\n",
       "    </tr>\n",
       "  </tbody>\n",
       "</table>\n",
       "</div>"
      ],
      "text/plain": [
       "          a         b         c         d\n",
       "0  3.216411  0.708539  0.252890  1.550742\n",
       "1  1.119263  0.826295  0.304102  5.254218\n",
       "2  0.001726  1.249757  0.290584  0.355406\n",
       "3  0.000366  1.380628  0.559311  0.000081"
      ]
     },
     "execution_count": 6,
     "metadata": {},
     "output_type": "execute_result"
    }
   ],
   "source": [
    "df ** 2"
   ]
  },
  {
   "cell_type": "markdown",
   "id": "2b02c4a1-0059-4ec6-b719-f8a74007e98b",
   "metadata": {},
   "source": [
    "`Series` と `DataFrame` 同士の演算ができます。この場合、演算対象の要素数が合致している必要があります。"
   ]
  },
  {
   "cell_type": "code",
   "execution_count": 7,
   "id": "fdb6c88d-c571-4494-9d70-3d165d91b017",
   "metadata": {},
   "outputs": [
    {
     "data": {
      "text/plain": [
       "0   -1.250274\n",
       "1   -0.168800\n",
       "2   -6.408588\n",
       "3    4.920812\n",
       "dtype: float64"
      ]
     },
     "execution_count": 7,
     "metadata": {},
     "output_type": "execute_result"
    }
   ],
   "source": [
    "ser + ser * 2"
   ]
  },
  {
   "cell_type": "code",
   "execution_count": 8,
   "id": "5d7a7635-8630-4337-a002-8c5870757281",
   "metadata": {},
   "outputs": [
    {
     "data": {
      "text/html": [
       "<div>\n",
       "<style scoped>\n",
       "    .dataframe tbody tr th:only-of-type {\n",
       "        vertical-align: middle;\n",
       "    }\n",
       "\n",
       "    .dataframe tbody tr th {\n",
       "        vertical-align: top;\n",
       "    }\n",
       "\n",
       "    .dataframe thead th {\n",
       "        text-align: right;\n",
       "    }\n",
       "</style>\n",
       "<table border=\"1\" class=\"dataframe\">\n",
       "  <thead>\n",
       "    <tr style=\"text-align: right;\">\n",
       "      <th></th>\n",
       "      <th>a</th>\n",
       "      <th>b</th>\n",
       "      <th>c</th>\n",
       "      <th>d</th>\n",
       "    </tr>\n",
       "  </thead>\n",
       "  <tbody>\n",
       "    <tr>\n",
       "      <th>0</th>\n",
       "      <td>1.0</td>\n",
       "      <td>1.0</td>\n",
       "      <td>1.0</td>\n",
       "      <td>1.0</td>\n",
       "    </tr>\n",
       "    <tr>\n",
       "      <th>1</th>\n",
       "      <td>1.0</td>\n",
       "      <td>1.0</td>\n",
       "      <td>1.0</td>\n",
       "      <td>1.0</td>\n",
       "    </tr>\n",
       "    <tr>\n",
       "      <th>2</th>\n",
       "      <td>1.0</td>\n",
       "      <td>1.0</td>\n",
       "      <td>1.0</td>\n",
       "      <td>1.0</td>\n",
       "    </tr>\n",
       "    <tr>\n",
       "      <th>3</th>\n",
       "      <td>1.0</td>\n",
       "      <td>1.0</td>\n",
       "      <td>1.0</td>\n",
       "      <td>1.0</td>\n",
       "    </tr>\n",
       "  </tbody>\n",
       "</table>\n",
       "</div>"
      ],
      "text/plain": [
       "     a    b    c    d\n",
       "0  1.0  1.0  1.0  1.0\n",
       "1  1.0  1.0  1.0  1.0\n",
       "2  1.0  1.0  1.0  1.0\n",
       "3  1.0  1.0  1.0  1.0"
      ]
     },
     "execution_count": 8,
     "metadata": {},
     "output_type": "execute_result"
    }
   ],
   "source": [
    "df / df"
   ]
  },
  {
   "cell_type": "markdown",
   "id": "c885b1dc-5d28-4253-a8a4-07696959c79d",
   "metadata": {},
   "source": [
    "## 関数・メソッドによる演算\n",
    "\n",
    "`Series` および `DataFrame` には関数が適用できます。\n",
    "\n",
    "次のコードは各要素に関数を適用しています。"
   ]
  },
  {
   "cell_type": "code",
   "execution_count": 9,
   "id": "8f95dcf0-067e-48f5-a8df-575055b87957",
   "metadata": {},
   "outputs": [
    {
     "data": {
      "text/plain": [
       "0    0.416758\n",
       "1    0.056267\n",
       "2    2.136196\n",
       "3    1.640271\n",
       "dtype: float64"
      ]
     },
     "execution_count": 9,
     "metadata": {},
     "output_type": "execute_result"
    }
   ],
   "source": [
    "abs(ser)"
   ]
  },
  {
   "cell_type": "code",
   "execution_count": 10,
   "id": "3816c032-8ff6-4a33-b335-644d16b35ac5",
   "metadata": {},
   "outputs": [
    {
     "data": {
      "text/html": [
       "<div>\n",
       "<style scoped>\n",
       "    .dataframe tbody tr th:only-of-type {\n",
       "        vertical-align: middle;\n",
       "    }\n",
       "\n",
       "    .dataframe tbody tr th {\n",
       "        vertical-align: top;\n",
       "    }\n",
       "\n",
       "    .dataframe thead th {\n",
       "        text-align: right;\n",
       "    }\n",
       "</style>\n",
       "<table border=\"1\" class=\"dataframe\">\n",
       "  <thead>\n",
       "    <tr style=\"text-align: right;\">\n",
       "      <th></th>\n",
       "      <th>a</th>\n",
       "      <th>b</th>\n",
       "      <th>c</th>\n",
       "      <th>d</th>\n",
       "    </tr>\n",
       "  </thead>\n",
       "  <tbody>\n",
       "    <tr>\n",
       "      <th>0</th>\n",
       "      <td>-2.0</td>\n",
       "      <td>-1.0</td>\n",
       "      <td>1.0</td>\n",
       "      <td>-1.0</td>\n",
       "    </tr>\n",
       "    <tr>\n",
       "      <th>1</th>\n",
       "      <td>-1.0</td>\n",
       "      <td>-1.0</td>\n",
       "      <td>1.0</td>\n",
       "      <td>2.0</td>\n",
       "    </tr>\n",
       "    <tr>\n",
       "      <th>2</th>\n",
       "      <td>0.0</td>\n",
       "      <td>-1.0</td>\n",
       "      <td>1.0</td>\n",
       "      <td>-1.0</td>\n",
       "    </tr>\n",
       "    <tr>\n",
       "      <th>3</th>\n",
       "      <td>-0.0</td>\n",
       "      <td>1.0</td>\n",
       "      <td>-1.0</td>\n",
       "      <td>0.0</td>\n",
       "    </tr>\n",
       "  </tbody>\n",
       "</table>\n",
       "</div>"
      ],
      "text/plain": [
       "     a    b    c    d\n",
       "0 -2.0 -1.0  1.0 -1.0\n",
       "1 -1.0 -1.0  1.0  2.0\n",
       "2  0.0 -1.0  1.0 -1.0\n",
       "3 -0.0  1.0 -1.0  0.0"
      ]
     },
     "execution_count": 10,
     "metadata": {},
     "output_type": "execute_result"
    }
   ],
   "source": [
    "round(df)"
   ]
  },
  {
   "cell_type": "markdown",
   "id": "5845459f-f3c3-4318-bc64-59715a425108",
   "metadata": {},
   "source": [
    "`Series` および `DataFrame` には記述統計のためのメソッドが用意されています。\n",
    "\n",
    "<table border=\"1\" class=\"dataframe\">\n",
    "  <thead>\n",
    "    <tr style=\"text-align: right;\">\n",
    "      <th>Function</th>\n",
    "      <th>Description</th>\n",
    "    </tr>\n",
    "  </thead>\n",
    "  <tbody>\n",
    "    <tr>\n",
    "      <td>count</td>\n",
    "      <td>Number of non-NA observations</td>\n",
    "    </tr>\n",
    "    <tr>\n",
    "      <td>sum</td>\n",
    "      <td>Sum of values</td>\n",
    "    </tr>\n",
    "    <tr>\n",
    "      <td>mean</td>\n",
    "      <td>Mean of values</td>\n",
    "    </tr>\n",
    "    <tr>\n",
    "      <td>mad</td>\n",
    "      <td>Mean absolute deviation</td>\n",
    "    </tr>\n",
    "    <tr>\n",
    "      <td>median</td>\n",
    "      <td>Arithmetic median of values</td>\n",
    "    </tr>\n",
    "    <tr>\n",
    "      <td>min</td>\n",
    "      <td>Minimum</td>\n",
    "    </tr>\n",
    "    <tr>\n",
    "      <td>max</td>\n",
    "      <td>Maximum</td>\n",
    "    </tr>\n",
    "    <tr>\n",
    "      <td>mode</td>\n",
    "      <td>Mode</td>\n",
    "    </tr>\n",
    "    <tr>\n",
    "      <td>abs</td>\n",
    "      <td>Absolute Value</td>\n",
    "    </tr>\n",
    "    <tr>\n",
    "      <td>prod</td>\n",
    "      <td>Product of values</td>\n",
    "    </tr>\n",
    "    <tr>\n",
    "      <td>std</td>\n",
    "      <td>Bessel-corrected sample standard deviation</td>\n",
    "    </tr>\n",
    "    <tr>\n",
    "      <td>var</td>\n",
    "      <td>Unbiased variance</td>\n",
    "    </tr>\n",
    "    <tr>\n",
    "      <td>sem</td>\n",
    "      <td>Standard error of the mean</td>\n",
    "    </tr>\n",
    "    <tr>\n",
    "      <td>skew</td>\n",
    "      <td>Sample skewness (3rd moment)</td>\n",
    "    </tr>\n",
    "    <tr>\n",
    "      <td>kurt</td>\n",
    "      <td>Sample kurtosis (4th moment)</td>\n",
    "    </tr>\n",
    "    <tr>\n",
    "      <td>quantile</td>\n",
    "      <td>Sample quantile (value at %)</td>\n",
    "    </tr>\n",
    "    <tr>\n",
    "      <td>cumsum</td>\n",
    "      <td>Cumulative sum</td>\n",
    "    </tr>\n",
    "    <tr>\n",
    "      <td>cumprod</td>\n",
    "      <td>Cumulative product</td>\n",
    "    </tr>\n",
    "    <tr>\n",
    "      <td>cummax</td>\n",
    "      <td>Cumulative maximum</td>\n",
    "    </tr>\n",
    "    <tr>\n",
    "      <td>cummin</td>\n",
    "      <td>Cumulative minimum</td>\n",
    "    </tr>\n",
    "  </tbody>\n",
    "</table>"
   ]
  },
  {
   "cell_type": "code",
   "execution_count": 11,
   "id": "b62e52ec-c64d-4fef-9387-c3014c1810e0",
   "metadata": {},
   "outputs": [
    {
     "data": {
      "text/plain": [
       "-0.9689499618952657"
      ]
     },
     "execution_count": 11,
     "metadata": {},
     "output_type": "execute_result"
    }
   ],
   "source": [
    "# 合計値\n",
    "ser.sum()"
   ]
  },
  {
   "cell_type": "code",
   "execution_count": 12,
   "id": "61e5dbac-3590-4241-9b2f-f1ea46de247c",
   "metadata": {},
   "outputs": [
    {
     "data": {
      "text/plain": [
       "a   -2.828979\n",
       "b   -1.693679\n",
       "c    0.845523\n",
       "d    0.459785\n",
       "dtype: float64"
      ]
     },
     "execution_count": 12,
     "metadata": {},
     "output_type": "execute_result"
    }
   ],
   "source": [
    "df.sum()"
   ]
  },
  {
   "cell_type": "code",
   "execution_count": 13,
   "id": "88770f6d-eaa4-4929-b67b-5c575c347ad8",
   "metadata": {},
   "outputs": [
    {
     "data": {
      "text/plain": [
       "-0.24223749047381643"
      ]
     },
     "execution_count": 13,
     "metadata": {},
     "output_type": "execute_result"
    }
   ],
   "source": [
    "# 算術平均\n",
    "ser.mean()"
   ]
  },
  {
   "cell_type": "markdown",
   "id": "79cce327-01d3-44ff-a04f-8963efaac24a",
   "metadata": {},
   "source": [
    "`apply` メソッドを実行すると、引数に渡した任意の関数を適用できます。"
   ]
  },
  {
   "cell_type": "code",
   "execution_count": 14,
   "id": "3cacbce3-136f-4427-a9af-1fafba164392",
   "metadata": {},
   "outputs": [
    {
     "data": {
      "text/plain": [
       "0    0.416758\n",
       "1    0.056267\n",
       "2    2.136196\n",
       "3    1.640271\n",
       "dtype: float64"
      ]
     },
     "execution_count": 14,
     "metadata": {},
     "output_type": "execute_result"
    }
   ],
   "source": [
    "ser.apply(abs)"
   ]
  },
  {
   "cell_type": "code",
   "execution_count": 15,
   "id": "247df6e7-1cfd-4923-8a35-c4a8ad6aba50",
   "metadata": {},
   "outputs": [
    {
     "data": {
      "text/plain": [
       "a   -2.828979\n",
       "b   -1.693679\n",
       "c    0.845523\n",
       "d    0.459785\n",
       "dtype: float64"
      ]
     },
     "execution_count": 15,
     "metadata": {},
     "output_type": "execute_result"
    }
   ],
   "source": [
    "df.apply(sum)"
   ]
  },
  {
   "cell_type": "markdown",
   "id": "782a3566-38a7-466c-bf83-fe118818482a",
   "metadata": {},
   "source": [
    "`apply` メソッドは、デフォルトで列に対して演算を行います。行に対して演算を行うにはメソッドの引数 axis に 1 を渡します。"
   ]
  },
  {
   "cell_type": "code",
   "execution_count": 16,
   "id": "1ee0a8d2-749f-474c-abe3-8c9db34e1507",
   "metadata": {},
   "outputs": [
    {
     "data": {
      "text/plain": [
       "0   -3.377590\n",
       "1    0.876702\n",
       "2   -1.133487\n",
       "3    0.417025\n",
       "dtype: float64"
      ]
     },
     "execution_count": 16,
     "metadata": {},
     "output_type": "execute_result"
    }
   ],
   "source": [
    "df.apply(sum, axis=1)"
   ]
  },
  {
   "cell_type": "code",
   "execution_count": 17,
   "id": "b49ec223-29ce-4208-84fd-e0ead0bf0f0d",
   "metadata": {},
   "outputs": [
    {
     "data": {
      "text/html": [
       "<div>\n",
       "<style scoped>\n",
       "    .dataframe tbody tr th:only-of-type {\n",
       "        vertical-align: middle;\n",
       "    }\n",
       "\n",
       "    .dataframe tbody tr th {\n",
       "        vertical-align: top;\n",
       "    }\n",
       "\n",
       "    .dataframe thead th {\n",
       "        text-align: right;\n",
       "    }\n",
       "</style>\n",
       "<table border=\"1\" class=\"dataframe\">\n",
       "  <thead>\n",
       "    <tr style=\"text-align: right;\">\n",
       "      <th></th>\n",
       "      <th>a</th>\n",
       "      <th>b</th>\n",
       "      <th>c</th>\n",
       "      <th>d</th>\n",
       "    </tr>\n",
       "  </thead>\n",
       "  <tbody>\n",
       "    <tr>\n",
       "      <th>0</th>\n",
       "      <td>-1.793436</td>\n",
       "      <td>-0.841747</td>\n",
       "      <td>0.502881</td>\n",
       "      <td>-1.245288</td>\n",
       "    </tr>\n",
       "    <tr>\n",
       "      <th>1</th>\n",
       "      <td>-1.057952</td>\n",
       "      <td>-0.909008</td>\n",
       "      <td>0.551454</td>\n",
       "      <td>2.292208</td>\n",
       "    </tr>\n",
       "    <tr>\n",
       "      <th>2</th>\n",
       "      <td>0.041539</td>\n",
       "      <td>-1.117925</td>\n",
       "      <td>0.539058</td>\n",
       "      <td>-0.596160</td>\n",
       "    </tr>\n",
       "    <tr>\n",
       "      <th>3</th>\n",
       "      <td>-0.019130</td>\n",
       "      <td>1.175001</td>\n",
       "      <td>-0.747871</td>\n",
       "      <td>0.009025</td>\n",
       "    </tr>\n",
       "  </tbody>\n",
       "</table>\n",
       "</div>"
      ],
      "text/plain": [
       "          a         b         c         d\n",
       "0 -1.793436 -0.841747  0.502881 -1.245288\n",
       "1 -1.057952 -0.909008  0.551454  2.292208\n",
       "2  0.041539 -1.117925  0.539058 -0.596160\n",
       "3 -0.019130  1.175001 -0.747871  0.009025"
      ]
     },
     "execution_count": 17,
     "metadata": {},
     "output_type": "execute_result"
    }
   ],
   "source": [
    "df"
   ]
  },
  {
   "cell_type": "markdown",
   "id": "7773e0d5-1daa-4813-94b5-878f907969e7",
   "metadata": {},
   "source": [
    "次のように、関数を定義して適用できます。"
   ]
  },
  {
   "cell_type": "code",
   "execution_count": 18,
   "id": "dc4316cf-502c-41c4-acf1-48121dc33e62",
   "metadata": {},
   "outputs": [],
   "source": [
    "def max_sub_min(x):\n",
    "    return x.max() - x.min()"
   ]
  },
  {
   "cell_type": "code",
   "execution_count": 19,
   "id": "82ebdc7d-e293-4b22-ac25-994f8936a653",
   "metadata": {},
   "outputs": [
    {
     "data": {
      "text/plain": [
       "a    1.834975\n",
       "b    2.292927\n",
       "c    1.299325\n",
       "d    3.537496\n",
       "dtype: float64"
      ]
     },
     "execution_count": 19,
     "metadata": {},
     "output_type": "execute_result"
    }
   ],
   "source": [
    "df.apply(max_sub_min)"
   ]
  },
  {
   "cell_type": "code",
   "execution_count": null,
   "id": "347e2f08-807d-48ee-8448-0e46868002fe",
   "metadata": {},
   "outputs": [],
   "source": []
  }
 ],
 "metadata": {
  "kernelspec": {
   "display_name": "Python 3",
   "language": "python",
   "name": "python3"
  },
  "language_info": {
   "codemirror_mode": {
    "name": "ipython",
    "version": 3
   },
   "file_extension": ".py",
   "mimetype": "text/x-python",
   "name": "python",
   "nbconvert_exporter": "python",
   "pygments_lexer": "ipython3",
   "version": "3.8.5"
  }
 },
 "nbformat": 4,
 "nbformat_minor": 5
}
