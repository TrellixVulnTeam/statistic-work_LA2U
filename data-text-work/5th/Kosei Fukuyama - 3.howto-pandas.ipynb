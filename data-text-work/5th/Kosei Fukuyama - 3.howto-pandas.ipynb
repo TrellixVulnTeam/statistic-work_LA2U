{
 "cells": [
  {
   "cell_type": "markdown",
   "id": "3847930a-fbd6-4110-a190-5756b769932a",
   "metadata": {},
   "source": [
    "# pandasの使い方\n",
    "\n",
    "ここでは、pandasの基本的な使い方を学習します。\n",
    "\n",
    "基本のデータ型である2つについて解説します。\n",
    "\n",
    "- Series(1次元データ)\n",
    "- DataFrame(2次元データ)"
   ]
  },
  {
   "cell_type": "code",
   "execution_count": 1,
   "id": "dd9395ba-3fc7-4870-8c6b-8702095a739f",
   "metadata": {},
   "outputs": [],
   "source": [
    "import pandas as pd"
   ]
  },
  {
   "cell_type": "markdown",
   "id": "cb3dac59-6c43-4f43-bddb-25fb08bf1e49",
   "metadata": {},
   "source": [
    "`pandas` ライブラリは一般的に `pd` という別名でインポートします。"
   ]
  },
  {
   "cell_type": "markdown",
   "id": "89b76482-0b6b-4f37-9b38-21baaab73ce1",
   "metadata": {},
   "source": [
    "## Series型\n",
    "\n",
    "`Series` はインデックスと呼ばれるラベルを持った同一のデータ型を持つ1次元のデータです。 \n",
    "`Series` オブジェクトを生成するには `Series` クラスの引数に次のようなデータを渡します。\n",
    "\n",
    "- リスト\n",
    "- タプル\n",
    "- 辞書\n",
    "- 配列 (`numpy.ndarray`)\n",
    "- etc (イテラブル)\n",
    "\n",
    "pandasではこのようなデータを総称して「array-like」と呼びます。\n",
    "\n",
    "https://pandas.pydata.org/pandas-docs/stable/reference/api/pandas.Series.html"
   ]
  },
  {
   "cell_type": "code",
   "execution_count": 2,
   "id": "876f7836-6aae-45e4-ab17-06965027cea8",
   "metadata": {},
   "outputs": [
    {
     "data": {
      "text/plain": [
       "0    1\n",
       "1    3\n",
       "2    5\n",
       "dtype: int64"
      ]
     },
     "execution_count": 2,
     "metadata": {},
     "output_type": "execute_result"
    }
   ],
   "source": [
    "ser = pd.Series([1, 3, 5])\n",
    "ser"
   ]
  },
  {
   "cell_type": "markdown",
   "id": "5cd6b032-1cba-4da0-ba9f-0ab85a3c8ffa",
   "metadata": {},
   "source": [
    "`Series` にはインデックスと呼ばれるラベルが付きます。辞書のキーに似ており、添字にインデックスを指定することで要素にアクセスできます。"
   ]
  },
  {
   "cell_type": "code",
   "execution_count": 3,
   "id": "683515b8-6ab7-4302-b2c6-b7dbb0083ef1",
   "metadata": {},
   "outputs": [
    {
     "data": {
      "text/plain": [
       "3"
      ]
     },
     "execution_count": 3,
     "metadata": {},
     "output_type": "execute_result"
    }
   ],
   "source": [
    "ser[1]"
   ]
  },
  {
   "cell_type": "markdown",
   "id": "018894d1-0438-4bf9-ba3a-7eb2c7a42d29",
   "metadata": {},
   "source": [
    "`Series` クラスの引数 ``index`` にデータarray-like)を渡すことで、オブジェクト生成時にインデックスが割り当てられます。インデックスの値は重複しても問題ありません。"
   ]
  },
  {
   "cell_type": "code",
   "execution_count": 4,
   "id": "fb346384-cdcd-403f-b3c0-7f04648d0a7e",
   "metadata": {},
   "outputs": [
    {
     "data": {
      "text/plain": [
       "a    1\n",
       "b    2\n",
       "b    3\n",
       "dtype: int64"
      ]
     },
     "execution_count": 4,
     "metadata": {},
     "output_type": "execute_result"
    }
   ],
   "source": [
    "ix_ser = pd.Series([1, 2, 3], index=[\"a\", \"b\", \"b\"])\n",
    "ix_ser"
   ]
  },
  {
   "cell_type": "code",
   "execution_count": 5,
   "id": "09b5c365-7a9a-443b-ba7b-040ada84a93b",
   "metadata": {},
   "outputs": [
    {
     "data": {
      "text/plain": [
       "1"
      ]
     },
     "execution_count": 5,
     "metadata": {},
     "output_type": "execute_result"
    }
   ],
   "source": [
    "ix_ser[\"a\"]"
   ]
  },
  {
   "cell_type": "markdown",
   "id": "5525b39b-2c6d-4462-b759-e8a6c8ebf68d",
   "metadata": {},
   "source": [
    "## DataFrame型\n",
    "\n",
    "`DataFrame` は行と列にラベルを持つ2次元のデータです。\n",
    "`DataFrame` オブジェクトを生成するには `DataFrame` クラスの引数に次のようなデータを渡します。\n",
    "\n",
    "- リスト\n",
    "- タプル\n",
    "- 辞書\n",
    "- dataclass\n",
    "- 配列 (numpy.ndarray)\n",
    "- etc(イテラブル)\n",
    "\n",
    "pandasではこのようなデータを総称して「list-like」と呼びます。\n",
    "\n",
    "https://pandas.pydata.org/pandas-docs/stable/reference/api/pandas.DataFrame.html#pandas.DataFrame"
   ]
  },
  {
   "cell_type": "code",
   "execution_count": 6,
   "id": "95fe8a66-8d10-4afd-a13d-c26f2194c41c",
   "metadata": {},
   "outputs": [
    {
     "data": {
      "text/html": [
       "<div>\n",
       "<style scoped>\n",
       "    .dataframe tbody tr th:only-of-type {\n",
       "        vertical-align: middle;\n",
       "    }\n",
       "\n",
       "    .dataframe tbody tr th {\n",
       "        vertical-align: top;\n",
       "    }\n",
       "\n",
       "    .dataframe thead th {\n",
       "        text-align: right;\n",
       "    }\n",
       "</style>\n",
       "<table border=\"1\" class=\"dataframe\">\n",
       "  <thead>\n",
       "    <tr style=\"text-align: right;\">\n",
       "      <th></th>\n",
       "      <th>0</th>\n",
       "      <th>1</th>\n",
       "    </tr>\n",
       "  </thead>\n",
       "  <tbody>\n",
       "    <tr>\n",
       "      <th>0</th>\n",
       "      <td>1</td>\n",
       "      <td>10</td>\n",
       "    </tr>\n",
       "    <tr>\n",
       "      <th>1</th>\n",
       "      <td>2</td>\n",
       "      <td>20</td>\n",
       "    </tr>\n",
       "    <tr>\n",
       "      <th>2</th>\n",
       "      <td>3</td>\n",
       "      <td>30</td>\n",
       "    </tr>\n",
       "  </tbody>\n",
       "</table>\n",
       "</div>"
      ],
      "text/plain": [
       "   0   1\n",
       "0  1  10\n",
       "1  2  20\n",
       "2  3  30"
      ]
     },
     "execution_count": 6,
     "metadata": {},
     "output_type": "execute_result"
    }
   ],
   "source": [
    "df = pd.DataFrame([[1, 10], [2, 20], [3, 30]])\n",
    "df"
   ]
  },
  {
   "cell_type": "markdown",
   "id": "2c539014-4031-4e5f-bc0c-8b7f78be53bc",
   "metadata": {},
   "source": [
    "添字を指定すると、指定した列にアクセスできます。"
   ]
  },
  {
   "cell_type": "code",
   "execution_count": 7,
   "id": "053e7805-49b4-4ab2-9f35-1d2913141114",
   "metadata": {},
   "outputs": [
    {
     "data": {
      "text/plain": [
       "0    10\n",
       "1    20\n",
       "2    30\n",
       "Name: 1, dtype: int64"
      ]
     },
     "execution_count": 7,
     "metadata": {},
     "output_type": "execute_result"
    }
   ],
   "source": [
    "df[1]"
   ]
  },
  {
   "cell_type": "markdown",
   "id": "8fcc3f38-b7b8-4bd4-b842-c610b8a9c9b2",
   "metadata": {},
   "source": [
    "`DataFrame` は行と列にそれぞれインデックスをもちます。行のインデックスは `index` 属性、列のインデックスは `columns` 属性からアクセスできます。"
   ]
  },
  {
   "cell_type": "code",
   "execution_count": 8,
   "id": "494c42b5-90b5-40dd-82e3-384a73c6f294",
   "metadata": {},
   "outputs": [
    {
     "data": {
      "text/plain": [
       "RangeIndex(start=0, stop=3, step=1)"
      ]
     },
     "execution_count": 8,
     "metadata": {},
     "output_type": "execute_result"
    }
   ],
   "source": [
    "df.index"
   ]
  },
  {
   "cell_type": "code",
   "execution_count": 9,
   "id": "2a77e626-4b7b-4ba6-b85a-4f5eca97e20a",
   "metadata": {},
   "outputs": [
    {
     "data": {
      "text/plain": [
       "RangeIndex(start=0, stop=2, step=1)"
      ]
     },
     "execution_count": 9,
     "metadata": {},
     "output_type": "execute_result"
    }
   ],
   "source": [
    "df.columns"
   ]
  },
  {
   "cell_type": "markdown",
   "id": "8bfa7295-e244-462d-8729-9a40d6b759e8",
   "metadata": {},
   "source": [
    "`DataFrame` クラスの引数 `index` にデータ(array-like)を渡すことで、オブジェクト生成時に「行」のインデックスが割り当てられ、引数 `columns` にデータ(array-like)を渡すことで、「列」のインデックスが割り当てられます。"
   ]
  },
  {
   "cell_type": "code",
   "execution_count": 10,
   "id": "e2b460ca-7c07-4be3-b574-a3e80b30586d",
   "metadata": {},
   "outputs": [
    {
     "data": {
      "text/html": [
       "<div>\n",
       "<style scoped>\n",
       "    .dataframe tbody tr th:only-of-type {\n",
       "        vertical-align: middle;\n",
       "    }\n",
       "\n",
       "    .dataframe tbody tr th {\n",
       "        vertical-align: top;\n",
       "    }\n",
       "\n",
       "    .dataframe thead th {\n",
       "        text-align: right;\n",
       "    }\n",
       "</style>\n",
       "<table border=\"1\" class=\"dataframe\">\n",
       "  <thead>\n",
       "    <tr style=\"text-align: right;\">\n",
       "      <th></th>\n",
       "      <th>A</th>\n",
       "      <th>B</th>\n",
       "    </tr>\n",
       "  </thead>\n",
       "  <tbody>\n",
       "    <tr>\n",
       "      <th>a</th>\n",
       "      <td>1</td>\n",
       "      <td>10</td>\n",
       "    </tr>\n",
       "    <tr>\n",
       "      <th>b</th>\n",
       "      <td>2</td>\n",
       "      <td>20</td>\n",
       "    </tr>\n",
       "    <tr>\n",
       "      <th>c</th>\n",
       "      <td>3</td>\n",
       "      <td>30</td>\n",
       "    </tr>\n",
       "  </tbody>\n",
       "</table>\n",
       "</div>"
      ],
      "text/plain": [
       "   A   B\n",
       "a  1  10\n",
       "b  2  20\n",
       "c  3  30"
      ]
     },
     "execution_count": 10,
     "metadata": {},
     "output_type": "execute_result"
    }
   ],
   "source": [
    "pd.DataFrame([[1, 10], [2, 20], [3, 30]], index=[\"a\", \"b\", \"c\"], columns=[\"A\", \"B\"])"
   ]
  },
  {
   "cell_type": "markdown",
   "id": "c8bb5f8c-41d7-4e61-b1b2-93d21b1fc6f8",
   "metadata": {},
   "source": [
    "`DataFrame` 生成に辞書を渡すと、辞書のキーが列名(columns)になります。"
   ]
  },
  {
   "cell_type": "code",
   "execution_count": 11,
   "id": "fb1afacc-2bb3-47b4-83fc-0880e27572ae",
   "metadata": {},
   "outputs": [
    {
     "data": {
      "text/html": [
       "<div>\n",
       "<style scoped>\n",
       "    .dataframe tbody tr th:only-of-type {\n",
       "        vertical-align: middle;\n",
       "    }\n",
       "\n",
       "    .dataframe tbody tr th {\n",
       "        vertical-align: top;\n",
       "    }\n",
       "\n",
       "    .dataframe thead th {\n",
       "        text-align: right;\n",
       "    }\n",
       "</style>\n",
       "<table border=\"1\" class=\"dataframe\">\n",
       "  <thead>\n",
       "    <tr style=\"text-align: right;\">\n",
       "      <th></th>\n",
       "      <th>A</th>\n",
       "      <th>B</th>\n",
       "    </tr>\n",
       "  </thead>\n",
       "  <tbody>\n",
       "    <tr>\n",
       "      <th>a</th>\n",
       "      <td>1</td>\n",
       "      <td>10</td>\n",
       "    </tr>\n",
       "    <tr>\n",
       "      <th>b</th>\n",
       "      <td>2</td>\n",
       "      <td>20</td>\n",
       "    </tr>\n",
       "    <tr>\n",
       "      <th>c</th>\n",
       "      <td>3</td>\n",
       "      <td>30</td>\n",
       "    </tr>\n",
       "  </tbody>\n",
       "</table>\n",
       "</div>"
      ],
      "text/plain": [
       "   A   B\n",
       "a  1  10\n",
       "b  2  20\n",
       "c  3  30"
      ]
     },
     "execution_count": 11,
     "metadata": {},
     "output_type": "execute_result"
    }
   ],
   "source": [
    "pd.DataFrame({\"A\": [1, 2, 3], \"B\": [10, 20, 30]}, index=[\"a\", \"b\", \"c\"])"
   ]
  }
 ],
 "metadata": {
  "kernelspec": {
   "display_name": "Python 3.9.6 ('venv': venv)",
   "language": "python",
   "name": "python3"
  },
  "language_info": {
   "codemirror_mode": {
    "name": "ipython",
    "version": 3
   },
   "file_extension": ".py",
   "mimetype": "text/x-python",
   "name": "python",
   "nbconvert_exporter": "python",
   "pygments_lexer": "ipython3",
   "version": "3.9.6"
  },
  "vscode": {
   "interpreter": {
    "hash": "93c5697865292fdd0df1432c6bc5dc8f9244b4d72a06ac70cd24d4ff1f17d896"
   }
  }
 },
 "nbformat": 4,
 "nbformat_minor": 5
}
