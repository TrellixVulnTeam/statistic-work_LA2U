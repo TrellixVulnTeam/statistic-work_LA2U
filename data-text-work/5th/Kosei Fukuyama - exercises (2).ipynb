{
 "cells": [
  {
   "cell_type": "markdown",
   "id": "e9d4eb71-4681-483c-9d3e-1d6abc758d1a",
   "metadata": {},
   "source": [
    "# pandas練習問題"
   ]
  },
  {
   "cell_type": "code",
   "execution_count": 2,
   "id": "6660c119-9aa9-4535-b512-275a082aa2dc",
   "metadata": {},
   "outputs": [],
   "source": [
    "import pandas as pd"
   ]
  },
  {
   "cell_type": "markdown",
   "id": "9ef55177-3b74-40f1-aaf0-9062e951a462",
   "metadata": {},
   "source": [
    "## 練習問題:1-1\n",
    "\n",
    "タプル型のデータを渡して Series オブジェクトを作成せよ。"
   ]
  },
  {
   "cell_type": "code",
   "execution_count": 3,
   "id": "8f8f26f1-b216-4b5d-879e-0c37a8e86eda",
   "metadata": {},
   "outputs": [],
   "source": [
    "# 解答セル\n",
    "Series = (1, 2, 3)"
   ]
  },
  {
   "cell_type": "markdown",
   "id": "49ae65fb-2e73-4a1a-9153-b3cdb0428c84",
   "metadata": {},
   "source": [
    "## 練習問題:1-2\n",
    "\n",
    "ser オブジェクトの先頭の要素を参照せよ。"
   ]
  },
  {
   "cell_type": "code",
   "execution_count": 4,
   "id": "77f7510d-a50d-4b6e-b358-92014cc07b88",
   "metadata": {},
   "outputs": [
    {
     "data": {
      "text/plain": [
       "1"
      ]
     },
     "execution_count": 4,
     "metadata": {},
     "output_type": "execute_result"
    }
   ],
   "source": [
    "# 解答セル\n",
    "Series[0]"
   ]
  },
  {
   "cell_type": "markdown",
   "id": "071be36e-d0ae-4ca9-a570-f7f42513680c",
   "metadata": {},
   "source": [
    "## 練習問題:1-3\n",
    "\n",
    "以下の `ix_ser` オブジェクトのインデックス `\"b\"` を参照せよ。"
   ]
  },
  {
   "cell_type": "code",
   "execution_count": 5,
   "id": "3959b2aa-e89c-4506-817d-8c96aa41fa87",
   "metadata": {},
   "outputs": [
    {
     "data": {
      "text/plain": [
       "a    1\n",
       "b    2\n",
       "b    3\n",
       "dtype: int64"
      ]
     },
     "execution_count": 5,
     "metadata": {},
     "output_type": "execute_result"
    }
   ],
   "source": [
    "ix_ser = pd.Series([1, 2, 3], index=[\"a\", \"b\", \"b\"])\n",
    "ix_ser"
   ]
  },
  {
   "cell_type": "code",
   "execution_count": 6,
   "id": "40122ed2-186d-4ffd-96fa-ee82a179c7ae",
   "metadata": {},
   "outputs": [
    {
     "data": {
      "text/plain": [
       "b    2\n",
       "b    3\n",
       "dtype: int64"
      ]
     },
     "execution_count": 6,
     "metadata": {},
     "output_type": "execute_result"
    }
   ],
   "source": [
    "# 解答セル\n",
    "ix_ser.loc[\"b\"]"
   ]
  },
  {
   "cell_type": "markdown",
   "id": "20fe965c-495e-4f84-a13a-fbcc03370916",
   "metadata": {},
   "source": [
    "## 練習問題:1-4\n",
    "\n",
    "`ix_ser` オブジェクトのインデックスを 「`\"a\"`, `\"b\"`, `\"c\"`」`にせよ。"
   ]
  },
  {
   "cell_type": "code",
   "execution_count": 16,
   "id": "44976f43-fa52-48c9-aae9-ae88ffb2cc50",
   "metadata": {},
   "outputs": [
    {
     "data": {
      "text/plain": [
       "a    1\n",
       "b    2\n",
       "c    3\n",
       "dtype: int64"
      ]
     },
     "execution_count": 16,
     "metadata": {},
     "output_type": "execute_result"
    }
   ],
   "source": [
    "# 解答セル\n",
    "ix_ser.index = [\"a\", \"b\", \"c\"]\n",
    "ix_ser"
   ]
  },
  {
   "cell_type": "markdown",
   "id": "e3f082e6-a303-43f2-8fed-83fad7f4522f",
   "metadata": {},
   "source": [
    "## 練習問題:1-5\n",
    "\n",
    "以下の `df` オブジェクトの「0」列を参照せよ。"
   ]
  },
  {
   "cell_type": "code",
   "execution_count": 18,
   "id": "61e9714a-28ec-407d-975a-6ac4b7059e17",
   "metadata": {},
   "outputs": [
    {
     "data": {
      "text/html": [
       "<div>\n",
       "<style scoped>\n",
       "    .dataframe tbody tr th:only-of-type {\n",
       "        vertical-align: middle;\n",
       "    }\n",
       "\n",
       "    .dataframe tbody tr th {\n",
       "        vertical-align: top;\n",
       "    }\n",
       "\n",
       "    .dataframe thead th {\n",
       "        text-align: right;\n",
       "    }\n",
       "</style>\n",
       "<table border=\"1\" class=\"dataframe\">\n",
       "  <thead>\n",
       "    <tr style=\"text-align: right;\">\n",
       "      <th></th>\n",
       "      <th>0</th>\n",
       "      <th>1</th>\n",
       "    </tr>\n",
       "  </thead>\n",
       "  <tbody>\n",
       "    <tr>\n",
       "      <th>0</th>\n",
       "      <td>1</td>\n",
       "      <td>10</td>\n",
       "    </tr>\n",
       "    <tr>\n",
       "      <th>1</th>\n",
       "      <td>2</td>\n",
       "      <td>20</td>\n",
       "    </tr>\n",
       "    <tr>\n",
       "      <th>2</th>\n",
       "      <td>3</td>\n",
       "      <td>30</td>\n",
       "    </tr>\n",
       "  </tbody>\n",
       "</table>\n",
       "</div>"
      ],
      "text/plain": [
       "   0   1\n",
       "0  1  10\n",
       "1  2  20\n",
       "2  3  30"
      ]
     },
     "execution_count": 18,
     "metadata": {},
     "output_type": "execute_result"
    }
   ],
   "source": [
    "df = pd.DataFrame([[1, 10], [2, 20], [3, 30]])\n",
    "df"
   ]
  },
  {
   "cell_type": "code",
   "execution_count": 19,
   "id": "02d9e2d0-4525-43e2-aeeb-863f5f656946",
   "metadata": {},
   "outputs": [
    {
     "data": {
      "text/plain": [
       "0    1\n",
       "1    2\n",
       "2    3\n",
       "Name: 0, dtype: int64"
      ]
     },
     "execution_count": 19,
     "metadata": {},
     "output_type": "execute_result"
    }
   ],
   "source": [
    "# 解答セル\n",
    "df.loc[:, 0]"
   ]
  },
  {
   "cell_type": "markdown",
   "id": "668079c6-398c-480e-8535-8c068d7fafc9",
   "metadata": {},
   "source": [
    "## 練習問題:1-6\n",
    "\n",
    "次のような `DataFrame` を作成せよ。オブジェクト名は `prefs_df` とする。\n",
    "\n",
    "<table border=\"1\" class=\"dataframe\">\n",
    "  <thead>\n",
    "    <tr style=\"text-align: right;\">\n",
    "      <th></th>\n",
    "      <th>都道府県名</th>\n",
    "      <th>県庁所在地</th>\n",
    "    </tr>\n",
    "  </thead>\n",
    "  <tbody>\n",
    "    <tr>\n",
    "      <th>0</th>\n",
    "      <td>北海道</td>\n",
    "      <td>札幌</td>\n",
    "    </tr>\n",
    "    <tr>\n",
    "      <th>1</th>\n",
    "      <td>青森</td>\n",
    "      <td>青森</td>\n",
    "    </tr>\n",
    "  </tbody>\n",
    "</table>"
   ]
  },
  {
   "cell_type": "code",
   "execution_count": 23,
   "id": "da4f349d-7620-4494-bfa0-8b2bd1aa14e0",
   "metadata": {},
   "outputs": [
    {
     "data": {
      "text/html": [
       "<div>\n",
       "<style scoped>\n",
       "    .dataframe tbody tr th:only-of-type {\n",
       "        vertical-align: middle;\n",
       "    }\n",
       "\n",
       "    .dataframe tbody tr th {\n",
       "        vertical-align: top;\n",
       "    }\n",
       "\n",
       "    .dataframe thead th {\n",
       "        text-align: right;\n",
       "    }\n",
       "</style>\n",
       "<table border=\"1\" class=\"dataframe\">\n",
       "  <thead>\n",
       "    <tr style=\"text-align: right;\">\n",
       "      <th></th>\n",
       "      <th>都道府県名</th>\n",
       "      <th>県庁所在地</th>\n",
       "    </tr>\n",
       "  </thead>\n",
       "  <tbody>\n",
       "    <tr>\n",
       "      <th>0</th>\n",
       "      <td>北海道</td>\n",
       "      <td>札幌</td>\n",
       "    </tr>\n",
       "    <tr>\n",
       "      <th>1</th>\n",
       "      <td>青森</td>\n",
       "      <td>青森</td>\n",
       "    </tr>\n",
       "  </tbody>\n",
       "</table>\n",
       "</div>"
      ],
      "text/plain": [
       "  都道府県名 県庁所在地\n",
       "0   北海道    札幌\n",
       "1    青森    青森"
      ]
     },
     "execution_count": 23,
     "metadata": {},
     "output_type": "execute_result"
    }
   ],
   "source": [
    "# 解答セル\n",
    "prefs_data = {\n",
    "    \"都道府県名\" : [\"北海道\", \"青森\"],\n",
    "    \"県庁所在地\" : [\"札幌\", \"青森\"]\n",
    "}\n",
    "\n",
    "prefs_df = pd.DataFrame(prefs_data)\n",
    "prefs_df"
   ]
  },
  {
   "cell_type": "markdown",
   "id": "51e55554-f9ab-4879-8411-c3bf63a33ed5",
   "metadata": {},
   "source": [
    "## 練習問題:1-7\n",
    "\n",
    "`prefs_df` から「県庁所在地」列を参照せよ。"
   ]
  },
  {
   "cell_type": "code",
   "execution_count": 26,
   "id": "030f72a3-c004-4859-aac0-4831e1e7a19e",
   "metadata": {},
   "outputs": [
    {
     "data": {
      "text/plain": [
       "0    札幌\n",
       "1    青森\n",
       "Name: 県庁所在地, dtype: object"
      ]
     },
     "execution_count": 26,
     "metadata": {},
     "output_type": "execute_result"
    }
   ],
   "source": [
    "# 解答セル\n",
    "prefs_df.loc[:, \"県庁所在地\"]"
   ]
  },
  {
   "cell_type": "markdown",
   "id": "4a2220fe-7e1f-4d19-a234-f5b4057fbca2",
   "metadata": {},
   "source": [
    "## 練習問題:2-1\n",
    "\n",
    "以下の `ser` オブジェクトからラベル（インデックス）が `\"a\"` から `\"d\"` までを参照せよ。"
   ]
  },
  {
   "cell_type": "code",
   "execution_count": 27,
   "id": "cf6e03b3-b5c7-4f65-b4ea-edaf8302f1f6",
   "metadata": {},
   "outputs": [
    {
     "data": {
      "text/plain": [
       "a    0\n",
       "b    1\n",
       "c    2\n",
       "d    3\n",
       "e    4\n",
       "dtype: int64"
      ]
     },
     "execution_count": 27,
     "metadata": {},
     "output_type": "execute_result"
    }
   ],
   "source": [
    "ser = pd.Series(range(5), index=list(\"abcde\"))\n",
    "ser"
   ]
  },
  {
   "cell_type": "code",
   "execution_count": 28,
   "id": "dfede7c2-2503-41fe-8fb8-f2668a3713ba",
   "metadata": {},
   "outputs": [
    {
     "data": {
      "text/plain": [
       "a    0\n",
       "b    1\n",
       "c    2\n",
       "d    3\n",
       "dtype: int64"
      ]
     },
     "execution_count": 28,
     "metadata": {},
     "output_type": "execute_result"
    }
   ],
   "source": [
    "# 解答セル\n",
    "ser.loc[\"a\":\"d\"]"
   ]
  },
  {
   "cell_type": "markdown",
   "id": "b46b71d9-dc91-4fbd-8765-23803ab44da8",
   "metadata": {},
   "source": [
    "## 練習問題:2-2\n",
    "\n",
    "`ser` オブジェクトからラベル（インデックス）が `\"b\"` と `\"d\"` を参照せよ。"
   ]
  },
  {
   "cell_type": "code",
   "execution_count": 30,
   "id": "1f3dfde6-3c44-4f50-b9e2-dacb96f71819",
   "metadata": {},
   "outputs": [
    {
     "data": {
      "text/plain": [
       "b    1\n",
       "d    3\n",
       "dtype: int64"
      ]
     },
     "execution_count": 30,
     "metadata": {},
     "output_type": "execute_result"
    }
   ],
   "source": [
    "# 解答セル\n",
    "ser.loc[[\"b\", \"d\"]]"
   ]
  },
  {
   "cell_type": "markdown",
   "id": "a6224998-03cb-4549-9427-971e08fbcc72",
   "metadata": {},
   "source": [
    "## 練習問題:2-3\n",
    "\n",
    "以下の `df` オブジェクトから `\"r2c1\"` を参照せよ。"
   ]
  },
  {
   "cell_type": "code",
   "execution_count": 31,
   "id": "606a6b83-778b-4c50-9f92-fb210983e925",
   "metadata": {},
   "outputs": [
    {
     "data": {
      "text/html": [
       "<div>\n",
       "<style scoped>\n",
       "    .dataframe tbody tr th:only-of-type {\n",
       "        vertical-align: middle;\n",
       "    }\n",
       "\n",
       "    .dataframe tbody tr th {\n",
       "        vertical-align: top;\n",
       "    }\n",
       "\n",
       "    .dataframe thead th {\n",
       "        text-align: right;\n",
       "    }\n",
       "</style>\n",
       "<table border=\"1\" class=\"dataframe\">\n",
       "  <thead>\n",
       "    <tr style=\"text-align: right;\">\n",
       "      <th></th>\n",
       "      <th>c1</th>\n",
       "      <th>c2</th>\n",
       "      <th>c3</th>\n",
       "    </tr>\n",
       "  </thead>\n",
       "  <tbody>\n",
       "    <tr>\n",
       "      <th>r1</th>\n",
       "      <td>r1c1</td>\n",
       "      <td>r1c2</td>\n",
       "      <td>r1c3</td>\n",
       "    </tr>\n",
       "    <tr>\n",
       "      <th>r2</th>\n",
       "      <td>r2c1</td>\n",
       "      <td>r2c2</td>\n",
       "      <td>r2c3</td>\n",
       "    </tr>\n",
       "    <tr>\n",
       "      <th>r3</th>\n",
       "      <td>r3c3</td>\n",
       "      <td>r3c2</td>\n",
       "      <td>r3c3</td>\n",
       "    </tr>\n",
       "  </tbody>\n",
       "</table>\n",
       "</div>"
      ],
      "text/plain": [
       "      c1    c2    c3\n",
       "r1  r1c1  r1c2  r1c3\n",
       "r2  r2c1  r2c2  r2c3\n",
       "r3  r3c3  r3c2  r3c3"
      ]
     },
     "execution_count": 31,
     "metadata": {},
     "output_type": "execute_result"
    }
   ],
   "source": [
    "df = pd.DataFrame(\n",
    "    [\n",
    "        [\"r1c1\", \"r1c2\", \"r1c3\"],\n",
    "        [\"r2c1\", \"r2c2\", \"r2c3\"],\n",
    "        [\"r3c3\", \"r3c2\", \"r3c3\"],\n",
    "    ],\n",
    "    index=[\"r1\", \"r2\", \"r3\"],\n",
    "    columns=[\"c1\", \"c2\", \"c3\"]\n",
    ")\n",
    "df"
   ]
  },
  {
   "cell_type": "code",
   "execution_count": 32,
   "id": "75d44610-2630-438c-b9c9-da699d320213",
   "metadata": {},
   "outputs": [
    {
     "data": {
      "text/plain": [
       "'r2c1'"
      ]
     },
     "execution_count": 32,
     "metadata": {},
     "output_type": "execute_result"
    }
   ],
   "source": [
    "# 解答セル\n",
    "df.loc[\"r2\", \"c1\"]"
   ]
  },
  {
   "cell_type": "markdown",
   "id": "623d8c26-63c1-4173-8ecd-279c977cf0c2",
   "metadata": {},
   "source": [
    "## 練習問題:2-4\n",
    "\n",
    "`df` オブジェクトから以下のように、「r2」以降の列と、「c1, c3」列を参照せよ。\n",
    "\n",
    "<table border=\"1\" class=\"dataframe\">\n",
    "  <thead>\n",
    "    <tr style=\"text-align: right;\">\n",
    "      <th></th>\n",
    "      <th>c1</th>\n",
    "      <th>c3</th>\n",
    "    </tr>\n",
    "  </thead>\n",
    "  <tbody>\n",
    "    <tr>\n",
    "      <th>r2</th>\n",
    "      <td>r2c1</td>\n",
    "      <td>r2c3</td>\n",
    "    </tr>\n",
    "    <tr>\n",
    "      <th>r3</th>\n",
    "      <td>r3c3</td>\n",
    "      <td>r3c3</td>\n",
    "    </tr>\n",
    "  </tbody>\n",
    "</table>"
   ]
  },
  {
   "cell_type": "code",
   "execution_count": 33,
   "id": "4ada6076-0028-4be1-b4b5-433cdc2f16de",
   "metadata": {},
   "outputs": [
    {
     "data": {
      "text/html": [
       "<div>\n",
       "<style scoped>\n",
       "    .dataframe tbody tr th:only-of-type {\n",
       "        vertical-align: middle;\n",
       "    }\n",
       "\n",
       "    .dataframe tbody tr th {\n",
       "        vertical-align: top;\n",
       "    }\n",
       "\n",
       "    .dataframe thead th {\n",
       "        text-align: right;\n",
       "    }\n",
       "</style>\n",
       "<table border=\"1\" class=\"dataframe\">\n",
       "  <thead>\n",
       "    <tr style=\"text-align: right;\">\n",
       "      <th></th>\n",
       "      <th>c1</th>\n",
       "      <th>c3</th>\n",
       "    </tr>\n",
       "  </thead>\n",
       "  <tbody>\n",
       "    <tr>\n",
       "      <th>r2</th>\n",
       "      <td>r2c1</td>\n",
       "      <td>r2c3</td>\n",
       "    </tr>\n",
       "    <tr>\n",
       "      <th>r3</th>\n",
       "      <td>r3c3</td>\n",
       "      <td>r3c3</td>\n",
       "    </tr>\n",
       "  </tbody>\n",
       "</table>\n",
       "</div>"
      ],
      "text/plain": [
       "      c1    c3\n",
       "r2  r2c1  r2c3\n",
       "r3  r3c3  r3c3"
      ]
     },
     "execution_count": 33,
     "metadata": {},
     "output_type": "execute_result"
    }
   ],
   "source": [
    "# 解答セル\n",
    "df.loc[\"r2\":\"r3\", [\"c1\", \"c3\"]]"
   ]
  },
  {
   "cell_type": "markdown",
   "id": "db762c64-3cdf-40aa-a149-9d3a27596bfb",
   "metadata": {},
   "source": [
    "## 練習問題:2-5\n",
    "\n",
    "以下の `ser` オブジェクトの値1を20に、4を40に変更せよ。"
   ]
  },
  {
   "cell_type": "code",
   "execution_count": 34,
   "id": "d9c90826-ac2f-4af3-a59c-6dc9acc8fed4",
   "metadata": {},
   "outputs": [
    {
     "data": {
      "text/plain": [
       "a    0\n",
       "b    1\n",
       "c    2\n",
       "d    3\n",
       "e    4\n",
       "dtype: int64"
      ]
     },
     "execution_count": 34,
     "metadata": {},
     "output_type": "execute_result"
    }
   ],
   "source": [
    "ser = pd.Series(range(5), index=list(\"abcde\"))\n",
    "ser"
   ]
  },
  {
   "cell_type": "code",
   "execution_count": 35,
   "id": "08fda18b-6063-4676-a6fe-b8c34cab4b44",
   "metadata": {},
   "outputs": [
    {
     "data": {
      "text/plain": [
       "a     0\n",
       "b    20\n",
       "c     2\n",
       "d     3\n",
       "e    40\n",
       "dtype: int64"
      ]
     },
     "execution_count": 35,
     "metadata": {},
     "output_type": "execute_result"
    }
   ],
   "source": [
    "# 解答セル\n",
    "ser[\"b\"] = 20\n",
    "ser[\"e\"] = 40\n",
    "ser"
   ]
  },
  {
   "cell_type": "markdown",
   "id": "f57dad19-321b-4bbe-a52b-2b124da8d0d1",
   "metadata": {},
   "source": [
    "## 練習問題:2-6\n",
    "\n",
    "以下の `df` オブジェクトの「c3」列の値を\"C3\"に変更せよ。\n",
    "\n",
    "<table border=\"1\" class=\"dataframe\">\n",
    "  <thead>\n",
    "    <tr style=\"text-align: right;\">\n",
    "      <th></th>\n",
    "      <th>c1</th>\n",
    "      <th>c2</th>\n",
    "      <th>c3</th>\n",
    "    </tr>\n",
    "  </thead>\n",
    "  <tbody>\n",
    "    <tr>\n",
    "      <th>r1</th>\n",
    "      <td>r1c1</td>\n",
    "      <td>r1c2</td>\n",
    "      <td>C3</td>\n",
    "    </tr>\n",
    "    <tr>\n",
    "      <th>r2</th>\n",
    "      <td>r2c1</td>\n",
    "      <td>r2c2</td>\n",
    "      <td>C3</td>\n",
    "    </tr>\n",
    "    <tr>\n",
    "      <th>r3</th>\n",
    "      <td>r3c3</td>\n",
    "      <td>r3c2</td>\n",
    "      <td>C3</td>\n",
    "    </tr>\n",
    "  </tbody>\n",
    "</table>"
   ]
  },
  {
   "cell_type": "code",
   "execution_count": 36,
   "id": "3f7734a9-ff86-4f4f-9c56-fdedbdfe1dc5",
   "metadata": {},
   "outputs": [
    {
     "data": {
      "text/html": [
       "<div>\n",
       "<style scoped>\n",
       "    .dataframe tbody tr th:only-of-type {\n",
       "        vertical-align: middle;\n",
       "    }\n",
       "\n",
       "    .dataframe tbody tr th {\n",
       "        vertical-align: top;\n",
       "    }\n",
       "\n",
       "    .dataframe thead th {\n",
       "        text-align: right;\n",
       "    }\n",
       "</style>\n",
       "<table border=\"1\" class=\"dataframe\">\n",
       "  <thead>\n",
       "    <tr style=\"text-align: right;\">\n",
       "      <th></th>\n",
       "      <th>c1</th>\n",
       "      <th>c2</th>\n",
       "      <th>c3</th>\n",
       "    </tr>\n",
       "  </thead>\n",
       "  <tbody>\n",
       "    <tr>\n",
       "      <th>r1</th>\n",
       "      <td>r1c1</td>\n",
       "      <td>r1c2</td>\n",
       "      <td>r1c3</td>\n",
       "    </tr>\n",
       "    <tr>\n",
       "      <th>r2</th>\n",
       "      <td>r2c1</td>\n",
       "      <td>r2c2</td>\n",
       "      <td>r2c3</td>\n",
       "    </tr>\n",
       "    <tr>\n",
       "      <th>r3</th>\n",
       "      <td>r3c3</td>\n",
       "      <td>r3c2</td>\n",
       "      <td>r3c3</td>\n",
       "    </tr>\n",
       "  </tbody>\n",
       "</table>\n",
       "</div>"
      ],
      "text/plain": [
       "      c1    c2    c3\n",
       "r1  r1c1  r1c2  r1c3\n",
       "r2  r2c1  r2c2  r2c3\n",
       "r3  r3c3  r3c2  r3c3"
      ]
     },
     "execution_count": 36,
     "metadata": {},
     "output_type": "execute_result"
    }
   ],
   "source": [
    "df = pd.DataFrame(\n",
    "    [\n",
    "        [\"r1c1\", \"r1c2\", \"r1c3\"],\n",
    "        [\"r2c1\", \"r2c2\", \"r2c3\"],\n",
    "        [\"r3c3\", \"r3c2\", \"r3c3\"],\n",
    "    ],\n",
    "    index=[\"r1\", \"r2\", \"r3\"],\n",
    "    columns=[\"c1\", \"c2\", \"c3\"]\n",
    ")\n",
    "df"
   ]
  },
  {
   "cell_type": "code",
   "execution_count": 37,
   "id": "535aa814-97f9-4d59-8026-d76c01b49071",
   "metadata": {},
   "outputs": [
    {
     "data": {
      "text/html": [
       "<div>\n",
       "<style scoped>\n",
       "    .dataframe tbody tr th:only-of-type {\n",
       "        vertical-align: middle;\n",
       "    }\n",
       "\n",
       "    .dataframe tbody tr th {\n",
       "        vertical-align: top;\n",
       "    }\n",
       "\n",
       "    .dataframe thead th {\n",
       "        text-align: right;\n",
       "    }\n",
       "</style>\n",
       "<table border=\"1\" class=\"dataframe\">\n",
       "  <thead>\n",
       "    <tr style=\"text-align: right;\">\n",
       "      <th></th>\n",
       "      <th>c1</th>\n",
       "      <th>c2</th>\n",
       "      <th>c3</th>\n",
       "    </tr>\n",
       "  </thead>\n",
       "  <tbody>\n",
       "    <tr>\n",
       "      <th>r1</th>\n",
       "      <td>r1c1</td>\n",
       "      <td>r1c2</td>\n",
       "      <td>C3</td>\n",
       "    </tr>\n",
       "    <tr>\n",
       "      <th>r2</th>\n",
       "      <td>r2c1</td>\n",
       "      <td>r2c2</td>\n",
       "      <td>C3</td>\n",
       "    </tr>\n",
       "    <tr>\n",
       "      <th>r3</th>\n",
       "      <td>r3c3</td>\n",
       "      <td>r3c2</td>\n",
       "      <td>C3</td>\n",
       "    </tr>\n",
       "  </tbody>\n",
       "</table>\n",
       "</div>"
      ],
      "text/plain": [
       "      c1    c2  c3\n",
       "r1  r1c1  r1c2  C3\n",
       "r2  r2c1  r2c2  C3\n",
       "r3  r3c3  r3c2  C3"
      ]
     },
     "execution_count": 37,
     "metadata": {},
     "output_type": "execute_result"
    }
   ],
   "source": [
    "# 解答セル\n",
    "df.loc[:, \"c3\"] = \"C3\"\n",
    "df"
   ]
  },
  {
   "cell_type": "markdown",
   "id": "6afaa6a7-539e-45f2-b55d-c4a94b5ac5c4",
   "metadata": {},
   "source": [
    "## 練習問題:2-7\n",
    "\n",
    "以下の `bool_ser` オブジェクトの負の値かつ奇数の値を0に変更せよ。"
   ]
  },
  {
   "cell_type": "code",
   "execution_count": 38,
   "id": "c9c2f424-9440-46d5-8df0-09dd1ccc4238",
   "metadata": {},
   "outputs": [
    {
     "data": {
      "text/plain": [
       "a   -3\n",
       "b   -2\n",
       "c   -1\n",
       "d    0\n",
       "e    1\n",
       "f    2\n",
       "g    3\n",
       "dtype: int64"
      ]
     },
     "execution_count": 38,
     "metadata": {},
     "output_type": "execute_result"
    }
   ],
   "source": [
    "bool_ser = pd.Series([-3, -2, -1, 0, 1, 2, 3], index=list(\"abcdefg\"))\n",
    "bool_ser"
   ]
  },
  {
   "cell_type": "code",
   "execution_count": 42,
   "id": "2626c717-0d48-4543-bafa-8c86ca21022c",
   "metadata": {},
   "outputs": [
    {
     "data": {
      "text/plain": [
       "a   -3\n",
       "c   -1\n",
       "dtype: int64"
      ]
     },
     "execution_count": 42,
     "metadata": {},
     "output_type": "execute_result"
    }
   ],
   "source": [
    "# 解答セル\n",
    "bool_ser.loc[(bool_ser < 0) & (bool_ser % 2 != 0)]"
   ]
  },
  {
   "cell_type": "markdown",
   "id": "e8617a36-2a5d-4c3b-9653-f1bdc81178ee",
   "metadata": {},
   "source": [
    "## 練習問題:2-7\n",
    "\n",
    "以下の `bool_df` オブジェクトの「A」列が負の値の列を0に変更せよ。\n",
    "\n",
    "<table border=\"1\" class=\"dataframe\">\n",
    "  <thead>\n",
    "    <tr style=\"text-align: right;\">\n",
    "      <th></th>\n",
    "      <th>A</th>\n",
    "      <th>B</th>\n",
    "      <th>C</th>\n",
    "    </tr>\n",
    "  </thead>\n",
    "  <tbody>\n",
    "    <tr>\n",
    "      <th>a</th>\n",
    "      <td>0</td>\n",
    "      <td>0</td>\n",
    "      <td>0</td>\n",
    "    </tr>\n",
    "    <tr>\n",
    "      <th>b</th>\n",
    "      <td>1</td>\n",
    "      <td>-1</td>\n",
    "      <td>-2</td>\n",
    "    </tr>\n",
    "    <tr>\n",
    "      <th>c</th>\n",
    "      <td>0</td>\n",
    "      <td>0</td>\n",
    "      <td>0</td>\n",
    "    </tr>\n",
    "  </tbody>\n",
    "</table>"
   ]
  },
  {
   "cell_type": "code",
   "execution_count": 55,
   "id": "04efd715-a5ce-4aff-a57e-aba3044352d8",
   "metadata": {},
   "outputs": [
    {
     "data": {
      "text/html": [
       "<div>\n",
       "<style scoped>\n",
       "    .dataframe tbody tr th:only-of-type {\n",
       "        vertical-align: middle;\n",
       "    }\n",
       "\n",
       "    .dataframe tbody tr th {\n",
       "        vertical-align: top;\n",
       "    }\n",
       "\n",
       "    .dataframe thead th {\n",
       "        text-align: right;\n",
       "    }\n",
       "</style>\n",
       "<table border=\"1\" class=\"dataframe\">\n",
       "  <thead>\n",
       "    <tr style=\"text-align: right;\">\n",
       "      <th></th>\n",
       "      <th>A</th>\n",
       "      <th>B</th>\n",
       "      <th>C</th>\n",
       "    </tr>\n",
       "  </thead>\n",
       "  <tbody>\n",
       "    <tr>\n",
       "      <th>a</th>\n",
       "      <td>-3</td>\n",
       "      <td>2</td>\n",
       "      <td>0</td>\n",
       "    </tr>\n",
       "    <tr>\n",
       "      <th>b</th>\n",
       "      <td>1</td>\n",
       "      <td>-1</td>\n",
       "      <td>-2</td>\n",
       "    </tr>\n",
       "    <tr>\n",
       "      <th>c</th>\n",
       "      <td>-4</td>\n",
       "      <td>4</td>\n",
       "      <td>3</td>\n",
       "    </tr>\n",
       "  </tbody>\n",
       "</table>\n",
       "</div>"
      ],
      "text/plain": [
       "   A  B  C\n",
       "a -3  2  0\n",
       "b  1 -1 -2\n",
       "c -4  4  3"
      ]
     },
     "execution_count": 55,
     "metadata": {},
     "output_type": "execute_result"
    }
   ],
   "source": [
    "bool_df = pd.DataFrame(\n",
    "    [\n",
    "        [-3, 2, 0],\n",
    "        [1, -1, -2],\n",
    "        [-4, 4, 3],\n",
    "    ],\n",
    "    index=list(\"abc\"),\n",
    "    columns=list(\"ABC\")\n",
    ")\n",
    "bool_df"
   ]
  },
  {
   "cell_type": "code",
   "execution_count": 59,
   "id": "604130c9-dfd7-481b-ad80-1670422bdba9",
   "metadata": {},
   "outputs": [
    {
     "data": {
      "text/html": [
       "<div>\n",
       "<style scoped>\n",
       "    .dataframe tbody tr th:only-of-type {\n",
       "        vertical-align: middle;\n",
       "    }\n",
       "\n",
       "    .dataframe tbody tr th {\n",
       "        vertical-align: top;\n",
       "    }\n",
       "\n",
       "    .dataframe thead th {\n",
       "        text-align: right;\n",
       "    }\n",
       "</style>\n",
       "<table border=\"1\" class=\"dataframe\">\n",
       "  <thead>\n",
       "    <tr style=\"text-align: right;\">\n",
       "      <th></th>\n",
       "      <th>A</th>\n",
       "      <th>B</th>\n",
       "      <th>C</th>\n",
       "    </tr>\n",
       "  </thead>\n",
       "  <tbody>\n",
       "    <tr>\n",
       "      <th>a</th>\n",
       "      <td>0</td>\n",
       "      <td>0</td>\n",
       "      <td>0</td>\n",
       "    </tr>\n",
       "    <tr>\n",
       "      <th>b</th>\n",
       "      <td>1</td>\n",
       "      <td>-1</td>\n",
       "      <td>-2</td>\n",
       "    </tr>\n",
       "    <tr>\n",
       "      <th>c</th>\n",
       "      <td>0</td>\n",
       "      <td>0</td>\n",
       "      <td>0</td>\n",
       "    </tr>\n",
       "  </tbody>\n",
       "</table>\n",
       "</div>"
      ],
      "text/plain": [
       "   A  B  C\n",
       "a  0  0  0\n",
       "b  1 -1 -2\n",
       "c  0  0  0"
      ]
     },
     "execution_count": 59,
     "metadata": {},
     "output_type": "execute_result"
    }
   ],
   "source": [
    "# 解答セル\n",
    "bool_df.loc[bool_df.loc[:, \"A\"] < 0, :] = 0\n",
    "bool_df"
   ]
  }
 ],
 "metadata": {
  "interpreter": {
   "hash": "93c5697865292fdd0df1432c6bc5dc8f9244b4d72a06ac70cd24d4ff1f17d896"
  },
  "kernelspec": {
   "display_name": "Python 3.9.6 ('venv': venv)",
   "language": "python",
   "name": "python3"
  },
  "language_info": {
   "codemirror_mode": {
    "name": "ipython",
    "version": 3
   },
   "file_extension": ".py",
   "mimetype": "text/x-python",
   "name": "python",
   "nbconvert_exporter": "python",
   "pygments_lexer": "ipython3",
   "version": "3.9.6"
  }
 },
 "nbformat": 4,
 "nbformat_minor": 5
}
