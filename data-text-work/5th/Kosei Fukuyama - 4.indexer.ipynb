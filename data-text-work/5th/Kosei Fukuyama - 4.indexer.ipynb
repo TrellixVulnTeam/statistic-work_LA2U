{
 "cells": [
  {
   "cell_type": "markdown",
   "id": "0c0a15d9-c37d-4159-b2f5-1686fa700f2a",
   "metadata": {},
   "source": [
    "# 要素のアクセス\n",
    "\n",
    "本節では `Series` および `DataFrame` の要素にアクセスする方法を学びます。\n",
    "ここでいう「アクセス」とは要素を参照したり、変更する操作を指します。\n",
    "\n",
    "**本節の内容はpandasを理解する上でもっとも重要なポイントです。疑問や曖昧な点がありましたらそのままにせず、理解できるまで質問してください。**"
   ]
  },
  {
   "cell_type": "markdown",
   "id": "f3d445cd-8fb8-4fbb-b189-2a37beab05b8",
   "metadata": {},
   "source": [
    "## インデクサ\n",
    "\n",
    "`Series` および `DataFrame` にはインデクサと呼ばれる要素にアクセスするためのプロパティ(属性)があります。\n",
    "インデクサを利用することで、データを効率よく抽出したり、書き換えることができます。\n",
    "\n",
    "インデクサ | 役割\n",
    "--- | ---\n",
    "loc | ラベル(インデックス)による指定\n",
    "iloc | 位置(順序)による指定\n",
    "at | ラベル(インデックス)による指定、値(単一のデータ)が対象\n",
    "iat | ラベル(インデックス)による指定、値(単一のデータ)が対象"
   ]
  },
  {
   "cell_type": "markdown",
   "id": "adc06e07-a9d1-443f-b2b3-0a6c824e9536",
   "metadata": {},
   "source": [
    "### locインデクサ\n",
    "\n",
    "`loc` インデクサはデータのラベル(インデックス)を添字に指定して、データにアクセスします。"
   ]
  },
  {
   "cell_type": "code",
   "execution_count": 1,
   "id": "6056e833-cc1f-49fd-9fdc-51ddfca44d4a",
   "metadata": {},
   "outputs": [
    {
     "data": {
      "text/plain": [
       "a    0\n",
       "b    1\n",
       "c    2\n",
       "d    3\n",
       "e    4\n",
       "dtype: int64"
      ]
     },
     "execution_count": 1,
     "metadata": {},
     "output_type": "execute_result"
    }
   ],
   "source": [
    "import pandas as pd\n",
    "\n",
    "ser = pd.Series(range(5), index=list(\"abcde\"))\n",
    "ser"
   ]
  },
  {
   "cell_type": "code",
   "execution_count": 2,
   "id": "fd2c0155-77a7-46bc-8d06-c997a14837fa",
   "metadata": {},
   "outputs": [
    {
     "data": {
      "text/plain": [
       "2"
      ]
     },
     "execution_count": 2,
     "metadata": {},
     "output_type": "execute_result"
    }
   ],
   "source": [
    "ser.loc[\"c\"]"
   ]
  },
  {
   "cell_type": "markdown",
   "id": "ab121852-95b1-47a1-a227-d564c58c48ba",
   "metadata": {},
   "source": [
    "リストやタプルなどと同様にスライスによる指定ができます。 \n",
    "`loc` によるスライスは**開始位置と終了位置が含まれます**。"
   ]
  },
  {
   "cell_type": "code",
   "execution_count": 3,
   "id": "0a3619d7-7337-43f2-be37-f39d25a6dfcf",
   "metadata": {},
   "outputs": [
    {
     "data": {
      "text/plain": [
       "b    1\n",
       "c    2\n",
       "d    3\n",
       "dtype: int64"
      ]
     },
     "execution_count": 3,
     "metadata": {},
     "output_type": "execute_result"
    }
   ],
   "source": [
    "ser.loc[\"b\":\"d\"]"
   ]
  },
  {
   "cell_type": "markdown",
   "id": "15fa7067-79cc-468c-98c2-ea39e94eec4c",
   "metadata": {},
   "source": [
    "添字にリストを渡すことで、リスト内の要素にアクセスできます。"
   ]
  },
  {
   "cell_type": "code",
   "execution_count": 4,
   "id": "5586389f-1ff3-4f29-b601-9cb01599cbd9",
   "metadata": {},
   "outputs": [
    {
     "data": {
      "text/plain": [
       "a    0\n",
       "c    2\n",
       "dtype: int64"
      ]
     },
     "execution_count": 4,
     "metadata": {},
     "output_type": "execute_result"
    }
   ],
   "source": [
    "ser.loc[[\"a\", \"c\"]]"
   ]
  },
  {
   "cell_type": "markdown",
   "id": "3d85a327-889d-4b68-8392-d35a79b84d47",
   "metadata": {},
   "source": [
    "`DataFrame` から `loc` を利用する場合は、 _行, 列_ の形式でアクセスします。"
   ]
  },
  {
   "cell_type": "code",
   "execution_count": 5,
   "id": "5f8b4a45-b50a-4058-876d-beb8dec53838",
   "metadata": {},
   "outputs": [
    {
     "data": {
      "text/html": [
       "<div>\n",
       "<style scoped>\n",
       "    .dataframe tbody tr th:only-of-type {\n",
       "        vertical-align: middle;\n",
       "    }\n",
       "\n",
       "    .dataframe tbody tr th {\n",
       "        vertical-align: top;\n",
       "    }\n",
       "\n",
       "    .dataframe thead th {\n",
       "        text-align: right;\n",
       "    }\n",
       "</style>\n",
       "<table border=\"1\" class=\"dataframe\">\n",
       "  <thead>\n",
       "    <tr style=\"text-align: right;\">\n",
       "      <th></th>\n",
       "      <th>c1</th>\n",
       "      <th>c2</th>\n",
       "      <th>c3</th>\n",
       "    </tr>\n",
       "  </thead>\n",
       "  <tbody>\n",
       "    <tr>\n",
       "      <th>r1</th>\n",
       "      <td>r1c1</td>\n",
       "      <td>r1c2</td>\n",
       "      <td>r1c3</td>\n",
       "    </tr>\n",
       "    <tr>\n",
       "      <th>r2</th>\n",
       "      <td>r2c1</td>\n",
       "      <td>r2c2</td>\n",
       "      <td>r2c3</td>\n",
       "    </tr>\n",
       "    <tr>\n",
       "      <th>r3</th>\n",
       "      <td>r3c3</td>\n",
       "      <td>r3c2</td>\n",
       "      <td>r3c3</td>\n",
       "    </tr>\n",
       "  </tbody>\n",
       "</table>\n",
       "</div>"
      ],
      "text/plain": [
       "      c1    c2    c3\n",
       "r1  r1c1  r1c2  r1c3\n",
       "r2  r2c1  r2c2  r2c3\n",
       "r3  r3c3  r3c2  r3c3"
      ]
     },
     "execution_count": 5,
     "metadata": {},
     "output_type": "execute_result"
    }
   ],
   "source": [
    "df = pd.DataFrame(\n",
    "    [\n",
    "        [\"r1c1\", \"r1c2\", \"r1c3\"],\n",
    "        [\"r2c1\", \"r2c2\", \"r2c3\"],\n",
    "        [\"r3c3\", \"r3c2\", \"r3c3\"],\n",
    "    ],\n",
    "    index=[\"r1\", \"r2\", \"r3\"],\n",
    "    columns=[\"c1\", \"c2\", \"c3\"]\n",
    ")\n",
    "df"
   ]
  },
  {
   "cell_type": "code",
   "execution_count": 6,
   "id": "729def7b-8b09-4ec8-9258-7a474f410a2b",
   "metadata": {},
   "outputs": [
    {
     "data": {
      "text/plain": [
       "'r1c2'"
      ]
     },
     "execution_count": 6,
     "metadata": {},
     "output_type": "execute_result"
    }
   ],
   "source": [
    "df.loc[\"r1\", \"c2\"]"
   ]
  },
  {
   "cell_type": "markdown",
   "id": "ca7d1869-dd2d-478e-ac33-6375a8a3d2a2",
   "metadata": {},
   "source": [
    "すべての行または列にアクセスする場合は、 `:` を指定します。"
   ]
  },
  {
   "cell_type": "code",
   "execution_count": 7,
   "id": "bf9ecece-df57-41de-b396-aa9962fa7bd2",
   "metadata": {},
   "outputs": [
    {
     "data": {
      "text/plain": [
       "c1    r1c1\n",
       "c2    r1c2\n",
       "c3    r1c3\n",
       "Name: r1, dtype: object"
      ]
     },
     "execution_count": 7,
     "metadata": {},
     "output_type": "execute_result"
    }
   ],
   "source": [
    "df.loc[\"r1\", :]"
   ]
  },
  {
   "cell_type": "code",
   "execution_count": 8,
   "id": "9130a0d9-2e38-449b-860c-29aaecd840a7",
   "metadata": {},
   "outputs": [
    {
     "data": {
      "text/plain": [
       "r1    r1c1\n",
       "r2    r2c1\n",
       "r3    r3c3\n",
       "Name: c1, dtype: object"
      ]
     },
     "execution_count": 8,
     "metadata": {},
     "output_type": "execute_result"
    }
   ],
   "source": [
    "df.loc[:, \"c1\"]"
   ]
  },
  {
   "cell_type": "code",
   "execution_count": 9,
   "id": "7f459954-6894-4c28-b031-37a62fe47470",
   "metadata": {},
   "outputs": [
    {
     "data": {
      "text/html": [
       "<div>\n",
       "<style scoped>\n",
       "    .dataframe tbody tr th:only-of-type {\n",
       "        vertical-align: middle;\n",
       "    }\n",
       "\n",
       "    .dataframe tbody tr th {\n",
       "        vertical-align: top;\n",
       "    }\n",
       "\n",
       "    .dataframe thead th {\n",
       "        text-align: right;\n",
       "    }\n",
       "</style>\n",
       "<table border=\"1\" class=\"dataframe\">\n",
       "  <thead>\n",
       "    <tr style=\"text-align: right;\">\n",
       "      <th></th>\n",
       "      <th>c2</th>\n",
       "      <th>c3</th>\n",
       "    </tr>\n",
       "  </thead>\n",
       "  <tbody>\n",
       "    <tr>\n",
       "      <th>r1</th>\n",
       "      <td>r1c2</td>\n",
       "      <td>r1c3</td>\n",
       "    </tr>\n",
       "    <tr>\n",
       "      <th>r3</th>\n",
       "      <td>r3c2</td>\n",
       "      <td>r3c3</td>\n",
       "    </tr>\n",
       "  </tbody>\n",
       "</table>\n",
       "</div>"
      ],
      "text/plain": [
       "      c2    c3\n",
       "r1  r1c2  r1c3\n",
       "r3  r3c2  r3c3"
      ]
     },
     "execution_count": 9,
     "metadata": {},
     "output_type": "execute_result"
    }
   ],
   "source": [
    "df.loc[[\"r1\", \"r3\"], [\"c2\", \"c3\"]]"
   ]
  },
  {
   "cell_type": "markdown",
   "id": "2731c54e-60fa-4fb7-94be-fa70aca783c8",
   "metadata": {},
   "source": [
    "### ilocインデクサ\n",
    "\n",
    "`iloc` インデクサはデータの位置(順序)を添字に指定して、データにアクセスします。"
   ]
  },
  {
   "cell_type": "code",
   "execution_count": 10,
   "id": "10747d08-e8ac-453c-8cd0-74ad2bb3af24",
   "metadata": {},
   "outputs": [
    {
     "data": {
      "text/plain": [
       "a    0\n",
       "b    1\n",
       "c    2\n",
       "d    3\n",
       "e    4\n",
       "dtype: int64"
      ]
     },
     "execution_count": 10,
     "metadata": {},
     "output_type": "execute_result"
    }
   ],
   "source": [
    "ser"
   ]
  },
  {
   "cell_type": "code",
   "execution_count": 11,
   "id": "b629f63b-03e5-469c-a965-1af6b1a2f26c",
   "metadata": {},
   "outputs": [
    {
     "data": {
      "text/plain": [
       "2"
      ]
     },
     "execution_count": 11,
     "metadata": {},
     "output_type": "execute_result"
    }
   ],
   "source": [
    "ser.iloc[2]"
   ]
  },
  {
   "cell_type": "markdown",
   "id": "73b49c66-456b-4fc8-9936-d3fc0219165c",
   "metadata": {},
   "source": [
    "`iloc` のスライスはリストやタプルと同様になります。"
   ]
  },
  {
   "cell_type": "code",
   "execution_count": 12,
   "id": "328ae024-3233-4ab7-8395-6ce3758e7871",
   "metadata": {},
   "outputs": [
    {
     "data": {
      "text/plain": [
       "c    2\n",
       "d    3\n",
       "dtype: int64"
      ]
     },
     "execution_count": 12,
     "metadata": {},
     "output_type": "execute_result"
    }
   ],
   "source": [
    "ser.iloc[2:4]"
   ]
  },
  {
   "cell_type": "code",
   "execution_count": 13,
   "id": "234b237f-98f2-4d79-938b-58ec9f8129bd",
   "metadata": {},
   "outputs": [
    {
     "data": {
      "text/html": [
       "<div>\n",
       "<style scoped>\n",
       "    .dataframe tbody tr th:only-of-type {\n",
       "        vertical-align: middle;\n",
       "    }\n",
       "\n",
       "    .dataframe tbody tr th {\n",
       "        vertical-align: top;\n",
       "    }\n",
       "\n",
       "    .dataframe thead th {\n",
       "        text-align: right;\n",
       "    }\n",
       "</style>\n",
       "<table border=\"1\" class=\"dataframe\">\n",
       "  <thead>\n",
       "    <tr style=\"text-align: right;\">\n",
       "      <th></th>\n",
       "      <th>c1</th>\n",
       "      <th>c2</th>\n",
       "    </tr>\n",
       "  </thead>\n",
       "  <tbody>\n",
       "    <tr>\n",
       "      <th>r2</th>\n",
       "      <td>r2c1</td>\n",
       "      <td>r2c2</td>\n",
       "    </tr>\n",
       "    <tr>\n",
       "      <th>r3</th>\n",
       "      <td>r3c3</td>\n",
       "      <td>r3c2</td>\n",
       "    </tr>\n",
       "  </tbody>\n",
       "</table>\n",
       "</div>"
      ],
      "text/plain": [
       "      c1    c2\n",
       "r2  r2c1  r2c2\n",
       "r3  r3c3  r3c2"
      ]
     },
     "execution_count": 13,
     "metadata": {},
     "output_type": "execute_result"
    }
   ],
   "source": [
    "df.iloc[1:, :2]"
   ]
  },
  {
   "cell_type": "markdown",
   "id": "884373d4-5fcd-46a0-bc7a-6ed51db9a408",
   "metadata": {},
   "source": [
    "locと同様にリストによる指定ができます。"
   ]
  },
  {
   "cell_type": "code",
   "execution_count": 14,
   "id": "dfc9e8c5-137b-4764-a980-5b3c432decf5",
   "metadata": {},
   "outputs": [
    {
     "data": {
      "text/plain": [
       "c    2\n",
       "e    4\n",
       "dtype: int64"
      ]
     },
     "execution_count": 14,
     "metadata": {},
     "output_type": "execute_result"
    }
   ],
   "source": [
    "ser.iloc[[2, 4]]"
   ]
  },
  {
   "cell_type": "code",
   "execution_count": 15,
   "id": "4a65e90d-893c-4b16-bfe2-8490ef7b8ef4",
   "metadata": {},
   "outputs": [
    {
     "data": {
      "text/html": [
       "<div>\n",
       "<style scoped>\n",
       "    .dataframe tbody tr th:only-of-type {\n",
       "        vertical-align: middle;\n",
       "    }\n",
       "\n",
       "    .dataframe tbody tr th {\n",
       "        vertical-align: top;\n",
       "    }\n",
       "\n",
       "    .dataframe thead th {\n",
       "        text-align: right;\n",
       "    }\n",
       "</style>\n",
       "<table border=\"1\" class=\"dataframe\">\n",
       "  <thead>\n",
       "    <tr style=\"text-align: right;\">\n",
       "      <th></th>\n",
       "      <th>c2</th>\n",
       "      <th>c3</th>\n",
       "    </tr>\n",
       "  </thead>\n",
       "  <tbody>\n",
       "    <tr>\n",
       "      <th>r1</th>\n",
       "      <td>r1c2</td>\n",
       "      <td>r1c3</td>\n",
       "    </tr>\n",
       "    <tr>\n",
       "      <th>r3</th>\n",
       "      <td>r3c2</td>\n",
       "      <td>r3c3</td>\n",
       "    </tr>\n",
       "  </tbody>\n",
       "</table>\n",
       "</div>"
      ],
      "text/plain": [
       "      c2    c3\n",
       "r1  r1c2  r1c3\n",
       "r3  r3c2  r3c3"
      ]
     },
     "execution_count": 15,
     "metadata": {},
     "output_type": "execute_result"
    }
   ],
   "source": [
    "df.iloc[[0, 2], [1, 2]]"
   ]
  },
  {
   "cell_type": "markdown",
   "id": "18f6182f-6f16-4bdf-a18d-b9975db21d24",
   "metadata": {},
   "source": [
    "## 要素の変更\n",
    "\n",
    "インデックスに指定した要素に値やデータ(list-like)を代入することで、要素が変更できます。"
   ]
  },
  {
   "cell_type": "code",
   "execution_count": 16,
   "id": "ddd1c2e4-273a-467a-b381-21db1bd7eca5",
   "metadata": {},
   "outputs": [
    {
     "data": {
      "text/plain": [
       "a    0\n",
       "b    1\n",
       "c    2\n",
       "d    3\n",
       "e    4\n",
       "dtype: int64"
      ]
     },
     "execution_count": 16,
     "metadata": {},
     "output_type": "execute_result"
    }
   ],
   "source": [
    "ser"
   ]
  },
  {
   "cell_type": "code",
   "execution_count": 17,
   "id": "14d3ec43-439f-415a-87ab-e92fb17d0389",
   "metadata": {},
   "outputs": [
    {
     "data": {
      "text/plain": [
       "a     0\n",
       "b     1\n",
       "c    20\n",
       "d     3\n",
       "e     4\n",
       "dtype: int64"
      ]
     },
     "execution_count": 17,
     "metadata": {},
     "output_type": "execute_result"
    }
   ],
   "source": [
    "ser.loc[\"c\"] = 20\n",
    "ser"
   ]
  },
  {
   "cell_type": "code",
   "execution_count": 18,
   "id": "de85beb0-91fa-435d-815f-e0b3bd2da3bf",
   "metadata": {},
   "outputs": [
    {
     "data": {
      "text/html": [
       "<div>\n",
       "<style scoped>\n",
       "    .dataframe tbody tr th:only-of-type {\n",
       "        vertical-align: middle;\n",
       "    }\n",
       "\n",
       "    .dataframe tbody tr th {\n",
       "        vertical-align: top;\n",
       "    }\n",
       "\n",
       "    .dataframe thead th {\n",
       "        text-align: right;\n",
       "    }\n",
       "</style>\n",
       "<table border=\"1\" class=\"dataframe\">\n",
       "  <thead>\n",
       "    <tr style=\"text-align: right;\">\n",
       "      <th></th>\n",
       "      <th>c1</th>\n",
       "      <th>c2</th>\n",
       "      <th>c3</th>\n",
       "    </tr>\n",
       "  </thead>\n",
       "  <tbody>\n",
       "    <tr>\n",
       "      <th>r1</th>\n",
       "      <td>r1c1</td>\n",
       "      <td>r1c2</td>\n",
       "      <td>r1c3</td>\n",
       "    </tr>\n",
       "    <tr>\n",
       "      <th>r2</th>\n",
       "      <td>r2c1</td>\n",
       "      <td>r2c2</td>\n",
       "      <td>r2c3</td>\n",
       "    </tr>\n",
       "    <tr>\n",
       "      <th>r3</th>\n",
       "      <td>r3c3</td>\n",
       "      <td>r3c2</td>\n",
       "      <td>r3c3</td>\n",
       "    </tr>\n",
       "  </tbody>\n",
       "</table>\n",
       "</div>"
      ],
      "text/plain": [
       "      c1    c2    c3\n",
       "r1  r1c1  r1c2  r1c3\n",
       "r2  r2c1  r2c2  r2c3\n",
       "r3  r3c3  r3c2  r3c3"
      ]
     },
     "execution_count": 18,
     "metadata": {},
     "output_type": "execute_result"
    }
   ],
   "source": [
    "df"
   ]
  },
  {
   "cell_type": "code",
   "execution_count": 19,
   "id": "c37349e3-427a-4e4f-80b2-772cab9476ae",
   "metadata": {},
   "outputs": [
    {
     "data": {
      "text/html": [
       "<div>\n",
       "<style scoped>\n",
       "    .dataframe tbody tr th:only-of-type {\n",
       "        vertical-align: middle;\n",
       "    }\n",
       "\n",
       "    .dataframe tbody tr th {\n",
       "        vertical-align: top;\n",
       "    }\n",
       "\n",
       "    .dataframe thead th {\n",
       "        text-align: right;\n",
       "    }\n",
       "</style>\n",
       "<table border=\"1\" class=\"dataframe\">\n",
       "  <thead>\n",
       "    <tr style=\"text-align: right;\">\n",
       "      <th></th>\n",
       "      <th>c1</th>\n",
       "      <th>c2</th>\n",
       "      <th>c3</th>\n",
       "    </tr>\n",
       "  </thead>\n",
       "  <tbody>\n",
       "    <tr>\n",
       "      <th>r1</th>\n",
       "      <td>r1c1</td>\n",
       "      <td>r1c2</td>\n",
       "      <td>r1c3</td>\n",
       "    </tr>\n",
       "    <tr>\n",
       "      <th>r2</th>\n",
       "      <td>r2c1</td>\n",
       "      <td>R2C2</td>\n",
       "      <td>r2c3</td>\n",
       "    </tr>\n",
       "    <tr>\n",
       "      <th>r3</th>\n",
       "      <td>r3c3</td>\n",
       "      <td>r3c2</td>\n",
       "      <td>r3c3</td>\n",
       "    </tr>\n",
       "  </tbody>\n",
       "</table>\n",
       "</div>"
      ],
      "text/plain": [
       "      c1    c2    c3\n",
       "r1  r1c1  r1c2  r1c3\n",
       "r2  r2c1  R2C2  r2c3\n",
       "r3  r3c3  r3c2  r3c3"
      ]
     },
     "execution_count": 19,
     "metadata": {},
     "output_type": "execute_result"
    }
   ],
   "source": [
    "df.loc[\"r2\", \"c2\"] = \"R2C2\"\n",
    "df"
   ]
  },
  {
   "cell_type": "code",
   "execution_count": 20,
   "id": "430d7617-4035-4036-953a-74b35fe74754",
   "metadata": {},
   "outputs": [
    {
     "data": {
      "text/plain": [
       "a     0\n",
       "b     1\n",
       "c    20\n",
       "d    30\n",
       "e    40\n",
       "dtype: int64"
      ]
     },
     "execution_count": 20,
     "metadata": {},
     "output_type": "execute_result"
    }
   ],
   "source": [
    "ser.iloc[3:] = [30, 40]\n",
    "ser"
   ]
  },
  {
   "cell_type": "code",
   "execution_count": 21,
   "id": "56b23d58-37b2-43c9-85e4-8d7453d4262e",
   "metadata": {},
   "outputs": [
    {
     "data": {
      "text/html": [
       "<div>\n",
       "<style scoped>\n",
       "    .dataframe tbody tr th:only-of-type {\n",
       "        vertical-align: middle;\n",
       "    }\n",
       "\n",
       "    .dataframe tbody tr th {\n",
       "        vertical-align: top;\n",
       "    }\n",
       "\n",
       "    .dataframe thead th {\n",
       "        text-align: right;\n",
       "    }\n",
       "</style>\n",
       "<table border=\"1\" class=\"dataframe\">\n",
       "  <thead>\n",
       "    <tr style=\"text-align: right;\">\n",
       "      <th></th>\n",
       "      <th>c1</th>\n",
       "      <th>c2</th>\n",
       "      <th>c3</th>\n",
       "    </tr>\n",
       "  </thead>\n",
       "  <tbody>\n",
       "    <tr>\n",
       "      <th>r1</th>\n",
       "      <td>r1c1</td>\n",
       "      <td>r1c2</td>\n",
       "      <td>r1c3</td>\n",
       "    </tr>\n",
       "    <tr>\n",
       "      <th>r2</th>\n",
       "      <td>r2c1</td>\n",
       "      <td>R2C2</td>\n",
       "      <td>R2C3</td>\n",
       "    </tr>\n",
       "    <tr>\n",
       "      <th>r3</th>\n",
       "      <td>r3c3</td>\n",
       "      <td>r3c2</td>\n",
       "      <td>R3C3</td>\n",
       "    </tr>\n",
       "  </tbody>\n",
       "</table>\n",
       "</div>"
      ],
      "text/plain": [
       "      c1    c2    c3\n",
       "r1  r1c1  r1c2  r1c3\n",
       "r2  r2c1  R2C2  R2C3\n",
       "r3  r3c3  r3c2  R3C3"
      ]
     },
     "execution_count": 21,
     "metadata": {},
     "output_type": "execute_result"
    }
   ],
   "source": [
    "df.loc[\"r2\":, \"c3\"] = [\"R2C3\", \"R3C3\"]\n",
    "df"
   ]
  },
  {
   "cell_type": "markdown",
   "id": "dc4e11c8-0921-4013-b115-8909fb0722aa",
   "metadata": {},
   "source": [
    "複数の要素を代入する場合は要素数が合致している必要があります。\n",
    "\n",
    "なお、複数の範囲に値を代入した場合は、同じ値で変更されます。"
   ]
  },
  {
   "cell_type": "code",
   "execution_count": 22,
   "id": "36957800-cb09-4063-88fd-8174d815863b",
   "metadata": {},
   "outputs": [
    {
     "data": {
      "text/plain": [
       "a     0\n",
       "b     1\n",
       "c    20\n",
       "d    99\n",
       "e    99\n",
       "dtype: int64"
      ]
     },
     "execution_count": 22,
     "metadata": {},
     "output_type": "execute_result"
    }
   ],
   "source": [
    "ser.iloc[3:] = 99\n",
    "ser"
   ]
  },
  {
   "cell_type": "code",
   "execution_count": 23,
   "id": "a92d218e-5db0-4aa1-89d8-599cda7ca64f",
   "metadata": {},
   "outputs": [
    {
     "data": {
      "text/html": [
       "<div>\n",
       "<style scoped>\n",
       "    .dataframe tbody tr th:only-of-type {\n",
       "        vertical-align: middle;\n",
       "    }\n",
       "\n",
       "    .dataframe tbody tr th {\n",
       "        vertical-align: top;\n",
       "    }\n",
       "\n",
       "    .dataframe thead th {\n",
       "        text-align: right;\n",
       "    }\n",
       "</style>\n",
       "<table border=\"1\" class=\"dataframe\">\n",
       "  <thead>\n",
       "    <tr style=\"text-align: right;\">\n",
       "      <th></th>\n",
       "      <th>c1</th>\n",
       "      <th>c2</th>\n",
       "      <th>c3</th>\n",
       "    </tr>\n",
       "  </thead>\n",
       "  <tbody>\n",
       "    <tr>\n",
       "      <th>r1</th>\n",
       "      <td>r1c1</td>\n",
       "      <td>r1c2</td>\n",
       "      <td>r1c3</td>\n",
       "    </tr>\n",
       "    <tr>\n",
       "      <th>r2</th>\n",
       "      <td>r2c1</td>\n",
       "      <td>R2C2:R3C3</td>\n",
       "      <td>R2C2:R3C3</td>\n",
       "    </tr>\n",
       "    <tr>\n",
       "      <th>r3</th>\n",
       "      <td>r3c3</td>\n",
       "      <td>R2C2:R3C3</td>\n",
       "      <td>R2C2:R3C3</td>\n",
       "    </tr>\n",
       "  </tbody>\n",
       "</table>\n",
       "</div>"
      ],
      "text/plain": [
       "      c1         c2         c3\n",
       "r1  r1c1       r1c2       r1c3\n",
       "r2  r2c1  R2C2:R3C3  R2C2:R3C3\n",
       "r3  r3c3  R2C2:R3C3  R2C2:R3C3"
      ]
     },
     "execution_count": 23,
     "metadata": {},
     "output_type": "execute_result"
    }
   ],
   "source": [
    "df.loc[\"r2\":, \"c2\":] = \"R2C2:R3C3\"\n",
    "df"
   ]
  },
  {
   "cell_type": "markdown",
   "id": "aefb3c79-e0ff-4fcd-8c66-5534c401f3b3",
   "metadata": {},
   "source": [
    "## ブールインデックス\n",
    "\n",
    "`Series` および `DataFrame` の要素に真理値(array-like)を渡すことで、Trueの条件に合致した要素にアクセスできます。"
   ]
  },
  {
   "cell_type": "code",
   "execution_count": 24,
   "id": "6c808aa3-285b-45c5-a1ed-6368406fffa7",
   "metadata": {},
   "outputs": [
    {
     "data": {
      "text/plain": [
       "a   -3\n",
       "b   -2\n",
       "c   -1\n",
       "d    0\n",
       "e    1\n",
       "f    2\n",
       "g    3\n",
       "dtype: int64"
      ]
     },
     "execution_count": 24,
     "metadata": {},
     "output_type": "execute_result"
    }
   ],
   "source": [
    "bool_ser = pd.Series([-3, -2, -1, 0, 1, 2, 3], index=list(\"abcdefg\"))\n",
    "bool_ser"
   ]
  },
  {
   "cell_type": "code",
   "execution_count": 25,
   "id": "1541086d-a71c-45f0-8114-da33276160e3",
   "metadata": {},
   "outputs": [
    {
     "data": {
      "text/html": [
       "<div>\n",
       "<style scoped>\n",
       "    .dataframe tbody tr th:only-of-type {\n",
       "        vertical-align: middle;\n",
       "    }\n",
       "\n",
       "    .dataframe tbody tr th {\n",
       "        vertical-align: top;\n",
       "    }\n",
       "\n",
       "    .dataframe thead th {\n",
       "        text-align: right;\n",
       "    }\n",
       "</style>\n",
       "<table border=\"1\" class=\"dataframe\">\n",
       "  <thead>\n",
       "    <tr style=\"text-align: right;\">\n",
       "      <th></th>\n",
       "      <th>A</th>\n",
       "      <th>B</th>\n",
       "      <th>C</th>\n",
       "    </tr>\n",
       "  </thead>\n",
       "  <tbody>\n",
       "    <tr>\n",
       "      <th>a</th>\n",
       "      <td>-3</td>\n",
       "      <td>2</td>\n",
       "      <td>0</td>\n",
       "    </tr>\n",
       "    <tr>\n",
       "      <th>b</th>\n",
       "      <td>1</td>\n",
       "      <td>-1</td>\n",
       "      <td>-2</td>\n",
       "    </tr>\n",
       "    <tr>\n",
       "      <th>c</th>\n",
       "      <td>-4</td>\n",
       "      <td>4</td>\n",
       "      <td>3</td>\n",
       "    </tr>\n",
       "  </tbody>\n",
       "</table>\n",
       "</div>"
      ],
      "text/plain": [
       "   A  B  C\n",
       "a -3  2  0\n",
       "b  1 -1 -2\n",
       "c -4  4  3"
      ]
     },
     "execution_count": 25,
     "metadata": {},
     "output_type": "execute_result"
    }
   ],
   "source": [
    "bool_df = pd.DataFrame(\n",
    "    [\n",
    "        [-3, 2, 0],\n",
    "        [1, -1, -2],\n",
    "        [-4, 4, 3],\n",
    "    ],\n",
    "    index=list(\"abc\"),\n",
    "    columns=list(\"ABC\")\n",
    ")\n",
    "bool_df"
   ]
  },
  {
   "cell_type": "code",
   "execution_count": 26,
   "id": "e0b569e2-d9fb-4f91-a326-a9541f5c9f36",
   "metadata": {},
   "outputs": [
    {
     "data": {
      "text/plain": [
       "a   -3\n",
       "d    0\n",
       "e    1\n",
       "g    3\n",
       "dtype: int64"
      ]
     },
     "execution_count": 26,
     "metadata": {},
     "output_type": "execute_result"
    }
   ],
   "source": [
    "bool_ser[[True, False, False, True, True, False, True]]"
   ]
  },
  {
   "cell_type": "code",
   "execution_count": 27,
   "id": "f182670d-133d-43b1-b7a2-4707bea6ade3",
   "metadata": {},
   "outputs": [
    {
     "data": {
      "text/html": [
       "<div>\n",
       "<style scoped>\n",
       "    .dataframe tbody tr th:only-of-type {\n",
       "        vertical-align: middle;\n",
       "    }\n",
       "\n",
       "    .dataframe tbody tr th {\n",
       "        vertical-align: top;\n",
       "    }\n",
       "\n",
       "    .dataframe thead th {\n",
       "        text-align: right;\n",
       "    }\n",
       "</style>\n",
       "<table border=\"1\" class=\"dataframe\">\n",
       "  <thead>\n",
       "    <tr style=\"text-align: right;\">\n",
       "      <th></th>\n",
       "      <th>A</th>\n",
       "    </tr>\n",
       "  </thead>\n",
       "  <tbody>\n",
       "    <tr>\n",
       "      <th>a</th>\n",
       "      <td>-3</td>\n",
       "    </tr>\n",
       "    <tr>\n",
       "      <th>b</th>\n",
       "      <td>1</td>\n",
       "    </tr>\n",
       "  </tbody>\n",
       "</table>\n",
       "</div>"
      ],
      "text/plain": [
       "   A\n",
       "a -3\n",
       "b  1"
      ]
     },
     "execution_count": 27,
     "metadata": {},
     "output_type": "execute_result"
    }
   ],
   "source": [
    "bool_df.loc[[True, True, False], [True, False, False]]"
   ]
  },
  {
   "cell_type": "markdown",
   "id": "ca876314-2410-4dad-9450-d7b64b1bc9b9",
   "metadata": {},
   "source": [
    "`Series` および `DataFrame` に比較演算をすることにより、真理値が返ります。"
   ]
  },
  {
   "cell_type": "code",
   "execution_count": 28,
   "id": "a799aadb-777e-49b1-a40f-431ee47fae7a",
   "metadata": {},
   "outputs": [
    {
     "data": {
      "text/plain": [
       "a   -3\n",
       "b   -2\n",
       "c   -1\n",
       "d    0\n",
       "e    1\n",
       "f    2\n",
       "g    3\n",
       "dtype: int64"
      ]
     },
     "execution_count": 28,
     "metadata": {},
     "output_type": "execute_result"
    }
   ],
   "source": [
    "bool_ser"
   ]
  },
  {
   "cell_type": "code",
   "execution_count": 29,
   "id": "35fed131-5608-43b4-8b56-a0ea42436d13",
   "metadata": {},
   "outputs": [
    {
     "data": {
      "text/plain": [
       "a    False\n",
       "b    False\n",
       "c    False\n",
       "d    False\n",
       "e     True\n",
       "f     True\n",
       "g     True\n",
       "dtype: bool"
      ]
     },
     "execution_count": 29,
     "metadata": {},
     "output_type": "execute_result"
    }
   ],
   "source": [
    "bool_ser > 0"
   ]
  },
  {
   "cell_type": "markdown",
   "id": "ae8d447c-d185-4297-b76d-63c16794c922",
   "metadata": {},
   "source": [
    "比較演算から得た真理値を指定することで、条件に合致したデータを抽出できます。"
   ]
  },
  {
   "cell_type": "code",
   "execution_count": 30,
   "id": "1d647f1f-8f07-47cc-9cba-bd51d713a209",
   "metadata": {},
   "outputs": [
    {
     "data": {
      "text/plain": [
       "e    1\n",
       "f    2\n",
       "g    3\n",
       "dtype: int64"
      ]
     },
     "execution_count": 30,
     "metadata": {},
     "output_type": "execute_result"
    }
   ],
   "source": [
    "bool_ser.loc[bool_ser > 0]"
   ]
  },
  {
   "cell_type": "code",
   "execution_count": 31,
   "id": "deaf0d99-ffc7-4e61-8b1b-8b6cccf41b86",
   "metadata": {},
   "outputs": [
    {
     "data": {
      "text/html": [
       "<div>\n",
       "<style scoped>\n",
       "    .dataframe tbody tr th:only-of-type {\n",
       "        vertical-align: middle;\n",
       "    }\n",
       "\n",
       "    .dataframe tbody tr th {\n",
       "        vertical-align: top;\n",
       "    }\n",
       "\n",
       "    .dataframe thead th {\n",
       "        text-align: right;\n",
       "    }\n",
       "</style>\n",
       "<table border=\"1\" class=\"dataframe\">\n",
       "  <thead>\n",
       "    <tr style=\"text-align: right;\">\n",
       "      <th></th>\n",
       "      <th>A</th>\n",
       "      <th>B</th>\n",
       "      <th>C</th>\n",
       "    </tr>\n",
       "  </thead>\n",
       "  <tbody>\n",
       "    <tr>\n",
       "      <th>a</th>\n",
       "      <td>-3</td>\n",
       "      <td>2</td>\n",
       "      <td>0</td>\n",
       "    </tr>\n",
       "    <tr>\n",
       "      <th>b</th>\n",
       "      <td>1</td>\n",
       "      <td>-1</td>\n",
       "      <td>-2</td>\n",
       "    </tr>\n",
       "    <tr>\n",
       "      <th>c</th>\n",
       "      <td>-4</td>\n",
       "      <td>4</td>\n",
       "      <td>3</td>\n",
       "    </tr>\n",
       "  </tbody>\n",
       "</table>\n",
       "</div>"
      ],
      "text/plain": [
       "   A  B  C\n",
       "a -3  2  0\n",
       "b  1 -1 -2\n",
       "c -4  4  3"
      ]
     },
     "execution_count": 31,
     "metadata": {},
     "output_type": "execute_result"
    }
   ],
   "source": [
    "bool_df"
   ]
  },
  {
   "cell_type": "code",
   "execution_count": 32,
   "id": "cb7efb1e-e521-43b5-b8a9-46609ad28854",
   "metadata": {},
   "outputs": [
    {
     "data": {
      "text/plain": [
       "a    False\n",
       "b     True\n",
       "c    False\n",
       "Name: B, dtype: bool"
      ]
     },
     "execution_count": 32,
     "metadata": {},
     "output_type": "execute_result"
    }
   ],
   "source": [
    "# B列の値が0より小さい\n",
    "bool_df.loc[:, \"B\"] < 0"
   ]
  },
  {
   "cell_type": "code",
   "execution_count": 33,
   "id": "10a83cc9-2dcc-4261-8c35-c21a0758927a",
   "metadata": {},
   "outputs": [
    {
     "data": {
      "text/html": [
       "<div>\n",
       "<style scoped>\n",
       "    .dataframe tbody tr th:only-of-type {\n",
       "        vertical-align: middle;\n",
       "    }\n",
       "\n",
       "    .dataframe tbody tr th {\n",
       "        vertical-align: top;\n",
       "    }\n",
       "\n",
       "    .dataframe thead th {\n",
       "        text-align: right;\n",
       "    }\n",
       "</style>\n",
       "<table border=\"1\" class=\"dataframe\">\n",
       "  <thead>\n",
       "    <tr style=\"text-align: right;\">\n",
       "      <th></th>\n",
       "      <th>A</th>\n",
       "      <th>B</th>\n",
       "      <th>C</th>\n",
       "    </tr>\n",
       "  </thead>\n",
       "  <tbody>\n",
       "    <tr>\n",
       "      <th>b</th>\n",
       "      <td>1</td>\n",
       "      <td>-1</td>\n",
       "      <td>-2</td>\n",
       "    </tr>\n",
       "  </tbody>\n",
       "</table>\n",
       "</div>"
      ],
      "text/plain": [
       "   A  B  C\n",
       "b  1 -1 -2"
      ]
     },
     "execution_count": 33,
     "metadata": {},
     "output_type": "execute_result"
    }
   ],
   "source": [
    "bool_df.loc[bool_df.loc[:, \"B\"] < 0, :]"
   ]
  },
  {
   "cell_type": "markdown",
   "id": "00a1c54a-6fb4-48e3-a30a-3fc0910112d1",
   "metadata": {},
   "source": [
    "複数の条件を設定する場合には`()`で括ります。And条件は `&` 演算子、Or条件は `|` 演算子を使います。"
   ]
  },
  {
   "cell_type": "code",
   "execution_count": 34,
   "id": "4bd220c4-a996-49eb-8e8a-58cbf0aa73d9",
   "metadata": {},
   "outputs": [
    {
     "data": {
      "text/plain": [
       "a   -3\n",
       "f    2\n",
       "g    3\n",
       "dtype: int64"
      ]
     },
     "execution_count": 34,
     "metadata": {},
     "output_type": "execute_result"
    }
   ],
   "source": [
    "bool_ser.loc[(bool_ser > 1) | (bool_ser < -2)]"
   ]
  }
 ],
 "metadata": {
  "kernelspec": {
   "display_name": "Python 3",
   "language": "python",
   "name": "python3"
  },
  "language_info": {
   "codemirror_mode": {
    "name": "ipython",
    "version": 3
   },
   "file_extension": ".py",
   "mimetype": "text/x-python",
   "name": "python",
   "nbconvert_exporter": "python",
   "pygments_lexer": "ipython3",
   "version": "3.8.5"
  }
 },
 "nbformat": 4,
 "nbformat_minor": 5
}
