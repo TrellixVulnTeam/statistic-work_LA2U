{
 "cells": [
  {
   "cell_type": "markdown",
   "id": "8d2d40e9-7103-4a16-8811-f15737ddb7a0",
   "metadata": {},
   "source": [
    "# 教師なし学習の例\n",
    "\n",
    "サンプルデータからワインのデータを使ったクラスタリングの例を紹介します。"
   ]
  },
  {
   "cell_type": "markdown",
   "id": "c3fe06fb-2c54-4597-91a4-2ea955a20f4d",
   "metadata": {},
   "source": [
    "### データ\n",
    "\n",
    "- データの読み込み\n",
    "- 必要な要素のみを利用"
   ]
  },
  {
   "cell_type": "code",
   "execution_count": 1,
   "id": "a0f22c9c-134f-442d-a737-461c76c955c6",
   "metadata": {},
   "outputs": [],
   "source": [
    "from sklearn.datasets import load_wine\n",
    "wine = load_wine()"
   ]
  },
  {
   "cell_type": "code",
   "execution_count": 2,
   "id": "9e93edbc-feba-4dbb-ad9b-eaeceb6250e9",
   "metadata": {},
   "outputs": [
    {
     "data": {
      "text/plain": [
       "array([[14.23,  5.64],\n",
       "       [13.2 ,  4.38],\n",
       "       [13.16,  5.68],\n",
       "       [14.37,  7.8 ],\n",
       "       [13.24,  4.32],\n",
       "       [14.2 ,  6.75],\n",
       "       [14.39,  5.25],\n",
       "       [14.06,  5.05],\n",
       "       [14.83,  5.2 ],\n",
       "       [13.86,  7.22]])"
      ]
     },
     "execution_count": 2,
     "metadata": {},
     "output_type": "execute_result"
    }
   ],
   "source": [
    "X = wine.data[:, [0, 9]]\n",
    "X[:10]"
   ]
  },
  {
   "cell_type": "markdown",
   "id": "a35b4103-33c8-4e25-b12f-6654fa7993e6",
   "metadata": {},
   "source": [
    "### K-means法でクラスタリング"
   ]
  },
  {
   "cell_type": "code",
   "execution_count": 3,
   "id": "69f95c41-1971-4882-9dfe-1688e6102036",
   "metadata": {},
   "outputs": [],
   "source": [
    "from sklearn.cluster import KMeans\n",
    "n_clusters = 3\n",
    "km = KMeans(n_clusters=n_clusters)"
   ]
  },
  {
   "cell_type": "code",
   "execution_count": 4,
   "id": "5f00513b-f5d9-4f47-af95-3c4ad6c29d08",
   "metadata": {},
   "outputs": [],
   "source": [
    "pred = km.fit_predict(X)"
   ]
  },
  {
   "cell_type": "markdown",
   "id": "78a85081-bac6-4b33-b3fc-7fd1f15e190f",
   "metadata": {},
   "source": [
    "### 結果を可視化"
   ]
  },
  {
   "cell_type": "code",
   "execution_count": 5,
   "id": "71c003f3-d196-4a4b-85d7-9af3013cf38e",
   "metadata": {},
   "outputs": [
    {
     "data": {
      "image/png": "[encoded data removed]",
      "text/plain": [
       "<Figure size 432x288 with 1 Axes>"
      ]
     },
     "metadata": {
      "needs_background": "light"
     },
     "output_type": "display_data"
    }
   ],
   "source": [
    "%matplotlib inline\n",
    "import matplotlib.pyplot as plt\n",
    "fig, ax = plt.subplots()\n",
    "ax.scatter(X[pred==0, 0], X[pred==0, 1], color='red', marker='s', label='Label1')\n",
    "ax.scatter(X[pred==1, 0], X[pred==1, 1], color='blue', marker='s', label='Label2')\n",
    "ax.scatter(X[pred==2, 0], X[pred==2, 1], color='green', marker='s', label='Label3')\n",
    "ax.scatter(km.cluster_centers_[:, 0], km.cluster_centers_[:, 1], s=200, color='yellow', marker=\"*\", label=\"center\")\n",
    "ax.set_xlim([5, 20])\n",
    "ax.legend()\n",
    "plt.show()"
   ]
  },
  {
   "cell_type": "markdown",
   "id": "1e8deaad-fa83-4bc5-b532-38ae2f78e456",
   "metadata": {},
   "source": [
    "## Elbow法でクラスタリング数の決定\n",
    "\n",
    "クラスタ内平方和(Within-Cluster Sum of Squares)を確認し、どれだけの数でクラスタリングするのが良いかを確認する"
   ]
  },
  {
   "cell_type": "code",
   "execution_count": 6,
   "id": "a411cefb-a9ed-4ba9-a2ed-aa5cdb2d7a95",
   "metadata": {},
   "outputs": [
    {
     "data": {
      "text/plain": [
       "203.81937584462636"
      ]
     },
     "execution_count": 6,
     "metadata": {},
     "output_type": "execute_result"
    }
   ],
   "source": [
    "km.inertia_"
   ]
  },
  {
   "cell_type": "code",
   "execution_count": 7,
   "id": "181111d2-08b9-4a1f-b8e8-f73eb1dcad73",
   "metadata": {},
   "outputs": [
    {
     "data": {
      "text/plain": [
       "[1067.9315729004506,\n",
       " 415.23599496657147,\n",
       " 203.81937584462636,\n",
       " 142.2800966687853,\n",
       " 107.2866570062873,\n",
       " 91.01212183291834,\n",
       " 76.04654240305018,\n",
       " 68.34898205006982,\n",
       " 58.32281035221751,\n",
       " 51.235482675132786]"
      ]
     },
     "execution_count": 7,
     "metadata": {},
     "output_type": "execute_result"
    }
   ],
   "source": [
    "dist = []\n",
    "for i in range(1, 11):\n",
    "    km = KMeans(n_clusters=i)\n",
    "    km.fit(X)\n",
    "    dist.append(km.inertia_)\n",
    "dist"
   ]
  },
  {
   "cell_type": "code",
   "execution_count": 8,
   "id": "2e3a0d51-2642-4f15-88a9-c248320079a8",
   "metadata": {},
   "outputs": [
    {
     "data": {
      "image/png": "[encoded data removed]",
      "text/plain": [
       "<Figure size 432x288 with 1 Axes>"
      ]
     },
     "metadata": {
      "needs_background": "light"
     },
     "output_type": "display_data"
    }
   ],
   "source": [
    "fig, ax = plt.subplots()\n",
    "ax.plot(range(1, 11), dist, marker=\"o\")\n",
    "ax.set_xlabel('Number of clusters')\n",
    "ax.set_ylabel('Distortion')\n",
    "plt.show()"
   ]
  }
 ],
 "metadata": {
  "kernelspec": {
   "display_name": "Python 3 (ipykernel)",
   "language": "python",
   "name": "python3"
  },
  "language_info": {
   "codemirror_mode": {
    "name": "ipython",
    "version": 3
   },
   "file_extension": ".py",
   "mimetype": "text/x-python",
   "name": "python",
   "nbconvert_exporter": "python",
   "pygments_lexer": "ipython3",
   "version": "3.9.1"
  }
 },
 "nbformat": 4,
 "nbformat_minor": 5
}
