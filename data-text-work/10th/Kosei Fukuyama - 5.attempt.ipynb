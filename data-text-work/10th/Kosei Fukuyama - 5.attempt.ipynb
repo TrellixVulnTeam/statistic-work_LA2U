{
 "cells": [
  {
   "cell_type": "markdown",
   "id": "6569cc9a",
   "metadata": {},
   "source": [
    "# 挑戦しよう\n",
    "\n",
    "以下のいずれかの挑戦をやってみましょう。\n",
    "\n",
    "- 教師あり学習のアルゴリズムを変更してみよう\n",
    "- ハイパーパラメータについて調べてみよう\n",
    "- 実データで機械学習に挑戦しよう"
   ]
  }
 ],
 "metadata": {
  "kernelspec": {
   "display_name": "Python 3 (ipykernel)",
   "language": "python",
   "name": "python3"
  },
  "language_info": {
   "codemirror_mode": {
    "name": "ipython",
    "version": 3
   },
   "file_extension": ".py",
   "mimetype": "text/x-python",
   "name": "python",
   "nbconvert_exporter": "python",
   "pygments_lexer": "ipython3",
   "version": "3.9.1"
  }
 },
 "nbformat": 4,
 "nbformat_minor": 5
}
