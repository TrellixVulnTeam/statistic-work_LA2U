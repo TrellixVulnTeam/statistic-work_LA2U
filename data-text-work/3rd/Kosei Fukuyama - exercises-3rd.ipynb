{
 "cells": [
  {
   "cell_type": "markdown",
   "id": "c717fe2e-6657-4d78-8627-30bf1fa0b49e",
   "metadata": {},
   "source": [
    "# 課題: データ型の基礎（リストと辞書）と関数とモジュール"
   ]
  },
  {
   "cell_type": "markdown",
   "id": "beb1a6b2-bc2d-4a8b-9019-5d3462224b6d",
   "metadata": {},
   "source": [
    "## Q1\n",
    "\n",
    "変数 name に自分の氏名を宣言し、名前の最後を出力するように、解答セルに記述せよ。"
   ]
  },
  {
   "cell_type": "code",
   "execution_count": 13,
   "id": "e702e08f-4fc6-49fd-a46c-f92887ce0b4d",
   "metadata": {},
   "outputs": [
    {
     "data": {
      "text/plain": [
       "'生'"
      ]
     },
     "execution_count": 13,
     "metadata": {},
     "output_type": "execute_result"
    }
   ],
   "source": [
    "# 解答セル\n",
    "def f(name):\n",
    "    return name[-1]\n",
    "\n",
    "f(\"福山昂生\")"
   ]
  },
  {
   "cell_type": "markdown",
   "id": "79a0720d-d468-49ad-9c5a-f7a13822e700",
   "metadata": {},
   "source": [
    "## Q2\n",
    "\n",
    "友達の名前を変数 `friends` にリスト型で4個以上定義し、その友達2人目と3人目の名前を出力するように、解答セルに記述せよ。"
   ]
  },
  {
   "cell_type": "code",
   "execution_count": 19,
   "id": "1bcb3f16-d053-4583-99a6-1d26338e1845",
   "metadata": {},
   "outputs": [
    {
     "name": "stdout",
     "output_type": "stream",
     "text": [
      "Takeshi\n",
      "Kazuto\n"
     ]
    }
   ],
   "source": [
    "# 解答セル\n",
    "list_friends = [\"Yuta\", \"Takashi\", \"Takeshi\", \"Kazuto\"]\n",
    "def print_list_friends():\n",
    "    print(list_friends[2])\n",
    "    print(list_friends[3])\n",
    "print_list_friends()"
   ]
  },
  {
   "cell_type": "markdown",
   "id": "904b17d1-b6b0-4aa5-a752-a4cd13e2ab1e",
   "metadata": {},
   "source": [
    "## Q3\n",
    "\n",
    "Q2で作ったリスト型 `friends` の最後に、もう一人の友達を追加し、追加されたリストを出力するように、解答セルに記述せよ。"
   ]
  },
  {
   "cell_type": "code",
   "execution_count": 26,
   "id": "36e78e37-0723-4dd2-9d50-403c7ceee0f7",
   "metadata": {},
   "outputs": [
    {
     "data": {
      "text/plain": [
       "['Yuta', 'Takashi', 'Takeshi', 'Kazuto', 'Yuto']"
      ]
     },
     "execution_count": 26,
     "metadata": {},
     "output_type": "execute_result"
    }
   ],
   "source": [
    "# 解答セル\n",
    "list_friends = [\"Yuta\", \"Takashi\", \"Takeshi\", \"Kazuto\"]\n",
    "list_friends.append(\"Yuto\")\n",
    "list_friends"
   ]
  },
  {
   "cell_type": "markdown",
   "id": "42c81fcc-ed79-4837-aefa-aba048fe31bc",
   "metadata": {},
   "source": [
    "## Q4\n",
    "\n",
    "ユーザ情報を持つ辞書型 `myself` に、 `name` と `age` をキーとし、それぞれの値に「自身の名前」と「年齢」を入れた辞書を作り、その辞書から年齢のみを出力するように、解答セルに記述せよ。"
   ]
  },
  {
   "cell_type": "code",
   "execution_count": 32,
   "id": "7ff8c32c-e627-4efb-9a4c-f27fc234e942",
   "metadata": {},
   "outputs": [
    {
     "ename": "TypeError",
     "evalue": "'builtin_function_or_method' object is not iterable",
     "output_type": "error",
     "traceback": [
      "\u001b[1;31m---------------------------------------------------------------------------\u001b[0m",
      "\u001b[1;31mTypeError\u001b[0m                                 Traceback (most recent call last)",
      "\u001b[1;32mc:\\Users\\kosei\\repositories\\statistics-work\\data-text-work\\3rd\\Kosei Fukuyama - exercises-3rd.ipynb Cell 9'\u001b[0m in \u001b[0;36m<cell line: 3>\u001b[1;34m()\u001b[0m\n\u001b[0;32m      <a href='vscode-notebook-cell:/c%3A/Users/kosei/repositories/statistics-work/data-text-work/3rd/Kosei%20Fukuyama%20-%20exercises-3rd.ipynb#ch0000008?line=0'>1</a>\u001b[0m \u001b[39m# 解答セル\u001b[39;00m\n\u001b[0;32m      <a href='vscode-notebook-cell:/c%3A/Users/kosei/repositories/statistics-work/data-text-work/3rd/Kosei%20Fukuyama%20-%20exercises-3rd.ipynb#ch0000008?line=1'>2</a>\u001b[0m myself \u001b[39m=\u001b[39m { \u001b[39m\"\u001b[39m\u001b[39mname\u001b[39m\u001b[39m\"\u001b[39m : \u001b[39m\"\u001b[39m\u001b[39mKosei Fukuyama\u001b[39m\u001b[39m\"\u001b[39m, \u001b[39m\"\u001b[39m\u001b[39mage\u001b[39m\u001b[39m\"\u001b[39m : \u001b[39m20\u001b[39m }\n\u001b[1;32m----> <a href='vscode-notebook-cell:/c%3A/Users/kosei/repositories/statistics-work/data-text-work/3rd/Kosei%20Fukuyama%20-%20exercises-3rd.ipynb#ch0000008?line=2'>3</a>\u001b[0m \u001b[39mfor\u001b[39;00m v \u001b[39min\u001b[39;00m myself\u001b[39m.\u001b[39mvalues:\n\u001b[0;32m      <a href='vscode-notebook-cell:/c%3A/Users/kosei/repositories/statistics-work/data-text-work/3rd/Kosei%20Fukuyama%20-%20exercises-3rd.ipynb#ch0000008?line=3'>4</a>\u001b[0m     \u001b[39mprint\u001b[39m(v)\n",
      "\u001b[1;31mTypeError\u001b[0m: 'builtin_function_or_method' object is not iterable"
     ]
    }
   ],
   "source": [
    "# 解答セル\n",
    "myself = { \"name\" : \"Kosei Fukuyama\", \"age\" : 20 }\n",
    "for v in myself.values:\n",
    "    print(v)"
   ]
  },
  {
   "cell_type": "markdown",
   "id": "57cc4fb9-98ee-4237-9ea2-68107b7061e9",
   "metadata": {},
   "source": [
    "## Q5\n",
    "\n",
    "Q4で作った辞書 myself に、 class_name というキーを追加し、値に「自身のクラス名」を入れた辞書を作り、myself の値全を出力せよ"
   ]
  },
  {
   "cell_type": "code",
   "execution_count": 5,
   "id": "ae361379-0efa-4f95-accc-4d61ba7b703e",
   "metadata": {},
   "outputs": [],
   "source": [
    "# 解答セル\n",
    "\n"
   ]
  },
  {
   "cell_type": "markdown",
   "id": "16ad4082-c4b2-4b8d-bc61-3578d7c4d1cf",
   "metadata": {},
   "source": [
    "## Q6\n",
    "\n",
    "文字列の２つの引数、 `name` と `age` を入力し、 `私の名前はXXXXです。年齢はxx歳です。` という文字列を返す関数 `output` を作り、自分自身の名前と年齢を使って関数を実行した結果を表示するように、解答セルに記述せよ。"
   ]
  },
  {
   "cell_type": "code",
   "execution_count": 6,
   "id": "6fa97591-d9fc-4087-8395-1c17f31655b0",
   "metadata": {},
   "outputs": [],
   "source": [
    "# 解答セル\n",
    "\n"
   ]
  }
 ],
 "metadata": {
  "kernelspec": {
   "display_name": "Python 3",
   "language": "python",
   "name": "python3"
  },
  "language_info": {
   "codemirror_mode": {
    "name": "ipython",
    "version": 3
   },
   "file_extension": ".py",
   "mimetype": "text/x-python",
   "name": "python",
   "nbconvert_exporter": "python",
   "pygments_lexer": "ipython3",
   "version": "3.8.10"
  }
 },
 "nbformat": 4,
 "nbformat_minor": 5
}
