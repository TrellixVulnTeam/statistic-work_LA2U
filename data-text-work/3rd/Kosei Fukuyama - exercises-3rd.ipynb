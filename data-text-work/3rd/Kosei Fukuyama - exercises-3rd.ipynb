{
 "cells": [
  {
   "cell_type": "markdown",
   "id": "c717fe2e-6657-4d78-8627-30bf1fa0b49e",
   "metadata": {},
   "source": [
    "# 課題: データ型の基礎（リストと辞書）と関数とモジュール"
   ]
  },
  {
   "cell_type": "markdown",
   "id": "beb1a6b2-bc2d-4a8b-9019-5d3462224b6d",
   "metadata": {},
   "source": [
    "## Q1\n",
    "\n",
    "変数 name に自分の氏名を宣言し、名前の最後を出力するように、解答セルに記述せよ。"
   ]
  },
  {
   "cell_type": "code",
   "execution_count": 13,
   "id": "e702e08f-4fc6-49fd-a46c-f92887ce0b4d",
   "metadata": {},
   "outputs": [
    {
     "data": {
      "text/plain": [
       "'生'"
      ]
     },
     "execution_count": 13,
     "metadata": {},
     "output_type": "execute_result"
    }
   ],
   "source": [
    "# 解答セル\n",
    "def f(name):\n",
    "    return name[-1]\n",
    "\n",
    "f(\"福山昂生\")"
   ]
  },
  {
   "cell_type": "markdown",
   "id": "79a0720d-d468-49ad-9c5a-f7a13822e700",
   "metadata": {},
   "source": [
    "## Q2\n",
    "\n",
    "友達の名前を変数 `friends` にリスト型で4個以上定義し、その友達2人目と3人目の名前を出力するように、解答セルに記述せよ。"
   ]
  },
  {
   "cell_type": "code",
   "execution_count": 9,
   "id": "1bcb3f16-d053-4583-99a6-1d26338e1845",
   "metadata": {},
   "outputs": [
    {
     "name": "stdout",
     "output_type": "stream",
     "text": [
      "Takashi\n",
      "Takeshi\n"
     ]
    }
   ],
   "source": [
    "# 解答セル\n",
    "friends = [\"Yuta\", \"Takashi\", \"Takeshi\", \"Kazuto\"]\n",
    "def print_list_friends():\n",
    "    print(friends[1])\n",
    "    print(friends[2])\n",
    "print_list_friends()"
   ]
  },
  {
   "cell_type": "markdown",
   "id": "904b17d1-b6b0-4aa5-a752-a4cd13e2ab1e",
   "metadata": {},
   "source": [
    "## Q3\n",
    "\n",
    "Q2で作ったリスト型 `friends` の最後に、もう一人の友達を追加し、追加されたリストを出力するように、解答セルに記述せよ。"
   ]
  },
  {
   "cell_type": "code",
   "execution_count": 10,
   "id": "36e78e37-0723-4dd2-9d50-403c7ceee0f7",
   "metadata": {},
   "outputs": [
    {
     "data": {
      "text/plain": [
       "['Yuta', 'Takashi', 'Takeshi', 'Kazuto', 'Yuto']"
      ]
     },
     "execution_count": 10,
     "metadata": {},
     "output_type": "execute_result"
    }
   ],
   "source": [
    "# 解答セル\n",
    "friends = [\"Yuta\", \"Takashi\", \"Takeshi\", \"Kazuto\"]\n",
    "friends.append(\"Yuto\")\n",
    "friends"
   ]
  },
  {
   "cell_type": "markdown",
   "id": "42c81fcc-ed79-4837-aefa-aba048fe31bc",
   "metadata": {},
   "source": [
    "## Q4\n",
    "\n",
    "ユーザ情報を持つ辞書型 `myself` に、 `name` と `age` をキーとし、それぞれの値に「自身の名前」と「年齢」を入れた辞書を作り、その辞書から年齢のみを出力するように、解答セルに記述せよ。"
   ]
  },
  {
   "cell_type": "code",
   "execution_count": 4,
   "id": "7ff8c32c-e627-4efb-9a4c-f27fc234e942",
   "metadata": {},
   "outputs": [
    {
     "name": "stdout",
     "output_type": "stream",
     "text": [
      "20\n"
     ]
    }
   ],
   "source": [
    "# 解答セル\n",
    "myself = { \"name\" : \"Kosei Fukuyama\", \"age\" : 20 }\n",
    "for k, v in myself.items():\n",
    "    if k == \"age\":\n",
    "        print(v)"
   ]
  },
  {
   "cell_type": "markdown",
   "id": "57cc4fb9-98ee-4237-9ea2-68107b7061e9",
   "metadata": {},
   "source": [
    "## Q5\n",
    "\n",
    "Q4で作った辞書 myself に、 class_name というキーを追加し、値に「自身のクラス名」を入れた辞書を作り、myself の値全を出力せよ"
   ]
  },
  {
   "cell_type": "code",
   "execution_count": 5,
   "id": "ae361379-0efa-4f95-accc-4d61ba7b703e",
   "metadata": {},
   "outputs": [
    {
     "data": {
      "text/plain": [
       "{'name': 'Kosei Fukuyama', 'age': 20, 'class_name': 26}"
      ]
     },
     "execution_count": 5,
     "metadata": {},
     "output_type": "execute_result"
    }
   ],
   "source": [
    "# 解答セル\n",
    "myself = { \"name\" : \"Kosei Fukuyama\", \"age\" : 20 }\n",
    "myself[\"class_name\"] = 26\n",
    "myself\n"
   ]
  },
  {
   "cell_type": "markdown",
   "id": "16ad4082-c4b2-4b8d-bc61-3578d7c4d1cf",
   "metadata": {},
   "source": [
    "## Q6\n",
    "\n",
    "文字列の２つの引数、 `name` と `age` を入力し、 `私の名前はXXXXです。年齢はxx歳です。` という文字列を返す関数 `output` を作り、自分自身の名前と年齢を使って関数を実行した結果を表示するように、解答セルに記述せよ。"
   ]
  },
  {
   "cell_type": "code",
   "execution_count": 7,
   "id": "6fa97591-d9fc-4087-8395-1c17f31655b0",
   "metadata": {},
   "outputs": [
    {
     "name": "stdout",
     "output_type": "stream",
     "text": [
      "私の名前は福山昂生です。年齢は20歳です。\n"
     ]
    }
   ],
   "source": [
    "# 解答セル\n",
    "def output( name : str, age : int ):\n",
    "    print(f\"私の名前は{name}です。年齢は{age}歳です。\")\n",
    "\n",
    "output(\"福山昂生\", 20)"
   ]
  }
 ],
 "metadata": {
  "kernelspec": {
   "display_name": "Python 3",
   "language": "python",
   "name": "python3"
  },
  "language_info": {
   "codemirror_mode": {
    "name": "ipython",
    "version": 3
   },
   "file_extension": ".py",
   "mimetype": "text/x-python",
   "name": "python",
   "nbconvert_exporter": "python",
   "pygments_lexer": "ipython3",
   "version": "3.9.6"
  }
 },
 "nbformat": 4,
 "nbformat_minor": 5
}
