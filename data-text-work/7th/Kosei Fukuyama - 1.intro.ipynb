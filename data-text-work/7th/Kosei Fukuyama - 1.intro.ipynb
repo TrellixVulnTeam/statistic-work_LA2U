{
 "cells": [
  {
   "cell_type": "markdown",
   "id": "954c6771",
   "metadata": {},
   "source": [
    "# インターネット上のデータを取得とは\n",
    "\n",
    "インターネット上のデータにアクセスするには `HTTP` プロトコルを用いる必要があります。\n",
    "\n",
    "通常、Webブラウザでアクセスする際には、 `http://` からはじまるURLを用いてWebサイトにアクセスしています。\n",
    "アクセスしたら、多くの場合は、HTMLが返ってきます。\n",
    "そのHTMLを適切に表示し、HTMLに書かれているリソース(画像やCSSなどのファイル)を取得し、ページの表示を行います。\n",
    "\n",
    "実際に、 [一橋大学の公式ページ]()にアクセスして、どれだけのデータを取得しているのか、Webブラウザのインスペクタを使って見てみましょう。"
   ]
  },
  {
   "cell_type": "markdown",
   "id": "9346c258",
   "metadata": {},
   "source": [
    "# ハイパーリンクで別のページへ\n",
    "\n",
    "Webの世界には、ハイパーリンクという仕組みがあります。具体的には `a` タグの `href` 属性にURLが書かれていて、別ページを呼び出す仕組みがあります。\n",
    "別のページを表示する際には、WebブラウザにURLを入力したのと同じことが行われ、最初にHTMLなどのリソースを取得し、更に、リソースを取得してページを表示させます。\n",
    "\n",
    "ここでは、一橋大学公式ページのニュース一覧に有るリンクをクリックしてみましょう。\n"
   ]
  },
  {
   "cell_type": "markdown",
   "id": "b7d817bb",
   "metadata": {},
   "source": [
    "# プログラムでサイトにアクセスする\n",
    "\n",
    "Webブラウザに代わって、PythonでWebサイトにアクセスして、必要な情報を取得するとはどのようなことでしょうか？\n",
    "\n",
    "PythonでもURLを指定し、HTMLを取得することができます。\n",
    "\n",
    "また、HTMLを解析して、必要なリソースやハイパーリンクのURLを取得する方法があります。\n",
    "\n",
    "Webブラウザが行っているように、HTMLを取得し、必要なハイパーリンクのURLをリストアップすることが可能です。\n",
    "\n",
    "ハイパーリンクのURLリストが取得できたら、次に、必要な情報を順次取得するということができるのです。\n",
    "\n"
   ]
  },
  {
   "cell_type": "markdown",
   "id": "ff88793c",
   "metadata": {},
   "source": [
    "# 必要な技術要素\n",
    "\n",
    "- URLから必要なデータを取得する\n",
    "- 取得したHTMLを解析する\n",
    "- リスト化されたURLを順次取得する\n",
    "- 定期的な実行を行い、新しいデータを取得する\n",
    "\n",
    "これらを、クローリングして、スクレイピングを行うという言い方をします。\n",
    "\n",
    "\n"
   ]
  },
  {
   "cell_type": "markdown",
   "id": "1350386a",
   "metadata": {},
   "source": [
    "# 注意\n",
    "\n",
    "同じWebサイトに短時間に何度もプログラムからアクセスすると、迷惑がかかったり、サイトを停止に追い込む可能性があります。\n",
    "これはら犯罪行為になる場合もあるので、適切な間隔で、適切にアクセスする必要があります。\n"
   ]
  }
 ],
 "metadata": {
  "kernelspec": {
   "display_name": "Python 3.9.6 ('venv': venv)",
   "language": "python",
   "name": "python3"
  },
  "language_info": {
   "codemirror_mode": {
    "name": "ipython",
    "version": 3
   },
   "file_extension": ".py",
   "mimetype": "text/x-python",
   "name": "python",
   "nbconvert_exporter": "python",
   "pygments_lexer": "ipython3",
   "version": "3.9.6"
  },
  "vscode": {
   "interpreter": {
    "hash": "93c5697865292fdd0df1432c6bc5dc8f9244b4d72a06ac70cd24d4ff1f17d896"
   }
  }
 },
 "nbformat": 4,
 "nbformat_minor": 5
}
