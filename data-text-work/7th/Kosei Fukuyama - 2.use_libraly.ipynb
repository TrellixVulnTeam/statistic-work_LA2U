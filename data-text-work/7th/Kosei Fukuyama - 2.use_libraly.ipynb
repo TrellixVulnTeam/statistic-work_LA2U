{
 "cells": [
  {
   "cell_type": "markdown",
   "id": "6125b947",
   "metadata": {},
   "source": [
    "# 必要なパッケージの準備\n",
    "\n",
    "今回は、以下の2つのパッケージを利用します。\n",
    "\n",
    "- requests\n",
    "- beautifulsoup4\n",
    "\n",
    "これらは、すでに `pandas` の導入の時にインストールが完了しているはずです。\n",
    "\n",
    "インポートを行い、利用可能な状況かを確認しましょう。"
   ]
  },
  {
   "cell_type": "code",
   "execution_count": 1,
   "id": "ad686cdd",
   "metadata": {},
   "outputs": [],
   "source": [
    "import requests"
   ]
  },
  {
   "cell_type": "code",
   "execution_count": 2,
   "id": "916d574f",
   "metadata": {},
   "outputs": [],
   "source": [
    "from bs4 import BeautifulSoup"
   ]
  },
  {
   "cell_type": "markdown",
   "id": "d2ae3d03",
   "metadata": {},
   "source": [
    "# requests\n",
    "\n",
    "サードパーティー製ライブラリの一つで、インターネット上のデータにアクセスするために使います。\n",
    "\n",
    "Pythonには標準ライブラリ `urllib` でも同様のことができますが、このライブラリを使うほうが簡単にアクセスできるので、多くのケースで使われています。\n",
    "\n",
    "[公式ドキュメント](https://docs.python-requests.org/en/master/)"
   ]
  },
  {
   "cell_type": "markdown",
   "id": "daea897b",
   "metadata": {},
   "source": [
    "簡単な使い方"
   ]
  },
  {
   "cell_type": "code",
   "execution_count": 3,
   "id": "effe6af9",
   "metadata": {},
   "outputs": [],
   "source": [
    "r = requests.get(\"http://www.hit-u.ac.jp/category/news\")"
   ]
  },
  {
   "cell_type": "code",
   "execution_count": 4,
   "id": "ecfebea8",
   "metadata": {},
   "outputs": [
    {
     "data": {
      "text/plain": [
       "200"
      ]
     },
     "execution_count": 4,
     "metadata": {},
     "output_type": "execute_result"
    }
   ],
   "source": [
    "r.status_code"
   ]
  },
  {
   "cell_type": "code",
   "execution_count": 5,
   "id": "8a48defd",
   "metadata": {},
   "outputs": [],
   "source": [
    "r.encoding = \"utf-8\""
   ]
  },
  {
   "cell_type": "code",
   "execution_count": 6,
   "id": "677aa6f5",
   "metadata": {},
   "outputs": [
    {
     "data": {
      "text/plain": [
       "'<!doctype html>\\n<!--[if lt IE 7 ]> <html xmlns=\"http://www.w3.org/1999/xhtml\" xml:lang=\"jp\" lang=\"jp\" id=\"ie6\"> <![endif]-->\\n<!--[if IE 7 ]> <html xmlns=\"http://www.w3.org/1999/xhtml\" xml:lang=\"jp\" la'"
      ]
     },
     "execution_count": 6,
     "metadata": {},
     "output_type": "execute_result"
    }
   ],
   "source": [
    "r.text[:200]"
   ]
  },
  {
   "cell_type": "markdown",
   "id": "de80c053",
   "metadata": {},
   "source": [
    "# beautifulsoup4\n",
    "\n",
    "サードパーティー製ライブラリの一つで、HTMLやXMLの解析を行い、必要な要素へのアクセスや、書き換えなどをサポートしています。\n",
    "\n",
    "HTMLの解析には、文字列操作や正規表現などを使う方法もありますが、複雑なHTMLを扱うには苦労が多く、このライブラリを使うと、比較的簡単にHTMLの要素へのアクセスができます。\n",
    "\n",
    "[公式ドキュメント](https://www.crummy.com/software/BeautifulSoup/bs4/doc/)"
   ]
  },
  {
   "cell_type": "markdown",
   "id": "6c041d15",
   "metadata": {},
   "source": [
    "簡単な使い方"
   ]
  },
  {
   "cell_type": "code",
   "execution_count": 7,
   "id": "0a17aa63",
   "metadata": {},
   "outputs": [],
   "source": [
    "html = \"\"\"<html><head><title>The Dormouse's story</title></head>\n",
    "<body>\n",
    "<p class=\"title\"><b>The Dormouse's story</b></p>\n",
    "\n",
    "<p class=\"story\">Once upon a time there were three little sisters; and their names were\n",
    "<a href=\"http://example.com/elsie\" class=\"sister\" id=\"link1\">Elsie</a>,\n",
    "<a href=\"http://example.com/lacie\" class=\"sister\" id=\"link2\">Lacie</a> and\n",
    "<a href=\"http://example.com/tillie\" class=\"sister\" id=\"link3\">Tillie</a>;\n",
    "and they lived at the bottom of a well.</p>\n",
    "\n",
    "<p class=\"story\">...</p>\n",
    "\"\"\""
   ]
  },
  {
   "cell_type": "code",
   "execution_count": 8,
   "id": "139d0ed0",
   "metadata": {},
   "outputs": [],
   "source": [
    "soup = BeautifulSoup(html, 'html.parser')"
   ]
  },
  {
   "cell_type": "code",
   "execution_count": 9,
   "id": "ab1ff8df",
   "metadata": {},
   "outputs": [
    {
     "data": {
      "text/plain": [
       "<p class=\"title\"><b>The Dormouse's story</b></p>"
      ]
     },
     "execution_count": 9,
     "metadata": {},
     "output_type": "execute_result"
    }
   ],
   "source": [
    "soup.p"
   ]
  },
  {
   "cell_type": "code",
   "execution_count": 10,
   "id": "6f8a7ac1",
   "metadata": {},
   "outputs": [
    {
     "data": {
      "text/plain": [
       "\"The Dormouse's story\""
      ]
     },
     "execution_count": 10,
     "metadata": {},
     "output_type": "execute_result"
    }
   ],
   "source": [
    "soup.p.text"
   ]
  },
  {
   "cell_type": "code",
   "execution_count": 11,
   "id": "61e543b3",
   "metadata": {},
   "outputs": [
    {
     "data": {
      "text/plain": [
       "<p class=\"story\">Once upon a time there were three little sisters; and their names were\n",
       "<a class=\"sister\" href=\"http://example.com/elsie\" id=\"link1\">Elsie</a>,\n",
       "<a class=\"sister\" href=\"http://example.com/lacie\" id=\"link2\">Lacie</a> and\n",
       "<a class=\"sister\" href=\"http://example.com/tillie\" id=\"link3\">Tillie</a>;\n",
       "and they lived at the bottom of a well.</p>"
      ]
     },
     "execution_count": 11,
     "metadata": {},
     "output_type": "execute_result"
    }
   ],
   "source": [
    "soup.find(class_=\"story\")"
   ]
  },
  {
   "cell_type": "code",
   "execution_count": 12,
   "id": "e9d70d3a",
   "metadata": {},
   "outputs": [
    {
     "data": {
      "text/plain": [
       "[<a class=\"sister\" href=\"http://example.com/elsie\" id=\"link1\">Elsie</a>,\n",
       " <a class=\"sister\" href=\"http://example.com/lacie\" id=\"link2\">Lacie</a>,\n",
       " <a class=\"sister\" href=\"http://example.com/tillie\" id=\"link3\">Tillie</a>]"
      ]
     },
     "execution_count": 12,
     "metadata": {},
     "output_type": "execute_result"
    }
   ],
   "source": [
    "soup.find(class_=\"story\").find_all(\"a\")"
   ]
  },
  {
   "cell_type": "code",
   "execution_count": 13,
   "id": "966f7a9b",
   "metadata": {},
   "outputs": [
    {
     "name": "stdout",
     "output_type": "stream",
     "text": [
      "http://example.com/elsie\n",
      "http://example.com/lacie\n",
      "http://example.com/tillie\n"
     ]
    }
   ],
   "source": [
    "for a_tag in soup.find(class_=\"story\").find_all(\"a\"):\n",
    "    print(a_tag.get(\"href\"))"
   ]
  }
 ],
 "metadata": {
  "kernelspec": {
   "display_name": "Python 3 (ipykernel)",
   "language": "python",
   "name": "python3"
  },
  "language_info": {
   "codemirror_mode": {
    "name": "ipython",
    "version": 3
   },
   "file_extension": ".py",
   "mimetype": "text/x-python",
   "name": "python",
   "nbconvert_exporter": "python",
   "pygments_lexer": "ipython3",
   "version": "3.9.1"
  }
 },
 "nbformat": 4,
 "nbformat_minor": 5
}
