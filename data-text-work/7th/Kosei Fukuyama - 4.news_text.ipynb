{
 "cells": [
  {
   "cell_type": "markdown",
   "id": "08be219e",
   "metadata": {},
   "source": [
    "# ニュース一覧から、ニュースの本文に書かれている文字を取得\n",
    "\n",
    "ここでは、先程取得した、ニュース一覧のテキストファイルから、URLを抜き出し、そのURLのページに書かれている本文を取得しましょう。\n",
    "\n",
    "本文の文字列のみを取得し、ファイルに書き込みます。その際に、ページの区切りを \"===\" という行を追加して、一つの `今日の日付-news-text.txt` ファイルに保存しましょう。"
   ]
  },
  {
   "cell_type": "code",
   "execution_count": 1,
   "id": "412af092",
   "metadata": {},
   "outputs": [],
   "source": [
    "import requests\n",
    "from bs4 import BeautifulSoup\n",
    "from datetime import date"
   ]
  },
  {
   "cell_type": "code",
   "execution_count": 2,
   "id": "73496a4a",
   "metadata": {},
   "outputs": [],
   "source": [
    "today = date.today()\n",
    "list_filename = f\"{today:%Y%m%d}-news-list.txt\""
   ]
  },
  {
   "cell_type": "code",
   "execution_count": 3,
   "id": "70a60270",
   "metadata": {},
   "outputs": [
    {
     "data": {
      "text/plain": [
       "'http://www.hit-u.ac.jp/news/10531'"
      ]
     },
     "execution_count": 3,
     "metadata": {},
     "output_type": "execute_result"
    }
   ],
   "source": [
    "# ColabでPathがうまく取れない場合は次のセルを参照\n",
    "links = []\n",
    "with open(list_filename, \"r\", encoding=\"utf-8\") as f:\n",
    "    for line in f:\n",
    "        title, link, date_ = line.split(\",\")\n",
    "        links.append(link)\n",
    "\n",
    "links[0]"
   ]
  },
  {
   "cell_type": "code",
   "execution_count": 4,
   "id": "3bb13484-e6cc-4f69-acf4-a755faa4f7bd",
   "metadata": {},
   "outputs": [
    {
     "data": {
      "text/plain": [
       "'https://www.hit-u.ac.jp/extramural/kansai-a/report/18th_20210227.html'"
      ]
     },
     "execution_count": 4,
     "metadata": {},
     "output_type": "execute_result"
    }
   ],
   "source": [
    "# Colabでファイルが取得できない場合\n",
    "import csv\n",
    "import urllib.request\n",
    "import base64\n",
    "import io\n",
    "url = \"https://hit-u-data-text-processing.herokuapp.com/data/20210612-news-list.txt\"\n",
    "auth_str = base64.b64encode(b\"reader:hit-u\")\n",
    "req = urllib.request.Request(url,\n",
    "                            headers={\"Authorization\": \"Basic \" + auth_str.decode(\"utf-8\")})\n",
    "\n",
    "links = []\n",
    "with urllib.request.urlopen(req) as req:\n",
    "    news_data = req.read().decode(\"utf-8\")\n",
    "    with io.StringIO(news_data) as f:        \n",
    "        for line in f:\n",
    "            title, link, date_ = line.split(\",\")\n",
    "            links.append(link)\n",
    "\n",
    "links[0]"
   ]
  },
  {
   "cell_type": "code",
   "execution_count": 5,
   "id": "991d85e2",
   "metadata": {},
   "outputs": [
    {
     "name": "stdout",
     "output_type": "stream",
     "text": [
      "No main id, url is https://www.sba.hub.hit-u.ac.jp/hitmagazine/2021/05/3030.html\n",
      "No main id, url is http://www.hit-u.ac.jp/1284wp/wp-content/uploads/2021/02/hit-u_econ_20210210.pdf\n"
     ]
    },
    {
     "data": {
      "text/plain": [
       "'\\n関西・中部合同アカデミア\\n2020年度一橋大学関西・中部合同アカデミア\\n  「新局面に入る米中の戦略的競争と日本」\\n\\n\\u30002021年２月27日（土）、「新局面に入る米中の戦略的競争と日本」をテーマに、2020年度関西・中部合同アカデミアをオンラインセミナーとして開催しました。\\n\\u3000プログラムは、秋山信将法学研究科／国際・公共政策大学院教授の進行のもと、大月康弘副学長による開会挨拶で始まり、中山俊宏氏'"
      ]
     },
     "execution_count": 5,
     "metadata": {},
     "output_type": "execute_result"
    }
   ],
   "source": [
    "out = []\n",
    "for link in links:\n",
    "    r = requests.get(link)\n",
    "    r.encoding = \"utf-8\"\n",
    "    html = r.text\n",
    "    soup = BeautifulSoup(html, 'html.parser')\n",
    "    try:\n",
    "        text = soup.find(id=\"main\").text\n",
    "    except AttributeError as e:\n",
    "        print(f\"No main id, url is {link}\")\n",
    "    else:\n",
    "        out.append(text)\n",
    "\n",
    "out[0][:200]"
   ]
  },
  {
   "cell_type": "code",
   "execution_count": 6,
   "id": "41e2dc13",
   "metadata": {},
   "outputs": [],
   "source": [
    "text_filename = f\"{today:%Y%m%d}-news-text.txt\""
   ]
  },
  {
   "cell_type": "code",
   "execution_count": 7,
   "id": "c37d658e",
   "metadata": {},
   "outputs": [],
   "source": [
    "with open(text_filename, \"w\", encoding=\"utf-8\") as f:\n",
    "    for text in out:\n",
    "        f.write(text)\n",
    "        f.write(\"\\n===\\n\")"
   ]
  }
 ],
 "metadata": {
  "kernelspec": {
   "display_name": "Python 3 (ipykernel)",
   "language": "python",
   "name": "python3"
  },
  "language_info": {
   "codemirror_mode": {
    "name": "ipython",
    "version": 3
   },
   "file_extension": ".py",
   "mimetype": "text/x-python",
   "name": "python",
   "nbconvert_exporter": "python",
   "pygments_lexer": "ipython3",
   "version": "3.9.1"
  }
 },
 "nbformat": 4,
 "nbformat_minor": 5
}
