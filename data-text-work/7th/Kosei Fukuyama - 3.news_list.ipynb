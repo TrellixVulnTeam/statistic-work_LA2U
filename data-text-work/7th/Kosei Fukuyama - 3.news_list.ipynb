{
 "cells": [
  {
   "cell_type": "markdown",
   "id": "01350873",
   "metadata": {},
   "source": [
    "# 一橋大学新着情報ページからニュース一覧\n",
    "\n",
    "一橋大学の新着情報ページからニュースの一覧を取得しましょう。\n",
    "\n",
    "ニュース一覧を取得する際に、ついでにリンク先のURLも保持できるようにしましょう。\n",
    "\n",
    "これらの情報を、 `今日の日付-news-list.txt` というファイル名で保存し、1行に `タイトル,URL,日付` というカンマ区切りの情報にしましょう。"
   ]
  },
  {
   "cell_type": "code",
   "execution_count": 1,
   "id": "75f935b4",
   "metadata": {},
   "outputs": [],
   "source": [
    "import requests\n",
    "from bs4 import BeautifulSoup"
   ]
  },
  {
   "cell_type": "code",
   "execution_count": 2,
   "id": "51d7365a",
   "metadata": {},
   "outputs": [
    {
     "data": {
      "text/plain": [
       "'<!doctype html>\\n<!--[if lt IE 7 ]> <html xmlns=\"http://www.w3.org/1999/xhtml\" xml:lang=\"jp\" lang=\"jp\" id=\"ie6\"> <![endif]-->\\n<!--[if IE 7 ]> <html xmlns=\"http://www.w3.org/1999/xhtml\" xml:lang=\"jp\" la'"
      ]
     },
     "execution_count": 2,
     "metadata": {},
     "output_type": "execute_result"
    }
   ],
   "source": [
    "r = requests.get(\"http://www.hit-u.ac.jp/category/news\")\n",
    "r.encoding = \"utf-8\"\n",
    "html = r.text\n",
    "html[:200]"
   ]
  },
  {
   "cell_type": "code",
   "execution_count": 3,
   "id": "3fa6ae52",
   "metadata": {},
   "outputs": [],
   "source": [
    "soup = BeautifulSoup(html, 'html.parser')"
   ]
  },
  {
   "cell_type": "code",
   "execution_count": 4,
   "id": "937c3c2d",
   "metadata": {},
   "outputs": [
    {
     "data": {
      "text/plain": [
       "20"
      ]
     },
     "execution_count": 4,
     "metadata": {},
     "output_type": "execute_result"
    }
   ],
   "source": [
    "news_area = soup.find(class_=\"listInfo\").find_all(\"li\")\n",
    "len(news_area)"
   ]
  },
  {
   "cell_type": "code",
   "execution_count": 5,
   "id": "477cdd09",
   "metadata": {},
   "outputs": [
    {
     "data": {
      "text/plain": [
       "['中野学長がSIGMA学長会議に出席しました', 'http://www.hit-u.ac.jp/news/10531', '2022年5月19日']"
      ]
     },
     "execution_count": 5,
     "metadata": {},
     "output_type": "execute_result"
    }
   ],
   "source": [
    "out = []\n",
    "for news in news_area:\n",
    "    date_ = news.find(class_=\"day\").text\n",
    "    a_tag = news.find(\"a\")\n",
    "    news_title = a_tag.text\n",
    "    news_link = a_tag.get(\"href\")\n",
    "    out.append([news_title, news_link, date_])\n",
    "    \n",
    "out[0]"
   ]
  },
  {
   "cell_type": "code",
   "execution_count": 6,
   "id": "4fff54e2",
   "metadata": {},
   "outputs": [],
   "source": [
    "from datetime import date"
   ]
  },
  {
   "cell_type": "code",
   "execution_count": 7,
   "id": "10aff885",
   "metadata": {},
   "outputs": [
    {
     "data": {
      "text/plain": [
       "datetime.date(2022, 5, 30)"
      ]
     },
     "execution_count": 7,
     "metadata": {},
     "output_type": "execute_result"
    }
   ],
   "source": [
    "today = date.today()\n",
    "today"
   ]
  },
  {
   "cell_type": "code",
   "execution_count": 8,
   "id": "e62a1c83",
   "metadata": {},
   "outputs": [
    {
     "data": {
      "text/plain": [
       "'20220530-news-list.txt'"
      ]
     },
     "execution_count": 8,
     "metadata": {},
     "output_type": "execute_result"
    }
   ],
   "source": [
    "filename = f\"{today:%Y%m%d}-news-list.txt\"\n",
    "filename"
   ]
  },
  {
   "cell_type": "code",
   "execution_count": 9,
   "id": "d265f72d",
   "metadata": {},
   "outputs": [],
   "source": [
    "with open(filename, \"w\", encoding=\"utf-8\") as f:\n",
    "    for news in out:\n",
    "        line = \",\".join(news)\n",
    "        f.write(line)\n",
    "        f.write(\"\\n\")"
   ]
  }
 ],
 "metadata": {
  "kernelspec": {
   "display_name": "Python 3.9.6 ('venv': venv)",
   "language": "python",
   "name": "python3"
  },
  "language_info": {
   "codemirror_mode": {
    "name": "ipython",
    "version": 3
   },
   "file_extension": ".py",
   "mimetype": "text/x-python",
   "name": "python",
   "nbconvert_exporter": "python",
   "pygments_lexer": "ipython3",
   "version": "3.9.6"
  },
  "vscode": {
   "interpreter": {
    "hash": "93c5697865292fdd0df1432c6bc5dc8f9244b4d72a06ac70cd24d4ff1f17d896"
   }
  }
 },
 "nbformat": 4,
 "nbformat_minor": 5
}
